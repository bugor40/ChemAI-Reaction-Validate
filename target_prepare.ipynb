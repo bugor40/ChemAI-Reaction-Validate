{
 "cells": [
  {
   "cell_type": "code",
   "execution_count": 1,
   "id": "8c5026c4-2467-4c34-b857-5bd17d5755da",
   "metadata": {
    "execution": {
     "iopub.execute_input": "2024-05-11T05:21:46.797320Z",
     "iopub.status.busy": "2024-05-11T05:21:46.796636Z",
     "iopub.status.idle": "2024-05-11T05:22:27.927619Z",
     "shell.execute_reply": "2024-05-11T05:22:27.926907Z",
     "shell.execute_reply.started": "2024-05-11T05:21:46.797286Z"
    },
    "tags": []
   },
   "outputs": [],
   "source": [
    "from rdkit import Chem, DataStructs\n",
    "from rdkit.Chem import Descriptors, AllChem, MACCSkeys\n",
    "\n",
    "import pandas as pd\n",
    "import numpy as np\n",
    "from scipy.sparse import lil_matrix\n",
    "from scipy.spatial.distance import cosine\n",
    "from tqdm import tqdm\n",
    "\n",
    "import warnings\n",
    "warnings.filterwarnings(\"ignore\")"
   ]
  },
  {
   "cell_type": "code",
   "execution_count": 2,
   "id": "3a499522-a092-4b67-8fdb-77164465ce4f",
   "metadata": {
    "execution": {
     "iopub.execute_input": "2024-05-11T05:22:27.928958Z",
     "iopub.status.busy": "2024-05-11T05:22:27.928522Z",
     "iopub.status.idle": "2024-05-11T05:22:28.057289Z",
     "shell.execute_reply": "2024-05-11T05:22:28.056455Z",
     "shell.execute_reply.started": "2024-05-11T05:22:27.928927Z"
    },
    "tags": []
   },
   "outputs": [
    {
     "name": "stderr",
     "output_type": "stream",
     "text": [
      "100%|██████████| 2/2 [00:00<00:00, 1351.91it/s]\n",
      "100%|██████████| 2/2 [00:00<00:00, 498.73it/s]"
     ]
    },
    {
     "name": "stdout",
     "output_type": "stream",
     "text": [
      "   exsample  bit0  bit1  bit2  bit3  ...  bit507  bit508  bit509  bit510  bit511\n",
      "0  C1CCCCC1     0     0     1     0  ...       0       0       0       0       0\n",
      "1  c1ccccc1     0     0     0     0  ...       0       0       0       0       0\n",
      "\n",
      "[2 rows x 513 columns]\n"
     ]
    },
    {
     "name": "stderr",
     "output_type": "stream",
     "text": [
      "\n"
     ]
    }
   ],
   "source": [
    "class DescriptionCalc:\n",
    "    def __init__(self, smiles):\n",
    "        '''\n",
    "        Класс расчитывает физико-хмические признаки молекулы, которые описывают молекулу\n",
    "\n",
    "        smiles - список веществ \n",
    "        '''\n",
    "        self.mols = []\n",
    "        for i in tqdm(smiles):\n",
    "            try:\n",
    "                self.mols.append(Chem.MolFromSmiles(i))\n",
    "            except:\n",
    "                self.mols.append(None)\n",
    "                \n",
    "        self.smiles = smiles\n",
    "\n",
    "class Similarity(DescriptionCalc):\n",
    "    def __init__(self, smiles):\n",
    "        super().__init__(smiles)\n",
    "\n",
    "    def mol2fp(self, mol, radius = 3, nBits = 512):\n",
    "        fp = AllChem.GetMorganFingerprintAsBitVect(mol, radius = radius, nBits=nBits)\n",
    "        return fp\n",
    "\n",
    "    def compute_ECFP6(self, name, nBits = 512):\n",
    "        bit_headers = ['bit' + str(i) for i in range(nBits)]\n",
    "        arr = lil_matrix((len(self.mols), nBits), dtype=np.int8)\n",
    "        \n",
    "        for idx, mol in enumerate(tqdm(self.mols)):\n",
    "            if mol != None:\n",
    "                fp = self.mol2fp(mol)\n",
    "                on_bits = fp.GetOnBits()\n",
    "\n",
    "                for bit in on_bits:\n",
    "                    arr[idx, bit] = 1\n",
    "                    \n",
    "        df_ecfp6 = pd.DataFrame.sparse.from_spmatrix(arr, columns=bit_headers)\n",
    "        df_ecfp6.insert(loc=0, column= name, value=self.smiles)\n",
    "        return df_ecfp6\n",
    "    \n",
    "def main():\n",
    "    exsample_smiles = ['C1CCCCC1', 'c1ccccc1']\n",
    "\n",
    "    ecfp6 = Similarity(exsample_smiles)\n",
    "    res = ecfp6.compute_ECFP6('exsample')\n",
    "    print(res)\n",
    "    \n",
    "if __name__ == '__main__':\n",
    "    main()"
   ]
  },
  {
   "cell_type": "code",
   "execution_count": 3,
   "id": "2d24cdf3-2683-4c43-a984-891d40cd9e6f",
   "metadata": {
    "execution": {
     "iopub.execute_input": "2024-05-11T05:22:28.059723Z",
     "iopub.status.busy": "2024-05-11T05:22:28.059050Z",
     "iopub.status.idle": "2024-05-11T05:22:28.082867Z",
     "shell.execute_reply": "2024-05-11T05:22:28.082164Z",
     "shell.execute_reply.started": "2024-05-11T05:22:28.059687Z"
    },
    "tags": []
   },
   "outputs": [
    {
     "name": "stderr",
     "output_type": "stream",
     "text": [
      "100%|██████████| 3/3 [00:00<00:00, 6384.02it/s]\n",
      "100%|██████████| 3/3 [00:00<00:00, 3887.21it/s]\n"
     ]
    }
   ],
   "source": [
    "exsample_smiles = ['C1CCCCC1', 'C1=CC=C(C=C1)CO', 'NC1=CC=CC=C1']\n",
    "ecfp6 = Similarity(exsample_smiles)\n",
    "res_ecfp6 = ecfp6.compute_ECFP6('smiles')"
   ]
  },
  {
   "cell_type": "code",
   "execution_count": 4,
   "id": "321bc03d-27b6-4aca-b935-37227a420975",
   "metadata": {
    "execution": {
     "iopub.execute_input": "2024-05-11T05:22:28.085010Z",
     "iopub.status.busy": "2024-05-11T05:22:28.084151Z",
     "iopub.status.idle": "2024-05-11T05:22:28.094707Z",
     "shell.execute_reply": "2024-05-11T05:22:28.094167Z",
     "shell.execute_reply.started": "2024-05-11T05:22:28.084973Z"
    },
    "tags": []
   },
   "outputs": [],
   "source": [
    "def tanimoto_similarity(list1, list2):\n",
    "    intersection = sum(x and y for x, y in zip(list1, list2))\n",
    "    union = sum(x or y for x, y in zip(list1, list2))\n",
    "    koef = intersection/union if union != 0 else 0\n",
    "    \n",
    "    return koef"
   ]
  },
  {
   "cell_type": "code",
   "execution_count": 5,
   "id": "ced0f774-8f9d-4886-9e0d-165d9d668ce8",
   "metadata": {
    "execution": {
     "iopub.execute_input": "2024-05-11T05:22:28.095780Z",
     "iopub.status.busy": "2024-05-11T05:22:28.095347Z",
     "iopub.status.idle": "2024-05-11T05:22:28.129340Z",
     "shell.execute_reply": "2024-05-11T05:22:28.128726Z",
     "shell.execute_reply.started": "2024-05-11T05:22:28.095750Z"
    },
    "tags": []
   },
   "outputs": [
    {
     "data": {
      "text/plain": [
       "0.30434782608695654"
      ]
     },
     "execution_count": 5,
     "metadata": {},
     "output_type": "execute_result"
    }
   ],
   "source": [
    "tanimoto_similarity(res_ecfp6.drop('smiles', axis = 1).iloc[1],\n",
    "                               res_ecfp6.drop('smiles', axis = 1).iloc[2])"
   ]
  },
  {
   "cell_type": "markdown",
   "id": "ffc50bbf-a5c8-446e-9466-458b9c562ebd",
   "metadata": {},
   "source": [
    "## Считаем вектора для первых 100тыс реакций"
   ]
  },
  {
   "cell_type": "code",
   "execution_count": 6,
   "id": "39a16e41-2103-40f9-b22b-fb930b2003d7",
   "metadata": {
    "execution": {
     "iopub.execute_input": "2024-05-11T05:22:28.130954Z",
     "iopub.status.busy": "2024-05-11T05:22:28.130259Z",
     "iopub.status.idle": "2024-05-11T05:22:35.488333Z",
     "shell.execute_reply": "2024-05-11T05:22:35.487617Z",
     "shell.execute_reply.started": "2024-05-11T05:22:28.130914Z"
    },
    "tags": []
   },
   "outputs": [],
   "source": [
    "reaction = pd.read_table('/home/jupyter/datasphere/project/reaction_preparation.tsv').iloc[:10000]"
   ]
  },
  {
   "cell_type": "code",
   "execution_count": 7,
   "id": "fcdb2df5-6d5c-4c7f-b03b-46d6753f7ecb",
   "metadata": {
    "execution": {
     "iopub.execute_input": "2024-05-11T05:22:35.489812Z",
     "iopub.status.busy": "2024-05-11T05:22:35.489295Z",
     "iopub.status.idle": "2024-05-11T05:22:38.935088Z",
     "shell.execute_reply": "2024-05-11T05:22:38.934386Z",
     "shell.execute_reply.started": "2024-05-11T05:22:35.489779Z"
    },
    "tags": []
   },
   "outputs": [
    {
     "name": "stderr",
     "output_type": "stream",
     "text": [
      "  0%|          | 0/10000 [00:00<?, ?it/s][05:22:35] Explicit valence for atom # 0 Cl, 7, is greater than permitted\n",
      "[05:22:35] Explicit valence for atom # 0 Cl, 7, is greater than permitted\n",
      "[05:22:35] Explicit valence for atom # 0 Cl, 7, is greater than permitted\n",
      "100%|██████████| 10000/10000 [00:00<00:00, 13509.05it/s]\n",
      "100%|██████████| 10000/10000 [00:02<00:00, 3771.07it/s]\n"
     ]
    }
   ],
   "source": [
    "similarity = Similarity(reaction.product_0)\n",
    "vec_prod = similarity.compute_ECFP6('smiles')"
   ]
  },
  {
   "cell_type": "code",
   "execution_count": 8,
   "id": "46c07024-be9f-4276-8bcb-03b22caeaa69",
   "metadata": {
    "execution": {
     "iopub.execute_input": "2024-05-11T05:22:38.937151Z",
     "iopub.status.busy": "2024-05-11T05:22:38.936619Z",
     "iopub.status.idle": "2024-05-11T05:22:38.955269Z",
     "shell.execute_reply": "2024-05-11T05:22:38.954620Z",
     "shell.execute_reply.started": "2024-05-11T05:22:38.937116Z"
    },
    "tags": []
   },
   "outputs": [],
   "source": [
    "vec_prod = vec_prod.drop('smiles', axis = 1)"
   ]
  },
  {
   "cell_type": "code",
   "execution_count": 9,
   "id": "0259a967-36e2-4f30-b4fc-221ceab813c5",
   "metadata": {
    "execution": {
     "iopub.execute_input": "2024-05-11T05:22:38.956581Z",
     "iopub.status.busy": "2024-05-11T05:22:38.956215Z",
     "iopub.status.idle": "2024-05-11T05:22:44.408944Z",
     "shell.execute_reply": "2024-05-11T05:22:44.408242Z",
     "shell.execute_reply.started": "2024-05-11T05:22:38.956553Z"
    },
    "tags": []
   },
   "outputs": [],
   "source": [
    "vec_prod.to_csv('vec_prod_10k.tsv', index = 0, sep = '\\t')"
   ]
  },
  {
   "cell_type": "code",
   "execution_count": null,
   "id": "cb338eb6-3f23-4682-b004-01fa6f2af739",
   "metadata": {},
   "outputs": [],
   "source": []
  }
 ],
 "metadata": {
  "kernelspec": {
   "display_name": "DataSphere Kernel",
   "language": "python",
   "name": "python3"
  },
  "language_info": {
   "codemirror_mode": {
    "name": "ipython",
    "version": 3
   },
   "file_extension": ".py",
   "mimetype": "text/x-python",
   "name": "python",
   "nbconvert_exporter": "python",
   "pygments_lexer": "ipython3",
   "version": "3.10.12"
  },
  "notebookId": "b2a0bc15-8841-4d49-8f5f-9a167167dcac",
  "notebookPath": "modeltraining_dedicated_ru.ipynb"
 },
 "nbformat": 4,
 "nbformat_minor": 5
}
