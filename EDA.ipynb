{
 "cells": [
  {
   "cell_type": "code",
   "execution_count": 1,
   "id": "79b0da9a-cda1-4fda-aaf0-44d62d02fca2",
   "metadata": {
    "execution": {
     "iopub.execute_input": "2024-04-30T10:31:20.647430Z",
     "iopub.status.busy": "2024-04-30T10:31:20.646823Z",
     "iopub.status.idle": "2024-04-30T10:31:20.690701Z",
     "shell.execute_reply": "2024-04-30T10:31:20.690070Z",
     "shell.execute_reply.started": "2024-04-30T10:31:20.647398Z"
    },
    "tags": []
   },
   "outputs": [],
   "source": [
    "# %pip install rdkit"
   ]
  },
  {
   "cell_type": "code",
   "execution_count": 2,
   "id": "346fee2f-ef4b-42f7-b52d-359a97904f1f",
   "metadata": {
    "cellId": "anxxvxmsvgb7867brp0fda",
    "execution": {
     "iopub.execute_input": "2024-04-30T12:37:57.957397Z",
     "iopub.status.busy": "2024-04-30T12:37:57.956699Z",
     "iopub.status.idle": "2024-04-30T12:37:58.773048Z",
     "shell.execute_reply": "2024-04-30T12:37:58.772423Z",
     "shell.execute_reply.started": "2024-04-30T12:37:57.957363Z"
    },
    "tags": []
   },
   "outputs": [],
   "source": [
    "import pandas as pd\n",
    "from tqdm import tqdm\n",
    "\n",
    "from rdkit import Chem\n",
    "from rdkit.Chem import rdChemReactions\n",
    "from rdkit.Chem import Descriptors, AllChem, MACCSkeys\n",
    "from rdkit.ML.Descriptors import MoleculeDescriptors\n",
    "\n",
    "import warnings\n",
    "warnings.filterwarnings(\"ignore\")"
   ]
  },
  {
   "cell_type": "markdown",
   "id": "14bf6c4f-52dc-4bef-bbba-2cee9b8e6464",
   "metadata": {
    "execution": {
     "iopub.execute_input": "2024-04-30T09:57:53.651470Z",
     "iopub.status.busy": "2024-04-30T09:57:53.651043Z",
     "iopub.status.idle": "2024-04-30T09:57:53.665556Z",
     "shell.execute_reply": "2024-04-30T09:57:53.664935Z",
     "shell.execute_reply.started": "2024-04-30T09:57:53.651443Z"
    }
   },
   "source": [
    "## Объединяем данные и удаляем дубликаты реакций"
   ]
  },
  {
   "cell_type": "code",
   "execution_count": 3,
   "id": "8c9c9122-02e4-4219-9834-0cafa26df7e0",
   "metadata": {
    "execution": {
     "iopub.execute_input": "2024-04-30T10:31:24.213196Z",
     "iopub.status.busy": "2024-04-30T10:31:24.212759Z",
     "iopub.status.idle": "2024-04-30T10:31:32.609654Z",
     "shell.execute_reply": "2024-04-30T10:31:32.608895Z",
     "shell.execute_reply.started": "2024-04-30T10:31:24.213171Z"
    },
    "tags": []
   },
   "outputs": [
    {
     "data": {
      "text/html": [
       "<div>\n",
       "<style scoped>\n",
       "    .dataframe tbody tr th:only-of-type {\n",
       "        vertical-align: middle;\n",
       "    }\n",
       "\n",
       "    .dataframe tbody tr th {\n",
       "        vertical-align: top;\n",
       "    }\n",
       "\n",
       "    .dataframe thead th {\n",
       "        text-align: right;\n",
       "    }\n",
       "</style>\n",
       "<table border=\"1\" class=\"dataframe\">\n",
       "  <thead>\n",
       "    <tr style=\"text-align: right;\">\n",
       "      <th></th>\n",
       "      <th>Unnamed: 0</th>\n",
       "      <th>myID</th>\n",
       "      <th>ReactionSmiles</th>\n",
       "      <th>Yield</th>\n",
       "    </tr>\n",
       "  </thead>\n",
       "  <tbody>\n",
       "    <tr>\n",
       "      <th>0</th>\n",
       "      <td>27</td>\n",
       "      <td>ID00000027</td>\n",
       "      <td>[CH2:1]([S:3][C:4]1[CH:26]=[CH:25][C:7]2[N:8](...</td>\n",
       "      <td>82.0</td>\n",
       "    </tr>\n",
       "    <tr>\n",
       "      <th>1</th>\n",
       "      <td>28</td>\n",
       "      <td>ID00000028</td>\n",
       "      <td>[CH2:1]([S:3][C:4]1[CH:25]=[CH:24][C:7]2[N:8](...</td>\n",
       "      <td>78.1</td>\n",
       "    </tr>\n",
       "    <tr>\n",
       "      <th>2</th>\n",
       "      <td>31</td>\n",
       "      <td>ID00000031</td>\n",
       "      <td>[H-].[Al+3].[Li+].[H-].[H-].[H-].[CH2:7]([S:9]...</td>\n",
       "      <td>82.1</td>\n",
       "    </tr>\n",
       "    <tr>\n",
       "      <th>3</th>\n",
       "      <td>36</td>\n",
       "      <td>ID00000036</td>\n",
       "      <td>[NH2:1][C:2]1[CH:3]=[CH:4][C:5]2[N:9]=[C:8]3[C...</td>\n",
       "      <td>67.9</td>\n",
       "    </tr>\n",
       "    <tr>\n",
       "      <th>4</th>\n",
       "      <td>41</td>\n",
       "      <td>ID00000041</td>\n",
       "      <td>[C:1]([NH:5][NH:6][C:7]([C:12]#[N:13])([CH:9]1...</td>\n",
       "      <td>81.9</td>\n",
       "    </tr>\n",
       "  </tbody>\n",
       "</table>\n",
       "</div>"
      ],
      "text/plain": [
       "   Unnamed: 0  ... Yield\n",
       "0          27  ...  82.0\n",
       "1          28  ...  78.1\n",
       "2          31  ...  82.1\n",
       "3          36  ...  67.9\n",
       "4          41  ...  81.9\n",
       "\n",
       "[5 rows x 4 columns]"
      ]
     },
     "execution_count": 3,
     "metadata": {},
     "output_type": "execute_result"
    }
   ],
   "source": [
    "path1 = './1976_Sep2016_USPTOgrants_smiles_yield_ok_cropped_data.csv'\n",
    "path2 = './2001_Sep2016_USPTOapplications_smiles_yield_ok_cropped_data.csv'\n",
    "\n",
    "df_1 = pd.read_csv(path1, sep = '\\t')\n",
    "df_2 = pd.read_csv(path2, sep = '\\t')\n",
    "\n",
    "df = pd.concat([df_1, df_2], axis = 0)\n",
    "del df_1, df_2\n",
    "df.head()"
   ]
  },
  {
   "cell_type": "code",
   "execution_count": 4,
   "id": "68dda8dd-c310-4cd0-89ce-d40b5d5fb917",
   "metadata": {
    "execution": {
     "iopub.execute_input": "2024-04-30T10:31:32.611559Z",
     "iopub.status.busy": "2024-04-30T10:31:32.611093Z",
     "iopub.status.idle": "2024-04-30T10:31:32.622556Z",
     "shell.execute_reply": "2024-04-30T10:31:32.621949Z",
     "shell.execute_reply.started": "2024-04-30T10:31:32.611526Z"
    },
    "tags": []
   },
   "outputs": [
    {
     "data": {
      "text/plain": [
       "(1989679, 4)"
      ]
     },
     "execution_count": 4,
     "metadata": {},
     "output_type": "execute_result"
    }
   ],
   "source": [
    "df.shape"
   ]
  },
  {
   "cell_type": "code",
   "execution_count": 5,
   "id": "a2288c3c-e872-43dd-bb3d-2fc5d24b3cf9",
   "metadata": {
    "execution": {
     "iopub.execute_input": "2024-04-30T10:31:32.624190Z",
     "iopub.status.busy": "2024-04-30T10:31:32.623795Z",
     "iopub.status.idle": "2024-04-30T10:31:33.723561Z",
     "shell.execute_reply": "2024-04-30T10:31:33.722924Z",
     "shell.execute_reply.started": "2024-04-30T10:31:32.624168Z"
    },
    "tags": []
   },
   "outputs": [
    {
     "data": {
      "text/plain": [
       "(508368, 1210572)"
      ]
     },
     "execution_count": 5,
     "metadata": {},
     "output_type": "execute_result"
    }
   ],
   "source": [
    "df.duplicated(subset = ['myID']).sum(), df.duplicated(subset = ['ReactionSmiles']).sum()"
   ]
  },
  {
   "cell_type": "markdown",
   "id": "8cad8ce4-4943-4ef0-8a2d-48ca7a26ecfd",
   "metadata": {},
   "source": [
    "Удаляем по реакциям, чтобы не было одинаковых"
   ]
  },
  {
   "cell_type": "code",
   "execution_count": 6,
   "id": "9c38fae0-85d8-456a-a1ea-17b02b1faf1c",
   "metadata": {
    "execution": {
     "iopub.execute_input": "2024-04-30T10:31:33.725120Z",
     "iopub.status.busy": "2024-04-30T10:31:33.724665Z",
     "iopub.status.idle": "2024-04-30T10:31:34.102213Z",
     "shell.execute_reply": "2024-04-30T10:31:34.101544Z",
     "shell.execute_reply.started": "2024-04-30T10:31:33.725097Z"
    },
    "tags": []
   },
   "outputs": [],
   "source": [
    "df.drop_duplicates(subset = ['ReactionSmiles'], inplace=True)"
   ]
  },
  {
   "cell_type": "code",
   "execution_count": 7,
   "id": "ce2889cc-05c3-4d22-a292-451b2de05461",
   "metadata": {
    "execution": {
     "iopub.execute_input": "2024-04-30T10:31:34.103448Z",
     "iopub.status.busy": "2024-04-30T10:31:34.103076Z",
     "iopub.status.idle": "2024-04-30T10:31:34.111966Z",
     "shell.execute_reply": "2024-04-30T10:31:34.111385Z",
     "shell.execute_reply.started": "2024-04-30T10:31:34.103424Z"
    },
    "tags": []
   },
   "outputs": [
    {
     "data": {
      "text/plain": [
       "(779107, 4)"
      ]
     },
     "execution_count": 7,
     "metadata": {},
     "output_type": "execute_result"
    }
   ],
   "source": [
    "df.shape"
   ]
  },
  {
   "cell_type": "markdown",
   "id": "8626cfc9-b309-4585-8219-4db3550f7064",
   "metadata": {},
   "source": [
    "Удаляем ненужные поля и добавляем новый ID"
   ]
  },
  {
   "cell_type": "code",
   "execution_count": 8,
   "id": "f25b5492-bdde-481b-a89b-1ffd4080144b",
   "metadata": {
    "execution": {
     "iopub.execute_input": "2024-04-30T10:31:34.113158Z",
     "iopub.status.busy": "2024-04-30T10:31:34.112765Z",
     "iopub.status.idle": "2024-04-30T10:31:34.199236Z",
     "shell.execute_reply": "2024-04-30T10:31:34.198561Z",
     "shell.execute_reply.started": "2024-04-30T10:31:34.113135Z"
    },
    "tags": []
   },
   "outputs": [
    {
     "data": {
      "text/html": [
       "<div>\n",
       "<style scoped>\n",
       "    .dataframe tbody tr th:only-of-type {\n",
       "        vertical-align: middle;\n",
       "    }\n",
       "\n",
       "    .dataframe tbody tr th {\n",
       "        vertical-align: top;\n",
       "    }\n",
       "\n",
       "    .dataframe thead th {\n",
       "        text-align: right;\n",
       "    }\n",
       "</style>\n",
       "<table border=\"1\" class=\"dataframe\">\n",
       "  <thead>\n",
       "    <tr style=\"text-align: right;\">\n",
       "      <th></th>\n",
       "      <th>ID</th>\n",
       "      <th>ReactionSmiles</th>\n",
       "      <th>Yield</th>\n",
       "    </tr>\n",
       "  </thead>\n",
       "  <tbody>\n",
       "    <tr>\n",
       "      <th>0</th>\n",
       "      <td>0</td>\n",
       "      <td>[CH2:1]([S:3][C:4]1[CH:26]=[CH:25][C:7]2[N:8](...</td>\n",
       "      <td>82.0</td>\n",
       "    </tr>\n",
       "    <tr>\n",
       "      <th>1</th>\n",
       "      <td>1</td>\n",
       "      <td>[CH2:1]([S:3][C:4]1[CH:25]=[CH:24][C:7]2[N:8](...</td>\n",
       "      <td>78.1</td>\n",
       "    </tr>\n",
       "    <tr>\n",
       "      <th>2</th>\n",
       "      <td>2</td>\n",
       "      <td>[H-].[Al+3].[Li+].[H-].[H-].[H-].[CH2:7]([S:9]...</td>\n",
       "      <td>82.1</td>\n",
       "    </tr>\n",
       "    <tr>\n",
       "      <th>3</th>\n",
       "      <td>3</td>\n",
       "      <td>[NH2:1][C:2]1[CH:3]=[CH:4][C:5]2[N:9]=[C:8]3[C...</td>\n",
       "      <td>67.9</td>\n",
       "    </tr>\n",
       "    <tr>\n",
       "      <th>4</th>\n",
       "      <td>4</td>\n",
       "      <td>[C:1]([NH:5][NH:6][C:7]([C:12]#[N:13])([CH:9]1...</td>\n",
       "      <td>81.9</td>\n",
       "    </tr>\n",
       "    <tr>\n",
       "      <th>...</th>\n",
       "      <td>...</td>\n",
       "      <td>...</td>\n",
       "      <td>...</td>\n",
       "    </tr>\n",
       "    <tr>\n",
       "      <th>779102</th>\n",
       "      <td>1065628</td>\n",
       "      <td>[Br:1][C:2]1[S:3][C:4]([Br:16])=[CH:5][C:6]=1[...</td>\n",
       "      <td>88.0</td>\n",
       "    </tr>\n",
       "    <tr>\n",
       "      <th>779103</th>\n",
       "      <td>1065629</td>\n",
       "      <td>[Br:1][C:2]1[S:3][C:4]([Br:16])=[CH:5][C:6]=1[...</td>\n",
       "      <td>85.0</td>\n",
       "    </tr>\n",
       "    <tr>\n",
       "      <th>779104</th>\n",
       "      <td>1065630</td>\n",
       "      <td>[OH:1][C:2]1[CH:7]=[CH:6][C:5](/[CH:8]=[CH:9]/...</td>\n",
       "      <td>92.3</td>\n",
       "    </tr>\n",
       "    <tr>\n",
       "      <th>779105</th>\n",
       "      <td>1065631</td>\n",
       "      <td>[Br:1][C:2]1[CH:14]=[CH:13][C:12]2[C:11]3[C:6]...</td>\n",
       "      <td>50.4</td>\n",
       "    </tr>\n",
       "    <tr>\n",
       "      <th>779106</th>\n",
       "      <td>1065634</td>\n",
       "      <td>[CH3:1][N:2]([CH3:22])[CH:3]1[CH2:8][CH2:7][CH...</td>\n",
       "      <td>75.0</td>\n",
       "    </tr>\n",
       "  </tbody>\n",
       "</table>\n",
       "<p>779107 rows × 3 columns</p>\n",
       "</div>"
      ],
      "text/plain": [
       "             ID                                     ReactionSmiles  Yield\n",
       "0             0  [CH2:1]([S:3][C:4]1[CH:26]=[CH:25][C:7]2[N:8](...   82.0\n",
       "1             1  [CH2:1]([S:3][C:4]1[CH:25]=[CH:24][C:7]2[N:8](...   78.1\n",
       "2             2  [H-].[Al+3].[Li+].[H-].[H-].[H-].[CH2:7]([S:9]...   82.1\n",
       "3             3  [NH2:1][C:2]1[CH:3]=[CH:4][C:5]2[N:9]=[C:8]3[C...   67.9\n",
       "4             4  [C:1]([NH:5][NH:6][C:7]([C:12]#[N:13])([CH:9]1...   81.9\n",
       "...         ...                                                ...    ...\n",
       "779102  1065628  [Br:1][C:2]1[S:3][C:4]([Br:16])=[CH:5][C:6]=1[...   88.0\n",
       "779103  1065629  [Br:1][C:2]1[S:3][C:4]([Br:16])=[CH:5][C:6]=1[...   85.0\n",
       "779104  1065630  [OH:1][C:2]1[CH:7]=[CH:6][C:5](/[CH:8]=[CH:9]/...   92.3\n",
       "779105  1065631  [Br:1][C:2]1[CH:14]=[CH:13][C:12]2[C:11]3[C:6]...   50.4\n",
       "779106  1065634  [CH3:1][N:2]([CH3:22])[CH:3]1[CH2:8][CH2:7][CH...   75.0\n",
       "\n",
       "[779107 rows x 3 columns]"
      ]
     },
     "execution_count": 8,
     "metadata": {},
     "output_type": "execute_result"
    }
   ],
   "source": [
    "df = df[['ReactionSmiles', 'Yield']]\n",
    "df = df.reset_index().rename({'index': 'ID'}, axis = 1)\n",
    "df"
   ]
  },
  {
   "cell_type": "markdown",
   "id": "e5dff667-98c1-4ee8-b3c7-9e7710c51d04",
   "metadata": {},
   "source": [
    "## Распарс реакций на молекулы"
   ]
  },
  {
   "cell_type": "code",
   "execution_count": 9,
   "id": "d6dccf86-3b51-46ff-9657-76d21bdae51a",
   "metadata": {
    "execution": {
     "iopub.execute_input": "2024-04-30T10:31:34.200395Z",
     "iopub.status.busy": "2024-04-30T10:31:34.200085Z",
     "iopub.status.idle": "2024-04-30T10:31:34.209231Z",
     "shell.execute_reply": "2024-04-30T10:31:34.208665Z",
     "shell.execute_reply.started": "2024-04-30T10:31:34.200372Z"
    },
    "tags": []
   },
   "outputs": [
    {
     "data": {
      "text/plain": [
       "'[H-].[Al+3].[Li+].[H-].[H-].[H-].[CH2:7]([S:9][C:10]1[CH:31]=[CH:30][C:13]2[N:14]([CH3:29])[C:15]3[CH:28]=[CH:27][CH:26]=[CH:25][C:16]=3[CH:17]=[C:18]([CH2:19][C:20](=O)[N:21]([CH3:23])[CH3:22])[C:12]=2[CH:11]=1)[CH3:8].C(OCC)(=O)C.[OH-].[Na+]>O1CCCC1>[CH2:7]([S:9][C:10]1[CH:31]=[CH:30][C:13]2[N:14]([CH3:29])[C:15]3[CH:28]=[CH:27][CH:26]=[CH:25][C:16]=3[CH:17]=[C:18]([CH2:19][CH2:20][N:21]([CH3:23])[CH3:22])[C:12]=2[CH:11]=1)[CH3:8] |f:0.1.2.3.4.5,8.9|'"
      ]
     },
     "execution_count": 9,
     "metadata": {},
     "output_type": "execute_result"
    }
   ],
   "source": [
    "df.ReactionSmiles[2]"
   ]
  },
  {
   "cell_type": "code",
   "execution_count": 27,
   "id": "d772084f-e564-4f43-ae35-7be840357527",
   "metadata": {
    "execution": {
     "iopub.execute_input": "2024-04-30T11:03:52.557061Z",
     "iopub.status.busy": "2024-04-30T11:03:52.556545Z",
     "iopub.status.idle": "2024-04-30T11:03:52.574265Z",
     "shell.execute_reply": "2024-04-30T11:03:52.573619Z",
     "shell.execute_reply.started": "2024-04-30T11:03:52.557027Z"
    },
    "tags": []
   },
   "outputs": [],
   "source": [
    "class Reaction_preparation:\n",
    "    def __init__(self, reaction):\n",
    "        self.reaction = list(reaction)\n",
    "        self.reactions_rd = []\n",
    "        \n",
    "        for i in tqdm(reaction):\n",
    "            try:\n",
    "                self.reactions_rd.append(rdChemReactions.ReactionFromSmarts(i))\n",
    "            except:\n",
    "                self.reaction.remove(i)\n",
    "                continue\n",
    "\n",
    "    @staticmethod\n",
    "    def starting_materials(reactions_rd):\n",
    "        interm_list = []\n",
    "        header = ['interm_' + str(i) for i in range(10)]\n",
    "        for i in tqdm(range(len(reactions_rd))):\n",
    "            ds = list(map(Chem.MolToSmiles, reactions_rd[i].GetReactants()))\n",
    "            ds = ds[:10]\n",
    "            while len(ds) < 10:\n",
    "                ds.append(None)\n",
    "            interm_list.append(ds)\n",
    "        df_interm = pd.DataFrame(interm_list, columns=header)\n",
    "        \n",
    "        return df_interm\n",
    "        # self.df_interm.insert(loc=0, column='reactions', value = self.reaction)\n",
    "    \n",
    "    @staticmethod\n",
    "    def agents(reactions_rd):\n",
    "        agents_list = []\n",
    "        header = ['agents_' + str(i) for i in range(3)]\n",
    "        for i in tqdm(range(len(reactions_rd))):\n",
    "            ds = list(map(Chem.MolToSmiles, reactions_rd[i].GetAgents()))\n",
    "            ds = ds[:3]\n",
    "            while len(ds) < 3:\n",
    "                ds.append(None)\n",
    "            agents_list.append(ds)\n",
    "        df_agents = pd.DataFrame(agents_list,columns=header)\n",
    "        \n",
    "        return df_agents\n",
    "        #df_agents.insert(loc=0, column='reactions', self.reaction)\n",
    "    \n",
    "    @staticmethod\n",
    "    def product(reactions_rd):\n",
    "        product_list = []\n",
    "        header = ['product_' + str(i) for i in range(2)]\n",
    "        for i in tqdm(range(len(reactions_rd))):\n",
    "            ds = list(map(Chem.MolToSmiles, reactions_rd[i].GetProducts()))\n",
    "            ds = ds[:2]\n",
    "            while len(ds) < 2:\n",
    "                ds.append(None)\n",
    "            product_list.append(ds)\n",
    "        df_product = pd.DataFrame(product_list,columns=header)\n",
    "        \n",
    "        return df_product\n",
    "        #df_product.insert(loc=0, column='reactions', self.reaction)\n",
    "        \n",
    "    def done_datasets(self):\n",
    "        df_interm = self.starting_materials(self.reactions_rd)\n",
    "        df_agents = self.agents(self.reactions_rd)\n",
    "        df_product = self.product(self.reactions_rd)\n",
    "        \n",
    "        res = pd.concat([df_interm, df_agents, df_product], axis = 1)\n",
    "        res['ReactionSmiles'] = self.reaction\n",
    "        \n",
    "        return res"
   ]
  },
  {
   "cell_type": "code",
   "execution_count": 28,
   "id": "20d52e4f-2190-48cc-abfd-42e474e0d644",
   "metadata": {
    "execution": {
     "iopub.execute_input": "2024-04-30T11:03:52.959355Z",
     "iopub.status.busy": "2024-04-30T11:03:52.958937Z",
     "iopub.status.idle": "2024-04-30T11:12:07.475576Z",
     "shell.execute_reply": "2024-04-30T11:12:07.474670Z",
     "shell.execute_reply.started": "2024-04-30T11:03:52.959331Z"
    },
    "tags": []
   },
   "outputs": [
    {
     "name": "stderr",
     "output_type": "stream",
     "text": [
      "  7%|▋         | 50844/779107 [00:09<01:59, 6105.78it/s][11:04:02] \n",
      "\n",
      "****\n",
      "Invariant Violation\n",
      "could not find probe element\n",
      "Violation occurred on line 71 in file /project/build/temp.linux-x86_64-cpython-310/rdkit/Code/RDGeneral/utils.h\n",
      "Failed Expression: foundIt\n",
      "----------\n",
      "Stacktrace:\n",
      "----------\n",
      "****\n",
      "\n",
      " 41%|████▏     | 322893/779107 [01:02<01:33, 4884.75it/s][11:04:55] \n",
      "\n",
      "****\n",
      "Invariant Violation\n",
      "could not find probe element\n",
      "Violation occurred on line 71 in file /project/build/temp.linux-x86_64-cpython-310/rdkit/Code/RDGeneral/utils.h\n",
      "Failed Expression: foundIt\n",
      "----------\n",
      "Stacktrace:\n",
      "----------\n",
      "****\n",
      "\n",
      " 47%|████▋     | 363696/779107 [01:11<01:27, 4771.33it/s][11:05:04] \n",
      "\n",
      "****\n",
      "Invariant Violation\n",
      "could not find probe element\n",
      "Violation occurred on line 71 in file /project/build/temp.linux-x86_64-cpython-310/rdkit/Code/RDGeneral/utils.h\n",
      "Failed Expression: foundIt\n",
      "----------\n",
      "Stacktrace:\n",
      "----------\n",
      "****\n",
      "\n",
      " 72%|███████▏  | 560908/779107 [01:55<00:47, 4587.82it/s][11:05:49] \n",
      "\n",
      "****\n",
      "Invariant Violation\n",
      "could not find probe element\n",
      "Violation occurred on line 71 in file /project/build/temp.linux-x86_64-cpython-310/rdkit/Code/RDGeneral/utils.h\n",
      "Failed Expression: foundIt\n",
      "----------\n",
      "Stacktrace:\n",
      "----------\n",
      "****\n",
      "\n",
      "100%|██████████| 779107/779107 [02:43<00:00, 4768.06it/s]\n",
      "100%|██████████| 779103/779103 [02:37<00:00, 4957.05it/s]\n",
      "100%|██████████| 779103/779103 [00:56<00:00, 13724.90it/s]\n",
      "100%|██████████| 779103/779103 [01:54<00:00, 6823.61it/s]\n"
     ]
    },
    {
     "data": {
      "text/html": [
       "<div>\n",
       "<style scoped>\n",
       "    .dataframe tbody tr th:only-of-type {\n",
       "        vertical-align: middle;\n",
       "    }\n",
       "\n",
       "    .dataframe tbody tr th {\n",
       "        vertical-align: top;\n",
       "    }\n",
       "\n",
       "    .dataframe thead th {\n",
       "        text-align: right;\n",
       "    }\n",
       "</style>\n",
       "<table border=\"1\" class=\"dataframe\">\n",
       "  <thead>\n",
       "    <tr style=\"text-align: right;\">\n",
       "      <th></th>\n",
       "      <th>interm_0</th>\n",
       "      <th>interm_1</th>\n",
       "      <th>interm_2</th>\n",
       "      <th>interm_3</th>\n",
       "      <th>interm_4</th>\n",
       "      <th>interm_5</th>\n",
       "      <th>interm_6</th>\n",
       "      <th>interm_7</th>\n",
       "      <th>interm_8</th>\n",
       "      <th>interm_9</th>\n",
       "      <th>agents_0</th>\n",
       "      <th>agents_1</th>\n",
       "      <th>agents_2</th>\n",
       "      <th>product_0</th>\n",
       "      <th>product_1</th>\n",
       "      <th>ReactionSmiles</th>\n",
       "    </tr>\n",
       "  </thead>\n",
       "  <tbody>\n",
       "    <tr>\n",
       "      <th>0</th>\n",
       "      <td>O[C:12]1([CH2:13][C:14](=[O:15])[O:16][CH2:17]...</td>\n",
       "      <td>Cl</td>\n",
       "      <td>None</td>\n",
       "      <td>None</td>\n",
       "      <td>None</td>\n",
       "      <td>None</td>\n",
       "      <td>None</td>\n",
       "      <td>None</td>\n",
       "      <td>None</td>\n",
       "      <td>None</td>\n",
       "      <td>CCO</td>\n",
       "      <td>None</td>\n",
       "      <td>None</td>\n",
       "      <td>[CH2:1]([CH3:2])[S:3][C:4]1=[CH:5][C:6]2=[C:7]...</td>\n",
       "      <td>None</td>\n",
       "      <td>[CH2:1]([S:3][C:4]1[CH:26]=[CH:25][C:7]2[N:8](...</td>\n",
       "    </tr>\n",
       "    <tr>\n",
       "      <th>1</th>\n",
       "      <td>CC[O:16][C:14]([CH:13]=[C:12]1[C:6]2=[C:7]([N:...</td>\n",
       "      <td>[OH-]</td>\n",
       "      <td>[K+]</td>\n",
       "      <td>Cl</td>\n",
       "      <td>None</td>\n",
       "      <td>None</td>\n",
       "      <td>None</td>\n",
       "      <td>None</td>\n",
       "      <td>None</td>\n",
       "      <td>None</td>\n",
       "      <td>CCO</td>\n",
       "      <td>None</td>\n",
       "      <td>None</td>\n",
       "      <td>[CH2:1]([CH3:2])[S:3][C:4]1=[CH:5][C:6]2=[C:7]...</td>\n",
       "      <td>None</td>\n",
       "      <td>[CH2:1]([S:3][C:4]1[CH:25]=[CH:24][C:7]2[N:8](...</td>\n",
       "    </tr>\n",
       "    <tr>\n",
       "      <th>2</th>\n",
       "      <td>[H-]</td>\n",
       "      <td>[Al+3]</td>\n",
       "      <td>[Li+]</td>\n",
       "      <td>[H-]</td>\n",
       "      <td>[H-]</td>\n",
       "      <td>[H-]</td>\n",
       "      <td>O=[C:20]([CH2:19][C:18]1=[CH:17][C:16]2=[C:15]...</td>\n",
       "      <td>CCOC(C)=O</td>\n",
       "      <td>[OH-]</td>\n",
       "      <td>[Na+]</td>\n",
       "      <td>C1CCOC1</td>\n",
       "      <td>None</td>\n",
       "      <td>None</td>\n",
       "      <td>[CH2:7]([CH3:8])[S:9][C:10]1=[CH:11][C:12]2=[C...</td>\n",
       "      <td>None</td>\n",
       "      <td>[H-].[Al+3].[Li+].[H-].[H-].[H-].[CH2:7]([S:9]...</td>\n",
       "    </tr>\n",
       "    <tr>\n",
       "      <th>3</th>\n",
       "      <td>[NH2:1][C:2]1=[CH:13][C:6]2=[C:5]([CH:4]=[CH:3...</td>\n",
       "      <td>CC(=O)O[C:14]([CH3:15])=[O:16]</td>\n",
       "      <td>None</td>\n",
       "      <td>None</td>\n",
       "      <td>None</td>\n",
       "      <td>None</td>\n",
       "      <td>None</td>\n",
       "      <td>None</td>\n",
       "      <td>None</td>\n",
       "      <td>None</td>\n",
       "      <td>C1=CC=CC=C1</td>\n",
       "      <td>None</td>\n",
       "      <td>None</td>\n",
       "      <td>[NH:1]([C:2]1=[CH:13][C:6]2=[C:5]([CH:4]=[CH:3...</td>\n",
       "      <td>None</td>\n",
       "      <td>[NH2:1][C:2]1[CH:3]=[CH:4][C:5]2[N:9]=[C:8]3[C...</td>\n",
       "    </tr>\n",
       "    <tr>\n",
       "      <th>4</th>\n",
       "      <td>[C:1]([CH3:2])([CH3:3])([CH3:4])[NH:5][NH:6][C...</td>\n",
       "      <td>ClCCl</td>\n",
       "      <td>BrBr</td>\n",
       "      <td>None</td>\n",
       "      <td>None</td>\n",
       "      <td>None</td>\n",
       "      <td>None</td>\n",
       "      <td>None</td>\n",
       "      <td>None</td>\n",
       "      <td>None</td>\n",
       "      <td>O</td>\n",
       "      <td>None</td>\n",
       "      <td>None</td>\n",
       "      <td>[C:1]([CH3:2])([CH3:3])([CH3:4])[N:5]=[N:6][C:...</td>\n",
       "      <td>None</td>\n",
       "      <td>[C:1]([NH:5][NH:6][C:7]([C:12]#[N:13])([CH:9]1...</td>\n",
       "    </tr>\n",
       "  </tbody>\n",
       "</table>\n",
       "</div>"
      ],
      "text/plain": [
       "                                            interm_0  ...                                     ReactionSmiles\n",
       "0  O[C:12]1([CH2:13][C:14](=[O:15])[O:16][CH2:17]...  ...  [CH2:1]([S:3][C:4]1[CH:26]=[CH:25][C:7]2[N:8](...\n",
       "1  CC[O:16][C:14]([CH:13]=[C:12]1[C:6]2=[C:7]([N:...  ...  [CH2:1]([S:3][C:4]1[CH:25]=[CH:24][C:7]2[N:8](...\n",
       "2                                               [H-]  ...  [H-].[Al+3].[Li+].[H-].[H-].[H-].[CH2:7]([S:9]...\n",
       "3  [NH2:1][C:2]1=[CH:13][C:6]2=[C:5]([CH:4]=[CH:3...  ...  [NH2:1][C:2]1[CH:3]=[CH:4][C:5]2[N:9]=[C:8]3[C...\n",
       "4  [C:1]([CH3:2])([CH3:3])([CH3:4])[NH:5][NH:6][C...  ...  [C:1]([NH:5][NH:6][C:7]([C:12]#[N:13])([CH:9]1...\n",
       "\n",
       "[5 rows x 16 columns]"
      ]
     },
     "execution_count": 28,
     "metadata": {},
     "output_type": "execute_result"
    }
   ],
   "source": [
    "rections_prepares = Reaction_preparation(df.ReactionSmiles)\n",
    "df_preparation = rections_prepares.done_datasets()\n",
    "df_preparation.head()"
   ]
  },
  {
   "cell_type": "code",
   "execution_count": 30,
   "id": "14e363b6-80db-4bb1-9705-dbcf5c37605d",
   "metadata": {
    "execution": {
     "iopub.execute_input": "2024-04-30T11:15:48.320496Z",
     "iopub.status.busy": "2024-04-30T11:15:48.319603Z",
     "iopub.status.idle": "2024-04-30T11:15:48.348269Z",
     "shell.execute_reply": "2024-04-30T11:15:48.347625Z",
     "shell.execute_reply.started": "2024-04-30T11:15:48.320455Z"
    },
    "tags": []
   },
   "outputs": [
    {
     "data": {
      "text/html": [
       "<div>\n",
       "<style scoped>\n",
       "    .dataframe tbody tr th:only-of-type {\n",
       "        vertical-align: middle;\n",
       "    }\n",
       "\n",
       "    .dataframe tbody tr th {\n",
       "        vertical-align: top;\n",
       "    }\n",
       "\n",
       "    .dataframe thead th {\n",
       "        text-align: right;\n",
       "    }\n",
       "</style>\n",
       "<table border=\"1\" class=\"dataframe\">\n",
       "  <thead>\n",
       "    <tr style=\"text-align: right;\">\n",
       "      <th></th>\n",
       "      <th>interm_0</th>\n",
       "      <th>interm_1</th>\n",
       "      <th>interm_2</th>\n",
       "      <th>interm_3</th>\n",
       "      <th>interm_4</th>\n",
       "      <th>interm_5</th>\n",
       "      <th>interm_6</th>\n",
       "      <th>interm_7</th>\n",
       "      <th>interm_8</th>\n",
       "      <th>interm_9</th>\n",
       "      <th>agents_0</th>\n",
       "      <th>agents_1</th>\n",
       "      <th>agents_2</th>\n",
       "      <th>product_0</th>\n",
       "      <th>product_1</th>\n",
       "      <th>ReactionSmiles</th>\n",
       "    </tr>\n",
       "  </thead>\n",
       "  <tbody>\n",
       "    <tr>\n",
       "      <th>779098</th>\n",
       "      <td>Br[CH2:14][CH2:13][CH2:12][CH2:11][CH2:10][CH2...</td>\n",
       "      <td>[OH:17][C:18]1=[CH:19][CH:20]=[C:21](/[CH:24]=...</td>\n",
       "      <td>O=C([O-])[O-]</td>\n",
       "      <td>[K+]</td>\n",
       "      <td>[K+]</td>\n",
       "      <td>None</td>\n",
       "      <td>None</td>\n",
       "      <td>None</td>\n",
       "      <td>None</td>\n",
       "      <td>None</td>\n",
       "      <td>CN(C)C=O</td>\n",
       "      <td>Cl</td>\n",
       "      <td>None</td>\n",
       "      <td>[Br:1][C:2]1=[C:6]([CH2:7][CH2:8][CH2:9][CH2:1...</td>\n",
       "      <td>None</td>\n",
       "      <td>[Br:1][C:2]1[S:3][C:4]([Br:16])=[CH:5][C:6]=1[...</td>\n",
       "    </tr>\n",
       "    <tr>\n",
       "      <th>779099</th>\n",
       "      <td>BrCC[CH2:12][CH2:11][CH2:10][CH2:9][CH2:8][CH2...</td>\n",
       "      <td>[F:17][C:18]1=[CH:19][CH:20]=[C:21](/[CH:24]=[...</td>\n",
       "      <td>O=C([O-])[O-]</td>\n",
       "      <td>[K+]</td>\n",
       "      <td>[K+]</td>\n",
       "      <td>None</td>\n",
       "      <td>None</td>\n",
       "      <td>None</td>\n",
       "      <td>None</td>\n",
       "      <td>None</td>\n",
       "      <td>CN(C)C=O</td>\n",
       "      <td>Cl</td>\n",
       "      <td>None</td>\n",
       "      <td>[Br:1][C:2]1=[C:6]([CH2:7][CH2:8][CH2:9][CH2:1...</td>\n",
       "      <td>None</td>\n",
       "      <td>[Br:1][C:2]1[S:3][C:4]([Br:16])=[CH:5][C:6]=1[...</td>\n",
       "    </tr>\n",
       "    <tr>\n",
       "      <th>779100</th>\n",
       "      <td>[OH:1][C:2]1=[CH:3][CH:4]=[C:5](/[CH:8]=[CH:9]...</td>\n",
       "      <td>Br[CH2:21][CH2:20][CH2:19][CH2:18][CH2:17][CH2...</td>\n",
       "      <td>O=C([O-])[O-]</td>\n",
       "      <td>[K+]</td>\n",
       "      <td>[K+]</td>\n",
       "      <td>None</td>\n",
       "      <td>None</td>\n",
       "      <td>None</td>\n",
       "      <td>None</td>\n",
       "      <td>None</td>\n",
       "      <td>CN(C)C=O</td>\n",
       "      <td>Cl</td>\n",
       "      <td>None</td>\n",
       "      <td>[O:1]([C:2]1=[CH:7][CH:6]=[C:5](/[CH:8]=[CH:9]...</td>\n",
       "      <td>None</td>\n",
       "      <td>[OH:1][C:2]1[CH:7]=[CH:6][C:5](/[CH:8]=[CH:9]/...</td>\n",
       "    </tr>\n",
       "    <tr>\n",
       "      <th>779101</th>\n",
       "      <td>[Br:1][C:2]1=[CH:3][C:4]2=[C:12]([C:11]3=[CH:1...</td>\n",
       "      <td>[H-]</td>\n",
       "      <td>[Na+]</td>\n",
       "      <td>Br[CH2:19][CH2:20][CH2:21][CH2:22][CH2:23][CH2...</td>\n",
       "      <td>None</td>\n",
       "      <td>None</td>\n",
       "      <td>None</td>\n",
       "      <td>None</td>\n",
       "      <td>None</td>\n",
       "      <td>None</td>\n",
       "      <td>CN(C)C=O</td>\n",
       "      <td>Cl</td>\n",
       "      <td>None</td>\n",
       "      <td>[Br:1][C:2]1=[CH:3][C:4]2=[C:12]([C:11]3=[CH:1...</td>\n",
       "      <td>None</td>\n",
       "      <td>[Br:1][C:2]1[CH:14]=[CH:13][C:12]2[C:11]3[C:6]...</td>\n",
       "    </tr>\n",
       "    <tr>\n",
       "      <th>779102</th>\n",
       "      <td>O=C(OCC1=CC=CC=C1)[NH:9][CH:6]1[C:5]([CH3:20])...</td>\n",
       "      <td>None</td>\n",
       "      <td>None</td>\n",
       "      <td>None</td>\n",
       "      <td>None</td>\n",
       "      <td>None</td>\n",
       "      <td>None</td>\n",
       "      <td>None</td>\n",
       "      <td>None</td>\n",
       "      <td>None</td>\n",
       "      <td>CCO</td>\n",
       "      <td>[Pd]</td>\n",
       "      <td>None</td>\n",
       "      <td>[CH3:1][N:2]([CH:3]1[CH2:4][C:5]([CH3:20])([CH...</td>\n",
       "      <td>None</td>\n",
       "      <td>[CH3:1][N:2]([CH3:22])[CH:3]1[CH2:8][CH2:7][CH...</td>\n",
       "    </tr>\n",
       "  </tbody>\n",
       "</table>\n",
       "</div>"
      ],
      "text/plain": [
       "                                                 interm_0  ...                                     ReactionSmiles\n",
       "779098  Br[CH2:14][CH2:13][CH2:12][CH2:11][CH2:10][CH2...  ...  [Br:1][C:2]1[S:3][C:4]([Br:16])=[CH:5][C:6]=1[...\n",
       "779099  BrCC[CH2:12][CH2:11][CH2:10][CH2:9][CH2:8][CH2...  ...  [Br:1][C:2]1[S:3][C:4]([Br:16])=[CH:5][C:6]=1[...\n",
       "779100  [OH:1][C:2]1=[CH:3][CH:4]=[C:5](/[CH:8]=[CH:9]...  ...  [OH:1][C:2]1[CH:7]=[CH:6][C:5](/[CH:8]=[CH:9]/...\n",
       "779101  [Br:1][C:2]1=[CH:3][C:4]2=[C:12]([C:11]3=[CH:1...  ...  [Br:1][C:2]1[CH:14]=[CH:13][C:12]2[C:11]3[C:6]...\n",
       "779102  O=C(OCC1=CC=CC=C1)[NH:9][CH:6]1[C:5]([CH3:20])...  ...  [CH3:1][N:2]([CH3:22])[CH:3]1[CH2:8][CH2:7][CH...\n",
       "\n",
       "[5 rows x 16 columns]"
      ]
     },
     "execution_count": 30,
     "metadata": {},
     "output_type": "execute_result"
    }
   ],
   "source": [
    "df_preparation.tail()"
   ]
  },
  {
   "cell_type": "code",
   "execution_count": 32,
   "id": "19549e10-1722-4573-8d38-e3707d350d2e",
   "metadata": {
    "execution": {
     "iopub.execute_input": "2024-04-30T11:17:23.574854Z",
     "iopub.status.busy": "2024-04-30T11:17:23.574196Z",
     "iopub.status.idle": "2024-04-30T11:17:23.604816Z",
     "shell.execute_reply": "2024-04-30T11:17:23.604031Z",
     "shell.execute_reply.started": "2024-04-30T11:17:23.574825Z"
    },
    "tags": []
   },
   "outputs": [
    {
     "data": {
      "text/plain": [
       "'[CH3:1][N:2]([CH3:22])[CH:3]1[CH2:8][CH2:7][CH:6]([NH:9]C(=O)OCC2C=CC=CC=2)[C:5]([CH3:21])([CH3:20])[CH2:4]1>C(O)C.[Pd]>[CH3:1][N:2]([CH3:22])[CH:3]1[CH2:8][CH2:7][CH:6]([NH2:9])[C:5]([CH3:20])([CH3:21])[CH2:4]1'"
      ]
     },
     "execution_count": 32,
     "metadata": {},
     "output_type": "execute_result"
    }
   ],
   "source": [
    "df_preparation.ReactionSmiles.iloc[779102]"
   ]
  },
  {
   "cell_type": "code",
   "execution_count": 37,
   "id": "32395917-427b-4090-9139-e76c3e8c5826",
   "metadata": {
    "execution": {
     "iopub.execute_input": "2024-04-30T11:18:11.339421Z",
     "iopub.status.busy": "2024-04-30T11:18:11.338960Z",
     "iopub.status.idle": "2024-04-30T11:18:11.349450Z",
     "shell.execute_reply": "2024-04-30T11:18:11.348824Z",
     "shell.execute_reply.started": "2024-04-30T11:18:11.339394Z"
    },
    "tags": []
   },
   "outputs": [
    {
     "data": {
      "text/plain": [
       "'O=C(OCC1=CC=CC=C1)[NH:9][CH:6]1[C:5]([CH3:20])([CH3:21])[CH2:4][CH:3]([N:2]([CH3:1])[CH3:22])[CH2:8][CH2:7]1'"
      ]
     },
     "execution_count": 37,
     "metadata": {},
     "output_type": "execute_result"
    }
   ],
   "source": [
    "df_preparation.interm_0.iloc[779102]"
   ]
  },
  {
   "cell_type": "markdown",
   "id": "c73a8970-109b-40a6-8434-6da72c58f2d8",
   "metadata": {},
   "source": [
    "Оставим нужные поля"
   ]
  },
  {
   "cell_type": "code",
   "execution_count": 40,
   "id": "89d67fbb-c802-443d-a265-85691fd4399d",
   "metadata": {
    "execution": {
     "iopub.execute_input": "2024-04-30T11:40:13.304869Z",
     "iopub.status.busy": "2024-04-30T11:40:13.304417Z",
     "iopub.status.idle": "2024-04-30T11:40:13.717250Z",
     "shell.execute_reply": "2024-04-30T11:40:13.716564Z",
     "shell.execute_reply.started": "2024-04-30T11:40:13.304834Z"
    },
    "tags": []
   },
   "outputs": [],
   "source": [
    "df_preparation = df_preparation.iloc[:, :-2]"
   ]
  },
  {
   "cell_type": "code",
   "execution_count": null,
   "id": "2bbe20c4-47ba-4571-8984-29462fced72d",
   "metadata": {},
   "outputs": [],
   "source": [
    "df_preparation.drop_duplicates(inplace = True)"
   ]
  },
  {
   "cell_type": "markdown",
   "id": "e693b972-aac3-427e-9ca6-741d2aab166d",
   "metadata": {},
   "source": [
    "## Посмотрим на заполняемость полей"
   ]
  },
  {
   "cell_type": "code",
   "execution_count": 59,
   "id": "e327e692-c1f7-43e5-bb40-b2164b106406",
   "metadata": {
    "execution": {
     "iopub.execute_input": "2024-04-30T12:04:30.913847Z",
     "iopub.status.busy": "2024-04-30T12:04:30.913256Z",
     "iopub.status.idle": "2024-04-30T12:04:32.131533Z",
     "shell.execute_reply": "2024-04-30T12:04:32.130881Z",
     "shell.execute_reply.started": "2024-04-30T12:04:30.913820Z"
    },
    "tags": []
   },
   "outputs": [
    {
     "data": {
      "text/plain": [
       "interm_0     0.000000\n",
       "interm_1     0.043404\n",
       "interm_2     0.262760\n",
       "interm_3     0.471914\n",
       "interm_4     0.665402\n",
       "interm_5     0.837203\n",
       "interm_6     0.932032\n",
       "interm_7     0.972198\n",
       "interm_8     0.986053\n",
       "interm_9     0.991996\n",
       "agents_0     0.132511\n",
       "agents_1     0.631868\n",
       "agents_2     0.850707\n",
       "product_0    0.000000\n",
       "dtype: float64"
      ]
     },
     "execution_count": 59,
     "metadata": {},
     "output_type": "execute_result"
    }
   ],
   "source": [
    "df_preparation.isna().sum()/df_preparation.shape[0]"
   ]
  },
  {
   "cell_type": "markdown",
   "id": "e9198f02-b08b-4229-ae40-e9e3c00a0166",
   "metadata": {},
   "source": [
    "Сохраняем выборку для дальнейших расчётов"
   ]
  },
  {
   "cell_type": "code",
   "execution_count": 6,
   "id": "3360d01a-ec41-4a28-b12b-f755e0f14c98",
   "metadata": {
    "execution": {
     "iopub.execute_input": "2024-04-30T12:38:43.147082Z",
     "iopub.status.busy": "2024-04-30T12:38:43.146442Z",
     "iopub.status.idle": "2024-04-30T12:38:50.311321Z",
     "shell.execute_reply": "2024-04-30T12:38:50.310652Z",
     "shell.execute_reply.started": "2024-04-30T12:38:43.147043Z"
    },
    "tags": []
   },
   "outputs": [],
   "source": [
    "df_preparation.to_csv('/home/jupyter/datasphere/project/reaction_preparation.tsv', sep = '\\t', index = 0)"
   ]
  },
  {
   "cell_type": "code",
   "execution_count": null,
   "id": "302fa53a-9082-4ae4-bc9c-9d45d02238ab",
   "metadata": {},
   "outputs": [],
   "source": []
  }
 ],
 "metadata": {
  "kernelspec": {
   "display_name": "DataSphere Kernel",
   "language": "python",
   "name": "python3"
  },
  "language_info": {
   "codemirror_mode": {
    "name": "ipython",
    "version": 3
   },
   "file_extension": ".py",
   "mimetype": "text/x-python",
   "name": "python",
   "nbconvert_exporter": "python",
   "pygments_lexer": "ipython3",
   "version": "3.10.12"
  },
  "notebookId": "b2a0bc15-8841-4d49-8f5f-9a167167dcac",
  "notebookPath": "modeltraining_dedicated_ru.ipynb"
 },
 "nbformat": 4,
 "nbformat_minor": 5
}
