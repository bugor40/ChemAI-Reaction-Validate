{
 "cells": [
  {
   "cell_type": "code",
   "execution_count": 1,
   "metadata": {},
   "outputs": [
    {
     "data": {
      "text/plain": [
       "' установка rdkit '"
      ]
     },
     "execution_count": 1,
     "metadata": {},
     "output_type": "execute_result"
    }
   ],
   "source": [
    "#pip install rdkit-pypi \n",
    "\"\"\" установка rdkit \"\"\""
   ]
  },
  {
   "cell_type": "code",
   "execution_count": 2,
   "metadata": {},
   "outputs": [],
   "source": [
    "import pandas as pd\n",
    "from rdkit import Chem, DataStructs\n",
    "from rdkit.Chem import Descriptors, AllChem, MACCSkeys\n",
    "from rdkit.ML.Descriptors import MoleculeDescriptors\n",
    "import numpy as np\n",
    "from tqdm.notebook import tqdm\n",
    "\n",
    "\n",
    "import warnings\n",
    "warnings.filterwarnings(\"ignore\")\n",
    "#Автор классов реализации расчёта дискриптров \"https://drzinph.com/\""
   ]
  },
  {
   "cell_type": "code",
   "execution_count": 3,
   "metadata": {},
   "outputs": [],
   "source": [
    "class RDKit_2D:\n",
    "    def __init__(self, smiles):\n",
    "        self.mols = []\n",
    "        for i in tqdm(smiles):\n",
    "            try:\n",
    "                self.mols.append(Chem.MolFromSmiles(i))\n",
    "            except:\n",
    "                self.mols.append(None)\n",
    "                \n",
    "        self.smiles = smiles\n",
    "\n",
    "    def compute_2Drdkit(self, name):\n",
    "        rdkit_2d_desc = []\n",
    "        calc = MoleculeDescriptors.MolecularDescriptorCalculator([x[0] for x in Descriptors._descList])\n",
    "        header = calc.GetDescriptorNames()\n",
    "        for i in tqdm(range(len(self.mols))):\n",
    "            if self.mols[i] != None:\n",
    "                ds = calc.CalcDescriptors(self.mols[i])\n",
    "            else:\n",
    "                ds = [None for i in range(len(Descriptors._descList))]\n",
    "            rdkit_2d_desc.append(ds)\n",
    "        df = pd.DataFrame(rdkit_2d_desc,columns=header)\n",
    "        df.insert(loc=0, column= name, value=self.smiles)\n",
    "        df.to_csv(name +'_RDKit_2D.tsv', index=False, sep = \"\\t\")\n",
    "        #return df"
   ]
  },
  {
   "cell_type": "code",
   "execution_count": 4,
   "metadata": {},
   "outputs": [],
   "source": [
    "class ECFP6:\n",
    "    def __init__(self, smiles):\n",
    "        self.mols = []\n",
    "        for i in tqdm(smiles):\n",
    "            try:\n",
    "                self.mols.append(Chem.MolFromSmiles(i))\n",
    "            except:\n",
    "                self.mols.append(None)\n",
    "        self.smiles = smiles\n",
    "\n",
    "    def mol2fp(self, mol, radius = 3):\n",
    "        fp = AllChem.GetMorganFingerprintAsBitVect(mol, radius = radius)\n",
    "        array = np.zeros((1,))\n",
    "        DataStructs.ConvertToNumpyArray(fp, array)\n",
    "        return array\n",
    "\n",
    "    def compute_ECFP6(self, name):\n",
    "        bit_headers = ['bit' + str(i) for i in range(2048)]\n",
    "        arr = np.empty((0,2048), int).astype(int)\n",
    "        for i in tqdm(self.mols):\n",
    "            if i != None:\n",
    "                fp = self.mol2fp(i)\n",
    "            else:\n",
    "                fp = [0 for i in range(2048)]\n",
    "            arr = np.vstack((arr, fp))\n",
    "        df_ecfp6 = pd.DataFrame(np.asarray(arr).astype(int),columns=bit_headers)\n",
    "        df_ecfp6.insert(loc=0, column= name, value=self.smiles)\n",
    "        df_ecfp6.to_csv(name +'_ECFP6.tsv', index=False, sep = \"\\t\")\n",
    "        #return df_ecfp6"
   ]
  },
  {
   "cell_type": "code",
   "execution_count": 5,
   "metadata": {},
   "outputs": [],
   "source": [
    "class MACCS:\n",
    "    def __init__(self, smiles):\n",
    "\n",
    "        self.mols = []\n",
    "        for i in tqdm(smiles):\n",
    "            try:\n",
    "                self.mols.append(Chem.MolFromSmiles(i))\n",
    "            except:\n",
    "                self.mols.append(None)\n",
    "        self.smiles = smiles\n",
    "\n",
    "    def compute_MACCS(self, name):\n",
    "        MACCS_list = []\n",
    "        header = ['bit' + str(i) for i in range(167)]\n",
    "        for i in tqdm(range(len(self.mols))):\n",
    "            if self.mols[i] != None:\n",
    "                ds = list(MACCSkeys.GenMACCSKeys(self.mols[i]).ToBitString())\n",
    "            else:\n",
    "                ds = [0 for i in range(167)]\n",
    "                \n",
    "            MACCS_list.append(ds)\n",
    "        df = pd.DataFrame(MACCS_list,columns=header)\n",
    "        df.insert(loc=0, column= name, value=self.smiles)\n",
    "        df.to_csv(name +'_MACCS.tsv', index=False, sep = \"\\t\")\n",
    "        #return df"
   ]
  },
  {
   "cell_type": "code",
   "execution_count": null,
   "metadata": {},
   "outputs": [],
   "source": []
  },
  {
   "cell_type": "code",
   "execution_count": null,
   "metadata": {},
   "outputs": [],
   "source": []
  },
  {
   "cell_type": "code",
   "execution_count": 5,
   "metadata": {},
   "outputs": [
    {
     "data": {
      "text/html": [
       "<div>\n",
       "<style scoped>\n",
       "    .dataframe tbody tr th:only-of-type {\n",
       "        vertical-align: middle;\n",
       "    }\n",
       "\n",
       "    .dataframe tbody tr th {\n",
       "        vertical-align: top;\n",
       "    }\n",
       "\n",
       "    .dataframe thead th {\n",
       "        text-align: right;\n",
       "    }\n",
       "</style>\n",
       "<table border=\"1\" class=\"dataframe\">\n",
       "  <thead>\n",
       "    <tr style=\"text-align: right;\">\n",
       "      <th></th>\n",
       "      <th>reactions</th>\n",
       "      <th>interm_0</th>\n",
       "      <th>interm_1</th>\n",
       "      <th>interm_2</th>\n",
       "      <th>interm_3</th>\n",
       "      <th>interm_4</th>\n",
       "      <th>interm_5</th>\n",
       "      <th>interm_6</th>\n",
       "      <th>interm_7</th>\n",
       "      <th>interm_8</th>\n",
       "      <th>interm_9</th>\n",
       "      <th>agents_0</th>\n",
       "      <th>agents_1</th>\n",
       "      <th>agents_2</th>\n",
       "      <th>product_0</th>\n",
       "      <th>product_1</th>\n",
       "      <th>Yield</th>\n",
       "    </tr>\n",
       "  </thead>\n",
       "  <tbody>\n",
       "    <tr>\n",
       "      <th>0</th>\n",
       "      <td>[CH2:1]([S:3][C:4]1[CH:26]=[CH:25][C:7]2[N:8](...</td>\n",
       "      <td>O[C:12]1([CH2:13][C:14](=[O:15])[O:16][CH2:17]...</td>\n",
       "      <td>Cl</td>\n",
       "      <td>NaN</td>\n",
       "      <td>NaN</td>\n",
       "      <td>NaN</td>\n",
       "      <td>NaN</td>\n",
       "      <td>NaN</td>\n",
       "      <td>NaN</td>\n",
       "      <td>NaN</td>\n",
       "      <td>NaN</td>\n",
       "      <td>CCO</td>\n",
       "      <td>NaN</td>\n",
       "      <td>NaN</td>\n",
       "      <td>[CH2:1]([CH3:2])[S:3][C:4]1=[CH:5][C:6]2=[C:7]...</td>\n",
       "      <td>NaN</td>\n",
       "      <td>82.0</td>\n",
       "    </tr>\n",
       "    <tr>\n",
       "      <th>1</th>\n",
       "      <td>[CH2:1]([S:3][C:4]1[CH:25]=[CH:24][C:7]2[N:8](...</td>\n",
       "      <td>CC[O:16][C:14]([CH:13]=[C:12]1[C:6]2=[C:7]([N:...</td>\n",
       "      <td>[OH-]</td>\n",
       "      <td>[K+]</td>\n",
       "      <td>Cl</td>\n",
       "      <td>NaN</td>\n",
       "      <td>NaN</td>\n",
       "      <td>NaN</td>\n",
       "      <td>NaN</td>\n",
       "      <td>NaN</td>\n",
       "      <td>NaN</td>\n",
       "      <td>CCO</td>\n",
       "      <td>NaN</td>\n",
       "      <td>NaN</td>\n",
       "      <td>[CH2:1]([CH3:2])[S:3][C:4]1=[CH:5][C:6]2=[C:7]...</td>\n",
       "      <td>NaN</td>\n",
       "      <td>78.1</td>\n",
       "    </tr>\n",
       "    <tr>\n",
       "      <th>2</th>\n",
       "      <td>[H-].[Al+3].[Li+].[H-].[H-].[H-].[CH2:7]([S:9]...</td>\n",
       "      <td>[H-]</td>\n",
       "      <td>[Al+3]</td>\n",
       "      <td>[Li+]</td>\n",
       "      <td>[H-]</td>\n",
       "      <td>[H-]</td>\n",
       "      <td>[H-]</td>\n",
       "      <td>O=[C:20]([CH2:19][C:18]1=[CH:17][C:16]2=[C:15]...</td>\n",
       "      <td>CCOC(C)=O</td>\n",
       "      <td>[OH-]</td>\n",
       "      <td>[Na+]</td>\n",
       "      <td>C1CCOC1</td>\n",
       "      <td>NaN</td>\n",
       "      <td>NaN</td>\n",
       "      <td>[CH2:7]([CH3:8])[S:9][C:10]1=[CH:11][C:12]2=[C...</td>\n",
       "      <td>NaN</td>\n",
       "      <td>82.1</td>\n",
       "    </tr>\n",
       "    <tr>\n",
       "      <th>3</th>\n",
       "      <td>[NH2:1][C:2]1[CH:3]=[CH:4][C:5]2[N:9]=[C:8]3[C...</td>\n",
       "      <td>[NH2:1][C:2]1=[CH:13][C:6]2=[C:5]([CH:4]=[CH:3...</td>\n",
       "      <td>CC(=O)O[C:14]([CH3:15])=[O:16]</td>\n",
       "      <td>NaN</td>\n",
       "      <td>NaN</td>\n",
       "      <td>NaN</td>\n",
       "      <td>NaN</td>\n",
       "      <td>NaN</td>\n",
       "      <td>NaN</td>\n",
       "      <td>NaN</td>\n",
       "      <td>NaN</td>\n",
       "      <td>C1=CC=CC=C1</td>\n",
       "      <td>NaN</td>\n",
       "      <td>NaN</td>\n",
       "      <td>[NH:1]([C:2]1=[CH:13][C:6]2=[C:5]([CH:4]=[CH:3...</td>\n",
       "      <td>NaN</td>\n",
       "      <td>67.9</td>\n",
       "    </tr>\n",
       "    <tr>\n",
       "      <th>4</th>\n",
       "      <td>[C:1]([NH:5][NH:6][C:7]([C:12]#[N:13])([CH:9]1...</td>\n",
       "      <td>[C:1]([CH3:2])([CH3:3])([CH3:4])[NH:5][NH:6][C...</td>\n",
       "      <td>ClCCl</td>\n",
       "      <td>BrBr</td>\n",
       "      <td>NaN</td>\n",
       "      <td>NaN</td>\n",
       "      <td>NaN</td>\n",
       "      <td>NaN</td>\n",
       "      <td>NaN</td>\n",
       "      <td>NaN</td>\n",
       "      <td>NaN</td>\n",
       "      <td>O</td>\n",
       "      <td>NaN</td>\n",
       "      <td>NaN</td>\n",
       "      <td>[C:1]([CH3:2])([CH3:3])([CH3:4])[N:5]=[N:6][C:...</td>\n",
       "      <td>NaN</td>\n",
       "      <td>81.9</td>\n",
       "    </tr>\n",
       "    <tr>\n",
       "      <th>...</th>\n",
       "      <td>...</td>\n",
       "      <td>...</td>\n",
       "      <td>...</td>\n",
       "      <td>...</td>\n",
       "      <td>...</td>\n",
       "      <td>...</td>\n",
       "      <td>...</td>\n",
       "      <td>...</td>\n",
       "      <td>...</td>\n",
       "      <td>...</td>\n",
       "      <td>...</td>\n",
       "      <td>...</td>\n",
       "      <td>...</td>\n",
       "      <td>...</td>\n",
       "      <td>...</td>\n",
       "      <td>...</td>\n",
       "      <td>...</td>\n",
       "    </tr>\n",
       "    <tr>\n",
       "      <th>779098</th>\n",
       "      <td>[Br:1][C:2]1[S:3][C:4]([Br:16])=[CH:5][C:6]=1[...</td>\n",
       "      <td>Br[CH2:14][CH2:13][CH2:12][CH2:11][CH2:10][CH2...</td>\n",
       "      <td>[OH:17][C:18]1=[CH:19][CH:20]=[C:21](/[CH:24]=...</td>\n",
       "      <td>O=C([O-])[O-]</td>\n",
       "      <td>[K+]</td>\n",
       "      <td>[K+]</td>\n",
       "      <td>NaN</td>\n",
       "      <td>NaN</td>\n",
       "      <td>NaN</td>\n",
       "      <td>NaN</td>\n",
       "      <td>NaN</td>\n",
       "      <td>CN(C)C=O</td>\n",
       "      <td>Cl</td>\n",
       "      <td>NaN</td>\n",
       "      <td>[Br:1][C:2]1=[C:6]([CH2:7][CH2:8][CH2:9][CH2:1...</td>\n",
       "      <td>NaN</td>\n",
       "      <td>88.0</td>\n",
       "    </tr>\n",
       "    <tr>\n",
       "      <th>779099</th>\n",
       "      <td>[Br:1][C:2]1[S:3][C:4]([Br:16])=[CH:5][C:6]=1[...</td>\n",
       "      <td>BrCC[CH2:12][CH2:11][CH2:10][CH2:9][CH2:8][CH2...</td>\n",
       "      <td>[F:17][C:18]1=[CH:19][CH:20]=[C:21](/[CH:24]=[...</td>\n",
       "      <td>O=C([O-])[O-]</td>\n",
       "      <td>[K+]</td>\n",
       "      <td>[K+]</td>\n",
       "      <td>NaN</td>\n",
       "      <td>NaN</td>\n",
       "      <td>NaN</td>\n",
       "      <td>NaN</td>\n",
       "      <td>NaN</td>\n",
       "      <td>CN(C)C=O</td>\n",
       "      <td>Cl</td>\n",
       "      <td>NaN</td>\n",
       "      <td>[Br:1][C:2]1=[C:6]([CH2:7][CH2:8][CH2:9][CH2:1...</td>\n",
       "      <td>NaN</td>\n",
       "      <td>85.0</td>\n",
       "    </tr>\n",
       "    <tr>\n",
       "      <th>779100</th>\n",
       "      <td>[OH:1][C:2]1[CH:7]=[CH:6][C:5](/[CH:8]=[CH:9]/...</td>\n",
       "      <td>[OH:1][C:2]1=[CH:3][CH:4]=[C:5](/[CH:8]=[CH:9]...</td>\n",
       "      <td>Br[CH2:21][CH2:20][CH2:19][CH2:18][CH2:17][CH2...</td>\n",
       "      <td>O=C([O-])[O-]</td>\n",
       "      <td>[K+]</td>\n",
       "      <td>[K+]</td>\n",
       "      <td>NaN</td>\n",
       "      <td>NaN</td>\n",
       "      <td>NaN</td>\n",
       "      <td>NaN</td>\n",
       "      <td>NaN</td>\n",
       "      <td>CN(C)C=O</td>\n",
       "      <td>Cl</td>\n",
       "      <td>NaN</td>\n",
       "      <td>[O:1]([C:2]1=[CH:7][CH:6]=[C:5](/[CH:8]=[CH:9]...</td>\n",
       "      <td>NaN</td>\n",
       "      <td>92.3</td>\n",
       "    </tr>\n",
       "    <tr>\n",
       "      <th>779101</th>\n",
       "      <td>[Br:1][C:2]1[CH:14]=[CH:13][C:12]2[C:11]3[C:6]...</td>\n",
       "      <td>[Br:1][C:2]1=[CH:3][C:4]2=[C:12]([C:11]3=[CH:1...</td>\n",
       "      <td>[H-]</td>\n",
       "      <td>[Na+]</td>\n",
       "      <td>Br[CH2:19][CH2:20][CH2:21][CH2:22][CH2:23][CH2...</td>\n",
       "      <td>NaN</td>\n",
       "      <td>NaN</td>\n",
       "      <td>NaN</td>\n",
       "      <td>NaN</td>\n",
       "      <td>NaN</td>\n",
       "      <td>NaN</td>\n",
       "      <td>CN(C)C=O</td>\n",
       "      <td>Cl</td>\n",
       "      <td>NaN</td>\n",
       "      <td>[Br:1][C:2]1=[CH:3][C:4]2=[C:12]([C:11]3=[CH:1...</td>\n",
       "      <td>NaN</td>\n",
       "      <td>50.4</td>\n",
       "    </tr>\n",
       "    <tr>\n",
       "      <th>779102</th>\n",
       "      <td>[CH3:1][N:2]([CH3:22])[CH:3]1[CH2:8][CH2:7][CH...</td>\n",
       "      <td>O=C(OCC1=CC=CC=C1)[NH:9][CH:6]1[C:5]([CH3:20])...</td>\n",
       "      <td>NaN</td>\n",
       "      <td>NaN</td>\n",
       "      <td>NaN</td>\n",
       "      <td>NaN</td>\n",
       "      <td>NaN</td>\n",
       "      <td>NaN</td>\n",
       "      <td>NaN</td>\n",
       "      <td>NaN</td>\n",
       "      <td>NaN</td>\n",
       "      <td>CCO</td>\n",
       "      <td>[Pd]</td>\n",
       "      <td>NaN</td>\n",
       "      <td>[CH3:1][N:2]([CH:3]1[CH2:4][C:5]([CH3:20])([CH...</td>\n",
       "      <td>NaN</td>\n",
       "      <td>75.0</td>\n",
       "    </tr>\n",
       "  </tbody>\n",
       "</table>\n",
       "<p>779103 rows × 17 columns</p>\n",
       "</div>"
      ],
      "text/plain": [
       "                                                reactions  \\\n",
       "0       [CH2:1]([S:3][C:4]1[CH:26]=[CH:25][C:7]2[N:8](...   \n",
       "1       [CH2:1]([S:3][C:4]1[CH:25]=[CH:24][C:7]2[N:8](...   \n",
       "2       [H-].[Al+3].[Li+].[H-].[H-].[H-].[CH2:7]([S:9]...   \n",
       "3       [NH2:1][C:2]1[CH:3]=[CH:4][C:5]2[N:9]=[C:8]3[C...   \n",
       "4       [C:1]([NH:5][NH:6][C:7]([C:12]#[N:13])([CH:9]1...   \n",
       "...                                                   ...   \n",
       "779098  [Br:1][C:2]1[S:3][C:4]([Br:16])=[CH:5][C:6]=1[...   \n",
       "779099  [Br:1][C:2]1[S:3][C:4]([Br:16])=[CH:5][C:6]=1[...   \n",
       "779100  [OH:1][C:2]1[CH:7]=[CH:6][C:5](/[CH:8]=[CH:9]/...   \n",
       "779101  [Br:1][C:2]1[CH:14]=[CH:13][C:12]2[C:11]3[C:6]...   \n",
       "779102  [CH3:1][N:2]([CH3:22])[CH:3]1[CH2:8][CH2:7][CH...   \n",
       "\n",
       "                                                 interm_0  \\\n",
       "0       O[C:12]1([CH2:13][C:14](=[O:15])[O:16][CH2:17]...   \n",
       "1       CC[O:16][C:14]([CH:13]=[C:12]1[C:6]2=[C:7]([N:...   \n",
       "2                                                    [H-]   \n",
       "3       [NH2:1][C:2]1=[CH:13][C:6]2=[C:5]([CH:4]=[CH:3...   \n",
       "4       [C:1]([CH3:2])([CH3:3])([CH3:4])[NH:5][NH:6][C...   \n",
       "...                                                   ...   \n",
       "779098  Br[CH2:14][CH2:13][CH2:12][CH2:11][CH2:10][CH2...   \n",
       "779099  BrCC[CH2:12][CH2:11][CH2:10][CH2:9][CH2:8][CH2...   \n",
       "779100  [OH:1][C:2]1=[CH:3][CH:4]=[C:5](/[CH:8]=[CH:9]...   \n",
       "779101  [Br:1][C:2]1=[CH:3][C:4]2=[C:12]([C:11]3=[CH:1...   \n",
       "779102  O=C(OCC1=CC=CC=C1)[NH:9][CH:6]1[C:5]([CH3:20])...   \n",
       "\n",
       "                                                 interm_1       interm_2  \\\n",
       "0                                                      Cl            NaN   \n",
       "1                                                   [OH-]           [K+]   \n",
       "2                                                  [Al+3]          [Li+]   \n",
       "3                          CC(=O)O[C:14]([CH3:15])=[O:16]            NaN   \n",
       "4                                                   ClCCl           BrBr   \n",
       "...                                                   ...            ...   \n",
       "779098  [OH:17][C:18]1=[CH:19][CH:20]=[C:21](/[CH:24]=...  O=C([O-])[O-]   \n",
       "779099  [F:17][C:18]1=[CH:19][CH:20]=[C:21](/[CH:24]=[...  O=C([O-])[O-]   \n",
       "779100  Br[CH2:21][CH2:20][CH2:19][CH2:18][CH2:17][CH2...  O=C([O-])[O-]   \n",
       "779101                                               [H-]          [Na+]   \n",
       "779102                                                NaN            NaN   \n",
       "\n",
       "                                                 interm_3 interm_4 interm_5  \\\n",
       "0                                                     NaN      NaN      NaN   \n",
       "1                                                      Cl      NaN      NaN   \n",
       "2                                                    [H-]     [H-]     [H-]   \n",
       "3                                                     NaN      NaN      NaN   \n",
       "4                                                     NaN      NaN      NaN   \n",
       "...                                                   ...      ...      ...   \n",
       "779098                                               [K+]     [K+]      NaN   \n",
       "779099                                               [K+]     [K+]      NaN   \n",
       "779100                                               [K+]     [K+]      NaN   \n",
       "779101  Br[CH2:19][CH2:20][CH2:21][CH2:22][CH2:23][CH2...      NaN      NaN   \n",
       "779102                                                NaN      NaN      NaN   \n",
       "\n",
       "                                                 interm_6   interm_7 interm_8  \\\n",
       "0                                                     NaN        NaN      NaN   \n",
       "1                                                     NaN        NaN      NaN   \n",
       "2       O=[C:20]([CH2:19][C:18]1=[CH:17][C:16]2=[C:15]...  CCOC(C)=O    [OH-]   \n",
       "3                                                     NaN        NaN      NaN   \n",
       "4                                                     NaN        NaN      NaN   \n",
       "...                                                   ...        ...      ...   \n",
       "779098                                                NaN        NaN      NaN   \n",
       "779099                                                NaN        NaN      NaN   \n",
       "779100                                                NaN        NaN      NaN   \n",
       "779101                                                NaN        NaN      NaN   \n",
       "779102                                                NaN        NaN      NaN   \n",
       "\n",
       "       interm_9     agents_0 agents_1 agents_2  \\\n",
       "0           NaN          CCO      NaN      NaN   \n",
       "1           NaN          CCO      NaN      NaN   \n",
       "2         [Na+]      C1CCOC1      NaN      NaN   \n",
       "3           NaN  C1=CC=CC=C1      NaN      NaN   \n",
       "4           NaN            O      NaN      NaN   \n",
       "...         ...          ...      ...      ...   \n",
       "779098      NaN     CN(C)C=O       Cl      NaN   \n",
       "779099      NaN     CN(C)C=O       Cl      NaN   \n",
       "779100      NaN     CN(C)C=O       Cl      NaN   \n",
       "779101      NaN     CN(C)C=O       Cl      NaN   \n",
       "779102      NaN          CCO     [Pd]      NaN   \n",
       "\n",
       "                                                product_0 product_1  Yield  \n",
       "0       [CH2:1]([CH3:2])[S:3][C:4]1=[CH:5][C:6]2=[C:7]...       NaN   82.0  \n",
       "1       [CH2:1]([CH3:2])[S:3][C:4]1=[CH:5][C:6]2=[C:7]...       NaN   78.1  \n",
       "2       [CH2:7]([CH3:8])[S:9][C:10]1=[CH:11][C:12]2=[C...       NaN   82.1  \n",
       "3       [NH:1]([C:2]1=[CH:13][C:6]2=[C:5]([CH:4]=[CH:3...       NaN   67.9  \n",
       "4       [C:1]([CH3:2])([CH3:3])([CH3:4])[N:5]=[N:6][C:...       NaN   81.9  \n",
       "...                                                   ...       ...    ...  \n",
       "779098  [Br:1][C:2]1=[C:6]([CH2:7][CH2:8][CH2:9][CH2:1...       NaN   88.0  \n",
       "779099  [Br:1][C:2]1=[C:6]([CH2:7][CH2:8][CH2:9][CH2:1...       NaN   85.0  \n",
       "779100  [O:1]([C:2]1=[CH:7][CH:6]=[C:5](/[CH:8]=[CH:9]...       NaN   92.3  \n",
       "779101  [Br:1][C:2]1=[CH:3][C:4]2=[C:12]([C:11]3=[CH:1...       NaN   50.4  \n",
       "779102  [CH3:1][N:2]([CH:3]1[CH2:4][C:5]([CH3:20])([CH...       NaN   75.0  \n",
       "\n",
       "[779103 rows x 17 columns]"
      ]
     },
     "execution_count": 5,
     "metadata": {},
     "output_type": "execute_result"
    }
   ],
   "source": [
    "data = pd.read_csv(\"reaction_preparation.tsv\", sep = \"\\t\")\n",
    "data"
   ]
  },
  {
   "cell_type": "code",
   "execution_count": 7,
   "metadata": {},
   "outputs": [
    {
     "data": {
      "text/html": [
       "<div>\n",
       "<style scoped>\n",
       "    .dataframe tbody tr th:only-of-type {\n",
       "        vertical-align: middle;\n",
       "    }\n",
       "\n",
       "    .dataframe tbody tr th {\n",
       "        vertical-align: top;\n",
       "    }\n",
       "\n",
       "    .dataframe thead th {\n",
       "        text-align: right;\n",
       "    }\n",
       "</style>\n",
       "<table border=\"1\" class=\"dataframe\">\n",
       "  <thead>\n",
       "    <tr style=\"text-align: right;\">\n",
       "      <th></th>\n",
       "      <th>reactions</th>\n",
       "      <th>interm_0</th>\n",
       "      <th>interm_1</th>\n",
       "      <th>interm_2</th>\n",
       "      <th>interm_3</th>\n",
       "      <th>interm_4</th>\n",
       "      <th>interm_5</th>\n",
       "      <th>interm_6</th>\n",
       "      <th>interm_7</th>\n",
       "      <th>interm_8</th>\n",
       "      <th>interm_9</th>\n",
       "      <th>agents_0</th>\n",
       "      <th>agents_1</th>\n",
       "      <th>agents_2</th>\n",
       "      <th>product_0</th>\n",
       "      <th>product_1</th>\n",
       "      <th>Yield</th>\n",
       "    </tr>\n",
       "  </thead>\n",
       "  <tbody>\n",
       "    <tr>\n",
       "      <th>0</th>\n",
       "      <td>[CH2:1]([S:3][C:4]1[CH:26]=[CH:25][C:7]2[N:8](...</td>\n",
       "      <td>O[C:12]1([CH2:13][C:14](=[O:15])[O:16][CH2:17]...</td>\n",
       "      <td>Cl</td>\n",
       "      <td>NaN</td>\n",
       "      <td>NaN</td>\n",
       "      <td>NaN</td>\n",
       "      <td>NaN</td>\n",
       "      <td>NaN</td>\n",
       "      <td>NaN</td>\n",
       "      <td>NaN</td>\n",
       "      <td>NaN</td>\n",
       "      <td>CCO</td>\n",
       "      <td>NaN</td>\n",
       "      <td>NaN</td>\n",
       "      <td>[CH2:1]([CH3:2])[S:3][C:4]1=[CH:5][C:6]2=[C:7]...</td>\n",
       "      <td>NaN</td>\n",
       "      <td>82.0</td>\n",
       "    </tr>\n",
       "    <tr>\n",
       "      <th>1</th>\n",
       "      <td>[CH2:1]([S:3][C:4]1[CH:25]=[CH:24][C:7]2[N:8](...</td>\n",
       "      <td>CC[O:16][C:14]([CH:13]=[C:12]1[C:6]2=[C:7]([N:...</td>\n",
       "      <td>[OH-]</td>\n",
       "      <td>[K+]</td>\n",
       "      <td>Cl</td>\n",
       "      <td>NaN</td>\n",
       "      <td>NaN</td>\n",
       "      <td>NaN</td>\n",
       "      <td>NaN</td>\n",
       "      <td>NaN</td>\n",
       "      <td>NaN</td>\n",
       "      <td>CCO</td>\n",
       "      <td>NaN</td>\n",
       "      <td>NaN</td>\n",
       "      <td>[CH2:1]([CH3:2])[S:3][C:4]1=[CH:5][C:6]2=[C:7]...</td>\n",
       "      <td>NaN</td>\n",
       "      <td>78.1</td>\n",
       "    </tr>\n",
       "    <tr>\n",
       "      <th>2</th>\n",
       "      <td>[H-].[Al+3].[Li+].[H-].[H-].[H-].[CH2:7]([S:9]...</td>\n",
       "      <td>[H-]</td>\n",
       "      <td>[Al+3]</td>\n",
       "      <td>[Li+]</td>\n",
       "      <td>[H-]</td>\n",
       "      <td>[H-]</td>\n",
       "      <td>[H-]</td>\n",
       "      <td>O=[C:20]([CH2:19][C:18]1=[CH:17][C:16]2=[C:15]...</td>\n",
       "      <td>CCOC(C)=O</td>\n",
       "      <td>[OH-]</td>\n",
       "      <td>[Na+]</td>\n",
       "      <td>C1CCOC1</td>\n",
       "      <td>NaN</td>\n",
       "      <td>NaN</td>\n",
       "      <td>[CH2:7]([CH3:8])[S:9][C:10]1=[CH:11][C:12]2=[C...</td>\n",
       "      <td>NaN</td>\n",
       "      <td>82.1</td>\n",
       "    </tr>\n",
       "    <tr>\n",
       "      <th>3</th>\n",
       "      <td>[NH2:1][C:2]1[CH:3]=[CH:4][C:5]2[N:9]=[C:8]3[C...</td>\n",
       "      <td>[NH2:1][C:2]1=[CH:13][C:6]2=[C:5]([CH:4]=[CH:3...</td>\n",
       "      <td>CC(=O)O[C:14]([CH3:15])=[O:16]</td>\n",
       "      <td>NaN</td>\n",
       "      <td>NaN</td>\n",
       "      <td>NaN</td>\n",
       "      <td>NaN</td>\n",
       "      <td>NaN</td>\n",
       "      <td>NaN</td>\n",
       "      <td>NaN</td>\n",
       "      <td>NaN</td>\n",
       "      <td>C1=CC=CC=C1</td>\n",
       "      <td>NaN</td>\n",
       "      <td>NaN</td>\n",
       "      <td>[NH:1]([C:2]1=[CH:13][C:6]2=[C:5]([CH:4]=[CH:3...</td>\n",
       "      <td>NaN</td>\n",
       "      <td>67.9</td>\n",
       "    </tr>\n",
       "    <tr>\n",
       "      <th>4</th>\n",
       "      <td>[C:1]([NH:5][NH:6][C:7]([C:12]#[N:13])([CH:9]1...</td>\n",
       "      <td>[C:1]([CH3:2])([CH3:3])([CH3:4])[NH:5][NH:6][C...</td>\n",
       "      <td>ClCCl</td>\n",
       "      <td>BrBr</td>\n",
       "      <td>NaN</td>\n",
       "      <td>NaN</td>\n",
       "      <td>NaN</td>\n",
       "      <td>NaN</td>\n",
       "      <td>NaN</td>\n",
       "      <td>NaN</td>\n",
       "      <td>NaN</td>\n",
       "      <td>O</td>\n",
       "      <td>NaN</td>\n",
       "      <td>NaN</td>\n",
       "      <td>[C:1]([CH3:2])([CH3:3])([CH3:4])[N:5]=[N:6][C:...</td>\n",
       "      <td>NaN</td>\n",
       "      <td>81.9</td>\n",
       "    </tr>\n",
       "    <tr>\n",
       "      <th>...</th>\n",
       "      <td>...</td>\n",
       "      <td>...</td>\n",
       "      <td>...</td>\n",
       "      <td>...</td>\n",
       "      <td>...</td>\n",
       "      <td>...</td>\n",
       "      <td>...</td>\n",
       "      <td>...</td>\n",
       "      <td>...</td>\n",
       "      <td>...</td>\n",
       "      <td>...</td>\n",
       "      <td>...</td>\n",
       "      <td>...</td>\n",
       "      <td>...</td>\n",
       "      <td>...</td>\n",
       "      <td>...</td>\n",
       "      <td>...</td>\n",
       "    </tr>\n",
       "    <tr>\n",
       "      <th>779098</th>\n",
       "      <td>[Br:1][C:2]1[S:3][C:4]([Br:16])=[CH:5][C:6]=1[...</td>\n",
       "      <td>Br[CH2:14][CH2:13][CH2:12][CH2:11][CH2:10][CH2...</td>\n",
       "      <td>[OH:17][C:18]1=[CH:19][CH:20]=[C:21](/[CH:24]=...</td>\n",
       "      <td>O=C([O-])[O-]</td>\n",
       "      <td>[K+]</td>\n",
       "      <td>[K+]</td>\n",
       "      <td>NaN</td>\n",
       "      <td>NaN</td>\n",
       "      <td>NaN</td>\n",
       "      <td>NaN</td>\n",
       "      <td>NaN</td>\n",
       "      <td>CN(C)C=O</td>\n",
       "      <td>Cl</td>\n",
       "      <td>NaN</td>\n",
       "      <td>[Br:1][C:2]1=[C:6]([CH2:7][CH2:8][CH2:9][CH2:1...</td>\n",
       "      <td>NaN</td>\n",
       "      <td>88.0</td>\n",
       "    </tr>\n",
       "    <tr>\n",
       "      <th>779099</th>\n",
       "      <td>[Br:1][C:2]1[S:3][C:4]([Br:16])=[CH:5][C:6]=1[...</td>\n",
       "      <td>BrCC[CH2:12][CH2:11][CH2:10][CH2:9][CH2:8][CH2...</td>\n",
       "      <td>[F:17][C:18]1=[CH:19][CH:20]=[C:21](/[CH:24]=[...</td>\n",
       "      <td>O=C([O-])[O-]</td>\n",
       "      <td>[K+]</td>\n",
       "      <td>[K+]</td>\n",
       "      <td>NaN</td>\n",
       "      <td>NaN</td>\n",
       "      <td>NaN</td>\n",
       "      <td>NaN</td>\n",
       "      <td>NaN</td>\n",
       "      <td>CN(C)C=O</td>\n",
       "      <td>Cl</td>\n",
       "      <td>NaN</td>\n",
       "      <td>[Br:1][C:2]1=[C:6]([CH2:7][CH2:8][CH2:9][CH2:1...</td>\n",
       "      <td>NaN</td>\n",
       "      <td>85.0</td>\n",
       "    </tr>\n",
       "    <tr>\n",
       "      <th>779100</th>\n",
       "      <td>[OH:1][C:2]1[CH:7]=[CH:6][C:5](/[CH:8]=[CH:9]/...</td>\n",
       "      <td>[OH:1][C:2]1=[CH:3][CH:4]=[C:5](/[CH:8]=[CH:9]...</td>\n",
       "      <td>Br[CH2:21][CH2:20][CH2:19][CH2:18][CH2:17][CH2...</td>\n",
       "      <td>O=C([O-])[O-]</td>\n",
       "      <td>[K+]</td>\n",
       "      <td>[K+]</td>\n",
       "      <td>NaN</td>\n",
       "      <td>NaN</td>\n",
       "      <td>NaN</td>\n",
       "      <td>NaN</td>\n",
       "      <td>NaN</td>\n",
       "      <td>CN(C)C=O</td>\n",
       "      <td>Cl</td>\n",
       "      <td>NaN</td>\n",
       "      <td>[O:1]([C:2]1=[CH:7][CH:6]=[C:5](/[CH:8]=[CH:9]...</td>\n",
       "      <td>NaN</td>\n",
       "      <td>92.3</td>\n",
       "    </tr>\n",
       "    <tr>\n",
       "      <th>779101</th>\n",
       "      <td>[Br:1][C:2]1[CH:14]=[CH:13][C:12]2[C:11]3[C:6]...</td>\n",
       "      <td>[Br:1][C:2]1=[CH:3][C:4]2=[C:12]([C:11]3=[CH:1...</td>\n",
       "      <td>[H-]</td>\n",
       "      <td>[Na+]</td>\n",
       "      <td>Br[CH2:19][CH2:20][CH2:21][CH2:22][CH2:23][CH2...</td>\n",
       "      <td>NaN</td>\n",
       "      <td>NaN</td>\n",
       "      <td>NaN</td>\n",
       "      <td>NaN</td>\n",
       "      <td>NaN</td>\n",
       "      <td>NaN</td>\n",
       "      <td>CN(C)C=O</td>\n",
       "      <td>Cl</td>\n",
       "      <td>NaN</td>\n",
       "      <td>[Br:1][C:2]1=[CH:3][C:4]2=[C:12]([C:11]3=[CH:1...</td>\n",
       "      <td>NaN</td>\n",
       "      <td>50.4</td>\n",
       "    </tr>\n",
       "    <tr>\n",
       "      <th>779102</th>\n",
       "      <td>[CH3:1][N:2]([CH3:22])[CH:3]1[CH2:8][CH2:7][CH...</td>\n",
       "      <td>O=C(OCC1=CC=CC=C1)[NH:9][CH:6]1[C:5]([CH3:20])...</td>\n",
       "      <td>NaN</td>\n",
       "      <td>NaN</td>\n",
       "      <td>NaN</td>\n",
       "      <td>NaN</td>\n",
       "      <td>NaN</td>\n",
       "      <td>NaN</td>\n",
       "      <td>NaN</td>\n",
       "      <td>NaN</td>\n",
       "      <td>NaN</td>\n",
       "      <td>CCO</td>\n",
       "      <td>[Pd]</td>\n",
       "      <td>NaN</td>\n",
       "      <td>[CH3:1][N:2]([CH:3]1[CH2:4][C:5]([CH3:20])([CH...</td>\n",
       "      <td>NaN</td>\n",
       "      <td>75.0</td>\n",
       "    </tr>\n",
       "  </tbody>\n",
       "</table>\n",
       "<p>779103 rows × 17 columns</p>\n",
       "</div>"
      ],
      "text/plain": [
       "                                                reactions  \\\n",
       "0       [CH2:1]([S:3][C:4]1[CH:26]=[CH:25][C:7]2[N:8](...   \n",
       "1       [CH2:1]([S:3][C:4]1[CH:25]=[CH:24][C:7]2[N:8](...   \n",
       "2       [H-].[Al+3].[Li+].[H-].[H-].[H-].[CH2:7]([S:9]...   \n",
       "3       [NH2:1][C:2]1[CH:3]=[CH:4][C:5]2[N:9]=[C:8]3[C...   \n",
       "4       [C:1]([NH:5][NH:6][C:7]([C:12]#[N:13])([CH:9]1...   \n",
       "...                                                   ...   \n",
       "779098  [Br:1][C:2]1[S:3][C:4]([Br:16])=[CH:5][C:6]=1[...   \n",
       "779099  [Br:1][C:2]1[S:3][C:4]([Br:16])=[CH:5][C:6]=1[...   \n",
       "779100  [OH:1][C:2]1[CH:7]=[CH:6][C:5](/[CH:8]=[CH:9]/...   \n",
       "779101  [Br:1][C:2]1[CH:14]=[CH:13][C:12]2[C:11]3[C:6]...   \n",
       "779102  [CH3:1][N:2]([CH3:22])[CH:3]1[CH2:8][CH2:7][CH...   \n",
       "\n",
       "                                                 interm_0  \\\n",
       "0       O[C:12]1([CH2:13][C:14](=[O:15])[O:16][CH2:17]...   \n",
       "1       CC[O:16][C:14]([CH:13]=[C:12]1[C:6]2=[C:7]([N:...   \n",
       "2                                                    [H-]   \n",
       "3       [NH2:1][C:2]1=[CH:13][C:6]2=[C:5]([CH:4]=[CH:3...   \n",
       "4       [C:1]([CH3:2])([CH3:3])([CH3:4])[NH:5][NH:6][C...   \n",
       "...                                                   ...   \n",
       "779098  Br[CH2:14][CH2:13][CH2:12][CH2:11][CH2:10][CH2...   \n",
       "779099  BrCC[CH2:12][CH2:11][CH2:10][CH2:9][CH2:8][CH2...   \n",
       "779100  [OH:1][C:2]1=[CH:3][CH:4]=[C:5](/[CH:8]=[CH:9]...   \n",
       "779101  [Br:1][C:2]1=[CH:3][C:4]2=[C:12]([C:11]3=[CH:1...   \n",
       "779102  O=C(OCC1=CC=CC=C1)[NH:9][CH:6]1[C:5]([CH3:20])...   \n",
       "\n",
       "                                                 interm_1       interm_2  \\\n",
       "0                                                      Cl            NaN   \n",
       "1                                                   [OH-]           [K+]   \n",
       "2                                                  [Al+3]          [Li+]   \n",
       "3                          CC(=O)O[C:14]([CH3:15])=[O:16]            NaN   \n",
       "4                                                   ClCCl           BrBr   \n",
       "...                                                   ...            ...   \n",
       "779098  [OH:17][C:18]1=[CH:19][CH:20]=[C:21](/[CH:24]=...  O=C([O-])[O-]   \n",
       "779099  [F:17][C:18]1=[CH:19][CH:20]=[C:21](/[CH:24]=[...  O=C([O-])[O-]   \n",
       "779100  Br[CH2:21][CH2:20][CH2:19][CH2:18][CH2:17][CH2...  O=C([O-])[O-]   \n",
       "779101                                               [H-]          [Na+]   \n",
       "779102                                                NaN            NaN   \n",
       "\n",
       "                                                 interm_3 interm_4 interm_5  \\\n",
       "0                                                     NaN      NaN      NaN   \n",
       "1                                                      Cl      NaN      NaN   \n",
       "2                                                    [H-]     [H-]     [H-]   \n",
       "3                                                     NaN      NaN      NaN   \n",
       "4                                                     NaN      NaN      NaN   \n",
       "...                                                   ...      ...      ...   \n",
       "779098                                               [K+]     [K+]      NaN   \n",
       "779099                                               [K+]     [K+]      NaN   \n",
       "779100                                               [K+]     [K+]      NaN   \n",
       "779101  Br[CH2:19][CH2:20][CH2:21][CH2:22][CH2:23][CH2...      NaN      NaN   \n",
       "779102                                                NaN      NaN      NaN   \n",
       "\n",
       "                                                 interm_6   interm_7 interm_8  \\\n",
       "0                                                     NaN        NaN      NaN   \n",
       "1                                                     NaN        NaN      NaN   \n",
       "2       O=[C:20]([CH2:19][C:18]1=[CH:17][C:16]2=[C:15]...  CCOC(C)=O    [OH-]   \n",
       "3                                                     NaN        NaN      NaN   \n",
       "4                                                     NaN        NaN      NaN   \n",
       "...                                                   ...        ...      ...   \n",
       "779098                                                NaN        NaN      NaN   \n",
       "779099                                                NaN        NaN      NaN   \n",
       "779100                                                NaN        NaN      NaN   \n",
       "779101                                                NaN        NaN      NaN   \n",
       "779102                                                NaN        NaN      NaN   \n",
       "\n",
       "       interm_9     agents_0 agents_1 agents_2  \\\n",
       "0           NaN          CCO      NaN      NaN   \n",
       "1           NaN          CCO      NaN      NaN   \n",
       "2         [Na+]      C1CCOC1      NaN      NaN   \n",
       "3           NaN  C1=CC=CC=C1      NaN      NaN   \n",
       "4           NaN            O      NaN      NaN   \n",
       "...         ...          ...      ...      ...   \n",
       "779098      NaN     CN(C)C=O       Cl      NaN   \n",
       "779099      NaN     CN(C)C=O       Cl      NaN   \n",
       "779100      NaN     CN(C)C=O       Cl      NaN   \n",
       "779101      NaN     CN(C)C=O       Cl      NaN   \n",
       "779102      NaN          CCO     [Pd]      NaN   \n",
       "\n",
       "                                                product_0 product_1  Yield  \n",
       "0       [CH2:1]([CH3:2])[S:3][C:4]1=[CH:5][C:6]2=[C:7]...       NaN   82.0  \n",
       "1       [CH2:1]([CH3:2])[S:3][C:4]1=[CH:5][C:6]2=[C:7]...       NaN   78.1  \n",
       "2       [CH2:7]([CH3:8])[S:9][C:10]1=[CH:11][C:12]2=[C...       NaN   82.1  \n",
       "3       [NH:1]([C:2]1=[CH:13][C:6]2=[C:5]([CH:4]=[CH:3...       NaN   67.9  \n",
       "4       [C:1]([CH3:2])([CH3:3])([CH3:4])[N:5]=[N:6][C:...       NaN   81.9  \n",
       "...                                                   ...       ...    ...  \n",
       "779098  [Br:1][C:2]1=[C:6]([CH2:7][CH2:8][CH2:9][CH2:1...       NaN   88.0  \n",
       "779099  [Br:1][C:2]1=[C:6]([CH2:7][CH2:8][CH2:9][CH2:1...       NaN   85.0  \n",
       "779100  [O:1]([C:2]1=[CH:7][CH:6]=[C:5](/[CH:8]=[CH:9]...       NaN   92.3  \n",
       "779101  [Br:1][C:2]1=[CH:3][C:4]2=[C:12]([C:11]3=[CH:1...       NaN   50.4  \n",
       "779102  [CH3:1][N:2]([CH:3]1[CH2:4][C:5]([CH3:20])([CH...       NaN   75.0  \n",
       "\n",
       "[779103 rows x 17 columns]"
      ]
     },
     "execution_count": 7,
     "metadata": {},
     "output_type": "execute_result"
    }
   ],
   "source": []
  },
  {
   "cell_type": "code",
   "execution_count": 12,
   "metadata": {},
   "outputs": [
    {
     "data": {
      "application/vnd.jupyter.widget-view+json": {
       "model_id": "adc4e494b7ce43c59271db277a951c76",
       "version_major": 2,
       "version_minor": 0
      },
      "text/plain": [
       "  0%|          | 0/1 [00:00<?, ?it/s]"
      ]
     },
     "metadata": {},
     "output_type": "display_data"
    },
    {
     "data": {
      "application/vnd.jupyter.widget-view+json": {
       "model_id": "56aad69889a048029d261ee9e12a8660",
       "version_major": 2,
       "version_minor": 0
      },
      "text/plain": [
       "  0%|          | 0/10000 [00:00<?, ?it/s]"
      ]
     },
     "metadata": {},
     "output_type": "display_data"
    },
    {
     "name": "stderr",
     "output_type": "stream",
     "text": [
      "[23:27:13] WARNING: not removing hydrogen atom without neighbors\n",
      "[23:27:17] WARNING: not removing hydrogen atom without neighbors\n",
      "[23:27:23] WARNING: not removing hydrogen atom without neighbors\n"
     ]
    },
    {
     "data": {
      "application/vnd.jupyter.widget-view+json": {
       "model_id": "8da92f32cf564162995a253b30293fa2",
       "version_major": 2,
       "version_minor": 0
      },
      "text/plain": [
       "  0%|          | 0/10000 [00:00<?, ?it/s]"
      ]
     },
     "metadata": {},
     "output_type": "display_data"
    },
    {
     "name": "stderr",
     "output_type": "stream",
     "text": [
      "[23:27:26] WARNING: not removing hydrogen atom without neighbors\n",
      "[23:27:26] WARNING: not removing hydrogen atom without neighbors\n",
      "[23:27:26] WARNING: not removing hydrogen atom without neighbors\n",
      "[23:27:26] WARNING: not removing hydrogen atom without neighbors\n",
      "[23:27:27] WARNING: not removing hydrogen atom without neighbors\n",
      "[23:27:27] WARNING: not removing hydrogen atom without neighbors\n"
     ]
    },
    {
     "data": {
      "application/vnd.jupyter.widget-view+json": {
       "model_id": "36ff3a11e6a644d082825a061ae8cdf1",
       "version_major": 2,
       "version_minor": 0
      },
      "text/plain": [
       "  0%|          | 0/10000 [00:00<?, ?it/s]"
      ]
     },
     "metadata": {},
     "output_type": "display_data"
    },
    {
     "name": "stderr",
     "output_type": "stream",
     "text": [
      "[23:27:28] WARNING: not removing hydrogen atom without neighbors\n",
      "[23:27:33] WARNING: not removing hydrogen atom without neighbors\n",
      "[23:27:38] WARNING: not removing hydrogen atom without neighbors\n"
     ]
    },
    {
     "data": {
      "application/vnd.jupyter.widget-view+json": {
       "model_id": "70a86052027a4fc29609c230e01edf93",
       "version_major": 2,
       "version_minor": 0
      },
      "text/plain": [
       "  0%|          | 0/10000 [00:00<?, ?it/s]"
      ]
     },
     "metadata": {},
     "output_type": "display_data"
    },
    {
     "data": {
      "application/vnd.jupyter.widget-view+json": {
       "model_id": "538f230bd3ac43b1915e6117ec9da915",
       "version_major": 2,
       "version_minor": 0
      },
      "text/plain": [
       "  0%|          | 0/10000 [00:00<?, ?it/s]"
      ]
     },
     "metadata": {},
     "output_type": "display_data"
    },
    {
     "name": "stderr",
     "output_type": "stream",
     "text": [
      "[23:32:23] WARNING: not removing hydrogen atom without neighbors\n",
      "[23:32:28] WARNING: not removing hydrogen atom without neighbors\n",
      "[23:32:33] WARNING: not removing hydrogen atom without neighbors\n"
     ]
    },
    {
     "data": {
      "application/vnd.jupyter.widget-view+json": {
       "model_id": "d3aec989f3bf4b95a28c57d23efae709",
       "version_major": 2,
       "version_minor": 0
      },
      "text/plain": [
       "  0%|          | 0/10000 [00:00<?, ?it/s]"
      ]
     },
     "metadata": {},
     "output_type": "display_data"
    },
    {
     "data": {
      "application/vnd.jupyter.widget-view+json": {
       "model_id": "0ee1f0030a7f43e3863dee56426266d7",
       "version_major": 2,
       "version_minor": 0
      },
      "text/plain": [
       "  0%|          | 0/10000 [00:00<?, ?it/s]"
      ]
     },
     "metadata": {},
     "output_type": "display_data"
    },
    {
     "name": "stderr",
     "output_type": "stream",
     "text": [
      "[23:32:45] WARNING: not removing hydrogen atom without neighbors\n"
     ]
    },
    {
     "data": {
      "application/vnd.jupyter.widget-view+json": {
       "model_id": "1b32e25d8db1492cb20c43c414bedec7",
       "version_major": 2,
       "version_minor": 0
      },
      "text/plain": [
       "  0%|          | 0/10000 [00:00<?, ?it/s]"
      ]
     },
     "metadata": {},
     "output_type": "display_data"
    },
    {
     "name": "stderr",
     "output_type": "stream",
     "text": [
      "[23:32:50] WARNING: not removing hydrogen atom without neighbors\n",
      "[23:32:50] WARNING: not removing hydrogen atom without neighbors\n"
     ]
    },
    {
     "data": {
      "application/vnd.jupyter.widget-view+json": {
       "model_id": "b19e4937d2fe4d3a915ac58369a605ab",
       "version_major": 2,
       "version_minor": 0
      },
      "text/plain": [
       "  0%|          | 0/10000 [00:00<?, ?it/s]"
      ]
     },
     "metadata": {},
     "output_type": "display_data"
    },
    {
     "name": "stderr",
     "output_type": "stream",
     "text": [
      "[23:33:00] WARNING: not removing hydrogen atom without neighbors\n"
     ]
    },
    {
     "data": {
      "application/vnd.jupyter.widget-view+json": {
       "model_id": "dc3779de6edc4d0dbaa3ad729e1a0c52",
       "version_major": 2,
       "version_minor": 0
      },
      "text/plain": [
       "  0%|          | 0/10000 [00:00<?, ?it/s]"
      ]
     },
     "metadata": {},
     "output_type": "display_data"
    },
    {
     "data": {
      "application/vnd.jupyter.widget-view+json": {
       "model_id": "00680513b9d64f6a9c81e870b7e60eb8",
       "version_major": 2,
       "version_minor": 0
      },
      "text/plain": [
       "  0%|          | 0/10000 [00:00<?, ?it/s]"
      ]
     },
     "metadata": {},
     "output_type": "display_data"
    },
    {
     "name": "stderr",
     "output_type": "stream",
     "text": [
      "[23:37:55] WARNING: not removing hydrogen atom without neighbors\n"
     ]
    },
    {
     "data": {
      "application/vnd.jupyter.widget-view+json": {
       "model_id": "d73ea75982a742569cf516b14f9a70bc",
       "version_major": 2,
       "version_minor": 0
      },
      "text/plain": [
       "  0%|          | 0/10000 [00:00<?, ?it/s]"
      ]
     },
     "metadata": {},
     "output_type": "display_data"
    },
    {
     "data": {
      "application/vnd.jupyter.widget-view+json": {
       "model_id": "877e60fd7a58417288ee5cc697965a87",
       "version_major": 2,
       "version_minor": 0
      },
      "text/plain": [
       "  0%|          | 0/10000 [00:00<?, ?it/s]"
      ]
     },
     "metadata": {},
     "output_type": "display_data"
    },
    {
     "data": {
      "application/vnd.jupyter.widget-view+json": {
       "model_id": "9a4766287a73498ea21d88e0aa8a80f0",
       "version_major": 2,
       "version_minor": 0
      },
      "text/plain": [
       "  0%|          | 0/10000 [00:00<?, ?it/s]"
      ]
     },
     "metadata": {},
     "output_type": "display_data"
    },
    {
     "data": {
      "application/vnd.jupyter.widget-view+json": {
       "model_id": "d368266018bb46248eed68c9fe1c128e",
       "version_major": 2,
       "version_minor": 0
      },
      "text/plain": [
       "  0%|          | 0/10000 [00:00<?, ?it/s]"
      ]
     },
     "metadata": {},
     "output_type": "display_data"
    },
    {
     "data": {
      "application/vnd.jupyter.widget-view+json": {
       "model_id": "0b60e0a3a0e445c881760670f4d4ef12",
       "version_major": 2,
       "version_minor": 0
      },
      "text/plain": [
       "  0%|          | 0/10000 [00:00<?, ?it/s]"
      ]
     },
     "metadata": {},
     "output_type": "display_data"
    },
    {
     "data": {
      "application/vnd.jupyter.widget-view+json": {
       "model_id": "a2bd464d37f94e689cd7b5f738b7154d",
       "version_major": 2,
       "version_minor": 0
      },
      "text/plain": [
       "  0%|          | 0/10000 [00:00<?, ?it/s]"
      ]
     },
     "metadata": {},
     "output_type": "display_data"
    },
    {
     "data": {
      "application/vnd.jupyter.widget-view+json": {
       "model_id": "cff716dc01ba4c198dd5c14e546ca7f8",
       "version_major": 2,
       "version_minor": 0
      },
      "text/plain": [
       "  0%|          | 0/10000 [00:00<?, ?it/s]"
      ]
     },
     "metadata": {},
     "output_type": "display_data"
    },
    {
     "data": {
      "application/vnd.jupyter.widget-view+json": {
       "model_id": "801fbc2397d24a2c98a1bd820165303f",
       "version_major": 2,
       "version_minor": 0
      },
      "text/plain": [
       "  0%|          | 0/10000 [00:00<?, ?it/s]"
      ]
     },
     "metadata": {},
     "output_type": "display_data"
    },
    {
     "name": "stderr",
     "output_type": "stream",
     "text": [
      "[23:43:17] WARNING: not removing hydrogen atom without neighbors\n",
      "[23:43:18] WARNING: not removing hydrogen atom without neighbors\n",
      "[23:43:18] WARNING: not removing hydrogen atom without neighbors\n",
      "[23:43:18] WARNING: not removing hydrogen atom without neighbors\n",
      "[23:43:18] WARNING: not removing hydrogen atom without neighbors\n",
      "[23:43:18] WARNING: not removing hydrogen atom without neighbors\n",
      "[23:43:18] WARNING: not removing hydrogen atom without neighbors\n",
      "[23:43:22] WARNING: not removing hydrogen atom without neighbors\n",
      "[23:43:23] WARNING: not removing hydrogen atom without neighbors\n",
      "[23:43:27] WARNING: not removing hydrogen atom without neighbors\n",
      "[23:43:28] WARNING: not removing hydrogen atom without neighbors\n"
     ]
    },
    {
     "data": {
      "application/vnd.jupyter.widget-view+json": {
       "model_id": "811802609e7a4ba6a6be13fb2e3598ab",
       "version_major": 2,
       "version_minor": 0
      },
      "text/plain": [
       "  0%|          | 0/10000 [00:00<?, ?it/s]"
      ]
     },
     "metadata": {},
     "output_type": "display_data"
    },
    {
     "name": "stderr",
     "output_type": "stream",
     "text": [
      "[23:43:29] WARNING: not removing hydrogen atom without neighbors\n",
      "[23:43:29] WARNING: not removing hydrogen atom without neighbors\n",
      "[23:43:29] WARNING: not removing hydrogen atom without neighbors\n",
      "[23:43:29] WARNING: not removing hydrogen atom without neighbors\n",
      "[23:43:29] WARNING: not removing hydrogen atom without neighbors\n",
      "[23:43:29] WARNING: not removing hydrogen atom without neighbors\n",
      "[23:43:29] WARNING: not removing hydrogen atom without neighbors\n",
      "[23:43:29] WARNING: not removing hydrogen atom without neighbors\n",
      "[23:43:29] WARNING: not removing hydrogen atom without neighbors\n",
      "[23:43:29] WARNING: not removing hydrogen atom without neighbors\n",
      "[23:43:29] WARNING: not removing hydrogen atom without neighbors\n",
      "[23:43:29] WARNING: not removing hydrogen atom without neighbors\n",
      "[23:43:29] WARNING: not removing hydrogen atom without neighbors\n",
      "[23:43:29] WARNING: not removing hydrogen atom without neighbors\n",
      "[23:43:29] WARNING: not removing hydrogen atom without neighbors\n",
      "[23:43:29] WARNING: not removing hydrogen atom without neighbors\n",
      "[23:43:29] WARNING: not removing hydrogen atom without neighbors\n",
      "[23:43:29] WARNING: not removing hydrogen atom without neighbors\n",
      "[23:43:29] WARNING: not removing hydrogen atom without neighbors\n",
      "[23:43:29] WARNING: not removing hydrogen atom without neighbors\n",
      "[23:43:30] WARNING: not removing hydrogen atom without neighbors\n",
      "[23:43:30] WARNING: not removing hydrogen atom without neighbors\n"
     ]
    },
    {
     "data": {
      "application/vnd.jupyter.widget-view+json": {
       "model_id": "21bc84afb459401eb63a1e3fe7f075ca",
       "version_major": 2,
       "version_minor": 0
      },
      "text/plain": [
       "  0%|          | 0/10000 [00:00<?, ?it/s]"
      ]
     },
     "metadata": {},
     "output_type": "display_data"
    },
    {
     "name": "stderr",
     "output_type": "stream",
     "text": [
      "[23:43:31] WARNING: not removing hydrogen atom without neighbors\n",
      "[23:43:33] WARNING: not removing hydrogen atom without neighbors\n",
      "[23:43:33] WARNING: not removing hydrogen atom without neighbors\n",
      "[23:43:33] WARNING: not removing hydrogen atom without neighbors\n",
      "[23:43:33] WARNING: not removing hydrogen atom without neighbors\n",
      "[23:43:33] WARNING: not removing hydrogen atom without neighbors\n",
      "[23:43:33] WARNING: not removing hydrogen atom without neighbors\n",
      "[23:43:37] WARNING: not removing hydrogen atom without neighbors\n",
      "[23:43:38] WARNING: not removing hydrogen atom without neighbors\n",
      "[23:43:42] WARNING: not removing hydrogen atom without neighbors\n",
      "[23:43:43] WARNING: not removing hydrogen atom without neighbors\n"
     ]
    },
    {
     "data": {
      "application/vnd.jupyter.widget-view+json": {
       "model_id": "9d31d06ce2ef4904a5259ef189f7decb",
       "version_major": 2,
       "version_minor": 0
      },
      "text/plain": [
       "  0%|          | 0/10000 [00:00<?, ?it/s]"
      ]
     },
     "metadata": {},
     "output_type": "display_data"
    },
    {
     "data": {
      "application/vnd.jupyter.widget-view+json": {
       "model_id": "42fc8bb4602c45b594b2248b7767609b",
       "version_major": 2,
       "version_minor": 0
      },
      "text/plain": [
       "  0%|          | 0/10000 [00:00<?, ?it/s]"
      ]
     },
     "metadata": {},
     "output_type": "display_data"
    },
    {
     "name": "stderr",
     "output_type": "stream",
     "text": [
      "[23:48:22] WARNING: not removing hydrogen atom without neighbors\n",
      "[23:48:23] WARNING: not removing hydrogen atom without neighbors\n",
      "[23:48:23] WARNING: not removing hydrogen atom without neighbors\n",
      "[23:48:23] WARNING: not removing hydrogen atom without neighbors\n",
      "[23:48:23] WARNING: not removing hydrogen atom without neighbors\n",
      "[23:48:23] WARNING: not removing hydrogen atom without neighbors\n",
      "[23:48:23] WARNING: not removing hydrogen atom without neighbors\n",
      "[23:48:27] WARNING: not removing hydrogen atom without neighbors\n",
      "[23:48:28] WARNING: not removing hydrogen atom without neighbors\n",
      "[23:48:33] WARNING: not removing hydrogen atom without neighbors\n",
      "[23:48:33] WARNING: not removing hydrogen atom without neighbors\n"
     ]
    },
    {
     "data": {
      "application/vnd.jupyter.widget-view+json": {
       "model_id": "89a09e5345bc49339feebdfc2b4f11c5",
       "version_major": 2,
       "version_minor": 0
      },
      "text/plain": [
       "  0%|          | 0/10000 [00:00<?, ?it/s]"
      ]
     },
     "metadata": {},
     "output_type": "display_data"
    },
    {
     "data": {
      "application/vnd.jupyter.widget-view+json": {
       "model_id": "c311569f758247ce8838185997dc0df3",
       "version_major": 2,
       "version_minor": 0
      },
      "text/plain": [
       "  0%|          | 0/10000 [00:00<?, ?it/s]"
      ]
     },
     "metadata": {},
     "output_type": "display_data"
    },
    {
     "name": "stderr",
     "output_type": "stream",
     "text": [
      "[23:48:38] WARNING: not removing hydrogen atom without neighbors\n",
      "[23:48:38] WARNING: not removing hydrogen atom without neighbors\n",
      "[23:48:44] WARNING: not removing hydrogen atom without neighbors\n",
      "[23:48:46] WARNING: not removing hydrogen atom without neighbors\n",
      "[23:48:46] WARNING: not removing hydrogen atom without neighbors\n",
      "[23:48:46] WARNING: not removing hydrogen atom without neighbors\n"
     ]
    },
    {
     "data": {
      "application/vnd.jupyter.widget-view+json": {
       "model_id": "7f7f7d54cff94e4db4ab61fd84d01cd0",
       "version_major": 2,
       "version_minor": 0
      },
      "text/plain": [
       "  0%|          | 0/10000 [00:00<?, ?it/s]"
      ]
     },
     "metadata": {},
     "output_type": "display_data"
    },
    {
     "name": "stderr",
     "output_type": "stream",
     "text": [
      "[23:48:47] WARNING: not removing hydrogen atom without neighbors\n",
      "[23:48:47] WARNING: not removing hydrogen atom without neighbors\n",
      "[23:48:47] WARNING: not removing hydrogen atom without neighbors\n",
      "[23:48:47] WARNING: not removing hydrogen atom without neighbors\n",
      "[23:48:48] WARNING: not removing hydrogen atom without neighbors\n",
      "[23:48:48] WARNING: not removing hydrogen atom without neighbors\n",
      "[23:48:48] WARNING: not removing hydrogen atom without neighbors\n",
      "[23:48:48] WARNING: not removing hydrogen atom without neighbors\n",
      "[23:48:48] WARNING: not removing hydrogen atom without neighbors\n",
      "[23:48:48] WARNING: not removing hydrogen atom without neighbors\n",
      "[23:48:48] WARNING: not removing hydrogen atom without neighbors\n",
      "[23:48:48] WARNING: not removing hydrogen atom without neighbors\n"
     ]
    },
    {
     "data": {
      "application/vnd.jupyter.widget-view+json": {
       "model_id": "124996328a59423083c14a7f63532f70",
       "version_major": 2,
       "version_minor": 0
      },
      "text/plain": [
       "  0%|          | 0/10000 [00:00<?, ?it/s]"
      ]
     },
     "metadata": {},
     "output_type": "display_data"
    },
    {
     "name": "stderr",
     "output_type": "stream",
     "text": [
      "[23:48:54] WARNING: not removing hydrogen atom without neighbors\n",
      "[23:48:54] WARNING: not removing hydrogen atom without neighbors\n",
      "[23:49:00] WARNING: not removing hydrogen atom without neighbors\n",
      "[23:49:01] WARNING: not removing hydrogen atom without neighbors\n",
      "[23:49:01] WARNING: not removing hydrogen atom without neighbors\n",
      "[23:49:01] WARNING: not removing hydrogen atom without neighbors\n"
     ]
    },
    {
     "data": {
      "application/vnd.jupyter.widget-view+json": {
       "model_id": "3d5df0aef204466bb1c694cdcc93e252",
       "version_major": 2,
       "version_minor": 0
      },
      "text/plain": [
       "  0%|          | 0/10000 [00:00<?, ?it/s]"
      ]
     },
     "metadata": {},
     "output_type": "display_data"
    },
    {
     "data": {
      "application/vnd.jupyter.widget-view+json": {
       "model_id": "5e422171c0cb4e74afd2e2d20181bf31",
       "version_major": 2,
       "version_minor": 0
      },
      "text/plain": [
       "  0%|          | 0/10000 [00:00<?, ?it/s]"
      ]
     },
     "metadata": {},
     "output_type": "display_data"
    },
    {
     "name": "stderr",
     "output_type": "stream",
     "text": [
      "[23:53:48] WARNING: not removing hydrogen atom without neighbors\n",
      "[23:53:48] WARNING: not removing hydrogen atom without neighbors\n",
      "[23:53:54] WARNING: not removing hydrogen atom without neighbors\n",
      "[23:53:55] WARNING: not removing hydrogen atom without neighbors\n",
      "[23:53:55] WARNING: not removing hydrogen atom without neighbors\n",
      "[23:53:55] WARNING: not removing hydrogen atom without neighbors\n"
     ]
    },
    {
     "data": {
      "application/vnd.jupyter.widget-view+json": {
       "model_id": "7d64ebc647504d88862e731a63e7ec63",
       "version_major": 2,
       "version_minor": 0
      },
      "text/plain": [
       "  0%|          | 0/10000 [00:00<?, ?it/s]"
      ]
     },
     "metadata": {},
     "output_type": "display_data"
    },
    {
     "data": {
      "application/vnd.jupyter.widget-view+json": {
       "model_id": "76dc9b6befea4bd0820871098a343389",
       "version_major": 2,
       "version_minor": 0
      },
      "text/plain": [
       "  0%|          | 0/10000 [00:00<?, ?it/s]"
      ]
     },
     "metadata": {},
     "output_type": "display_data"
    },
    {
     "name": "stderr",
     "output_type": "stream",
     "text": [
      "[23:53:59] WARNING: not removing hydrogen atom without neighbors\n"
     ]
    },
    {
     "data": {
      "application/vnd.jupyter.widget-view+json": {
       "model_id": "9c1274ac38334f8184bc69f85f651a0d",
       "version_major": 2,
       "version_minor": 0
      },
      "text/plain": [
       "  0%|          | 0/10000 [00:00<?, ?it/s]"
      ]
     },
     "metadata": {},
     "output_type": "display_data"
    },
    {
     "name": "stderr",
     "output_type": "stream",
     "text": [
      "[23:54:10] WARNING: not removing hydrogen atom without neighbors\n",
      "[23:54:10] WARNING: not removing hydrogen atom without neighbors\n"
     ]
    },
    {
     "data": {
      "application/vnd.jupyter.widget-view+json": {
       "model_id": "c29ff672186a478c8b82d849f59dfb59",
       "version_major": 2,
       "version_minor": 0
      },
      "text/plain": [
       "  0%|          | 0/10000 [00:00<?, ?it/s]"
      ]
     },
     "metadata": {},
     "output_type": "display_data"
    },
    {
     "name": "stderr",
     "output_type": "stream",
     "text": [
      "[23:54:14] WARNING: not removing hydrogen atom without neighbors\n"
     ]
    },
    {
     "data": {
      "application/vnd.jupyter.widget-view+json": {
       "model_id": "098e36c6af084c679b243338e7ee7c51",
       "version_major": 2,
       "version_minor": 0
      },
      "text/plain": [
       "  0%|          | 0/10000 [00:00<?, ?it/s]"
      ]
     },
     "metadata": {},
     "output_type": "display_data"
    },
    {
     "data": {
      "application/vnd.jupyter.widget-view+json": {
       "model_id": "d94bf20978774a8f96de785c9e63281f",
       "version_major": 2,
       "version_minor": 0
      },
      "text/plain": [
       "  0%|          | 0/10000 [00:00<?, ?it/s]"
      ]
     },
     "metadata": {},
     "output_type": "display_data"
    },
    {
     "name": "stderr",
     "output_type": "stream",
     "text": [
      "[23:59:08] WARNING: not removing hydrogen atom without neighbors\n"
     ]
    },
    {
     "data": {
      "application/vnd.jupyter.widget-view+json": {
       "model_id": "d71a5388b6d144bf91fa944c3574ec6f",
       "version_major": 2,
       "version_minor": 0
      },
      "text/plain": [
       "  0%|          | 0/10000 [00:00<?, ?it/s]"
      ]
     },
     "metadata": {},
     "output_type": "display_data"
    },
    {
     "data": {
      "application/vnd.jupyter.widget-view+json": {
       "model_id": "12151fd64a53427e86faf151ff3275b9",
       "version_major": 2,
       "version_minor": 0
      },
      "text/plain": [
       "  0%|          | 0/10000 [00:00<?, ?it/s]"
      ]
     },
     "metadata": {},
     "output_type": "display_data"
    },
    {
     "name": "stderr",
     "output_type": "stream",
     "text": [
      "[23:59:25] WARNING: not removing hydrogen atom without neighbors\n"
     ]
    },
    {
     "data": {
      "application/vnd.jupyter.widget-view+json": {
       "model_id": "09257ebab4184d8a8f9ddfbbe4f65622",
       "version_major": 2,
       "version_minor": 0
      },
      "text/plain": [
       "  0%|          | 0/10000 [00:00<?, ?it/s]"
      ]
     },
     "metadata": {},
     "output_type": "display_data"
    },
    {
     "name": "stderr",
     "output_type": "stream",
     "text": [
      "[23:59:33] WARNING: not removing hydrogen atom without neighbors\n",
      "[23:59:33] WARNING: not removing hydrogen atom without neighbors\n"
     ]
    },
    {
     "data": {
      "application/vnd.jupyter.widget-view+json": {
       "model_id": "eef4ca1c008840ee9b2798d61e2d9b6d",
       "version_major": 2,
       "version_minor": 0
      },
      "text/plain": [
       "  0%|          | 0/10000 [00:00<?, ?it/s]"
      ]
     },
     "metadata": {},
     "output_type": "display_data"
    },
    {
     "name": "stderr",
     "output_type": "stream",
     "text": [
      "[23:59:40] WARNING: not removing hydrogen atom without neighbors\n"
     ]
    },
    {
     "data": {
      "application/vnd.jupyter.widget-view+json": {
       "model_id": "a774fb6658d14cff90c6e052e80a8a5f",
       "version_major": 2,
       "version_minor": 0
      },
      "text/plain": [
       "  0%|          | 0/10000 [00:00<?, ?it/s]"
      ]
     },
     "metadata": {},
     "output_type": "display_data"
    },
    {
     "data": {
      "application/vnd.jupyter.widget-view+json": {
       "model_id": "03732389c8fe4ddf9fd65a3fd81401c8",
       "version_major": 2,
       "version_minor": 0
      },
      "text/plain": [
       "  0%|          | 0/10000 [00:00<?, ?it/s]"
      ]
     },
     "metadata": {},
     "output_type": "display_data"
    },
    {
     "name": "stderr",
     "output_type": "stream",
     "text": [
      "[00:04:33] WARNING: not removing hydrogen atom without neighbors\n"
     ]
    },
    {
     "data": {
      "application/vnd.jupyter.widget-view+json": {
       "model_id": "7e8a9fe714344c52a45a3055ff7ba936",
       "version_major": 2,
       "version_minor": 0
      },
      "text/plain": [
       "  0%|          | 0/10000 [00:00<?, ?it/s]"
      ]
     },
     "metadata": {},
     "output_type": "display_data"
    },
    {
     "data": {
      "application/vnd.jupyter.widget-view+json": {
       "model_id": "7cabb56f08b04e749a804a61b9686eed",
       "version_major": 2,
       "version_minor": 0
      },
      "text/plain": [
       "  0%|          | 0/10000 [00:00<?, ?it/s]"
      ]
     },
     "metadata": {},
     "output_type": "display_data"
    },
    {
     "name": "stderr",
     "output_type": "stream",
     "text": [
      "[00:04:44] WARNING: not removing hydrogen atom without neighbors\n",
      "[00:04:44] WARNING: not removing hydrogen atom without neighbors\n",
      "[00:04:49] WARNING: not removing hydrogen atom without neighbors\n",
      "[00:04:49] WARNING: not removing hydrogen atom without neighbors\n"
     ]
    },
    {
     "data": {
      "application/vnd.jupyter.widget-view+json": {
       "model_id": "c12826a5d2894e6a989ece6eeca38f15",
       "version_major": 2,
       "version_minor": 0
      },
      "text/plain": [
       "  0%|          | 0/10000 [00:00<?, ?it/s]"
      ]
     },
     "metadata": {},
     "output_type": "display_data"
    },
    {
     "name": "stderr",
     "output_type": "stream",
     "text": [
      "[00:04:54] WARNING: not removing hydrogen atom without neighbors\n",
      "[00:04:54] WARNING: not removing hydrogen atom without neighbors\n",
      "[00:04:54] WARNING: not removing hydrogen atom without neighbors\n",
      "[00:04:54] WARNING: not removing hydrogen atom without neighbors\n",
      "[00:04:54] WARNING: not removing hydrogen atom without neighbors\n",
      "[00:04:54] WARNING: not removing hydrogen atom without neighbors\n",
      "[00:04:54] WARNING: not removing hydrogen atom without neighbors\n",
      "[00:04:54] WARNING: not removing hydrogen atom without neighbors\n"
     ]
    },
    {
     "data": {
      "application/vnd.jupyter.widget-view+json": {
       "model_id": "e33b2be612864ebab15605b267252287",
       "version_major": 2,
       "version_minor": 0
      },
      "text/plain": [
       "  0%|          | 0/10000 [00:00<?, ?it/s]"
      ]
     },
     "metadata": {},
     "output_type": "display_data"
    },
    {
     "name": "stderr",
     "output_type": "stream",
     "text": [
      "[00:04:59] WARNING: not removing hydrogen atom without neighbors\n",
      "[00:04:59] WARNING: not removing hydrogen atom without neighbors\n",
      "[00:05:04] WARNING: not removing hydrogen atom without neighbors\n",
      "[00:05:05] WARNING: not removing hydrogen atom without neighbors\n"
     ]
    },
    {
     "data": {
      "application/vnd.jupyter.widget-view+json": {
       "model_id": "dbfdc2be535d4e13bd5024b4066342df",
       "version_major": 2,
       "version_minor": 0
      },
      "text/plain": [
       "  0%|          | 0/10000 [00:00<?, ?it/s]"
      ]
     },
     "metadata": {},
     "output_type": "display_data"
    },
    {
     "data": {
      "application/vnd.jupyter.widget-view+json": {
       "model_id": "0fd985c930884114a17b692626a028ea",
       "version_major": 2,
       "version_minor": 0
      },
      "text/plain": [
       "  0%|          | 0/10000 [00:00<?, ?it/s]"
      ]
     },
     "metadata": {},
     "output_type": "display_data"
    },
    {
     "name": "stderr",
     "output_type": "stream",
     "text": [
      "[00:09:50] WARNING: not removing hydrogen atom without neighbors\n",
      "[00:09:50] WARNING: not removing hydrogen atom without neighbors\n",
      "[00:09:55] WARNING: not removing hydrogen atom without neighbors\n",
      "[00:09:56] WARNING: not removing hydrogen atom without neighbors\n"
     ]
    },
    {
     "data": {
      "application/vnd.jupyter.widget-view+json": {
       "model_id": "3fdb04fc67154f0796cd1fb2c7c502b1",
       "version_major": 2,
       "version_minor": 0
      },
      "text/plain": [
       "  0%|          | 0/10000 [00:00<?, ?it/s]"
      ]
     },
     "metadata": {},
     "output_type": "display_data"
    },
    {
     "data": {
      "application/vnd.jupyter.widget-view+json": {
       "model_id": "63156f764a0a4303ae667c9d9251ce0d",
       "version_major": 2,
       "version_minor": 0
      },
      "text/plain": [
       "  0%|          | 0/10000 [00:00<?, ?it/s]"
      ]
     },
     "metadata": {},
     "output_type": "display_data"
    },
    {
     "data": {
      "application/vnd.jupyter.widget-view+json": {
       "model_id": "d18ac513e7e34a4bb26e3ab021f340db",
       "version_major": 2,
       "version_minor": 0
      },
      "text/plain": [
       "  0%|          | 0/10000 [00:00<?, ?it/s]"
      ]
     },
     "metadata": {},
     "output_type": "display_data"
    },
    {
     "data": {
      "application/vnd.jupyter.widget-view+json": {
       "model_id": "325c9c19b40c4710bd14dcc5ece53b8b",
       "version_major": 2,
       "version_minor": 0
      },
      "text/plain": [
       "  0%|          | 0/10000 [00:00<?, ?it/s]"
      ]
     },
     "metadata": {},
     "output_type": "display_data"
    },
    {
     "data": {
      "application/vnd.jupyter.widget-view+json": {
       "model_id": "297ba39de9ae4915828a9f57994fddb3",
       "version_major": 2,
       "version_minor": 0
      },
      "text/plain": [
       "  0%|          | 0/10000 [00:00<?, ?it/s]"
      ]
     },
     "metadata": {},
     "output_type": "display_data"
    },
    {
     "data": {
      "application/vnd.jupyter.widget-view+json": {
       "model_id": "f4ef8a23e50c4d4d9d219655a0a9bf6e",
       "version_major": 2,
       "version_minor": 0
      },
      "text/plain": [
       "  0%|          | 0/10000 [00:00<?, ?it/s]"
      ]
     },
     "metadata": {},
     "output_type": "display_data"
    },
    {
     "data": {
      "application/vnd.jupyter.widget-view+json": {
       "model_id": "097b410ceedb447f986ca55c2260881c",
       "version_major": 2,
       "version_minor": 0
      },
      "text/plain": [
       "  0%|          | 0/10000 [00:00<?, ?it/s]"
      ]
     },
     "metadata": {},
     "output_type": "display_data"
    },
    {
     "data": {
      "application/vnd.jupyter.widget-view+json": {
       "model_id": "eb0e913400d94e46af8284f258b4c4d0",
       "version_major": 2,
       "version_minor": 0
      },
      "text/plain": [
       "  0%|          | 0/10000 [00:00<?, ?it/s]"
      ]
     },
     "metadata": {},
     "output_type": "display_data"
    },
    {
     "name": "stderr",
     "output_type": "stream",
     "text": [
      "[00:15:25] WARNING: not removing hydrogen atom without neighbors\n",
      "[00:15:36] WARNING: not removing hydrogen atom without neighbors\n"
     ]
    },
    {
     "data": {
      "application/vnd.jupyter.widget-view+json": {
       "model_id": "c7b7737ad8bf4460838895d4be6c614d",
       "version_major": 2,
       "version_minor": 0
      },
      "text/plain": [
       "  0%|          | 0/10000 [00:00<?, ?it/s]"
      ]
     },
     "metadata": {},
     "output_type": "display_data"
    },
    {
     "name": "stderr",
     "output_type": "stream",
     "text": [
      "[00:15:38] WARNING: not removing hydrogen atom without neighbors\n",
      "[00:15:38] WARNING: not removing hydrogen atom without neighbors\n",
      "[00:15:38] WARNING: not removing hydrogen atom without neighbors\n",
      "[00:15:38] WARNING: not removing hydrogen atom without neighbors\n"
     ]
    },
    {
     "data": {
      "application/vnd.jupyter.widget-view+json": {
       "model_id": "a2d890117cb64b2aa613223d19d7ddc7",
       "version_major": 2,
       "version_minor": 0
      },
      "text/plain": [
       "  0%|          | 0/10000 [00:00<?, ?it/s]"
      ]
     },
     "metadata": {},
     "output_type": "display_data"
    },
    {
     "name": "stderr",
     "output_type": "stream",
     "text": [
      "[00:15:40] WARNING: not removing hydrogen atom without neighbors\n",
      "[00:15:51] WARNING: not removing hydrogen atom without neighbors\n"
     ]
    },
    {
     "data": {
      "application/vnd.jupyter.widget-view+json": {
       "model_id": "2e0c1b094d3849b0b22e1262228fbc2c",
       "version_major": 2,
       "version_minor": 0
      },
      "text/plain": [
       "  0%|          | 0/10000 [00:00<?, ?it/s]"
      ]
     },
     "metadata": {},
     "output_type": "display_data"
    },
    {
     "data": {
      "application/vnd.jupyter.widget-view+json": {
       "model_id": "5203fd44a5ea42b0848bf9419e16eb54",
       "version_major": 2,
       "version_minor": 0
      },
      "text/plain": [
       "  0%|          | 0/10000 [00:00<?, ?it/s]"
      ]
     },
     "metadata": {},
     "output_type": "display_data"
    },
    {
     "name": "stderr",
     "output_type": "stream",
     "text": [
      "[00:20:37] WARNING: not removing hydrogen atom without neighbors\n",
      "[00:20:48] WARNING: not removing hydrogen atom without neighbors\n"
     ]
    },
    {
     "data": {
      "application/vnd.jupyter.widget-view+json": {
       "model_id": "873e130a7b2040a58b3fbca70308dce9",
       "version_major": 2,
       "version_minor": 0
      },
      "text/plain": [
       "  0%|          | 0/10000 [00:00<?, ?it/s]"
      ]
     },
     "metadata": {},
     "output_type": "display_data"
    },
    {
     "data": {
      "application/vnd.jupyter.widget-view+json": {
       "model_id": "f8772ea61994446ca67ff629c34c04ec",
       "version_major": 2,
       "version_minor": 0
      },
      "text/plain": [
       "  0%|          | 0/10000 [00:00<?, ?it/s]"
      ]
     },
     "metadata": {},
     "output_type": "display_data"
    },
    {
     "name": "stderr",
     "output_type": "stream",
     "text": [
      "[00:20:52] WARNING: not removing hydrogen atom without neighbors\n",
      "[00:20:53] WARNING: not removing hydrogen atom without neighbors\n",
      "[00:21:01] WARNING: not removing hydrogen atom without neighbors\n"
     ]
    },
    {
     "data": {
      "application/vnd.jupyter.widget-view+json": {
       "model_id": "1bbfb35520c843e8a54cb2b9df76d345",
       "version_major": 2,
       "version_minor": 0
      },
      "text/plain": [
       "  0%|          | 0/10000 [00:00<?, ?it/s]"
      ]
     },
     "metadata": {},
     "output_type": "display_data"
    },
    {
     "name": "stderr",
     "output_type": "stream",
     "text": [
      "[00:21:02] WARNING: not removing hydrogen atom without neighbors\n",
      "[00:21:02] WARNING: not removing hydrogen atom without neighbors\n",
      "[00:21:02] WARNING: not removing hydrogen atom without neighbors\n",
      "[00:21:02] WARNING: not removing hydrogen atom without neighbors\n",
      "[00:21:03] WARNING: not removing hydrogen atom without neighbors\n",
      "[00:21:03] WARNING: not removing hydrogen atom without neighbors\n"
     ]
    },
    {
     "data": {
      "application/vnd.jupyter.widget-view+json": {
       "model_id": "39b9e0d9485c4367ac7de5929893b952",
       "version_major": 2,
       "version_minor": 0
      },
      "text/plain": [
       "  0%|          | 0/10000 [00:00<?, ?it/s]"
      ]
     },
     "metadata": {},
     "output_type": "display_data"
    },
    {
     "name": "stderr",
     "output_type": "stream",
     "text": [
      "[00:21:07] WARNING: not removing hydrogen atom without neighbors\n",
      "[00:21:07] WARNING: not removing hydrogen atom without neighbors\n",
      "[00:21:16] WARNING: not removing hydrogen atom without neighbors\n"
     ]
    },
    {
     "data": {
      "application/vnd.jupyter.widget-view+json": {
       "model_id": "7a30cfe8ba4640069adbf901aea6cb13",
       "version_major": 2,
       "version_minor": 0
      },
      "text/plain": [
       "  0%|          | 0/10000 [00:00<?, ?it/s]"
      ]
     },
     "metadata": {},
     "output_type": "display_data"
    },
    {
     "data": {
      "application/vnd.jupyter.widget-view+json": {
       "model_id": "b22e91d9265a49aaa7dd5b349fe7b789",
       "version_major": 2,
       "version_minor": 0
      },
      "text/plain": [
       "  0%|          | 0/10000 [00:00<?, ?it/s]"
      ]
     },
     "metadata": {},
     "output_type": "display_data"
    },
    {
     "name": "stderr",
     "output_type": "stream",
     "text": [
      "[00:25:57] WARNING: not removing hydrogen atom without neighbors\n",
      "[00:25:58] WARNING: not removing hydrogen atom without neighbors\n",
      "[00:26:06] WARNING: not removing hydrogen atom without neighbors\n"
     ]
    },
    {
     "data": {
      "application/vnd.jupyter.widget-view+json": {
       "model_id": "347f2a12e38f4fdd8483f083d4d5f4f2",
       "version_major": 2,
       "version_minor": 0
      },
      "text/plain": [
       "  0%|          | 0/10000 [00:00<?, ?it/s]"
      ]
     },
     "metadata": {},
     "output_type": "display_data"
    },
    {
     "data": {
      "application/vnd.jupyter.widget-view+json": {
       "model_id": "74a094387db640179e6c74d8394084db",
       "version_major": 2,
       "version_minor": 0
      },
      "text/plain": [
       "  0%|          | 0/10000 [00:00<?, ?it/s]"
      ]
     },
     "metadata": {},
     "output_type": "display_data"
    },
    {
     "name": "stderr",
     "output_type": "stream",
     "text": [
      "[00:26:15] WARNING: not removing hydrogen atom without neighbors\n",
      "[00:26:15] WARNING: not removing hydrogen atom without neighbors\n"
     ]
    },
    {
     "data": {
      "application/vnd.jupyter.widget-view+json": {
       "model_id": "5642e1933c0e49f687f54f2abdc04e01",
       "version_major": 2,
       "version_minor": 0
      },
      "text/plain": [
       "  0%|          | 0/10000 [00:00<?, ?it/s]"
      ]
     },
     "metadata": {},
     "output_type": "display_data"
    },
    {
     "name": "stderr",
     "output_type": "stream",
     "text": [
      "[00:26:21] WARNING: not removing hydrogen atom without neighbors\n",
      "[00:26:21] WARNING: not removing hydrogen atom without neighbors\n",
      "[00:26:21] WARNING: not removing hydrogen atom without neighbors\n",
      "[00:26:21] WARNING: not removing hydrogen atom without neighbors\n"
     ]
    },
    {
     "data": {
      "application/vnd.jupyter.widget-view+json": {
       "model_id": "bd765be9106c418d8546a805b59f58b9",
       "version_major": 2,
       "version_minor": 0
      },
      "text/plain": [
       "  0%|          | 0/10000 [00:00<?, ?it/s]"
      ]
     },
     "metadata": {},
     "output_type": "display_data"
    },
    {
     "name": "stderr",
     "output_type": "stream",
     "text": [
      "[00:26:30] WARNING: not removing hydrogen atom without neighbors\n",
      "[00:26:31] WARNING: not removing hydrogen atom without neighbors\n"
     ]
    },
    {
     "data": {
      "application/vnd.jupyter.widget-view+json": {
       "model_id": "358a5b5f4eef4a6ea8f6da263507b51c",
       "version_major": 2,
       "version_minor": 0
      },
      "text/plain": [
       "  0%|          | 0/10000 [00:00<?, ?it/s]"
      ]
     },
     "metadata": {},
     "output_type": "display_data"
    },
    {
     "data": {
      "application/vnd.jupyter.widget-view+json": {
       "model_id": "8b90f823fede408c88e8d650470d4be9",
       "version_major": 2,
       "version_minor": 0
      },
      "text/plain": [
       "  0%|          | 0/10000 [00:00<?, ?it/s]"
      ]
     },
     "metadata": {},
     "output_type": "display_data"
    },
    {
     "name": "stderr",
     "output_type": "stream",
     "text": [
      "[00:31:20] WARNING: not removing hydrogen atom without neighbors\n",
      "[00:31:21] WARNING: not removing hydrogen atom without neighbors\n"
     ]
    },
    {
     "data": {
      "application/vnd.jupyter.widget-view+json": {
       "model_id": "155e23836a524404a17acc51d79a82db",
       "version_major": 2,
       "version_minor": 0
      },
      "text/plain": [
       "  0%|          | 0/10000 [00:00<?, ?it/s]"
      ]
     },
     "metadata": {},
     "output_type": "display_data"
    },
    {
     "data": {
      "application/vnd.jupyter.widget-view+json": {
       "model_id": "9ed1c837a19a484cafd475f30f3a50ef",
       "version_major": 2,
       "version_minor": 0
      },
      "text/plain": [
       "  0%|          | 0/10000 [00:00<?, ?it/s]"
      ]
     },
     "metadata": {},
     "output_type": "display_data"
    },
    {
     "name": "stderr",
     "output_type": "stream",
     "text": [
      "[00:31:37] WARNING: not removing hydrogen atom without neighbors\n",
      "[00:31:37] WARNING: not removing hydrogen atom without neighbors\n",
      "[00:31:37] WARNING: not removing hydrogen atom without neighbors\n",
      "[00:31:38] WARNING: not removing hydrogen atom without neighbors\n"
     ]
    },
    {
     "data": {
      "application/vnd.jupyter.widget-view+json": {
       "model_id": "034ecb162696490bac41347193ef9717",
       "version_major": 2,
       "version_minor": 0
      },
      "text/plain": [
       "  0%|          | 0/10000 [00:00<?, ?it/s]"
      ]
     },
     "metadata": {},
     "output_type": "display_data"
    },
    {
     "name": "stderr",
     "output_type": "stream",
     "text": [
      "[00:31:40] WARNING: not removing hydrogen atom without neighbors\n",
      "[00:31:40] WARNING: not removing hydrogen atom without neighbors\n",
      "[00:31:40] WARNING: not removing hydrogen atom without neighbors\n",
      "[00:31:40] WARNING: not removing hydrogen atom without neighbors\n",
      "[00:31:40] WARNING: not removing hydrogen atom without neighbors\n",
      "[00:31:40] WARNING: not removing hydrogen atom without neighbors\n",
      "[00:31:40] WARNING: not removing hydrogen atom without neighbors\n",
      "[00:31:40] WARNING: not removing hydrogen atom without neighbors\n"
     ]
    },
    {
     "data": {
      "application/vnd.jupyter.widget-view+json": {
       "model_id": "66a35636e8a04967b8979c40f5c93bb9",
       "version_major": 2,
       "version_minor": 0
      },
      "text/plain": [
       "  0%|          | 0/10000 [00:00<?, ?it/s]"
      ]
     },
     "metadata": {},
     "output_type": "display_data"
    },
    {
     "name": "stderr",
     "output_type": "stream",
     "text": [
      "[00:31:52] WARNING: not removing hydrogen atom without neighbors\n",
      "[00:31:52] WARNING: not removing hydrogen atom without neighbors\n",
      "[00:31:52] WARNING: not removing hydrogen atom without neighbors\n",
      "[00:31:53] WARNING: not removing hydrogen atom without neighbors\n"
     ]
    },
    {
     "data": {
      "application/vnd.jupyter.widget-view+json": {
       "model_id": "d14589a92a2a4492b8be9cfb1ad5369f",
       "version_major": 2,
       "version_minor": 0
      },
      "text/plain": [
       "  0%|          | 0/10000 [00:00<?, ?it/s]"
      ]
     },
     "metadata": {},
     "output_type": "display_data"
    },
    {
     "data": {
      "application/vnd.jupyter.widget-view+json": {
       "model_id": "5562ad77c4be42cebd2843f070d22414",
       "version_major": 2,
       "version_minor": 0
      },
      "text/plain": [
       "  0%|          | 0/10000 [00:00<?, ?it/s]"
      ]
     },
     "metadata": {},
     "output_type": "display_data"
    },
    {
     "name": "stderr",
     "output_type": "stream",
     "text": [
      "[00:36:46] WARNING: not removing hydrogen atom without neighbors\n",
      "[00:36:46] WARNING: not removing hydrogen atom without neighbors\n",
      "[00:36:46] WARNING: not removing hydrogen atom without neighbors\n",
      "[00:36:46] WARNING: not removing hydrogen atom without neighbors\n"
     ]
    },
    {
     "data": {
      "application/vnd.jupyter.widget-view+json": {
       "model_id": "d734ddb346654f8587931eb28f2758ef",
       "version_major": 2,
       "version_minor": 0
      },
      "text/plain": [
       "  0%|          | 0/10000 [00:00<?, ?it/s]"
      ]
     },
     "metadata": {},
     "output_type": "display_data"
    },
    {
     "data": {
      "application/vnd.jupyter.widget-view+json": {
       "model_id": "c15cb3b918d04c17a6647b122b9fb037",
       "version_major": 2,
       "version_minor": 0
      },
      "text/plain": [
       "  0%|          | 0/10000 [00:00<?, ?it/s]"
      ]
     },
     "metadata": {},
     "output_type": "display_data"
    },
    {
     "name": "stderr",
     "output_type": "stream",
     "text": [
      "[00:36:49] WARNING: not removing hydrogen atom without neighbors\n",
      "[00:36:52] WARNING: not removing hydrogen atom without neighbors\n",
      "[00:36:52] WARNING: not removing hydrogen atom without neighbors\n",
      "[00:36:52] WARNING: not removing hydrogen atom without neighbors\n",
      "[00:36:52] WARNING: not removing hydrogen atom without neighbors\n"
     ]
    },
    {
     "data": {
      "application/vnd.jupyter.widget-view+json": {
       "model_id": "709eacbbae40413f9fbcce8f5c5e0107",
       "version_major": 2,
       "version_minor": 0
      },
      "text/plain": [
       "  0%|          | 0/10000 [00:00<?, ?it/s]"
      ]
     },
     "metadata": {},
     "output_type": "display_data"
    },
    {
     "name": "stderr",
     "output_type": "stream",
     "text": [
      "[00:37:00] WARNING: not removing hydrogen atom without neighbors\n",
      "[00:37:00] WARNING: not removing hydrogen atom without neighbors\n",
      "[00:37:01] WARNING: not removing hydrogen atom without neighbors\n",
      "[00:37:01] WARNING: not removing hydrogen atom without neighbors\n",
      "[00:37:01] WARNING: not removing hydrogen atom without neighbors\n",
      "[00:37:01] WARNING: not removing hydrogen atom without neighbors\n",
      "[00:37:01] WARNING: not removing hydrogen atom without neighbors\n",
      "[00:37:01] WARNING: not removing hydrogen atom without neighbors\n",
      "[00:37:01] WARNING: not removing hydrogen atom without neighbors\n",
      "[00:37:01] WARNING: not removing hydrogen atom without neighbors\n"
     ]
    },
    {
     "data": {
      "application/vnd.jupyter.widget-view+json": {
       "model_id": "43e1d40135ff4f22a589b76f7ce2a662",
       "version_major": 2,
       "version_minor": 0
      },
      "text/plain": [
       "  0%|          | 0/10000 [00:00<?, ?it/s]"
      ]
     },
     "metadata": {},
     "output_type": "display_data"
    },
    {
     "name": "stderr",
     "output_type": "stream",
     "text": [
      "[00:37:04] WARNING: not removing hydrogen atom without neighbors\n",
      "[00:37:07] WARNING: not removing hydrogen atom without neighbors\n",
      "[00:37:07] WARNING: not removing hydrogen atom without neighbors\n",
      "[00:37:07] WARNING: not removing hydrogen atom without neighbors\n",
      "[00:37:07] WARNING: not removing hydrogen atom without neighbors\n"
     ]
    },
    {
     "data": {
      "application/vnd.jupyter.widget-view+json": {
       "model_id": "9b0772c0f65e4d31ac380642460e7321",
       "version_major": 2,
       "version_minor": 0
      },
      "text/plain": [
       "  0%|          | 0/10000 [00:00<?, ?it/s]"
      ]
     },
     "metadata": {},
     "output_type": "display_data"
    },
    {
     "data": {
      "application/vnd.jupyter.widget-view+json": {
       "model_id": "733967825b1d4547886ca5460555b621",
       "version_major": 2,
       "version_minor": 0
      },
      "text/plain": [
       "  0%|          | 0/10000 [00:00<?, ?it/s]"
      ]
     },
     "metadata": {},
     "output_type": "display_data"
    },
    {
     "name": "stderr",
     "output_type": "stream",
     "text": [
      "[00:41:57] WARNING: not removing hydrogen atom without neighbors\n",
      "[00:41:59] WARNING: not removing hydrogen atom without neighbors\n",
      "[00:42:00] WARNING: not removing hydrogen atom without neighbors\n",
      "[00:42:00] WARNING: not removing hydrogen atom without neighbors\n",
      "[00:42:00] WARNING: not removing hydrogen atom without neighbors\n"
     ]
    },
    {
     "data": {
      "application/vnd.jupyter.widget-view+json": {
       "model_id": "67baad01db8c436396de40484962a345",
       "version_major": 2,
       "version_minor": 0
      },
      "text/plain": [
       "  0%|          | 0/10000 [00:00<?, ?it/s]"
      ]
     },
     "metadata": {},
     "output_type": "display_data"
    },
    {
     "data": {
      "application/vnd.jupyter.widget-view+json": {
       "model_id": "5c98157f380d48a7a6a3f8c470902a14",
       "version_major": 2,
       "version_minor": 0
      },
      "text/plain": [
       "  0%|          | 0/10000 [00:00<?, ?it/s]"
      ]
     },
     "metadata": {},
     "output_type": "display_data"
    },
    {
     "name": "stderr",
     "output_type": "stream",
     "text": [
      "[00:42:18] WARNING: not removing hydrogen atom without neighbors\n"
     ]
    },
    {
     "data": {
      "application/vnd.jupyter.widget-view+json": {
       "model_id": "32ad30e4389943a99605fdc5965016fe",
       "version_major": 2,
       "version_minor": 0
      },
      "text/plain": [
       "  0%|          | 0/10000 [00:00<?, ?it/s]"
      ]
     },
     "metadata": {},
     "output_type": "display_data"
    },
    {
     "name": "stderr",
     "output_type": "stream",
     "text": [
      "[00:42:22] WARNING: not removing hydrogen atom without neighbors\n",
      "[00:42:22] WARNING: not removing hydrogen atom without neighbors\n"
     ]
    },
    {
     "data": {
      "application/vnd.jupyter.widget-view+json": {
       "model_id": "679daa5a2809406c87b6be2fae468fdb",
       "version_major": 2,
       "version_minor": 0
      },
      "text/plain": [
       "  0%|          | 0/10000 [00:00<?, ?it/s]"
      ]
     },
     "metadata": {},
     "output_type": "display_data"
    },
    {
     "name": "stderr",
     "output_type": "stream",
     "text": [
      "[00:42:33] WARNING: not removing hydrogen atom without neighbors\n"
     ]
    },
    {
     "data": {
      "application/vnd.jupyter.widget-view+json": {
       "model_id": "7db7e3abb9644c178dcb5cec8e934619",
       "version_major": 2,
       "version_minor": 0
      },
      "text/plain": [
       "  0%|          | 0/10000 [00:00<?, ?it/s]"
      ]
     },
     "metadata": {},
     "output_type": "display_data"
    },
    {
     "data": {
      "application/vnd.jupyter.widget-view+json": {
       "model_id": "f1b2a12078be48afac1892b186021df8",
       "version_major": 2,
       "version_minor": 0
      },
      "text/plain": [
       "  0%|          | 0/10000 [00:00<?, ?it/s]"
      ]
     },
     "metadata": {},
     "output_type": "display_data"
    },
    {
     "name": "stderr",
     "output_type": "stream",
     "text": [
      "[00:47:25] WARNING: not removing hydrogen atom without neighbors\n"
     ]
    },
    {
     "data": {
      "application/vnd.jupyter.widget-view+json": {
       "model_id": "355c910856d2472e8f92eaae5c6bde4f",
       "version_major": 2,
       "version_minor": 0
      },
      "text/plain": [
       "  0%|          | 0/10000 [00:00<?, ?it/s]"
      ]
     },
     "metadata": {},
     "output_type": "display_data"
    },
    {
     "data": {
      "application/vnd.jupyter.widget-view+json": {
       "model_id": "278e105841564b1fbdc044786c4917ed",
       "version_major": 2,
       "version_minor": 0
      },
      "text/plain": [
       "  0%|          | 0/10000 [00:00<?, ?it/s]"
      ]
     },
     "metadata": {},
     "output_type": "display_data"
    },
    {
     "name": "stderr",
     "output_type": "stream",
     "text": [
      "[00:47:30] WARNING: not removing hydrogen atom without neighbors\n",
      "[00:47:30] WARNING: not removing hydrogen atom without neighbors\n",
      "[00:47:32] WARNING: not removing hydrogen atom without neighbors\n",
      "[00:47:36] WARNING: not removing hydrogen atom without neighbors\n",
      "[00:47:36] WARNING: not removing hydrogen atom without neighbors\n",
      "[00:47:36] WARNING: not removing hydrogen atom without neighbors\n",
      "[00:47:37] WARNING: not removing hydrogen atom without neighbors\n",
      "[00:47:37] WARNING: not removing hydrogen atom without neighbors\n",
      "[00:47:37] WARNING: not removing hydrogen atom without neighbors\n"
     ]
    },
    {
     "data": {
      "application/vnd.jupyter.widget-view+json": {
       "model_id": "36176106eda44f99b846461d7b6af03e",
       "version_major": 2,
       "version_minor": 0
      },
      "text/plain": [
       "  0%|          | 0/10000 [00:00<?, ?it/s]"
      ]
     },
     "metadata": {},
     "output_type": "display_data"
    },
    {
     "name": "stderr",
     "output_type": "stream",
     "text": [
      "[00:47:41] WARNING: not removing hydrogen atom without neighbors\n",
      "[00:47:41] WARNING: not removing hydrogen atom without neighbors\n",
      "[00:47:41] WARNING: not removing hydrogen atom without neighbors\n",
      "[00:47:41] WARNING: not removing hydrogen atom without neighbors\n",
      "[00:47:41] WARNING: not removing hydrogen atom without neighbors\n",
      "[00:47:41] WARNING: not removing hydrogen atom without neighbors\n",
      "[00:47:42] WARNING: not removing hydrogen atom without neighbors\n",
      "[00:47:42] WARNING: not removing hydrogen atom without neighbors\n",
      "[00:47:42] WARNING: not removing hydrogen atom without neighbors\n",
      "[00:47:42] WARNING: not removing hydrogen atom without neighbors\n",
      "[00:47:42] WARNING: not removing hydrogen atom without neighbors\n",
      "[00:47:42] WARNING: not removing hydrogen atom without neighbors\n",
      "[00:47:42] WARNING: not removing hydrogen atom without neighbors\n",
      "[00:47:42] WARNING: not removing hydrogen atom without neighbors\n",
      "[00:47:42] WARNING: not removing hydrogen atom without neighbors\n",
      "[00:47:42] WARNING: not removing hydrogen atom without neighbors\n",
      "[00:47:42] WARNING: not removing hydrogen atom without neighbors\n",
      "[00:47:42] WARNING: not removing hydrogen atom without neighbors\n"
     ]
    },
    {
     "data": {
      "application/vnd.jupyter.widget-view+json": {
       "model_id": "01344faa0b8f4edcb9f8673c2f386b08",
       "version_major": 2,
       "version_minor": 0
      },
      "text/plain": [
       "  0%|          | 0/10000 [00:00<?, ?it/s]"
      ]
     },
     "metadata": {},
     "output_type": "display_data"
    },
    {
     "name": "stderr",
     "output_type": "stream",
     "text": [
      "[00:47:45] WARNING: not removing hydrogen atom without neighbors\n",
      "[00:47:45] WARNING: not removing hydrogen atom without neighbors\n",
      "[00:47:47] WARNING: not removing hydrogen atom without neighbors\n",
      "[00:47:51] WARNING: not removing hydrogen atom without neighbors\n",
      "[00:47:51] WARNING: not removing hydrogen atom without neighbors\n",
      "[00:47:51] WARNING: not removing hydrogen atom without neighbors\n",
      "[00:47:51] WARNING: not removing hydrogen atom without neighbors\n",
      "[00:47:52] WARNING: not removing hydrogen atom without neighbors\n",
      "[00:47:52] WARNING: not removing hydrogen atom without neighbors\n"
     ]
    },
    {
     "data": {
      "application/vnd.jupyter.widget-view+json": {
       "model_id": "b24054875a304002996f1820fad41332",
       "version_major": 2,
       "version_minor": 0
      },
      "text/plain": [
       "  0%|          | 0/10000 [00:00<?, ?it/s]"
      ]
     },
     "metadata": {},
     "output_type": "display_data"
    },
    {
     "data": {
      "application/vnd.jupyter.widget-view+json": {
       "model_id": "5f78604424db4957a1c4a0d47a2b3ac7",
       "version_major": 2,
       "version_minor": 0
      },
      "text/plain": [
       "  0%|          | 0/10000 [00:00<?, ?it/s]"
      ]
     },
     "metadata": {},
     "output_type": "display_data"
    },
    {
     "name": "stderr",
     "output_type": "stream",
     "text": [
      "[00:52:36] WARNING: not removing hydrogen atom without neighbors\n",
      "[00:52:36] WARNING: not removing hydrogen atom without neighbors\n",
      "[00:52:37] WARNING: not removing hydrogen atom without neighbors\n",
      "[00:52:42] WARNING: not removing hydrogen atom without neighbors\n",
      "[00:52:42] WARNING: not removing hydrogen atom without neighbors\n",
      "[00:52:42] WARNING: not removing hydrogen atom without neighbors\n",
      "[00:52:42] WARNING: not removing hydrogen atom without neighbors\n",
      "[00:52:42] WARNING: not removing hydrogen atom without neighbors\n",
      "[00:52:42] WARNING: not removing hydrogen atom without neighbors\n"
     ]
    },
    {
     "data": {
      "application/vnd.jupyter.widget-view+json": {
       "model_id": "eab845e532914d25881164c7e509b27f",
       "version_major": 2,
       "version_minor": 0
      },
      "text/plain": [
       "  0%|          | 0/10000 [00:00<?, ?it/s]"
      ]
     },
     "metadata": {},
     "output_type": "display_data"
    },
    {
     "data": {
      "application/vnd.jupyter.widget-view+json": {
       "model_id": "d82d3f5a3cd1417eac8c6cd47619b4da",
       "version_major": 2,
       "version_minor": 0
      },
      "text/plain": [
       "  0%|          | 0/10000 [00:00<?, ?it/s]"
      ]
     },
     "metadata": {},
     "output_type": "display_data"
    },
    {
     "name": "stderr",
     "output_type": "stream",
     "text": [
      "[00:52:51] WARNING: not removing hydrogen atom without neighbors\n"
     ]
    },
    {
     "data": {
      "application/vnd.jupyter.widget-view+json": {
       "model_id": "6d88c901d761424b921063e7c6f3aaca",
       "version_major": 2,
       "version_minor": 0
      },
      "text/plain": [
       "  0%|          | 0/10000 [00:00<?, ?it/s]"
      ]
     },
     "metadata": {},
     "output_type": "display_data"
    },
    {
     "name": "stderr",
     "output_type": "stream",
     "text": [
      "[00:53:00] WARNING: not removing hydrogen atom without neighbors\n",
      "[00:53:00] WARNING: not removing hydrogen atom without neighbors\n"
     ]
    },
    {
     "data": {
      "application/vnd.jupyter.widget-view+json": {
       "model_id": "694b0b983cd247e68f5cbca8fa80e6c4",
       "version_major": 2,
       "version_minor": 0
      },
      "text/plain": [
       "  0%|          | 0/10000 [00:00<?, ?it/s]"
      ]
     },
     "metadata": {},
     "output_type": "display_data"
    },
    {
     "name": "stderr",
     "output_type": "stream",
     "text": [
      "[00:53:06] WARNING: not removing hydrogen atom without neighbors\n"
     ]
    },
    {
     "data": {
      "application/vnd.jupyter.widget-view+json": {
       "model_id": "c339188a0b1149afbf28472538196da1",
       "version_major": 2,
       "version_minor": 0
      },
      "text/plain": [
       "  0%|          | 0/10000 [00:00<?, ?it/s]"
      ]
     },
     "metadata": {},
     "output_type": "display_data"
    },
    {
     "data": {
      "application/vnd.jupyter.widget-view+json": {
       "model_id": "12e0298d18574a6eb114a91d347aab8f",
       "version_major": 2,
       "version_minor": 0
      },
      "text/plain": [
       "  0%|          | 0/10000 [00:00<?, ?it/s]"
      ]
     },
     "metadata": {},
     "output_type": "display_data"
    },
    {
     "name": "stderr",
     "output_type": "stream",
     "text": [
      "[10:19:56] WARNING: not removing hydrogen atom without neighbors\n"
     ]
    },
    {
     "data": {
      "application/vnd.jupyter.widget-view+json": {
       "model_id": "133a9104dd2047d8aae53d3bb310819b",
       "version_major": 2,
       "version_minor": 0
      },
      "text/plain": [
       "  0%|          | 0/10000 [00:00<?, ?it/s]"
      ]
     },
     "metadata": {},
     "output_type": "display_data"
    },
    {
     "data": {
      "application/vnd.jupyter.widget-view+json": {
       "model_id": "e61dcc1084cd4f66be292b6274f10bc1",
       "version_major": 2,
       "version_minor": 0
      },
      "text/plain": [
       "  0%|          | 0/10000 [00:00<?, ?it/s]"
      ]
     },
     "metadata": {},
     "output_type": "display_data"
    },
    {
     "data": {
      "application/vnd.jupyter.widget-view+json": {
       "model_id": "2a583db8c19048788b7b17fae6d240ac",
       "version_major": 2,
       "version_minor": 0
      },
      "text/plain": [
       "  0%|          | 0/10000 [00:00<?, ?it/s]"
      ]
     },
     "metadata": {},
     "output_type": "display_data"
    },
    {
     "data": {
      "application/vnd.jupyter.widget-view+json": {
       "model_id": "7c753e763efd47aebdafc137ddd9fc32",
       "version_major": 2,
       "version_minor": 0
      },
      "text/plain": [
       "  0%|          | 0/10000 [00:00<?, ?it/s]"
      ]
     },
     "metadata": {},
     "output_type": "display_data"
    },
    {
     "data": {
      "application/vnd.jupyter.widget-view+json": {
       "model_id": "c748b9dbb60f4ed589a0d5b4b9d6f250",
       "version_major": 2,
       "version_minor": 0
      },
      "text/plain": [
       "  0%|          | 0/10000 [00:00<?, ?it/s]"
      ]
     },
     "metadata": {},
     "output_type": "display_data"
    },
    {
     "data": {
      "application/vnd.jupyter.widget-view+json": {
       "model_id": "18075d829358443b9e3a9996484a08dd",
       "version_major": 2,
       "version_minor": 0
      },
      "text/plain": [
       "  0%|          | 0/10000 [00:00<?, ?it/s]"
      ]
     },
     "metadata": {},
     "output_type": "display_data"
    },
    {
     "data": {
      "application/vnd.jupyter.widget-view+json": {
       "model_id": "b556675bf2e64688be49b63457f8e973",
       "version_major": 2,
       "version_minor": 0
      },
      "text/plain": [
       "  0%|          | 0/10000 [00:00<?, ?it/s]"
      ]
     },
     "metadata": {},
     "output_type": "display_data"
    },
    {
     "data": {
      "application/vnd.jupyter.widget-view+json": {
       "model_id": "7939737217c947ee98a8a887289efe3f",
       "version_major": 2,
       "version_minor": 0
      },
      "text/plain": [
       "  0%|          | 0/10000 [00:00<?, ?it/s]"
      ]
     },
     "metadata": {},
     "output_type": "display_data"
    },
    {
     "name": "stderr",
     "output_type": "stream",
     "text": [
      "[11:06:42] WARNING: not removing hydrogen atom without neighbors\n"
     ]
    },
    {
     "data": {
      "application/vnd.jupyter.widget-view+json": {
       "model_id": "db05b59e6107438a9bda4a5300f571b2",
       "version_major": 2,
       "version_minor": 0
      },
      "text/plain": [
       "  0%|          | 0/10000 [00:00<?, ?it/s]"
      ]
     },
     "metadata": {},
     "output_type": "display_data"
    },
    {
     "name": "stderr",
     "output_type": "stream",
     "text": [
      "[11:06:51] WARNING: not removing hydrogen atom without neighbors\n",
      "[11:06:51] WARNING: not removing hydrogen atom without neighbors\n"
     ]
    },
    {
     "data": {
      "application/vnd.jupyter.widget-view+json": {
       "model_id": "724f5cd6349a49bda0a07856f788b0d7",
       "version_major": 2,
       "version_minor": 0
      },
      "text/plain": [
       "  0%|          | 0/10000 [00:00<?, ?it/s]"
      ]
     },
     "metadata": {},
     "output_type": "display_data"
    },
    {
     "name": "stderr",
     "output_type": "stream",
     "text": [
      "[11:06:57] WARNING: not removing hydrogen atom without neighbors\n"
     ]
    },
    {
     "data": {
      "application/vnd.jupyter.widget-view+json": {
       "model_id": "e904758816ef4ec2b1181a192da32d0a",
       "version_major": 2,
       "version_minor": 0
      },
      "text/plain": [
       "  0%|          | 0/10000 [00:00<?, ?it/s]"
      ]
     },
     "metadata": {},
     "output_type": "display_data"
    },
    {
     "data": {
      "application/vnd.jupyter.widget-view+json": {
       "model_id": "a16ab44cfb8643ae85f7a14543e561a4",
       "version_major": 2,
       "version_minor": 0
      },
      "text/plain": [
       "  0%|          | 0/10000 [00:00<?, ?it/s]"
      ]
     },
     "metadata": {},
     "output_type": "display_data"
    },
    {
     "name": "stderr",
     "output_type": "stream",
     "text": [
      "[11:11:42] WARNING: not removing hydrogen atom without neighbors\n"
     ]
    },
    {
     "data": {
      "application/vnd.jupyter.widget-view+json": {
       "model_id": "d540ae104475478da22012c8a32640af",
       "version_major": 2,
       "version_minor": 0
      },
      "text/plain": [
       "  0%|          | 0/10000 [00:00<?, ?it/s]"
      ]
     },
     "metadata": {},
     "output_type": "display_data"
    },
    {
     "data": {
      "application/vnd.jupyter.widget-view+json": {
       "model_id": "b5713be261d04d25a7e4a3472b3fcaf7",
       "version_major": 2,
       "version_minor": 0
      },
      "text/plain": [
       "  0%|          | 0/10000 [00:00<?, ?it/s]"
      ]
     },
     "metadata": {},
     "output_type": "display_data"
    },
    {
     "name": "stderr",
     "output_type": "stream",
     "text": [
      "[11:11:54] WARNING: not removing hydrogen atom without neighbors\n",
      "[11:11:56] WARNING: not removing hydrogen atom without neighbors\n",
      "[11:12:01] WARNING: not removing hydrogen atom without neighbors\n",
      "[11:12:01] WARNING: not removing hydrogen atom without neighbors\n",
      "[11:12:01] WARNING: not removing hydrogen atom without neighbors\n"
     ]
    },
    {
     "data": {
      "application/vnd.jupyter.widget-view+json": {
       "model_id": "35b61c8b2b1549c39f237ef5769325c3",
       "version_major": 2,
       "version_minor": 0
      },
      "text/plain": [
       "  0%|          | 0/10000 [00:00<?, ?it/s]"
      ]
     },
     "metadata": {},
     "output_type": "display_data"
    },
    {
     "name": "stderr",
     "output_type": "stream",
     "text": [
      "[11:12:04] WARNING: not removing hydrogen atom without neighbors\n",
      "[11:12:04] WARNING: not removing hydrogen atom without neighbors\n",
      "[11:12:04] WARNING: not removing hydrogen atom without neighbors\n",
      "[11:12:04] WARNING: not removing hydrogen atom without neighbors\n",
      "[11:12:05] WARNING: not removing hydrogen atom without neighbors\n",
      "[11:12:05] WARNING: not removing hydrogen atom without neighbors\n",
      "[11:12:05] WARNING: not removing hydrogen atom without neighbors\n",
      "[11:12:05] WARNING: not removing hydrogen atom without neighbors\n",
      "[11:12:05] WARNING: not removing hydrogen atom without neighbors\n",
      "[11:12:05] WARNING: not removing hydrogen atom without neighbors\n"
     ]
    },
    {
     "data": {
      "application/vnd.jupyter.widget-view+json": {
       "model_id": "8d911c48aefa4e068c4c638670caf608",
       "version_major": 2,
       "version_minor": 0
      },
      "text/plain": [
       "  0%|          | 0/10000 [00:00<?, ?it/s]"
      ]
     },
     "metadata": {},
     "output_type": "display_data"
    },
    {
     "name": "stderr",
     "output_type": "stream",
     "text": [
      "[11:12:10] WARNING: not removing hydrogen atom without neighbors\n",
      "[11:12:11] WARNING: not removing hydrogen atom without neighbors\n",
      "[11:12:16] WARNING: not removing hydrogen atom without neighbors\n",
      "[11:12:16] WARNING: not removing hydrogen atom without neighbors\n",
      "[11:12:16] WARNING: not removing hydrogen atom without neighbors\n"
     ]
    },
    {
     "data": {
      "application/vnd.jupyter.widget-view+json": {
       "model_id": "7c52c0bbe83e47e0a591d404727bf7fe",
       "version_major": 2,
       "version_minor": 0
      },
      "text/plain": [
       "  0%|          | 0/10000 [00:00<?, ?it/s]"
      ]
     },
     "metadata": {},
     "output_type": "display_data"
    },
    {
     "data": {
      "application/vnd.jupyter.widget-view+json": {
       "model_id": "90ebd3374f254461adb24339f396111a",
       "version_major": 2,
       "version_minor": 0
      },
      "text/plain": [
       "  0%|          | 0/10000 [00:00<?, ?it/s]"
      ]
     },
     "metadata": {},
     "output_type": "display_data"
    },
    {
     "name": "stderr",
     "output_type": "stream",
     "text": [
      "[11:16:53] WARNING: not removing hydrogen atom without neighbors\n",
      "[11:16:55] WARNING: not removing hydrogen atom without neighbors\n",
      "[11:16:59] WARNING: not removing hydrogen atom without neighbors\n",
      "[11:16:59] WARNING: not removing hydrogen atom without neighbors\n",
      "[11:16:59] WARNING: not removing hydrogen atom without neighbors\n"
     ]
    },
    {
     "data": {
      "application/vnd.jupyter.widget-view+json": {
       "model_id": "2db56d5f78ef49afadc7cc5d53b896f0",
       "version_major": 2,
       "version_minor": 0
      },
      "text/plain": [
       "  0%|          | 0/10000 [00:00<?, ?it/s]"
      ]
     },
     "metadata": {},
     "output_type": "display_data"
    },
    {
     "data": {
      "application/vnd.jupyter.widget-view+json": {
       "model_id": "649f5a52f11b4511ac6d1c85fa3f61c7",
       "version_major": 2,
       "version_minor": 0
      },
      "text/plain": [
       "  0%|          | 0/10000 [00:00<?, ?it/s]"
      ]
     },
     "metadata": {},
     "output_type": "display_data"
    },
    {
     "name": "stderr",
     "output_type": "stream",
     "text": [
      "[11:17:12] WARNING: not removing hydrogen atom without neighbors\n"
     ]
    },
    {
     "data": {
      "application/vnd.jupyter.widget-view+json": {
       "model_id": "f405d9dcf1a148e996320abd77edb631",
       "version_major": 2,
       "version_minor": 0
      },
      "text/plain": [
       "  0%|          | 0/10000 [00:00<?, ?it/s]"
      ]
     },
     "metadata": {},
     "output_type": "display_data"
    },
    {
     "name": "stderr",
     "output_type": "stream",
     "text": [
      "[11:17:17] WARNING: not removing hydrogen atom without neighbors\n",
      "[11:17:17] WARNING: not removing hydrogen atom without neighbors\n"
     ]
    },
    {
     "data": {
      "application/vnd.jupyter.widget-view+json": {
       "model_id": "dfcd981c8ccb4b80a8af74f1635599a2",
       "version_major": 2,
       "version_minor": 0
      },
      "text/plain": [
       "  0%|          | 0/10000 [00:00<?, ?it/s]"
      ]
     },
     "metadata": {},
     "output_type": "display_data"
    },
    {
     "name": "stderr",
     "output_type": "stream",
     "text": [
      "[11:17:28] WARNING: not removing hydrogen atom without neighbors\n"
     ]
    },
    {
     "data": {
      "application/vnd.jupyter.widget-view+json": {
       "model_id": "8e7619fc81984844a6850d4476145dbf",
       "version_major": 2,
       "version_minor": 0
      },
      "text/plain": [
       "  0%|          | 0/10000 [00:00<?, ?it/s]"
      ]
     },
     "metadata": {},
     "output_type": "display_data"
    },
    {
     "data": {
      "application/vnd.jupyter.widget-view+json": {
       "model_id": "e46cd9cdfac24ba082b0581440a354f0",
       "version_major": 2,
       "version_minor": 0
      },
      "text/plain": [
       "  0%|          | 0/10000 [00:00<?, ?it/s]"
      ]
     },
     "metadata": {},
     "output_type": "display_data"
    },
    {
     "name": "stderr",
     "output_type": "stream",
     "text": [
      "[11:22:11] WARNING: not removing hydrogen atom without neighbors\n"
     ]
    },
    {
     "data": {
      "application/vnd.jupyter.widget-view+json": {
       "model_id": "afa953911bee48d48ab040b00c1eeb6c",
       "version_major": 2,
       "version_minor": 0
      },
      "text/plain": [
       "  0%|          | 0/10000 [00:00<?, ?it/s]"
      ]
     },
     "metadata": {},
     "output_type": "display_data"
    },
    {
     "data": {
      "application/vnd.jupyter.widget-view+json": {
       "model_id": "0241c0dfe0d24cfeab34ac66ce64ffbd",
       "version_major": 2,
       "version_minor": 0
      },
      "text/plain": [
       "  0%|          | 0/10000 [00:00<?, ?it/s]"
      ]
     },
     "metadata": {},
     "output_type": "display_data"
    },
    {
     "name": "stderr",
     "output_type": "stream",
     "text": [
      "[11:22:24] WARNING: not removing hydrogen atom without neighbors\n",
      "[11:22:27] WARNING: not removing hydrogen atom without neighbors\n"
     ]
    },
    {
     "data": {
      "application/vnd.jupyter.widget-view+json": {
       "model_id": "1f95224a1aa9412aaa03bc2b9d97f59e",
       "version_major": 2,
       "version_minor": 0
      },
      "text/plain": [
       "  0%|          | 0/10000 [00:00<?, ?it/s]"
      ]
     },
     "metadata": {},
     "output_type": "display_data"
    },
    {
     "name": "stderr",
     "output_type": "stream",
     "text": [
      "[11:22:29] WARNING: not removing hydrogen atom without neighbors\n",
      "[11:22:29] WARNING: not removing hydrogen atom without neighbors\n",
      "[11:22:29] WARNING: not removing hydrogen atom without neighbors\n",
      "[11:22:29] WARNING: not removing hydrogen atom without neighbors\n"
     ]
    },
    {
     "data": {
      "application/vnd.jupyter.widget-view+json": {
       "model_id": "b44aba70c7a44d0f867e71a1421c164d",
       "version_major": 2,
       "version_minor": 0
      },
      "text/plain": [
       "  0%|          | 0/10000 [00:00<?, ?it/s]"
      ]
     },
     "metadata": {},
     "output_type": "display_data"
    },
    {
     "name": "stderr",
     "output_type": "stream",
     "text": [
      "[11:22:39] WARNING: not removing hydrogen atom without neighbors\n",
      "[11:22:42] WARNING: not removing hydrogen atom without neighbors\n"
     ]
    },
    {
     "data": {
      "application/vnd.jupyter.widget-view+json": {
       "model_id": "f25d1dd46cf04bb6b5ec067a422e5d10",
       "version_major": 2,
       "version_minor": 0
      },
      "text/plain": [
       "  0%|          | 0/10000 [00:00<?, ?it/s]"
      ]
     },
     "metadata": {},
     "output_type": "display_data"
    },
    {
     "data": {
      "application/vnd.jupyter.widget-view+json": {
       "model_id": "8d1b11c4a8d94199a3ab5f25898ae8ce",
       "version_major": 2,
       "version_minor": 0
      },
      "text/plain": [
       "  0%|          | 0/10000 [00:00<?, ?it/s]"
      ]
     },
     "metadata": {},
     "output_type": "display_data"
    },
    {
     "name": "stderr",
     "output_type": "stream",
     "text": [
      "[11:27:22] WARNING: not removing hydrogen atom without neighbors\n",
      "[11:27:25] WARNING: not removing hydrogen atom without neighbors\n"
     ]
    },
    {
     "data": {
      "application/vnd.jupyter.widget-view+json": {
       "model_id": "47ab7cdc87c444c792514fe30885ad4d",
       "version_major": 2,
       "version_minor": 0
      },
      "text/plain": [
       "  0%|          | 0/10000 [00:00<?, ?it/s]"
      ]
     },
     "metadata": {},
     "output_type": "display_data"
    },
    {
     "data": {
      "application/vnd.jupyter.widget-view+json": {
       "model_id": "dafdb7711b024d4d9378d4ad4ad239a2",
       "version_major": 2,
       "version_minor": 0
      },
      "text/plain": [
       "  0%|          | 0/10000 [00:00<?, ?it/s]"
      ]
     },
     "metadata": {},
     "output_type": "display_data"
    },
    {
     "name": "stderr",
     "output_type": "stream",
     "text": [
      "[11:27:27] WARNING: not removing hydrogen atom without neighbors\n",
      "[11:27:28] WARNING: not removing hydrogen atom without neighbors\n",
      "[11:27:29] WARNING: not removing hydrogen atom without neighbors\n",
      "[11:27:30] WARNING: not removing hydrogen atom without neighbors\n"
     ]
    },
    {
     "data": {
      "application/vnd.jupyter.widget-view+json": {
       "model_id": "26cad0b36fda4216862a46883863f370",
       "version_major": 2,
       "version_minor": 0
      },
      "text/plain": [
       "  0%|          | 0/10000 [00:00<?, ?it/s]"
      ]
     },
     "metadata": {},
     "output_type": "display_data"
    },
    {
     "name": "stderr",
     "output_type": "stream",
     "text": [
      "[11:27:39] WARNING: not removing hydrogen atom without neighbors\n",
      "[11:27:39] WARNING: not removing hydrogen atom without neighbors\n",
      "[11:27:40] WARNING: not removing hydrogen atom without neighbors\n",
      "[11:27:40] WARNING: not removing hydrogen atom without neighbors\n",
      "[11:27:40] WARNING: not removing hydrogen atom without neighbors\n",
      "[11:27:40] WARNING: not removing hydrogen atom without neighbors\n",
      "[11:27:40] WARNING: not removing hydrogen atom without neighbors\n",
      "[11:27:40] WARNING: not removing hydrogen atom without neighbors\n"
     ]
    },
    {
     "data": {
      "application/vnd.jupyter.widget-view+json": {
       "model_id": "d0c2e84d9f56426285d4b604960beb80",
       "version_major": 2,
       "version_minor": 0
      },
      "text/plain": [
       "  0%|          | 0/10000 [00:00<?, ?it/s]"
      ]
     },
     "metadata": {},
     "output_type": "display_data"
    },
    {
     "name": "stderr",
     "output_type": "stream",
     "text": [
      "[11:27:43] WARNING: not removing hydrogen atom without neighbors\n",
      "[11:27:44] WARNING: not removing hydrogen atom without neighbors\n",
      "[11:27:45] WARNING: not removing hydrogen atom without neighbors\n",
      "[11:27:46] WARNING: not removing hydrogen atom without neighbors\n"
     ]
    },
    {
     "data": {
      "application/vnd.jupyter.widget-view+json": {
       "model_id": "3b446bd29ca145c38acba8818373cfb5",
       "version_major": 2,
       "version_minor": 0
      },
      "text/plain": [
       "  0%|          | 0/10000 [00:00<?, ?it/s]"
      ]
     },
     "metadata": {},
     "output_type": "display_data"
    },
    {
     "data": {
      "application/vnd.jupyter.widget-view+json": {
       "model_id": "450b258cdded4b928d6486df2c370be6",
       "version_major": 2,
       "version_minor": 0
      },
      "text/plain": [
       "  0%|          | 0/10000 [00:00<?, ?it/s]"
      ]
     },
     "metadata": {},
     "output_type": "display_data"
    },
    {
     "name": "stderr",
     "output_type": "stream",
     "text": [
      "[11:32:39] WARNING: not removing hydrogen atom without neighbors\n",
      "[11:32:40] WARNING: not removing hydrogen atom without neighbors\n",
      "[11:32:41] WARNING: not removing hydrogen atom without neighbors\n",
      "[11:32:42] WARNING: not removing hydrogen atom without neighbors\n"
     ]
    },
    {
     "data": {
      "application/vnd.jupyter.widget-view+json": {
       "model_id": "f4508f235d0644a9a8eeed58d9d6711a",
       "version_major": 2,
       "version_minor": 0
      },
      "text/plain": [
       "  0%|          | 0/10000 [00:00<?, ?it/s]"
      ]
     },
     "metadata": {},
     "output_type": "display_data"
    },
    {
     "data": {
      "application/vnd.jupyter.widget-view+json": {
       "model_id": "71c94a1251fb434a9a864b50c3beaec5",
       "version_major": 2,
       "version_minor": 0
      },
      "text/plain": [
       "  0%|          | 0/10000 [00:00<?, ?it/s]"
      ]
     },
     "metadata": {},
     "output_type": "display_data"
    },
    {
     "name": "stderr",
     "output_type": "stream",
     "text": [
      "[11:32:55] WARNING: not removing hydrogen atom without neighbors\n",
      "[11:32:57] WARNING: not removing hydrogen atom without neighbors\n"
     ]
    },
    {
     "data": {
      "application/vnd.jupyter.widget-view+json": {
       "model_id": "cd3041232be143de9ba6c583a9ee0d89",
       "version_major": 2,
       "version_minor": 0
      },
      "text/plain": [
       "  0%|          | 0/10000 [00:00<?, ?it/s]"
      ]
     },
     "metadata": {},
     "output_type": "display_data"
    },
    {
     "name": "stderr",
     "output_type": "stream",
     "text": [
      "[11:33:04] WARNING: not removing hydrogen atom without neighbors\n",
      "[11:33:04] WARNING: not removing hydrogen atom without neighbors\n",
      "[11:33:05] WARNING: not removing hydrogen atom without neighbors\n",
      "[11:33:05] WARNING: not removing hydrogen atom without neighbors\n"
     ]
    },
    {
     "data": {
      "application/vnd.jupyter.widget-view+json": {
       "model_id": "9c3c01b8268f4b07ab84d2ed7c318cd1",
       "version_major": 2,
       "version_minor": 0
      },
      "text/plain": [
       "  0%|          | 0/10000 [00:00<?, ?it/s]"
      ]
     },
     "metadata": {},
     "output_type": "display_data"
    },
    {
     "name": "stderr",
     "output_type": "stream",
     "text": [
      "[11:33:09] WARNING: not removing hydrogen atom without neighbors\n",
      "[11:33:12] WARNING: not removing hydrogen atom without neighbors\n"
     ]
    },
    {
     "data": {
      "application/vnd.jupyter.widget-view+json": {
       "model_id": "b0143227054c4b97b75cebb0f73ff200",
       "version_major": 2,
       "version_minor": 0
      },
      "text/plain": [
       "  0%|          | 0/10000 [00:00<?, ?it/s]"
      ]
     },
     "metadata": {},
     "output_type": "display_data"
    },
    {
     "data": {
      "application/vnd.jupyter.widget-view+json": {
       "model_id": "6a9ba58883fe49519d8c8b1322a4a2d7",
       "version_major": 2,
       "version_minor": 0
      },
      "text/plain": [
       "  0%|          | 0/10000 [00:00<?, ?it/s]"
      ]
     },
     "metadata": {},
     "output_type": "display_data"
    },
    {
     "name": "stderr",
     "output_type": "stream",
     "text": [
      "[11:38:05] WARNING: not removing hydrogen atom without neighbors\n",
      "[11:38:08] WARNING: not removing hydrogen atom without neighbors\n"
     ]
    },
    {
     "data": {
      "application/vnd.jupyter.widget-view+json": {
       "model_id": "cc8e1cc41f734003ba875222592e7fdb",
       "version_major": 2,
       "version_minor": 0
      },
      "text/plain": [
       "  0%|          | 0/10000 [00:00<?, ?it/s]"
      ]
     },
     "metadata": {},
     "output_type": "display_data"
    },
    {
     "data": {
      "application/vnd.jupyter.widget-view+json": {
       "model_id": "9a7228394da7497fa60190fa94aff9be",
       "version_major": 2,
       "version_minor": 0
      },
      "text/plain": [
       "  0%|          | 0/10000 [00:00<?, ?it/s]"
      ]
     },
     "metadata": {},
     "output_type": "display_data"
    },
    {
     "data": {
      "application/vnd.jupyter.widget-view+json": {
       "model_id": "092e0c7b79f5455fb5b9c90e3937a604",
       "version_major": 2,
       "version_minor": 0
      },
      "text/plain": [
       "  0%|          | 0/10000 [00:00<?, ?it/s]"
      ]
     },
     "metadata": {},
     "output_type": "display_data"
    },
    {
     "data": {
      "application/vnd.jupyter.widget-view+json": {
       "model_id": "449c4965c7134dbc83d2efff3ea3605a",
       "version_major": 2,
       "version_minor": 0
      },
      "text/plain": [
       "  0%|          | 0/10000 [00:00<?, ?it/s]"
      ]
     },
     "metadata": {},
     "output_type": "display_data"
    },
    {
     "data": {
      "application/vnd.jupyter.widget-view+json": {
       "model_id": "7face7f20d5a4567902966a5ea4d7c8c",
       "version_major": 2,
       "version_minor": 0
      },
      "text/plain": [
       "  0%|          | 0/10000 [00:00<?, ?it/s]"
      ]
     },
     "metadata": {},
     "output_type": "display_data"
    },
    {
     "data": {
      "application/vnd.jupyter.widget-view+json": {
       "model_id": "dfd2982952c14eae9bd8172673764feb",
       "version_major": 2,
       "version_minor": 0
      },
      "text/plain": [
       "  0%|          | 0/10000 [00:00<?, ?it/s]"
      ]
     },
     "metadata": {},
     "output_type": "display_data"
    },
    {
     "data": {
      "application/vnd.jupyter.widget-view+json": {
       "model_id": "4d855a63b4564760a10cfa44c6a903dd",
       "version_major": 2,
       "version_minor": 0
      },
      "text/plain": [
       "  0%|          | 0/10000 [00:00<?, ?it/s]"
      ]
     },
     "metadata": {},
     "output_type": "display_data"
    },
    {
     "data": {
      "application/vnd.jupyter.widget-view+json": {
       "model_id": "816187b2a4df4998b514c616116cc2b3",
       "version_major": 2,
       "version_minor": 0
      },
      "text/plain": [
       "  0%|          | 0/10000 [00:00<?, ?it/s]"
      ]
     },
     "metadata": {},
     "output_type": "display_data"
    },
    {
     "name": "stderr",
     "output_type": "stream",
     "text": [
      "[11:43:53] WARNING: not removing hydrogen atom without neighbors\n"
     ]
    },
    {
     "data": {
      "application/vnd.jupyter.widget-view+json": {
       "model_id": "a44a7dbd154b4f9d8936cfccf28cfac9",
       "version_major": 2,
       "version_minor": 0
      },
      "text/plain": [
       "  0%|          | 0/10000 [00:00<?, ?it/s]"
      ]
     },
     "metadata": {},
     "output_type": "display_data"
    },
    {
     "name": "stderr",
     "output_type": "stream",
     "text": [
      "[11:44:02] WARNING: not removing hydrogen atom without neighbors\n",
      "[11:44:02] WARNING: not removing hydrogen atom without neighbors\n"
     ]
    },
    {
     "data": {
      "application/vnd.jupyter.widget-view+json": {
       "model_id": "b8c3131d142243b2b9b60a9fff432a24",
       "version_major": 2,
       "version_minor": 0
      },
      "text/plain": [
       "  0%|          | 0/10000 [00:00<?, ?it/s]"
      ]
     },
     "metadata": {},
     "output_type": "display_data"
    },
    {
     "name": "stderr",
     "output_type": "stream",
     "text": [
      "[11:44:08] WARNING: not removing hydrogen atom without neighbors\n"
     ]
    },
    {
     "data": {
      "application/vnd.jupyter.widget-view+json": {
       "model_id": "7f559c919dce4817a1c9036597c55d24",
       "version_major": 2,
       "version_minor": 0
      },
      "text/plain": [
       "  0%|          | 0/10000 [00:00<?, ?it/s]"
      ]
     },
     "metadata": {},
     "output_type": "display_data"
    },
    {
     "data": {
      "application/vnd.jupyter.widget-view+json": {
       "model_id": "40c90e41263a4c1f8cbf7d7e99b9da7e",
       "version_major": 2,
       "version_minor": 0
      },
      "text/plain": [
       "  0%|          | 0/10000 [00:00<?, ?it/s]"
      ]
     },
     "metadata": {},
     "output_type": "display_data"
    },
    {
     "name": "stderr",
     "output_type": "stream",
     "text": [
      "[11:49:01] WARNING: not removing hydrogen atom without neighbors\n"
     ]
    },
    {
     "data": {
      "application/vnd.jupyter.widget-view+json": {
       "model_id": "04faf3c8b302432ebf33927ab0ba1cc2",
       "version_major": 2,
       "version_minor": 0
      },
      "text/plain": [
       "  0%|          | 0/10000 [00:00<?, ?it/s]"
      ]
     },
     "metadata": {},
     "output_type": "display_data"
    },
    {
     "data": {
      "application/vnd.jupyter.widget-view+json": {
       "model_id": "81a1aa2e4a764dd8a692b574d5d94831",
       "version_major": 2,
       "version_minor": 0
      },
      "text/plain": [
       "  0%|          | 0/10000 [00:00<?, ?it/s]"
      ]
     },
     "metadata": {},
     "output_type": "display_data"
    },
    {
     "name": "stderr",
     "output_type": "stream",
     "text": [
      "[11:49:11] WARNING: not removing hydrogen atom without neighbors\n",
      "[11:49:12] WARNING: not removing hydrogen atom without neighbors\n",
      "[11:49:16] WARNING: not removing hydrogen atom without neighbors\n",
      "[11:49:17] WARNING: not removing hydrogen atom without neighbors\n"
     ]
    },
    {
     "data": {
      "application/vnd.jupyter.widget-view+json": {
       "model_id": "af171d302e81447db2d8fa23fd469d9e",
       "version_major": 2,
       "version_minor": 0
      },
      "text/plain": [
       "  0%|          | 0/10000 [00:00<?, ?it/s]"
      ]
     },
     "metadata": {},
     "output_type": "display_data"
    },
    {
     "name": "stderr",
     "output_type": "stream",
     "text": [
      "[11:49:22] WARNING: not removing hydrogen atom without neighbors\n",
      "[11:49:22] WARNING: not removing hydrogen atom without neighbors\n",
      "[11:49:22] WARNING: not removing hydrogen atom without neighbors\n",
      "[11:49:22] WARNING: not removing hydrogen atom without neighbors\n",
      "[11:49:23] WARNING: not removing hydrogen atom without neighbors\n",
      "[11:49:23] WARNING: not removing hydrogen atom without neighbors\n",
      "[11:49:23] WARNING: not removing hydrogen atom without neighbors\n",
      "[11:49:23] WARNING: not removing hydrogen atom without neighbors\n"
     ]
    },
    {
     "data": {
      "application/vnd.jupyter.widget-view+json": {
       "model_id": "2aec09ffc4414d1d97f3f5ad03561c4b",
       "version_major": 2,
       "version_minor": 0
      },
      "text/plain": [
       "  0%|          | 0/10000 [00:00<?, ?it/s]"
      ]
     },
     "metadata": {},
     "output_type": "display_data"
    },
    {
     "name": "stderr",
     "output_type": "stream",
     "text": [
      "[11:49:25] WARNING: not removing hydrogen atom without neighbors\n",
      "[11:49:27] WARNING: not removing hydrogen atom without neighbors\n",
      "[11:49:31] WARNING: not removing hydrogen atom without neighbors\n",
      "[11:49:32] WARNING: not removing hydrogen atom without neighbors\n"
     ]
    },
    {
     "data": {
      "application/vnd.jupyter.widget-view+json": {
       "model_id": "0b3d20a9fc464d16a51a8a5bf47a0781",
       "version_major": 2,
       "version_minor": 0
      },
      "text/plain": [
       "  0%|          | 0/10000 [00:00<?, ?it/s]"
      ]
     },
     "metadata": {},
     "output_type": "display_data"
    },
    {
     "data": {
      "application/vnd.jupyter.widget-view+json": {
       "model_id": "92aae7ddc7804ab7b6dfb0bc7050c83f",
       "version_major": 2,
       "version_minor": 0
      },
      "text/plain": [
       "  0%|          | 0/10000 [00:00<?, ?it/s]"
      ]
     },
     "metadata": {},
     "output_type": "display_data"
    },
    {
     "name": "stderr",
     "output_type": "stream",
     "text": [
      "[11:54:17] WARNING: not removing hydrogen atom without neighbors\n",
      "[11:54:19] WARNING: not removing hydrogen atom without neighbors\n",
      "[11:54:23] WARNING: not removing hydrogen atom without neighbors\n",
      "[11:54:24] WARNING: not removing hydrogen atom without neighbors\n"
     ]
    },
    {
     "data": {
      "application/vnd.jupyter.widget-view+json": {
       "model_id": "6372e67ac3f24ab0a5c4fb54e0ef290c",
       "version_major": 2,
       "version_minor": 0
      },
      "text/plain": [
       "  0%|          | 0/10000 [00:00<?, ?it/s]"
      ]
     },
     "metadata": {},
     "output_type": "display_data"
    },
    {
     "data": {
      "application/vnd.jupyter.widget-view+json": {
       "model_id": "f468913d8fd5455fae29eac60527e966",
       "version_major": 2,
       "version_minor": 0
      },
      "text/plain": [
       "  0%|          | 0/10000 [00:00<?, ?it/s]"
      ]
     },
     "metadata": {},
     "output_type": "display_data"
    },
    {
     "name": "stderr",
     "output_type": "stream",
     "text": [
      "[11:54:30] WARNING: not removing hydrogen atom without neighbors\n",
      "[11:54:37] WARNING: not removing hydrogen atom without neighbors\n"
     ]
    },
    {
     "data": {
      "application/vnd.jupyter.widget-view+json": {
       "model_id": "b2ba4454cf0244438d08112d926d19d6",
       "version_major": 2,
       "version_minor": 0
      },
      "text/plain": [
       "  0%|          | 0/10000 [00:00<?, ?it/s]"
      ]
     },
     "metadata": {},
     "output_type": "display_data"
    },
    {
     "name": "stderr",
     "output_type": "stream",
     "text": [
      "[11:54:42] WARNING: not removing hydrogen atom without neighbors\n",
      "[11:54:42] WARNING: not removing hydrogen atom without neighbors\n",
      "[11:54:43] WARNING: not removing hydrogen atom without neighbors\n",
      "[11:54:43] WARNING: not removing hydrogen atom without neighbors\n"
     ]
    },
    {
     "data": {
      "application/vnd.jupyter.widget-view+json": {
       "model_id": "160db731630444c0bf896a5daeba1bd8",
       "version_major": 2,
       "version_minor": 0
      },
      "text/plain": [
       "  0%|          | 0/10000 [00:00<?, ?it/s]"
      ]
     },
     "metadata": {},
     "output_type": "display_data"
    },
    {
     "name": "stderr",
     "output_type": "stream",
     "text": [
      "[11:54:45] WARNING: not removing hydrogen atom without neighbors\n",
      "[11:54:52] WARNING: not removing hydrogen atom without neighbors\n"
     ]
    },
    {
     "data": {
      "application/vnd.jupyter.widget-view+json": {
       "model_id": "023f00072e2f45299560d7f63a125cb5",
       "version_major": 2,
       "version_minor": 0
      },
      "text/plain": [
       "  0%|          | 0/10000 [00:00<?, ?it/s]"
      ]
     },
     "metadata": {},
     "output_type": "display_data"
    },
    {
     "data": {
      "application/vnd.jupyter.widget-view+json": {
       "model_id": "f612c0adcedd489d98085187f1367a9f",
       "version_major": 2,
       "version_minor": 0
      },
      "text/plain": [
       "  0%|          | 0/10000 [00:00<?, ?it/s]"
      ]
     },
     "metadata": {},
     "output_type": "display_data"
    },
    {
     "name": "stderr",
     "output_type": "stream",
     "text": [
      "[11:59:38] WARNING: not removing hydrogen atom without neighbors\n",
      "[11:59:44] WARNING: not removing hydrogen atom without neighbors\n"
     ]
    },
    {
     "data": {
      "application/vnd.jupyter.widget-view+json": {
       "model_id": "4e19c2cbb01e4658b205af4741314d98",
       "version_major": 2,
       "version_minor": 0
      },
      "text/plain": [
       "  0%|          | 0/10000 [00:00<?, ?it/s]"
      ]
     },
     "metadata": {},
     "output_type": "display_data"
    },
    {
     "data": {
      "application/vnd.jupyter.widget-view+json": {
       "model_id": "377fda5f1d1746a7a938085ae1ca203e",
       "version_major": 2,
       "version_minor": 0
      },
      "text/plain": [
       "  0%|          | 0/10000 [00:00<?, ?it/s]"
      ]
     },
     "metadata": {},
     "output_type": "display_data"
    },
    {
     "name": "stderr",
     "output_type": "stream",
     "text": [
      "[12:00:02] WARNING: not removing hydrogen atom without neighbors\n",
      "[12:00:02] WARNING: not removing hydrogen atom without neighbors\n"
     ]
    },
    {
     "data": {
      "application/vnd.jupyter.widget-view+json": {
       "model_id": "604869f55ef04247932e4af7e3d78a2f",
       "version_major": 2,
       "version_minor": 0
      },
      "text/plain": [
       "  0%|          | 0/10000 [00:00<?, ?it/s]"
      ]
     },
     "metadata": {},
     "output_type": "display_data"
    },
    {
     "name": "stderr",
     "output_type": "stream",
     "text": [
      "[12:00:04] WARNING: not removing hydrogen atom without neighbors\n",
      "[12:00:04] WARNING: not removing hydrogen atom without neighbors\n",
      "[12:00:04] WARNING: not removing hydrogen atom without neighbors\n",
      "[12:00:04] WARNING: not removing hydrogen atom without neighbors\n"
     ]
    },
    {
     "data": {
      "application/vnd.jupyter.widget-view+json": {
       "model_id": "96bdcc436a6047839c06632da4ef7a79",
       "version_major": 2,
       "version_minor": 0
      },
      "text/plain": [
       "  0%|          | 0/10000 [00:00<?, ?it/s]"
      ]
     },
     "metadata": {},
     "output_type": "display_data"
    },
    {
     "name": "stderr",
     "output_type": "stream",
     "text": [
      "[12:00:16] WARNING: not removing hydrogen atom without neighbors\n",
      "[12:00:17] WARNING: not removing hydrogen atom without neighbors\n"
     ]
    },
    {
     "data": {
      "application/vnd.jupyter.widget-view+json": {
       "model_id": "126519183dd546f8b3d5b3f5883da266",
       "version_major": 2,
       "version_minor": 0
      },
      "text/plain": [
       "  0%|          | 0/10000 [00:00<?, ?it/s]"
      ]
     },
     "metadata": {},
     "output_type": "display_data"
    },
    {
     "data": {
      "application/vnd.jupyter.widget-view+json": {
       "model_id": "e2f876d3ed9547679bfc7ec3c8a25854",
       "version_major": 2,
       "version_minor": 0
      },
      "text/plain": [
       "  0%|          | 0/10000 [00:00<?, ?it/s]"
      ]
     },
     "metadata": {},
     "output_type": "display_data"
    },
    {
     "name": "stderr",
     "output_type": "stream",
     "text": [
      "[12:05:19] WARNING: not removing hydrogen atom without neighbors\n",
      "[12:05:20] WARNING: not removing hydrogen atom without neighbors\n"
     ]
    },
    {
     "data": {
      "application/vnd.jupyter.widget-view+json": {
       "model_id": "06a0b33dccba4fab87a783616f5aeab9",
       "version_major": 2,
       "version_minor": 0
      },
      "text/plain": [
       "  0%|          | 0/10000 [00:00<?, ?it/s]"
      ]
     },
     "metadata": {},
     "output_type": "display_data"
    },
    {
     "data": {
      "application/vnd.jupyter.widget-view+json": {
       "model_id": "d6e80e71da8b47c7a428e4e8688eabc0",
       "version_major": 2,
       "version_minor": 0
      },
      "text/plain": [
       "  0%|          | 0/10000 [00:00<?, ?it/s]"
      ]
     },
     "metadata": {},
     "output_type": "display_data"
    },
    {
     "data": {
      "application/vnd.jupyter.widget-view+json": {
       "model_id": "dce01136dddf4b659ce505a69320baca",
       "version_major": 2,
       "version_minor": 0
      },
      "text/plain": [
       "  0%|          | 0/10000 [00:00<?, ?it/s]"
      ]
     },
     "metadata": {},
     "output_type": "display_data"
    },
    {
     "data": {
      "application/vnd.jupyter.widget-view+json": {
       "model_id": "2c39c97fdcec479aa4e6b1639335f1e6",
       "version_major": 2,
       "version_minor": 0
      },
      "text/plain": [
       "  0%|          | 0/10000 [00:00<?, ?it/s]"
      ]
     },
     "metadata": {},
     "output_type": "display_data"
    },
    {
     "data": {
      "application/vnd.jupyter.widget-view+json": {
       "model_id": "fe8327e74b174a769b0b30ea927c822b",
       "version_major": 2,
       "version_minor": 0
      },
      "text/plain": [
       "  0%|          | 0/10000 [00:00<?, ?it/s]"
      ]
     },
     "metadata": {},
     "output_type": "display_data"
    },
    {
     "data": {
      "application/vnd.jupyter.widget-view+json": {
       "model_id": "1079975b91004242a6f231532c56a997",
       "version_major": 2,
       "version_minor": 0
      },
      "text/plain": [
       "  0%|          | 0/10000 [00:00<?, ?it/s]"
      ]
     },
     "metadata": {},
     "output_type": "display_data"
    },
    {
     "data": {
      "application/vnd.jupyter.widget-view+json": {
       "model_id": "6c405265863f44259f04bf727922c241",
       "version_major": 2,
       "version_minor": 0
      },
      "text/plain": [
       "  0%|          | 0/10000 [00:00<?, ?it/s]"
      ]
     },
     "metadata": {},
     "output_type": "display_data"
    },
    {
     "data": {
      "application/vnd.jupyter.widget-view+json": {
       "model_id": "041ff3b4569d4a298d257babcda9726e",
       "version_major": 2,
       "version_minor": 0
      },
      "text/plain": [
       "  0%|          | 0/10000 [00:00<?, ?it/s]"
      ]
     },
     "metadata": {},
     "output_type": "display_data"
    },
    {
     "name": "stderr",
     "output_type": "stream",
     "text": [
      "[12:10:47] WARNING: not removing hydrogen atom without neighbors\n",
      "[12:10:48] WARNING: not removing hydrogen atom without neighbors\n"
     ]
    },
    {
     "data": {
      "application/vnd.jupyter.widget-view+json": {
       "model_id": "c98d287c052e46538f330a3321ec9ba3",
       "version_major": 2,
       "version_minor": 0
      },
      "text/plain": [
       "  0%|          | 0/10000 [00:00<?, ?it/s]"
      ]
     },
     "metadata": {},
     "output_type": "display_data"
    },
    {
     "name": "stderr",
     "output_type": "stream",
     "text": [
      "[12:10:53] WARNING: not removing hydrogen atom without neighbors\n",
      "[12:10:53] WARNING: not removing hydrogen atom without neighbors\n",
      "[12:10:53] WARNING: not removing hydrogen atom without neighbors\n",
      "[12:10:53] WARNING: not removing hydrogen atom without neighbors\n"
     ]
    },
    {
     "data": {
      "application/vnd.jupyter.widget-view+json": {
       "model_id": "894ae739be8e45e9a270649992d8adb5",
       "version_major": 2,
       "version_minor": 0
      },
      "text/plain": [
       "  0%|          | 0/10000 [00:00<?, ?it/s]"
      ]
     },
     "metadata": {},
     "output_type": "display_data"
    },
    {
     "name": "stderr",
     "output_type": "stream",
     "text": [
      "[12:43:02] WARNING: not removing hydrogen atom without neighbors\n",
      "[12:43:03] WARNING: not removing hydrogen atom without neighbors\n"
     ]
    },
    {
     "data": {
      "application/vnd.jupyter.widget-view+json": {
       "model_id": "46d4ebd307da425b93b58700f26a8450",
       "version_major": 2,
       "version_minor": 0
      },
      "text/plain": [
       "  0%|          | 0/10000 [00:00<?, ?it/s]"
      ]
     },
     "metadata": {},
     "output_type": "display_data"
    },
    {
     "data": {
      "application/vnd.jupyter.widget-view+json": {
       "model_id": "3711b4b277f24b4799092f52394944da",
       "version_major": 2,
       "version_minor": 0
      },
      "text/plain": [
       "  0%|          | 0/10000 [00:00<?, ?it/s]"
      ]
     },
     "metadata": {},
     "output_type": "display_data"
    },
    {
     "name": "stderr",
     "output_type": "stream",
     "text": [
      "[13:10:45] WARNING: not removing hydrogen atom without neighbors\n",
      "[13:10:47] WARNING: not removing hydrogen atom without neighbors\n"
     ]
    },
    {
     "data": {
      "application/vnd.jupyter.widget-view+json": {
       "model_id": "d01d192a955c4cfb925da989fd087edd",
       "version_major": 2,
       "version_minor": 0
      },
      "text/plain": [
       "  0%|          | 0/10000 [00:00<?, ?it/s]"
      ]
     },
     "metadata": {},
     "output_type": "display_data"
    },
    {
     "data": {
      "application/vnd.jupyter.widget-view+json": {
       "model_id": "bb086d8df81740f7bac7936d8afd4154",
       "version_major": 2,
       "version_minor": 0
      },
      "text/plain": [
       "  0%|          | 0/10000 [00:00<?, ?it/s]"
      ]
     },
     "metadata": {},
     "output_type": "display_data"
    },
    {
     "name": "stderr",
     "output_type": "stream",
     "text": [
      "[13:10:57] WARNING: not removing hydrogen atom without neighbors\n",
      "[13:10:57] WARNING: not removing hydrogen atom without neighbors\n",
      "[13:10:57] WARNING: not removing hydrogen atom without neighbors\n"
     ]
    },
    {
     "data": {
      "application/vnd.jupyter.widget-view+json": {
       "model_id": "04dbf7bc33a244789a017fa59819b999",
       "version_major": 2,
       "version_minor": 0
      },
      "text/plain": [
       "  0%|          | 0/10000 [00:00<?, ?it/s]"
      ]
     },
     "metadata": {},
     "output_type": "display_data"
    },
    {
     "name": "stderr",
     "output_type": "stream",
     "text": [
      "[13:11:04] WARNING: not removing hydrogen atom without neighbors\n",
      "[13:11:04] WARNING: not removing hydrogen atom without neighbors\n",
      "[13:11:04] WARNING: not removing hydrogen atom without neighbors\n",
      "[13:11:04] WARNING: not removing hydrogen atom without neighbors\n",
      "[13:11:04] WARNING: not removing hydrogen atom without neighbors\n",
      "[13:11:04] WARNING: not removing hydrogen atom without neighbors\n"
     ]
    },
    {
     "data": {
      "application/vnd.jupyter.widget-view+json": {
       "model_id": "2fa54541fcb449e5bb362c525b5b6a1b",
       "version_major": 2,
       "version_minor": 0
      },
      "text/plain": [
       "  0%|          | 0/10000 [00:00<?, ?it/s]"
      ]
     },
     "metadata": {},
     "output_type": "display_data"
    },
    {
     "name": "stderr",
     "output_type": "stream",
     "text": [
      "[13:11:12] WARNING: not removing hydrogen atom without neighbors\n",
      "[13:11:12] WARNING: not removing hydrogen atom without neighbors\n",
      "[13:11:12] WARNING: not removing hydrogen atom without neighbors\n"
     ]
    },
    {
     "data": {
      "application/vnd.jupyter.widget-view+json": {
       "model_id": "f17a70c7a9224191a9f1257686eadb44",
       "version_major": 2,
       "version_minor": 0
      },
      "text/plain": [
       "  0%|          | 0/10000 [00:00<?, ?it/s]"
      ]
     },
     "metadata": {},
     "output_type": "display_data"
    },
    {
     "data": {
      "application/vnd.jupyter.widget-view+json": {
       "model_id": "19696094c17f401084d026b005526baa",
       "version_major": 2,
       "version_minor": 0
      },
      "text/plain": [
       "  0%|          | 0/10000 [00:00<?, ?it/s]"
      ]
     },
     "metadata": {},
     "output_type": "display_data"
    },
    {
     "name": "stderr",
     "output_type": "stream",
     "text": [
      "[13:21:34] WARNING: not removing hydrogen atom without neighbors\n",
      "[13:21:34] WARNING: not removing hydrogen atom without neighbors\n",
      "[13:21:34] WARNING: not removing hydrogen atom without neighbors\n"
     ]
    },
    {
     "data": {
      "application/vnd.jupyter.widget-view+json": {
       "model_id": "ed382fa2bdba4a2fbd1f15f95966db1c",
       "version_major": 2,
       "version_minor": 0
      },
      "text/plain": [
       "  0%|          | 0/10000 [00:00<?, ?it/s]"
      ]
     },
     "metadata": {},
     "output_type": "display_data"
    },
    {
     "data": {
      "application/vnd.jupyter.widget-view+json": {
       "model_id": "0dd5d9f01cf24d11846dca9594b6ea8a",
       "version_major": 2,
       "version_minor": 0
      },
      "text/plain": [
       "  0%|          | 0/10000 [00:00<?, ?it/s]"
      ]
     },
     "metadata": {},
     "output_type": "display_data"
    },
    {
     "data": {
      "application/vnd.jupyter.widget-view+json": {
       "model_id": "05949a612b3a425daa3dc8e254e275f9",
       "version_major": 2,
       "version_minor": 0
      },
      "text/plain": [
       "  0%|          | 0/10000 [00:00<?, ?it/s]"
      ]
     },
     "metadata": {},
     "output_type": "display_data"
    },
    {
     "data": {
      "application/vnd.jupyter.widget-view+json": {
       "model_id": "de7edad6325b44acb4ddbeec1c9f3c41",
       "version_major": 2,
       "version_minor": 0
      },
      "text/plain": [
       "  0%|          | 0/10000 [00:00<?, ?it/s]"
      ]
     },
     "metadata": {},
     "output_type": "display_data"
    },
    {
     "data": {
      "application/vnd.jupyter.widget-view+json": {
       "model_id": "467bf908d6c2407cb25adc79f2a75391",
       "version_major": 2,
       "version_minor": 0
      },
      "text/plain": [
       "  0%|          | 0/10000 [00:00<?, ?it/s]"
      ]
     },
     "metadata": {},
     "output_type": "display_data"
    },
    {
     "data": {
      "application/vnd.jupyter.widget-view+json": {
       "model_id": "4543f251047b4d339486d86aa4e683f3",
       "version_major": 2,
       "version_minor": 0
      },
      "text/plain": [
       "  0%|          | 0/10000 [00:00<?, ?it/s]"
      ]
     },
     "metadata": {},
     "output_type": "display_data"
    },
    {
     "data": {
      "application/vnd.jupyter.widget-view+json": {
       "model_id": "70254af0435c4e589b6fbe59664d224e",
       "version_major": 2,
       "version_minor": 0
      },
      "text/plain": [
       "  0%|          | 0/10000 [00:00<?, ?it/s]"
      ]
     },
     "metadata": {},
     "output_type": "display_data"
    },
    {
     "data": {
      "application/vnd.jupyter.widget-view+json": {
       "model_id": "4d83865235fc4cee92bf2c2db45fbf24",
       "version_major": 2,
       "version_minor": 0
      },
      "text/plain": [
       "  0%|          | 0/10000 [00:00<?, ?it/s]"
      ]
     },
     "metadata": {},
     "output_type": "display_data"
    },
    {
     "data": {
      "application/vnd.jupyter.widget-view+json": {
       "model_id": "ad52e0ca9277451eb2e08fc680735e44",
       "version_major": 2,
       "version_minor": 0
      },
      "text/plain": [
       "  0%|          | 0/10000 [00:00<?, ?it/s]"
      ]
     },
     "metadata": {},
     "output_type": "display_data"
    },
    {
     "data": {
      "application/vnd.jupyter.widget-view+json": {
       "model_id": "38578bcb10c44bc1a4d6f035e03f5ac7",
       "version_major": 2,
       "version_minor": 0
      },
      "text/plain": [
       "  0%|          | 0/10000 [00:00<?, ?it/s]"
      ]
     },
     "metadata": {},
     "output_type": "display_data"
    },
    {
     "data": {
      "application/vnd.jupyter.widget-view+json": {
       "model_id": "04de5ac035764cea8142244e799cc4ff",
       "version_major": 2,
       "version_minor": 0
      },
      "text/plain": [
       "  0%|          | 0/10000 [00:00<?, ?it/s]"
      ]
     },
     "metadata": {},
     "output_type": "display_data"
    },
    {
     "data": {
      "application/vnd.jupyter.widget-view+json": {
       "model_id": "2cdb0756cf364af19fa2e6022ba74a5e",
       "version_major": 2,
       "version_minor": 0
      },
      "text/plain": [
       "  0%|          | 0/10000 [00:00<?, ?it/s]"
      ]
     },
     "metadata": {},
     "output_type": "display_data"
    },
    {
     "data": {
      "application/vnd.jupyter.widget-view+json": {
       "model_id": "05da7ff220974899be27146bd019d706",
       "version_major": 2,
       "version_minor": 0
      },
      "text/plain": [
       "  0%|          | 0/10000 [00:00<?, ?it/s]"
      ]
     },
     "metadata": {},
     "output_type": "display_data"
    },
    {
     "data": {
      "application/vnd.jupyter.widget-view+json": {
       "model_id": "571fe78e1145411f88bfd9796955be19",
       "version_major": 2,
       "version_minor": 0
      },
      "text/plain": [
       "  0%|          | 0/10000 [00:00<?, ?it/s]"
      ]
     },
     "metadata": {},
     "output_type": "display_data"
    },
    {
     "name": "stderr",
     "output_type": "stream",
     "text": [
      "[13:33:12] WARNING: not removing hydrogen atom without neighbors\n"
     ]
    },
    {
     "data": {
      "application/vnd.jupyter.widget-view+json": {
       "model_id": "a2adaaf5c5fc4d839f2c0ca010ba3347",
       "version_major": 2,
       "version_minor": 0
      },
      "text/plain": [
       "  0%|          | 0/10000 [00:00<?, ?it/s]"
      ]
     },
     "metadata": {},
     "output_type": "display_data"
    },
    {
     "name": "stderr",
     "output_type": "stream",
     "text": [
      "[13:33:17] WARNING: not removing hydrogen atom without neighbors\n",
      "[13:33:17] WARNING: not removing hydrogen atom without neighbors\n"
     ]
    },
    {
     "data": {
      "application/vnd.jupyter.widget-view+json": {
       "model_id": "2a065297343c497ba580135bc1e1db84",
       "version_major": 2,
       "version_minor": 0
      },
      "text/plain": [
       "  0%|          | 0/10000 [00:00<?, ?it/s]"
      ]
     },
     "metadata": {},
     "output_type": "display_data"
    },
    {
     "name": "stderr",
     "output_type": "stream",
     "text": [
      "[13:33:27] WARNING: not removing hydrogen atom without neighbors\n"
     ]
    },
    {
     "data": {
      "application/vnd.jupyter.widget-view+json": {
       "model_id": "01fad46811db4e0787d9ef4abd0e7c05",
       "version_major": 2,
       "version_minor": 0
      },
      "text/plain": [
       "  0%|          | 0/10000 [00:00<?, ?it/s]"
      ]
     },
     "metadata": {},
     "output_type": "display_data"
    },
    {
     "data": {
      "application/vnd.jupyter.widget-view+json": {
       "model_id": "6ff2809ca7814c619f9842c7844cc9b7",
       "version_major": 2,
       "version_minor": 0
      },
      "text/plain": [
       "  0%|          | 0/10000 [00:00<?, ?it/s]"
      ]
     },
     "metadata": {},
     "output_type": "display_data"
    },
    {
     "name": "stderr",
     "output_type": "stream",
     "text": [
      "[13:38:29] WARNING: not removing hydrogen atom without neighbors\n"
     ]
    },
    {
     "data": {
      "application/vnd.jupyter.widget-view+json": {
       "model_id": "494b4d9b349a45cf82b5ef8ab7cab330",
       "version_major": 2,
       "version_minor": 0
      },
      "text/plain": [
       "  0%|          | 0/10000 [00:00<?, ?it/s]"
      ]
     },
     "metadata": {},
     "output_type": "display_data"
    },
    {
     "data": {
      "application/vnd.jupyter.widget-view+json": {
       "model_id": "4663899eefc84e97a4df52bc3cac638a",
       "version_major": 2,
       "version_minor": 0
      },
      "text/plain": [
       "  0%|          | 0/10000 [00:00<?, ?it/s]"
      ]
     },
     "metadata": {},
     "output_type": "display_data"
    },
    {
     "name": "stderr",
     "output_type": "stream",
     "text": [
      "[13:38:44] WARNING: not removing hydrogen atom without neighbors\n"
     ]
    },
    {
     "data": {
      "application/vnd.jupyter.widget-view+json": {
       "model_id": "1792044ee0c14b4bab1ef592d6d906ce",
       "version_major": 2,
       "version_minor": 0
      },
      "text/plain": [
       "  0%|          | 0/10000 [00:00<?, ?it/s]"
      ]
     },
     "metadata": {},
     "output_type": "display_data"
    },
    {
     "name": "stderr",
     "output_type": "stream",
     "text": [
      "[13:38:47] WARNING: not removing hydrogen atom without neighbors\n",
      "[13:38:47] WARNING: not removing hydrogen atom without neighbors\n"
     ]
    },
    {
     "data": {
      "application/vnd.jupyter.widget-view+json": {
       "model_id": "58031eee8c4a4cb794b85f40d7b1ce99",
       "version_major": 2,
       "version_minor": 0
      },
      "text/plain": [
       "  0%|          | 0/10000 [00:00<?, ?it/s]"
      ]
     },
     "metadata": {},
     "output_type": "display_data"
    },
    {
     "name": "stderr",
     "output_type": "stream",
     "text": [
      "[13:38:59] WARNING: not removing hydrogen atom without neighbors\n"
     ]
    },
    {
     "data": {
      "application/vnd.jupyter.widget-view+json": {
       "model_id": "27d92111b0064bcf86fceccfdb833986",
       "version_major": 2,
       "version_minor": 0
      },
      "text/plain": [
       "  0%|          | 0/10000 [00:00<?, ?it/s]"
      ]
     },
     "metadata": {},
     "output_type": "display_data"
    },
    {
     "data": {
      "application/vnd.jupyter.widget-view+json": {
       "model_id": "12bad70fca424066b19891df097bdc90",
       "version_major": 2,
       "version_minor": 0
      },
      "text/plain": [
       "  0%|          | 0/10000 [00:00<?, ?it/s]"
      ]
     },
     "metadata": {},
     "output_type": "display_data"
    },
    {
     "name": "stderr",
     "output_type": "stream",
     "text": [
      "[13:44:01] WARNING: not removing hydrogen atom without neighbors\n"
     ]
    },
    {
     "data": {
      "application/vnd.jupyter.widget-view+json": {
       "model_id": "372916a2b21d435e97d11288ef503495",
       "version_major": 2,
       "version_minor": 0
      },
      "text/plain": [
       "  0%|          | 0/10000 [00:00<?, ?it/s]"
      ]
     },
     "metadata": {},
     "output_type": "display_data"
    },
    {
     "data": {
      "application/vnd.jupyter.widget-view+json": {
       "model_id": "9f50ccde767745868342bc66254b85e1",
       "version_major": 2,
       "version_minor": 0
      },
      "text/plain": [
       "  0%|          | 0/10000 [00:00<?, ?it/s]"
      ]
     },
     "metadata": {},
     "output_type": "display_data"
    },
    {
     "name": "stderr",
     "output_type": "stream",
     "text": [
      "[13:44:14] WARNING: not removing hydrogen atom without neighbors\n"
     ]
    },
    {
     "data": {
      "application/vnd.jupyter.widget-view+json": {
       "model_id": "379098d37d25446daf91227df4cac6d8",
       "version_major": 2,
       "version_minor": 0
      },
      "text/plain": [
       "  0%|          | 0/10000 [00:00<?, ?it/s]"
      ]
     },
     "metadata": {},
     "output_type": "display_data"
    },
    {
     "name": "stderr",
     "output_type": "stream",
     "text": [
      "[13:44:17] WARNING: not removing hydrogen atom without neighbors\n",
      "[13:44:17] WARNING: not removing hydrogen atom without neighbors\n"
     ]
    },
    {
     "data": {
      "application/vnd.jupyter.widget-view+json": {
       "model_id": "fe66fb068dd2460f924ab3e504d09a52",
       "version_major": 2,
       "version_minor": 0
      },
      "text/plain": [
       "  0%|          | 0/10000 [00:00<?, ?it/s]"
      ]
     },
     "metadata": {},
     "output_type": "display_data"
    },
    {
     "name": "stderr",
     "output_type": "stream",
     "text": [
      "[13:44:29] WARNING: not removing hydrogen atom without neighbors\n"
     ]
    },
    {
     "data": {
      "application/vnd.jupyter.widget-view+json": {
       "model_id": "306002f648bc472c8efb6a7ddd8ad11d",
       "version_major": 2,
       "version_minor": 0
      },
      "text/plain": [
       "  0%|          | 0/10000 [00:00<?, ?it/s]"
      ]
     },
     "metadata": {},
     "output_type": "display_data"
    },
    {
     "data": {
      "application/vnd.jupyter.widget-view+json": {
       "model_id": "7ba096dd10984f34af44e414691f9a7a",
       "version_major": 2,
       "version_minor": 0
      },
      "text/plain": [
       "  0%|          | 0/10000 [00:00<?, ?it/s]"
      ]
     },
     "metadata": {},
     "output_type": "display_data"
    },
    {
     "name": "stderr",
     "output_type": "stream",
     "text": [
      "[13:49:31] WARNING: not removing hydrogen atom without neighbors\n"
     ]
    },
    {
     "data": {
      "application/vnd.jupyter.widget-view+json": {
       "model_id": "eebab28eaf4040a3aae541e09e40433a",
       "version_major": 2,
       "version_minor": 0
      },
      "text/plain": [
       "  0%|          | 0/10000 [00:00<?, ?it/s]"
      ]
     },
     "metadata": {},
     "output_type": "display_data"
    },
    {
     "data": {
      "application/vnd.jupyter.widget-view+json": {
       "model_id": "abdc7608f410468e8fc99d789cfc6e97",
       "version_major": 2,
       "version_minor": 0
      },
      "text/plain": [
       "  0%|          | 0/10000 [00:00<?, ?it/s]"
      ]
     },
     "metadata": {},
     "output_type": "display_data"
    },
    {
     "data": {
      "application/vnd.jupyter.widget-view+json": {
       "model_id": "93bf5e42dd05463f914698c8483fe2a6",
       "version_major": 2,
       "version_minor": 0
      },
      "text/plain": [
       "  0%|          | 0/10000 [00:00<?, ?it/s]"
      ]
     },
     "metadata": {},
     "output_type": "display_data"
    },
    {
     "data": {
      "application/vnd.jupyter.widget-view+json": {
       "model_id": "ec970251a52c464c9c52c2dbb1a3501b",
       "version_major": 2,
       "version_minor": 0
      },
      "text/plain": [
       "  0%|          | 0/10000 [00:00<?, ?it/s]"
      ]
     },
     "metadata": {},
     "output_type": "display_data"
    },
    {
     "data": {
      "application/vnd.jupyter.widget-view+json": {
       "model_id": "c01abe9b83f84a1791f4175401026764",
       "version_major": 2,
       "version_minor": 0
      },
      "text/plain": [
       "  0%|          | 0/10000 [00:00<?, ?it/s]"
      ]
     },
     "metadata": {},
     "output_type": "display_data"
    },
    {
     "data": {
      "application/vnd.jupyter.widget-view+json": {
       "model_id": "9cdb1ed778674ee98ad505b74e6bbf2a",
       "version_major": 2,
       "version_minor": 0
      },
      "text/plain": [
       "  0%|          | 0/10000 [00:00<?, ?it/s]"
      ]
     },
     "metadata": {},
     "output_type": "display_data"
    },
    {
     "data": {
      "application/vnd.jupyter.widget-view+json": {
       "model_id": "408740bb94124e9489a213a9ac0c8231",
       "version_major": 2,
       "version_minor": 0
      },
      "text/plain": [
       "  0%|          | 0/10000 [00:00<?, ?it/s]"
      ]
     },
     "metadata": {},
     "output_type": "display_data"
    },
    {
     "data": {
      "application/vnd.jupyter.widget-view+json": {
       "model_id": "0d49f648d1794e3fbe7829839723e869",
       "version_major": 2,
       "version_minor": 0
      },
      "text/plain": [
       "  0%|          | 0/10000 [00:00<?, ?it/s]"
      ]
     },
     "metadata": {},
     "output_type": "display_data"
    },
    {
     "name": "stderr",
     "output_type": "stream",
     "text": [
      "[13:55:13] WARNING: not removing hydrogen atom without neighbors\n",
      "[13:55:13] WARNING: not removing hydrogen atom without neighbors\n"
     ]
    },
    {
     "data": {
      "application/vnd.jupyter.widget-view+json": {
       "model_id": "3cd121ba9b834817a219197458102e49",
       "version_major": 2,
       "version_minor": 0
      },
      "text/plain": [
       "  0%|          | 0/10000 [00:00<?, ?it/s]"
      ]
     },
     "metadata": {},
     "output_type": "display_data"
    },
    {
     "name": "stderr",
     "output_type": "stream",
     "text": [
      "[13:55:15] WARNING: not removing hydrogen atom without neighbors\n",
      "[13:55:15] WARNING: not removing hydrogen atom without neighbors\n",
      "[13:55:15] WARNING: not removing hydrogen atom without neighbors\n",
      "[13:55:15] WARNING: not removing hydrogen atom without neighbors\n"
     ]
    },
    {
     "data": {
      "application/vnd.jupyter.widget-view+json": {
       "model_id": "8c06690a283a48ff9eb1359b278a4a46",
       "version_major": 2,
       "version_minor": 0
      },
      "text/plain": [
       "  0%|          | 0/10000 [00:00<?, ?it/s]"
      ]
     },
     "metadata": {},
     "output_type": "display_data"
    },
    {
     "name": "stderr",
     "output_type": "stream",
     "text": [
      "[13:55:29] WARNING: not removing hydrogen atom without neighbors\n",
      "[13:55:29] WARNING: not removing hydrogen atom without neighbors\n"
     ]
    },
    {
     "data": {
      "application/vnd.jupyter.widget-view+json": {
       "model_id": "7917ff5480dc42af8072361e54e0cf3d",
       "version_major": 2,
       "version_minor": 0
      },
      "text/plain": [
       "  0%|          | 0/10000 [00:00<?, ?it/s]"
      ]
     },
     "metadata": {},
     "output_type": "display_data"
    },
    {
     "data": {
      "application/vnd.jupyter.widget-view+json": {
       "model_id": "12cc10afe33542aaaab02f4d207c260b",
       "version_major": 2,
       "version_minor": 0
      },
      "text/plain": [
       "  0%|          | 0/10000 [00:00<?, ?it/s]"
      ]
     },
     "metadata": {},
     "output_type": "display_data"
    },
    {
     "name": "stderr",
     "output_type": "stream",
     "text": [
      "[14:00:48] WARNING: not removing hydrogen atom without neighbors\n",
      "[14:00:48] WARNING: not removing hydrogen atom without neighbors\n"
     ]
    },
    {
     "data": {
      "application/vnd.jupyter.widget-view+json": {
       "model_id": "d3e675c6ab344233b62bc6729727db33",
       "version_major": 2,
       "version_minor": 0
      },
      "text/plain": [
       "  0%|          | 0/10000 [00:00<?, ?it/s]"
      ]
     },
     "metadata": {},
     "output_type": "display_data"
    },
    {
     "data": {
      "application/vnd.jupyter.widget-view+json": {
       "model_id": "3c834aff728649e1a5b847a39c562083",
       "version_major": 2,
       "version_minor": 0
      },
      "text/plain": [
       "  0%|          | 0/10000 [00:00<?, ?it/s]"
      ]
     },
     "metadata": {},
     "output_type": "display_data"
    },
    {
     "data": {
      "application/vnd.jupyter.widget-view+json": {
       "model_id": "184902e80b1d4cfcb85f3644173a1d5c",
       "version_major": 2,
       "version_minor": 0
      },
      "text/plain": [
       "  0%|          | 0/10000 [00:00<?, ?it/s]"
      ]
     },
     "metadata": {},
     "output_type": "display_data"
    },
    {
     "data": {
      "application/vnd.jupyter.widget-view+json": {
       "model_id": "3e2d13c3ebb44c2ea2486f87888b6c4e",
       "version_major": 2,
       "version_minor": 0
      },
      "text/plain": [
       "  0%|          | 0/10000 [00:00<?, ?it/s]"
      ]
     },
     "metadata": {},
     "output_type": "display_data"
    },
    {
     "data": {
      "application/vnd.jupyter.widget-view+json": {
       "model_id": "5dc466d8728d4baeba4e66e39563243e",
       "version_major": 2,
       "version_minor": 0
      },
      "text/plain": [
       "  0%|          | 0/10000 [00:00<?, ?it/s]"
      ]
     },
     "metadata": {},
     "output_type": "display_data"
    },
    {
     "data": {
      "application/vnd.jupyter.widget-view+json": {
       "model_id": "27615f879615432897fcca8c80406499",
       "version_major": 2,
       "version_minor": 0
      },
      "text/plain": [
       "  0%|          | 0/10000 [00:00<?, ?it/s]"
      ]
     },
     "metadata": {},
     "output_type": "display_data"
    },
    {
     "data": {
      "application/vnd.jupyter.widget-view+json": {
       "model_id": "0fc9b2da2be34c8bab6fbc70ecbd06a4",
       "version_major": 2,
       "version_minor": 0
      },
      "text/plain": [
       "  0%|          | 0/10000 [00:00<?, ?it/s]"
      ]
     },
     "metadata": {},
     "output_type": "display_data"
    },
    {
     "data": {
      "application/vnd.jupyter.widget-view+json": {
       "model_id": "06aa891d43ba40fb83282d35dccb137a",
       "version_major": 2,
       "version_minor": 0
      },
      "text/plain": [
       "  0%|          | 0/10000 [00:00<?, ?it/s]"
      ]
     },
     "metadata": {},
     "output_type": "display_data"
    },
    {
     "data": {
      "application/vnd.jupyter.widget-view+json": {
       "model_id": "98c69bb1407d4d6eadeabe3b7dc63253",
       "version_major": 2,
       "version_minor": 0
      },
      "text/plain": [
       "  0%|          | 0/10000 [00:00<?, ?it/s]"
      ]
     },
     "metadata": {},
     "output_type": "display_data"
    },
    {
     "data": {
      "application/vnd.jupyter.widget-view+json": {
       "model_id": "f7005ffb89cc4ac8914233ef4bda0acb",
       "version_major": 2,
       "version_minor": 0
      },
      "text/plain": [
       "  0%|          | 0/10000 [00:00<?, ?it/s]"
      ]
     },
     "metadata": {},
     "output_type": "display_data"
    },
    {
     "data": {
      "application/vnd.jupyter.widget-view+json": {
       "model_id": "4a8e835eadf640169e9591d6b57de94b",
       "version_major": 2,
       "version_minor": 0
      },
      "text/plain": [
       "  0%|          | 0/10000 [00:00<?, ?it/s]"
      ]
     },
     "metadata": {},
     "output_type": "display_data"
    },
    {
     "data": {
      "application/vnd.jupyter.widget-view+json": {
       "model_id": "34f5715b1187455b80c91075d4397128",
       "version_major": 2,
       "version_minor": 0
      },
      "text/plain": [
       "  0%|          | 0/10000 [00:00<?, ?it/s]"
      ]
     },
     "metadata": {},
     "output_type": "display_data"
    },
    {
     "data": {
      "application/vnd.jupyter.widget-view+json": {
       "model_id": "5adf75e2a1d24b89a6e48ee8ee3caf59",
       "version_major": 2,
       "version_minor": 0
      },
      "text/plain": [
       "  0%|          | 0/10000 [00:00<?, ?it/s]"
      ]
     },
     "metadata": {},
     "output_type": "display_data"
    },
    {
     "data": {
      "application/vnd.jupyter.widget-view+json": {
       "model_id": "084ccd53186e42a294bf6c57269e689c",
       "version_major": 2,
       "version_minor": 0
      },
      "text/plain": [
       "  0%|          | 0/10000 [00:00<?, ?it/s]"
      ]
     },
     "metadata": {},
     "output_type": "display_data"
    },
    {
     "name": "stderr",
     "output_type": "stream",
     "text": [
      "[18:51:16] WARNING: not removing hydrogen atom without neighbors\n",
      "[18:51:21] WARNING: not removing hydrogen atom without neighbors\n",
      "[18:51:21] WARNING: not removing hydrogen atom without neighbors\n",
      "[18:51:21] WARNING: not removing hydrogen atom without neighbors\n",
      "[18:51:24] WARNING: not removing hydrogen atom without neighbors\n"
     ]
    },
    {
     "data": {
      "application/vnd.jupyter.widget-view+json": {
       "model_id": "54b3eab2bddc4bd49b883b8afe642944",
       "version_major": 2,
       "version_minor": 0
      },
      "text/plain": [
       "  0%|          | 0/10000 [00:00<?, ?it/s]"
      ]
     },
     "metadata": {},
     "output_type": "display_data"
    },
    {
     "name": "stderr",
     "output_type": "stream",
     "text": [
      "[18:51:25] WARNING: not removing hydrogen atom without neighbors\n",
      "[18:51:25] WARNING: not removing hydrogen atom without neighbors\n",
      "[18:51:26] WARNING: not removing hydrogen atom without neighbors\n",
      "[18:51:26] WARNING: not removing hydrogen atom without neighbors\n",
      "[18:51:26] WARNING: not removing hydrogen atom without neighbors\n",
      "[18:51:26] WARNING: not removing hydrogen atom without neighbors\n",
      "[18:51:26] WARNING: not removing hydrogen atom without neighbors\n",
      "[18:51:26] WARNING: not removing hydrogen atom without neighbors\n",
      "[18:51:26] WARNING: not removing hydrogen atom without neighbors\n",
      "[18:51:26] WARNING: not removing hydrogen atom without neighbors\n"
     ]
    },
    {
     "data": {
      "application/vnd.jupyter.widget-view+json": {
       "model_id": "4f81ee0d744246a0bada18cb509cbea3",
       "version_major": 2,
       "version_minor": 0
      },
      "text/plain": [
       "  0%|          | 0/10000 [00:00<?, ?it/s]"
      ]
     },
     "metadata": {},
     "output_type": "display_data"
    },
    {
     "name": "stderr",
     "output_type": "stream",
     "text": [
      "[18:51:32] WARNING: not removing hydrogen atom without neighbors\n",
      "[18:51:37] WARNING: not removing hydrogen atom without neighbors\n",
      "[18:51:37] WARNING: not removing hydrogen atom without neighbors\n",
      "[18:51:37] WARNING: not removing hydrogen atom without neighbors\n",
      "[18:51:40] WARNING: not removing hydrogen atom without neighbors\n"
     ]
    },
    {
     "data": {
      "application/vnd.jupyter.widget-view+json": {
       "model_id": "b77900e294d4499482fed56e8a72b01d",
       "version_major": 2,
       "version_minor": 0
      },
      "text/plain": [
       "  0%|          | 0/10000 [00:00<?, ?it/s]"
      ]
     },
     "metadata": {},
     "output_type": "display_data"
    },
    {
     "data": {
      "application/vnd.jupyter.widget-view+json": {
       "model_id": "ea3956348e3f43b99240351994f4cc4c",
       "version_major": 2,
       "version_minor": 0
      },
      "text/plain": [
       "  0%|          | 0/10000 [00:00<?, ?it/s]"
      ]
     },
     "metadata": {},
     "output_type": "display_data"
    },
    {
     "name": "stderr",
     "output_type": "stream",
     "text": [
      "[18:56:29] WARNING: not removing hydrogen atom without neighbors\n",
      "[18:56:35] WARNING: not removing hydrogen atom without neighbors\n",
      "[18:56:35] WARNING: not removing hydrogen atom without neighbors\n",
      "[18:56:35] WARNING: not removing hydrogen atom without neighbors\n",
      "[18:56:37] WARNING: not removing hydrogen atom without neighbors\n"
     ]
    },
    {
     "data": {
      "application/vnd.jupyter.widget-view+json": {
       "model_id": "6ac175281c6f4e23be3908f1a07ef922",
       "version_major": 2,
       "version_minor": 0
      },
      "text/plain": [
       "  0%|          | 0/10000 [00:00<?, ?it/s]"
      ]
     },
     "metadata": {},
     "output_type": "display_data"
    },
    {
     "data": {
      "application/vnd.jupyter.widget-view+json": {
       "model_id": "85efb619e900424da90ed9bf1bb06603",
       "version_major": 2,
       "version_minor": 0
      },
      "text/plain": [
       "  0%|          | 0/10000 [00:00<?, ?it/s]"
      ]
     },
     "metadata": {},
     "output_type": "display_data"
    },
    {
     "data": {
      "application/vnd.jupyter.widget-view+json": {
       "model_id": "0e474fd9311c41c7bf9003993ce3a62e",
       "version_major": 2,
       "version_minor": 0
      },
      "text/plain": [
       "  0%|          | 0/10000 [00:00<?, ?it/s]"
      ]
     },
     "metadata": {},
     "output_type": "display_data"
    },
    {
     "data": {
      "application/vnd.jupyter.widget-view+json": {
       "model_id": "2f461cc8ae9b46b080bbeb682973ea7a",
       "version_major": 2,
       "version_minor": 0
      },
      "text/plain": [
       "  0%|          | 0/10000 [00:00<?, ?it/s]"
      ]
     },
     "metadata": {},
     "output_type": "display_data"
    },
    {
     "data": {
      "application/vnd.jupyter.widget-view+json": {
       "model_id": "a9e737e30aea41f6a47bcbb661e6978d",
       "version_major": 2,
       "version_minor": 0
      },
      "text/plain": [
       "  0%|          | 0/10000 [00:00<?, ?it/s]"
      ]
     },
     "metadata": {},
     "output_type": "display_data"
    },
    {
     "data": {
      "application/vnd.jupyter.widget-view+json": {
       "model_id": "40a9e6820c544c4c96be039dc6b7b7b2",
       "version_major": 2,
       "version_minor": 0
      },
      "text/plain": [
       "  0%|          | 0/10000 [00:00<?, ?it/s]"
      ]
     },
     "metadata": {},
     "output_type": "display_data"
    },
    {
     "data": {
      "application/vnd.jupyter.widget-view+json": {
       "model_id": "0af987d1d07e478984ef15515a07b638",
       "version_major": 2,
       "version_minor": 0
      },
      "text/plain": [
       "  0%|          | 0/10000 [00:00<?, ?it/s]"
      ]
     },
     "metadata": {},
     "output_type": "display_data"
    },
    {
     "data": {
      "application/vnd.jupyter.widget-view+json": {
       "model_id": "b109b367be8f4938b9df7bd33877c418",
       "version_major": 2,
       "version_minor": 0
      },
      "text/plain": [
       "  0%|          | 0/10000 [00:00<?, ?it/s]"
      ]
     },
     "metadata": {},
     "output_type": "display_data"
    },
    {
     "data": {
      "application/vnd.jupyter.widget-view+json": {
       "model_id": "34d5136c9d684f80a1d458a5c3e088ae",
       "version_major": 2,
       "version_minor": 0
      },
      "text/plain": [
       "  0%|          | 0/10000 [00:00<?, ?it/s]"
      ]
     },
     "metadata": {},
     "output_type": "display_data"
    },
    {
     "data": {
      "application/vnd.jupyter.widget-view+json": {
       "model_id": "19f484de3fc148839929e6e92dfdbd7d",
       "version_major": 2,
       "version_minor": 0
      },
      "text/plain": [
       "  0%|          | 0/10000 [00:00<?, ?it/s]"
      ]
     },
     "metadata": {},
     "output_type": "display_data"
    },
    {
     "data": {
      "application/vnd.jupyter.widget-view+json": {
       "model_id": "9aa26db58ef6422ab5327b9aeca4291e",
       "version_major": 2,
       "version_minor": 0
      },
      "text/plain": [
       "  0%|          | 0/10000 [00:00<?, ?it/s]"
      ]
     },
     "metadata": {},
     "output_type": "display_data"
    },
    {
     "data": {
      "application/vnd.jupyter.widget-view+json": {
       "model_id": "ff09e29fbe6c4809a54efbcfdc5a16a8",
       "version_major": 2,
       "version_minor": 0
      },
      "text/plain": [
       "  0%|          | 0/10000 [00:00<?, ?it/s]"
      ]
     },
     "metadata": {},
     "output_type": "display_data"
    },
    {
     "data": {
      "application/vnd.jupyter.widget-view+json": {
       "model_id": "dcbc7e2df0b249f1a63c3e34af7a8da3",
       "version_major": 2,
       "version_minor": 0
      },
      "text/plain": [
       "  0%|          | 0/10000 [00:00<?, ?it/s]"
      ]
     },
     "metadata": {},
     "output_type": "display_data"
    },
    {
     "data": {
      "application/vnd.jupyter.widget-view+json": {
       "model_id": "f5d938d086af4576930092e2e59ed6a3",
       "version_major": 2,
       "version_minor": 0
      },
      "text/plain": [
       "  0%|          | 0/10000 [00:00<?, ?it/s]"
      ]
     },
     "metadata": {},
     "output_type": "display_data"
    },
    {
     "data": {
      "application/vnd.jupyter.widget-view+json": {
       "model_id": "a31def184581452aaf9b0229fd186db9",
       "version_major": 2,
       "version_minor": 0
      },
      "text/plain": [
       "  0%|          | 0/10000 [00:00<?, ?it/s]"
      ]
     },
     "metadata": {},
     "output_type": "display_data"
    },
    {
     "data": {
      "application/vnd.jupyter.widget-view+json": {
       "model_id": "7f2f3adb854440fbb16f543e462e3e6c",
       "version_major": 2,
       "version_minor": 0
      },
      "text/plain": [
       "  0%|          | 0/10000 [00:00<?, ?it/s]"
      ]
     },
     "metadata": {},
     "output_type": "display_data"
    },
    {
     "data": {
      "application/vnd.jupyter.widget-view+json": {
       "model_id": "dd9d3d30959d4707a99932d80294ece0",
       "version_major": 2,
       "version_minor": 0
      },
      "text/plain": [
       "  0%|          | 0/10000 [00:00<?, ?it/s]"
      ]
     },
     "metadata": {},
     "output_type": "display_data"
    },
    {
     "data": {
      "application/vnd.jupyter.widget-view+json": {
       "model_id": "a8814052bdfa4b95a4fec3fe87e3ca46",
       "version_major": 2,
       "version_minor": 0
      },
      "text/plain": [
       "  0%|          | 0/10000 [00:00<?, ?it/s]"
      ]
     },
     "metadata": {},
     "output_type": "display_data"
    },
    {
     "data": {
      "application/vnd.jupyter.widget-view+json": {
       "model_id": "d61880ccec0b493b9813a7d6c3311fe5",
       "version_major": 2,
       "version_minor": 0
      },
      "text/plain": [
       "  0%|          | 0/10000 [00:00<?, ?it/s]"
      ]
     },
     "metadata": {},
     "output_type": "display_data"
    },
    {
     "data": {
      "application/vnd.jupyter.widget-view+json": {
       "model_id": "7c35a035d9164c8e9c8339110183a116",
       "version_major": 2,
       "version_minor": 0
      },
      "text/plain": [
       "  0%|          | 0/10000 [00:00<?, ?it/s]"
      ]
     },
     "metadata": {},
     "output_type": "display_data"
    },
    {
     "name": "stderr",
     "output_type": "stream",
     "text": [
      "[19:13:08] WARNING: not removing hydrogen atom without neighbors\n",
      "[19:13:08] WARNING: not removing hydrogen atom without neighbors\n",
      "[19:13:08] WARNING: not removing hydrogen atom without neighbors\n",
      "[19:13:13] WARNING: not removing hydrogen atom without neighbors\n"
     ]
    },
    {
     "data": {
      "application/vnd.jupyter.widget-view+json": {
       "model_id": "45de57ceb4af46c9a9da2ee7cad4a7a7",
       "version_major": 2,
       "version_minor": 0
      },
      "text/plain": [
       "  0%|          | 0/10000 [00:00<?, ?it/s]"
      ]
     },
     "metadata": {},
     "output_type": "display_data"
    },
    {
     "name": "stderr",
     "output_type": "stream",
     "text": [
      "[19:13:17] WARNING: not removing hydrogen atom without neighbors\n",
      "[19:13:17] WARNING: not removing hydrogen atom without neighbors\n",
      "[19:13:17] WARNING: not removing hydrogen atom without neighbors\n",
      "[19:13:17] WARNING: not removing hydrogen atom without neighbors\n",
      "[19:13:17] WARNING: not removing hydrogen atom without neighbors\n",
      "[19:13:17] WARNING: not removing hydrogen atom without neighbors\n",
      "[19:13:18] WARNING: not removing hydrogen atom without neighbors\n",
      "[19:13:18] WARNING: not removing hydrogen atom without neighbors\n"
     ]
    },
    {
     "data": {
      "application/vnd.jupyter.widget-view+json": {
       "model_id": "c436f6ab55fa41469ce38670c4b00cfd",
       "version_major": 2,
       "version_minor": 0
      },
      "text/plain": [
       "  0%|          | 0/10000 [00:00<?, ?it/s]"
      ]
     },
     "metadata": {},
     "output_type": "display_data"
    },
    {
     "name": "stderr",
     "output_type": "stream",
     "text": [
      "[19:13:23] WARNING: not removing hydrogen atom without neighbors\n",
      "[19:13:23] WARNING: not removing hydrogen atom without neighbors\n",
      "[19:13:23] WARNING: not removing hydrogen atom without neighbors\n",
      "[19:13:28] WARNING: not removing hydrogen atom without neighbors\n"
     ]
    },
    {
     "data": {
      "application/vnd.jupyter.widget-view+json": {
       "model_id": "4e7b06d53237483c99fe26ee5fc6cd03",
       "version_major": 2,
       "version_minor": 0
      },
      "text/plain": [
       "  0%|          | 0/10000 [00:00<?, ?it/s]"
      ]
     },
     "metadata": {},
     "output_type": "display_data"
    },
    {
     "data": {
      "application/vnd.jupyter.widget-view+json": {
       "model_id": "beab546e4457433997d0974a1ebe796d",
       "version_major": 2,
       "version_minor": 0
      },
      "text/plain": [
       "  0%|          | 0/10000 [00:00<?, ?it/s]"
      ]
     },
     "metadata": {},
     "output_type": "display_data"
    },
    {
     "name": "stderr",
     "output_type": "stream",
     "text": [
      "[19:18:15] WARNING: not removing hydrogen atom without neighbors\n",
      "[19:18:15] WARNING: not removing hydrogen atom without neighbors\n",
      "[19:18:15] WARNING: not removing hydrogen atom without neighbors\n",
      "[19:18:21] WARNING: not removing hydrogen atom without neighbors\n"
     ]
    },
    {
     "data": {
      "application/vnd.jupyter.widget-view+json": {
       "model_id": "69f63840349d4bc18a17a2b0a2a07e13",
       "version_major": 2,
       "version_minor": 0
      },
      "text/plain": [
       "  0%|          | 0/10000 [00:00<?, ?it/s]"
      ]
     },
     "metadata": {},
     "output_type": "display_data"
    },
    {
     "data": {
      "application/vnd.jupyter.widget-view+json": {
       "model_id": "af7d5a49f33346d9b59b79f8911ef130",
       "version_major": 2,
       "version_minor": 0
      },
      "text/plain": [
       "  0%|          | 0/10000 [00:00<?, ?it/s]"
      ]
     },
     "metadata": {},
     "output_type": "display_data"
    },
    {
     "data": {
      "application/vnd.jupyter.widget-view+json": {
       "model_id": "9efc9add0f584f81b9ae0df7f2ee0438",
       "version_major": 2,
       "version_minor": 0
      },
      "text/plain": [
       "  0%|          | 0/10000 [00:00<?, ?it/s]"
      ]
     },
     "metadata": {},
     "output_type": "display_data"
    },
    {
     "data": {
      "application/vnd.jupyter.widget-view+json": {
       "model_id": "2c3d6e5f07004c11b364026eb136514d",
       "version_major": 2,
       "version_minor": 0
      },
      "text/plain": [
       "  0%|          | 0/10000 [00:00<?, ?it/s]"
      ]
     },
     "metadata": {},
     "output_type": "display_data"
    },
    {
     "data": {
      "application/vnd.jupyter.widget-view+json": {
       "model_id": "3098e24f65684d448e057ae2749be947",
       "version_major": 2,
       "version_minor": 0
      },
      "text/plain": [
       "  0%|          | 0/10000 [00:00<?, ?it/s]"
      ]
     },
     "metadata": {},
     "output_type": "display_data"
    },
    {
     "data": {
      "application/vnd.jupyter.widget-view+json": {
       "model_id": "571268c220f0481e978e035aa767c0cd",
       "version_major": 2,
       "version_minor": 0
      },
      "text/plain": [
       "  0%|          | 0/10000 [00:00<?, ?it/s]"
      ]
     },
     "metadata": {},
     "output_type": "display_data"
    },
    {
     "data": {
      "application/vnd.jupyter.widget-view+json": {
       "model_id": "06a088ed786d490b8ee3a494ffec5b6c",
       "version_major": 2,
       "version_minor": 0
      },
      "text/plain": [
       "  0%|          | 0/10000 [00:00<?, ?it/s]"
      ]
     },
     "metadata": {},
     "output_type": "display_data"
    },
    {
     "data": {
      "application/vnd.jupyter.widget-view+json": {
       "model_id": "06b68a4c5fe444a59b29fa80f63cd887",
       "version_major": 2,
       "version_minor": 0
      },
      "text/plain": [
       "  0%|          | 0/10000 [00:00<?, ?it/s]"
      ]
     },
     "metadata": {},
     "output_type": "display_data"
    },
    {
     "name": "stderr",
     "output_type": "stream",
     "text": [
      "[19:23:53] WARNING: not removing hydrogen atom without neighbors\n"
     ]
    },
    {
     "data": {
      "application/vnd.jupyter.widget-view+json": {
       "model_id": "448186302b6641f29b598f79d07876ff",
       "version_major": 2,
       "version_minor": 0
      },
      "text/plain": [
       "  0%|          | 0/10000 [00:00<?, ?it/s]"
      ]
     },
     "metadata": {},
     "output_type": "display_data"
    },
    {
     "name": "stderr",
     "output_type": "stream",
     "text": [
      "[19:24:01] WARNING: not removing hydrogen atom without neighbors\n",
      "[19:24:01] WARNING: not removing hydrogen atom without neighbors\n"
     ]
    },
    {
     "data": {
      "application/vnd.jupyter.widget-view+json": {
       "model_id": "6fdeb5fca2a7405bb560a3c8c07c6887",
       "version_major": 2,
       "version_minor": 0
      },
      "text/plain": [
       "  0%|          | 0/10000 [00:00<?, ?it/s]"
      ]
     },
     "metadata": {},
     "output_type": "display_data"
    },
    {
     "name": "stderr",
     "output_type": "stream",
     "text": [
      "[19:24:08] WARNING: not removing hydrogen atom without neighbors\n"
     ]
    },
    {
     "data": {
      "application/vnd.jupyter.widget-view+json": {
       "model_id": "2b8e068e9f0845829e962c69d8f4f046",
       "version_major": 2,
       "version_minor": 0
      },
      "text/plain": [
       "  0%|          | 0/10000 [00:00<?, ?it/s]"
      ]
     },
     "metadata": {},
     "output_type": "display_data"
    },
    {
     "data": {
      "application/vnd.jupyter.widget-view+json": {
       "model_id": "49c79b482bf0406c8d0dc6a233a537eb",
       "version_major": 2,
       "version_minor": 0
      },
      "text/plain": [
       "  0%|          | 0/10000 [00:00<?, ?it/s]"
      ]
     },
     "metadata": {},
     "output_type": "display_data"
    },
    {
     "name": "stderr",
     "output_type": "stream",
     "text": [
      "[19:29:03] WARNING: not removing hydrogen atom without neighbors\n"
     ]
    },
    {
     "data": {
      "application/vnd.jupyter.widget-view+json": {
       "model_id": "2ddfcebb870b40059426d6c913b7ad50",
       "version_major": 2,
       "version_minor": 0
      },
      "text/plain": [
       "  0%|          | 0/10000 [00:00<?, ?it/s]"
      ]
     },
     "metadata": {},
     "output_type": "display_data"
    },
    {
     "data": {
      "application/vnd.jupyter.widget-view+json": {
       "model_id": "93500112c69e4bcc8276d78af3e1467d",
       "version_major": 2,
       "version_minor": 0
      },
      "text/plain": [
       "  0%|          | 0/10000 [00:00<?, ?it/s]"
      ]
     },
     "metadata": {},
     "output_type": "display_data"
    },
    {
     "name": "stderr",
     "output_type": "stream",
     "text": [
      "[19:29:20] WARNING: not removing hydrogen atom without neighbors\n"
     ]
    },
    {
     "data": {
      "application/vnd.jupyter.widget-view+json": {
       "model_id": "b3e9b45083e14595a8c0e510cc423b65",
       "version_major": 2,
       "version_minor": 0
      },
      "text/plain": [
       "  0%|          | 0/10000 [00:00<?, ?it/s]"
      ]
     },
     "metadata": {},
     "output_type": "display_data"
    },
    {
     "name": "stderr",
     "output_type": "stream",
     "text": [
      "[19:29:24] WARNING: not removing hydrogen atom without neighbors\n",
      "[19:29:24] WARNING: not removing hydrogen atom without neighbors\n"
     ]
    },
    {
     "data": {
      "application/vnd.jupyter.widget-view+json": {
       "model_id": "a47e8f8b919f477884565faf63a13f30",
       "version_major": 2,
       "version_minor": 0
      },
      "text/plain": [
       "  0%|          | 0/10000 [00:00<?, ?it/s]"
      ]
     },
     "metadata": {},
     "output_type": "display_data"
    },
    {
     "name": "stderr",
     "output_type": "stream",
     "text": [
      "[19:29:34] WARNING: not removing hydrogen atom without neighbors\n"
     ]
    },
    {
     "data": {
      "application/vnd.jupyter.widget-view+json": {
       "model_id": "5baadd4ccaa54a348e89b5e6ff17be08",
       "version_major": 2,
       "version_minor": 0
      },
      "text/plain": [
       "  0%|          | 0/10000 [00:00<?, ?it/s]"
      ]
     },
     "metadata": {},
     "output_type": "display_data"
    },
    {
     "data": {
      "application/vnd.jupyter.widget-view+json": {
       "model_id": "bd3d8a21c4524707a5c8d59ecfe5db3e",
       "version_major": 2,
       "version_minor": 0
      },
      "text/plain": [
       "  0%|          | 0/10000 [00:00<?, ?it/s]"
      ]
     },
     "metadata": {},
     "output_type": "display_data"
    },
    {
     "name": "stderr",
     "output_type": "stream",
     "text": [
      "[19:34:33] WARNING: not removing hydrogen atom without neighbors\n"
     ]
    },
    {
     "data": {
      "application/vnd.jupyter.widget-view+json": {
       "model_id": "5a5b2a8dc821458b9471370c015b21df",
       "version_major": 2,
       "version_minor": 0
      },
      "text/plain": [
       "  0%|          | 0/10000 [00:00<?, ?it/s]"
      ]
     },
     "metadata": {},
     "output_type": "display_data"
    },
    {
     "data": {
      "application/vnd.jupyter.widget-view+json": {
       "model_id": "a2a9fee12e8a4b6db79ebd68c45de718",
       "version_major": 2,
       "version_minor": 0
      },
      "text/plain": [
       "  0%|          | 0/10000 [00:00<?, ?it/s]"
      ]
     },
     "metadata": {},
     "output_type": "display_data"
    },
    {
     "name": "stderr",
     "output_type": "stream",
     "text": [
      "[19:34:47] WARNING: not removing hydrogen atom without neighbors\n"
     ]
    },
    {
     "data": {
      "application/vnd.jupyter.widget-view+json": {
       "model_id": "4b6edf09687240ec89314a06bba6e1aa",
       "version_major": 2,
       "version_minor": 0
      },
      "text/plain": [
       "  0%|          | 0/10000 [00:00<?, ?it/s]"
      ]
     },
     "metadata": {},
     "output_type": "display_data"
    },
    {
     "name": "stderr",
     "output_type": "stream",
     "text": [
      "[19:34:50] WARNING: not removing hydrogen atom without neighbors\n",
      "[19:34:50] WARNING: not removing hydrogen atom without neighbors\n"
     ]
    },
    {
     "data": {
      "application/vnd.jupyter.widget-view+json": {
       "model_id": "f1dff9b966bd4ae294e7055ddc1e0928",
       "version_major": 2,
       "version_minor": 0
      },
      "text/plain": [
       "  0%|          | 0/10000 [00:00<?, ?it/s]"
      ]
     },
     "metadata": {},
     "output_type": "display_data"
    },
    {
     "name": "stderr",
     "output_type": "stream",
     "text": [
      "[19:35:01] WARNING: not removing hydrogen atom without neighbors\n"
     ]
    },
    {
     "data": {
      "application/vnd.jupyter.widget-view+json": {
       "model_id": "7240aa36a26247d3a04150bb66dd195e",
       "version_major": 2,
       "version_minor": 0
      },
      "text/plain": [
       "  0%|          | 0/10000 [00:00<?, ?it/s]"
      ]
     },
     "metadata": {},
     "output_type": "display_data"
    },
    {
     "data": {
      "application/vnd.jupyter.widget-view+json": {
       "model_id": "757816d2bea64c81ae2eacb7bd1d4fee",
       "version_major": 2,
       "version_minor": 0
      },
      "text/plain": [
       "  0%|          | 0/10000 [00:00<?, ?it/s]"
      ]
     },
     "metadata": {},
     "output_type": "display_data"
    },
    {
     "name": "stderr",
     "output_type": "stream",
     "text": [
      "[19:40:04] WARNING: not removing hydrogen atom without neighbors\n"
     ]
    },
    {
     "data": {
      "application/vnd.jupyter.widget-view+json": {
       "model_id": "29e7c91e6cff426c83e6b41ff81d0b1e",
       "version_major": 2,
       "version_minor": 0
      },
      "text/plain": [
       "  0%|          | 0/10000 [00:00<?, ?it/s]"
      ]
     },
     "metadata": {},
     "output_type": "display_data"
    },
    {
     "data": {
      "application/vnd.jupyter.widget-view+json": {
       "model_id": "0b49dfbc54b840b280e6bc3a6fe14a85",
       "version_major": 2,
       "version_minor": 0
      },
      "text/plain": [
       "  0%|          | 0/10000 [00:00<?, ?it/s]"
      ]
     },
     "metadata": {},
     "output_type": "display_data"
    },
    {
     "name": "stderr",
     "output_type": "stream",
     "text": [
      "[19:40:09] WARNING: not removing hydrogen atom without neighbors\n"
     ]
    },
    {
     "data": {
      "application/vnd.jupyter.widget-view+json": {
       "model_id": "fe8f20d2cb43444d94060bde2d4b3ef6",
       "version_major": 2,
       "version_minor": 0
      },
      "text/plain": [
       "  0%|          | 0/10000 [00:00<?, ?it/s]"
      ]
     },
     "metadata": {},
     "output_type": "display_data"
    },
    {
     "name": "stderr",
     "output_type": "stream",
     "text": [
      "[19:40:20] WARNING: not removing hydrogen atom without neighbors\n",
      "[19:40:20] WARNING: not removing hydrogen atom without neighbors\n"
     ]
    },
    {
     "data": {
      "application/vnd.jupyter.widget-view+json": {
       "model_id": "133d6b51adb84f52975e72a432e719b6",
       "version_major": 2,
       "version_minor": 0
      },
      "text/plain": [
       "  0%|          | 0/10000 [00:00<?, ?it/s]"
      ]
     },
     "metadata": {},
     "output_type": "display_data"
    },
    {
     "name": "stderr",
     "output_type": "stream",
     "text": [
      "[19:40:24] WARNING: not removing hydrogen atom without neighbors\n"
     ]
    },
    {
     "data": {
      "application/vnd.jupyter.widget-view+json": {
       "model_id": "ba26df524f2d46ffa093e7faad11e650",
       "version_major": 2,
       "version_minor": 0
      },
      "text/plain": [
       "  0%|          | 0/10000 [00:00<?, ?it/s]"
      ]
     },
     "metadata": {},
     "output_type": "display_data"
    },
    {
     "data": {
      "application/vnd.jupyter.widget-view+json": {
       "model_id": "19aa418fc6274893afd5a532232a8266",
       "version_major": 2,
       "version_minor": 0
      },
      "text/plain": [
       "  0%|          | 0/10000 [00:00<?, ?it/s]"
      ]
     },
     "metadata": {},
     "output_type": "display_data"
    },
    {
     "name": "stderr",
     "output_type": "stream",
     "text": [
      "[19:45:25] WARNING: not removing hydrogen atom without neighbors\n"
     ]
    },
    {
     "data": {
      "application/vnd.jupyter.widget-view+json": {
       "model_id": "7b5cc38564404bebaf8213fb8e4e4bb0",
       "version_major": 2,
       "version_minor": 0
      },
      "text/plain": [
       "  0%|          | 0/10000 [00:00<?, ?it/s]"
      ]
     },
     "metadata": {},
     "output_type": "display_data"
    },
    {
     "data": {
      "application/vnd.jupyter.widget-view+json": {
       "model_id": "166ff41f1ed04c89b584c81699e7bd95",
       "version_major": 2,
       "version_minor": 0
      },
      "text/plain": [
       "  0%|          | 0/10000 [00:00<?, ?it/s]"
      ]
     },
     "metadata": {},
     "output_type": "display_data"
    },
    {
     "name": "stderr",
     "output_type": "stream",
     "text": [
      "[19:45:44] WARNING: not removing hydrogen atom without neighbors\n"
     ]
    },
    {
     "data": {
      "application/vnd.jupyter.widget-view+json": {
       "model_id": "774132c1c6bf4bbea786888d3b34672f",
       "version_major": 2,
       "version_minor": 0
      },
      "text/plain": [
       "  0%|          | 0/10000 [00:00<?, ?it/s]"
      ]
     },
     "metadata": {},
     "output_type": "display_data"
    },
    {
     "name": "stderr",
     "output_type": "stream",
     "text": [
      "[19:45:50] WARNING: not removing hydrogen atom without neighbors\n",
      "[19:45:50] WARNING: not removing hydrogen atom without neighbors\n"
     ]
    },
    {
     "data": {
      "application/vnd.jupyter.widget-view+json": {
       "model_id": "731d5b5c0e6a4a67a8c3bd53428b9312",
       "version_major": 2,
       "version_minor": 0
      },
      "text/plain": [
       "  0%|          | 0/10000 [00:00<?, ?it/s]"
      ]
     },
     "metadata": {},
     "output_type": "display_data"
    },
    {
     "name": "stderr",
     "output_type": "stream",
     "text": [
      "[19:45:59] WARNING: not removing hydrogen atom without neighbors\n"
     ]
    },
    {
     "data": {
      "application/vnd.jupyter.widget-view+json": {
       "model_id": "44772273176b4fab8c8f64ed52daff30",
       "version_major": 2,
       "version_minor": 0
      },
      "text/plain": [
       "  0%|          | 0/10000 [00:00<?, ?it/s]"
      ]
     },
     "metadata": {},
     "output_type": "display_data"
    },
    {
     "data": {
      "application/vnd.jupyter.widget-view+json": {
       "model_id": "704375be77244aaca6890e9342baeec5",
       "version_major": 2,
       "version_minor": 0
      },
      "text/plain": [
       "  0%|          | 0/10000 [00:00<?, ?it/s]"
      ]
     },
     "metadata": {},
     "output_type": "display_data"
    },
    {
     "name": "stderr",
     "output_type": "stream",
     "text": [
      "[19:50:57] WARNING: not removing hydrogen atom without neighbors\n"
     ]
    },
    {
     "data": {
      "application/vnd.jupyter.widget-view+json": {
       "model_id": "4e064f3c61db494db9da3cdb0d01b280",
       "version_major": 2,
       "version_minor": 0
      },
      "text/plain": [
       "  0%|          | 0/10000 [00:00<?, ?it/s]"
      ]
     },
     "metadata": {},
     "output_type": "display_data"
    },
    {
     "data": {
      "application/vnd.jupyter.widget-view+json": {
       "model_id": "1b74a5cff42c4315a1096c7214a1f9e3",
       "version_major": 2,
       "version_minor": 0
      },
      "text/plain": [
       "  0%|          | 0/10000 [00:00<?, ?it/s]"
      ]
     },
     "metadata": {},
     "output_type": "display_data"
    },
    {
     "data": {
      "application/vnd.jupyter.widget-view+json": {
       "model_id": "61485e69db054525b0cb08db53b0a31f",
       "version_major": 2,
       "version_minor": 0
      },
      "text/plain": [
       "  0%|          | 0/10000 [00:00<?, ?it/s]"
      ]
     },
     "metadata": {},
     "output_type": "display_data"
    },
    {
     "data": {
      "application/vnd.jupyter.widget-view+json": {
       "model_id": "b95174fed39c4241828d62b6b24b5f12",
       "version_major": 2,
       "version_minor": 0
      },
      "text/plain": [
       "  0%|          | 0/10000 [00:00<?, ?it/s]"
      ]
     },
     "metadata": {},
     "output_type": "display_data"
    },
    {
     "data": {
      "application/vnd.jupyter.widget-view+json": {
       "model_id": "76225bccbde04051aba995fad96e03b3",
       "version_major": 2,
       "version_minor": 0
      },
      "text/plain": [
       "  0%|          | 0/10000 [00:00<?, ?it/s]"
      ]
     },
     "metadata": {},
     "output_type": "display_data"
    },
    {
     "data": {
      "application/vnd.jupyter.widget-view+json": {
       "model_id": "697e2da3dc2f47318bad93b3642abb1b",
       "version_major": 2,
       "version_minor": 0
      },
      "text/plain": [
       "  0%|          | 0/10000 [00:00<?, ?it/s]"
      ]
     },
     "metadata": {},
     "output_type": "display_data"
    },
    {
     "data": {
      "application/vnd.jupyter.widget-view+json": {
       "model_id": "6f8b0cc6ce614b0aa05305fe1a5fa34d",
       "version_major": 2,
       "version_minor": 0
      },
      "text/plain": [
       "  0%|          | 0/10000 [00:00<?, ?it/s]"
      ]
     },
     "metadata": {},
     "output_type": "display_data"
    },
    {
     "data": {
      "application/vnd.jupyter.widget-view+json": {
       "model_id": "b92b9c5ee90a4801a7885f412f6e0467",
       "version_major": 2,
       "version_minor": 0
      },
      "text/plain": [
       "  0%|          | 0/10000 [00:00<?, ?it/s]"
      ]
     },
     "metadata": {},
     "output_type": "display_data"
    },
    {
     "data": {
      "application/vnd.jupyter.widget-view+json": {
       "model_id": "7a6a99a729b04905b31bf4e2c6915dd8",
       "version_major": 2,
       "version_minor": 0
      },
      "text/plain": [
       "  0%|          | 0/10000 [00:00<?, ?it/s]"
      ]
     },
     "metadata": {},
     "output_type": "display_data"
    },
    {
     "data": {
      "application/vnd.jupyter.widget-view+json": {
       "model_id": "d23d89b06182418a919d1c39df89dfd5",
       "version_major": 2,
       "version_minor": 0
      },
      "text/plain": [
       "  0%|          | 0/10000 [00:00<?, ?it/s]"
      ]
     },
     "metadata": {},
     "output_type": "display_data"
    },
    {
     "data": {
      "application/vnd.jupyter.widget-view+json": {
       "model_id": "7c1e56d6bd4348468bae7ed7a202ed05",
       "version_major": 2,
       "version_minor": 0
      },
      "text/plain": [
       "  0%|          | 0/10000 [00:00<?, ?it/s]"
      ]
     },
     "metadata": {},
     "output_type": "display_data"
    },
    {
     "data": {
      "application/vnd.jupyter.widget-view+json": {
       "model_id": "432216dc048d46fc940346b549a8a293",
       "version_major": 2,
       "version_minor": 0
      },
      "text/plain": [
       "  0%|          | 0/10000 [00:00<?, ?it/s]"
      ]
     },
     "metadata": {},
     "output_type": "display_data"
    },
    {
     "data": {
      "application/vnd.jupyter.widget-view+json": {
       "model_id": "639bc582388c446282f961536a358035",
       "version_major": 2,
       "version_minor": 0
      },
      "text/plain": [
       "  0%|          | 0/10000 [00:00<?, ?it/s]"
      ]
     },
     "metadata": {},
     "output_type": "display_data"
    },
    {
     "data": {
      "application/vnd.jupyter.widget-view+json": {
       "model_id": "ff5eb25b9c3c494d8ba3030fb9f8312f",
       "version_major": 2,
       "version_minor": 0
      },
      "text/plain": [
       "  0%|          | 0/10000 [00:00<?, ?it/s]"
      ]
     },
     "metadata": {},
     "output_type": "display_data"
    },
    {
     "data": {
      "application/vnd.jupyter.widget-view+json": {
       "model_id": "3b21b04212334e88bc3c233a05a1d5d3",
       "version_major": 2,
       "version_minor": 0
      },
      "text/plain": [
       "  0%|          | 0/10000 [00:00<?, ?it/s]"
      ]
     },
     "metadata": {},
     "output_type": "display_data"
    },
    {
     "data": {
      "application/vnd.jupyter.widget-view+json": {
       "model_id": "dbf642027a2e4ff7a09f78fbf4accf9e",
       "version_major": 2,
       "version_minor": 0
      },
      "text/plain": [
       "  0%|          | 0/10000 [00:00<?, ?it/s]"
      ]
     },
     "metadata": {},
     "output_type": "display_data"
    },
    {
     "data": {
      "application/vnd.jupyter.widget-view+json": {
       "model_id": "6eb211a1bfdd446f936b7eab022b70a4",
       "version_major": 2,
       "version_minor": 0
      },
      "text/plain": [
       "  0%|          | 0/10000 [00:00<?, ?it/s]"
      ]
     },
     "metadata": {},
     "output_type": "display_data"
    },
    {
     "data": {
      "application/vnd.jupyter.widget-view+json": {
       "model_id": "8d61a2fbb7664fa5a490120fecc3c8fa",
       "version_major": 2,
       "version_minor": 0
      },
      "text/plain": [
       "  0%|          | 0/10000 [00:00<?, ?it/s]"
      ]
     },
     "metadata": {},
     "output_type": "display_data"
    },
    {
     "data": {
      "application/vnd.jupyter.widget-view+json": {
       "model_id": "cb69bac9418c4cf9894b9b17eb7f4611",
       "version_major": 2,
       "version_minor": 0
      },
      "text/plain": [
       "  0%|          | 0/10000 [00:00<?, ?it/s]"
      ]
     },
     "metadata": {},
     "output_type": "display_data"
    },
    {
     "data": {
      "application/vnd.jupyter.widget-view+json": {
       "model_id": "7b1a901b5e2649f0a35d92d382d5240a",
       "version_major": 2,
       "version_minor": 0
      },
      "text/plain": [
       "  0%|          | 0/10000 [00:00<?, ?it/s]"
      ]
     },
     "metadata": {},
     "output_type": "display_data"
    },
    {
     "data": {
      "application/vnd.jupyter.widget-view+json": {
       "model_id": "314d9cf7652f41ffa5d8b49ff79b38b5",
       "version_major": 2,
       "version_minor": 0
      },
      "text/plain": [
       "  0%|          | 0/10000 [00:00<?, ?it/s]"
      ]
     },
     "metadata": {},
     "output_type": "display_data"
    },
    {
     "data": {
      "application/vnd.jupyter.widget-view+json": {
       "model_id": "a8d2283b31cc49349e78d1730386c008",
       "version_major": 2,
       "version_minor": 0
      },
      "text/plain": [
       "  0%|          | 0/10000 [00:00<?, ?it/s]"
      ]
     },
     "metadata": {},
     "output_type": "display_data"
    },
    {
     "data": {
      "application/vnd.jupyter.widget-view+json": {
       "model_id": "3d4760bcf9dd4496ae9c80dddc18592d",
       "version_major": 2,
       "version_minor": 0
      },
      "text/plain": [
       "  0%|          | 0/10000 [00:00<?, ?it/s]"
      ]
     },
     "metadata": {},
     "output_type": "display_data"
    },
    {
     "data": {
      "application/vnd.jupyter.widget-view+json": {
       "model_id": "d6a97e1ebc344599aa9c55e6fa0b2e5b",
       "version_major": 2,
       "version_minor": 0
      },
      "text/plain": [
       "  0%|          | 0/10000 [00:00<?, ?it/s]"
      ]
     },
     "metadata": {},
     "output_type": "display_data"
    },
    {
     "data": {
      "application/vnd.jupyter.widget-view+json": {
       "model_id": "06a934dcf2834d1f99e7abd90de3aabb",
       "version_major": 2,
       "version_minor": 0
      },
      "text/plain": [
       "  0%|          | 0/10000 [00:00<?, ?it/s]"
      ]
     },
     "metadata": {},
     "output_type": "display_data"
    },
    {
     "data": {
      "application/vnd.jupyter.widget-view+json": {
       "model_id": "fa94faca11d24d76949aeaef5d894351",
       "version_major": 2,
       "version_minor": 0
      },
      "text/plain": [
       "  0%|          | 0/10000 [00:00<?, ?it/s]"
      ]
     },
     "metadata": {},
     "output_type": "display_data"
    },
    {
     "name": "stderr",
     "output_type": "stream",
     "text": [
      "[20:12:51] WARNING: not removing hydrogen atom without neighbors\n",
      "[20:12:57] WARNING: not removing hydrogen atom without neighbors\n",
      "[20:13:00] WARNING: not removing hydrogen atom without neighbors\n"
     ]
    },
    {
     "data": {
      "application/vnd.jupyter.widget-view+json": {
       "model_id": "e28530f0f9f74bebbf1cb8c6e31c4e25",
       "version_major": 2,
       "version_minor": 0
      },
      "text/plain": [
       "  0%|          | 0/10000 [00:00<?, ?it/s]"
      ]
     },
     "metadata": {},
     "output_type": "display_data"
    },
    {
     "name": "stderr",
     "output_type": "stream",
     "text": [
      "[20:13:01] WARNING: not removing hydrogen atom without neighbors\n",
      "[20:13:01] WARNING: not removing hydrogen atom without neighbors\n",
      "[20:13:02] WARNING: not removing hydrogen atom without neighbors\n",
      "[20:13:02] WARNING: not removing hydrogen atom without neighbors\n",
      "[20:13:02] WARNING: not removing hydrogen atom without neighbors\n",
      "[20:13:02] WARNING: not removing hydrogen atom without neighbors\n"
     ]
    },
    {
     "data": {
      "application/vnd.jupyter.widget-view+json": {
       "model_id": "6d1097b294f540f0914c84310a14a2b1",
       "version_major": 2,
       "version_minor": 0
      },
      "text/plain": [
       "  0%|          | 0/10000 [00:00<?, ?it/s]"
      ]
     },
     "metadata": {},
     "output_type": "display_data"
    },
    {
     "name": "stderr",
     "output_type": "stream",
     "text": [
      "[20:13:06] WARNING: not removing hydrogen atom without neighbors\n",
      "[20:13:12] WARNING: not removing hydrogen atom without neighbors\n",
      "[20:13:14] WARNING: not removing hydrogen atom without neighbors\n"
     ]
    },
    {
     "data": {
      "application/vnd.jupyter.widget-view+json": {
       "model_id": "dc6e9cbcb0aa4b099daf558376ae32fb",
       "version_major": 2,
       "version_minor": 0
      },
      "text/plain": [
       "  0%|          | 0/10000 [00:00<?, ?it/s]"
      ]
     },
     "metadata": {},
     "output_type": "display_data"
    },
    {
     "data": {
      "application/vnd.jupyter.widget-view+json": {
       "model_id": "c5489588a66f4a0fb6f69d786def7f7a",
       "version_major": 2,
       "version_minor": 0
      },
      "text/plain": [
       "  0%|          | 0/10000 [00:00<?, ?it/s]"
      ]
     },
     "metadata": {},
     "output_type": "display_data"
    },
    {
     "name": "stderr",
     "output_type": "stream",
     "text": [
      "[20:18:01] WARNING: not removing hydrogen atom without neighbors\n",
      "[20:18:07] WARNING: not removing hydrogen atom without neighbors\n",
      "[20:18:10] WARNING: not removing hydrogen atom without neighbors\n"
     ]
    },
    {
     "data": {
      "application/vnd.jupyter.widget-view+json": {
       "model_id": "dcb45d0412304c22b608a2b50ac0daef",
       "version_major": 2,
       "version_minor": 0
      },
      "text/plain": [
       "  0%|          | 0/10000 [00:00<?, ?it/s]"
      ]
     },
     "metadata": {},
     "output_type": "display_data"
    },
    {
     "data": {
      "application/vnd.jupyter.widget-view+json": {
       "model_id": "5cf420074a554fd6a34a63ad6c53cbf9",
       "version_major": 2,
       "version_minor": 0
      },
      "text/plain": [
       "  0%|          | 0/10000 [00:00<?, ?it/s]"
      ]
     },
     "metadata": {},
     "output_type": "display_data"
    },
    {
     "name": "stderr",
     "output_type": "stream",
     "text": [
      "[20:18:14] WARNING: not removing hydrogen atom without neighbors\n",
      "[20:18:15] WARNING: not removing hydrogen atom without neighbors\n",
      "[20:18:23] WARNING: not removing hydrogen atom without neighbors\n"
     ]
    },
    {
     "data": {
      "application/vnd.jupyter.widget-view+json": {
       "model_id": "9f9f4f02b3c0419384b75abd09ae0866",
       "version_major": 2,
       "version_minor": 0
      },
      "text/plain": [
       "  0%|          | 0/10000 [00:00<?, ?it/s]"
      ]
     },
     "metadata": {},
     "output_type": "display_data"
    },
    {
     "name": "stderr",
     "output_type": "stream",
     "text": [
      "[20:18:25] WARNING: not removing hydrogen atom without neighbors\n",
      "[20:18:25] WARNING: not removing hydrogen atom without neighbors\n",
      "[20:18:25] WARNING: not removing hydrogen atom without neighbors\n",
      "[20:18:25] WARNING: not removing hydrogen atom without neighbors\n",
      "[20:18:26] WARNING: not removing hydrogen atom without neighbors\n",
      "[20:18:26] WARNING: not removing hydrogen atom without neighbors\n"
     ]
    },
    {
     "data": {
      "application/vnd.jupyter.widget-view+json": {
       "model_id": "f8fde1f2297b4e16995b9a88a972ffd2",
       "version_major": 2,
       "version_minor": 0
      },
      "text/plain": [
       "  0%|          | 0/10000 [00:00<?, ?it/s]"
      ]
     },
     "metadata": {},
     "output_type": "display_data"
    },
    {
     "name": "stderr",
     "output_type": "stream",
     "text": [
      "[20:18:29] WARNING: not removing hydrogen atom without neighbors\n",
      "[20:18:29] WARNING: not removing hydrogen atom without neighbors\n",
      "[20:18:38] WARNING: not removing hydrogen atom without neighbors\n"
     ]
    },
    {
     "data": {
      "application/vnd.jupyter.widget-view+json": {
       "model_id": "f9260a3526c1495490e08b7247d39d8d",
       "version_major": 2,
       "version_minor": 0
      },
      "text/plain": [
       "  0%|          | 0/10000 [00:00<?, ?it/s]"
      ]
     },
     "metadata": {},
     "output_type": "display_data"
    },
    {
     "data": {
      "application/vnd.jupyter.widget-view+json": {
       "model_id": "cc481e2bade745b8801cda4416af921a",
       "version_major": 2,
       "version_minor": 0
      },
      "text/plain": [
       "  0%|          | 0/10000 [00:00<?, ?it/s]"
      ]
     },
     "metadata": {},
     "output_type": "display_data"
    },
    {
     "name": "stderr",
     "output_type": "stream",
     "text": [
      "[20:24:10] WARNING: not removing hydrogen atom without neighbors\n",
      "[20:24:11] WARNING: not removing hydrogen atom without neighbors\n",
      "[20:24:19] WARNING: not removing hydrogen atom without neighbors\n"
     ]
    },
    {
     "data": {
      "application/vnd.jupyter.widget-view+json": {
       "model_id": "9c1e59d4a8a14ce28e4f61749f02da6f",
       "version_major": 2,
       "version_minor": 0
      },
      "text/plain": [
       "  0%|          | 0/10000 [00:00<?, ?it/s]"
      ]
     },
     "metadata": {},
     "output_type": "display_data"
    },
    {
     "data": {
      "application/vnd.jupyter.widget-view+json": {
       "model_id": "a2f610d8ea614faba58642b3db3a99d9",
       "version_major": 2,
       "version_minor": 0
      },
      "text/plain": [
       "  0%|          | 0/10000 [00:00<?, ?it/s]"
      ]
     },
     "metadata": {},
     "output_type": "display_data"
    },
    {
     "name": "stderr",
     "output_type": "stream",
     "text": [
      "[20:24:25] WARNING: not removing hydrogen atom without neighbors\n",
      "[20:24:27] WARNING: not removing hydrogen atom without neighbors\n",
      "[20:24:29] WARNING: not removing hydrogen atom without neighbors\n"
     ]
    },
    {
     "data": {
      "application/vnd.jupyter.widget-view+json": {
       "model_id": "1411d613c453424493f2c19394e474b8",
       "version_major": 2,
       "version_minor": 0
      },
      "text/plain": [
       "  0%|          | 0/10000 [00:00<?, ?it/s]"
      ]
     },
     "metadata": {},
     "output_type": "display_data"
    },
    {
     "name": "stderr",
     "output_type": "stream",
     "text": [
      "[20:24:35] WARNING: not removing hydrogen atom without neighbors\n",
      "[20:24:35] WARNING: not removing hydrogen atom without neighbors\n",
      "[20:24:35] WARNING: not removing hydrogen atom without neighbors\n",
      "[20:24:35] WARNING: not removing hydrogen atom without neighbors\n",
      "[20:24:35] WARNING: not removing hydrogen atom without neighbors\n",
      "[20:24:35] WARNING: not removing hydrogen atom without neighbors\n"
     ]
    },
    {
     "data": {
      "application/vnd.jupyter.widget-view+json": {
       "model_id": "7614892b77ac46aa9f9f381b2779c4bf",
       "version_major": 2,
       "version_minor": 0
      },
      "text/plain": [
       "  0%|          | 0/10000 [00:00<?, ?it/s]"
      ]
     },
     "metadata": {},
     "output_type": "display_data"
    },
    {
     "name": "stderr",
     "output_type": "stream",
     "text": [
      "[20:24:40] WARNING: not removing hydrogen atom without neighbors\n",
      "[20:24:43] WARNING: not removing hydrogen atom without neighbors\n",
      "[20:24:45] WARNING: not removing hydrogen atom without neighbors\n"
     ]
    },
    {
     "data": {
      "application/vnd.jupyter.widget-view+json": {
       "model_id": "6ebe5ead9eb74a0085b4a03962b0a0ff",
       "version_major": 2,
       "version_minor": 0
      },
      "text/plain": [
       "  0%|          | 0/10000 [00:00<?, ?it/s]"
      ]
     },
     "metadata": {},
     "output_type": "display_data"
    },
    {
     "data": {
      "application/vnd.jupyter.widget-view+json": {
       "model_id": "4c61aa2199774349883e8e470a912c28",
       "version_major": 2,
       "version_minor": 0
      },
      "text/plain": [
       "  0%|          | 0/10000 [00:00<?, ?it/s]"
      ]
     },
     "metadata": {},
     "output_type": "display_data"
    },
    {
     "name": "stderr",
     "output_type": "stream",
     "text": [
      "[20:29:57] WARNING: not removing hydrogen atom without neighbors\n",
      "[20:29:59] WARNING: not removing hydrogen atom without neighbors\n",
      "[20:30:01] WARNING: not removing hydrogen atom without neighbors\n"
     ]
    },
    {
     "data": {
      "application/vnd.jupyter.widget-view+json": {
       "model_id": "d6579473c6094007b0f92a6c283725e8",
       "version_major": 2,
       "version_minor": 0
      },
      "text/plain": [
       "  0%|          | 0/10000 [00:00<?, ?it/s]"
      ]
     },
     "metadata": {},
     "output_type": "display_data"
    },
    {
     "data": {
      "application/vnd.jupyter.widget-view+json": {
       "model_id": "4d92cda3a6e44526ae4587169aef07b5",
       "version_major": 2,
       "version_minor": 0
      },
      "text/plain": [
       "  0%|          | 0/10000 [00:00<?, ?it/s]"
      ]
     },
     "metadata": {},
     "output_type": "display_data"
    },
    {
     "data": {
      "application/vnd.jupyter.widget-view+json": {
       "model_id": "8ea812fd6f604a719977db2f91cd6096",
       "version_major": 2,
       "version_minor": 0
      },
      "text/plain": [
       "  0%|          | 0/10000 [00:00<?, ?it/s]"
      ]
     },
     "metadata": {},
     "output_type": "display_data"
    },
    {
     "data": {
      "application/vnd.jupyter.widget-view+json": {
       "model_id": "6ffba882bad24a3c83f998721f3977ae",
       "version_major": 2,
       "version_minor": 0
      },
      "text/plain": [
       "  0%|          | 0/10000 [00:00<?, ?it/s]"
      ]
     },
     "metadata": {},
     "output_type": "display_data"
    },
    {
     "data": {
      "application/vnd.jupyter.widget-view+json": {
       "model_id": "b8f016a79f654381980ec22856983da1",
       "version_major": 2,
       "version_minor": 0
      },
      "text/plain": [
       "  0%|          | 0/10000 [00:00<?, ?it/s]"
      ]
     },
     "metadata": {},
     "output_type": "display_data"
    },
    {
     "data": {
      "application/vnd.jupyter.widget-view+json": {
       "model_id": "97a54e7843d243c4bec0b9335968741d",
       "version_major": 2,
       "version_minor": 0
      },
      "text/plain": [
       "  0%|          | 0/10000 [00:00<?, ?it/s]"
      ]
     },
     "metadata": {},
     "output_type": "display_data"
    },
    {
     "data": {
      "application/vnd.jupyter.widget-view+json": {
       "model_id": "d2aed16a3b7b407cb2337355ee4efc18",
       "version_major": 2,
       "version_minor": 0
      },
      "text/plain": [
       "  0%|          | 0/10000 [00:00<?, ?it/s]"
      ]
     },
     "metadata": {},
     "output_type": "display_data"
    },
    {
     "data": {
      "application/vnd.jupyter.widget-view+json": {
       "model_id": "385f094244e34126b11e22c9493a7672",
       "version_major": 2,
       "version_minor": 0
      },
      "text/plain": [
       "  0%|          | 0/10000 [00:00<?, ?it/s]"
      ]
     },
     "metadata": {},
     "output_type": "display_data"
    },
    {
     "name": "stderr",
     "output_type": "stream",
     "text": [
      "[20:35:41] WARNING: not removing hydrogen atom without neighbors\n"
     ]
    },
    {
     "data": {
      "application/vnd.jupyter.widget-view+json": {
       "model_id": "eb8a140b589c49b98b9d86498030af3c",
       "version_major": 2,
       "version_minor": 0
      },
      "text/plain": [
       "  0%|          | 0/10000 [00:00<?, ?it/s]"
      ]
     },
     "metadata": {},
     "output_type": "display_data"
    },
    {
     "name": "stderr",
     "output_type": "stream",
     "text": [
      "[20:35:51] WARNING: not removing hydrogen atom without neighbors\n",
      "[20:35:51] WARNING: not removing hydrogen atom without neighbors\n"
     ]
    },
    {
     "data": {
      "application/vnd.jupyter.widget-view+json": {
       "model_id": "7f39f5cab6604e06a1d51803c1d6d443",
       "version_major": 2,
       "version_minor": 0
      },
      "text/plain": [
       "  0%|          | 0/10000 [00:00<?, ?it/s]"
      ]
     },
     "metadata": {},
     "output_type": "display_data"
    },
    {
     "name": "stderr",
     "output_type": "stream",
     "text": [
      "[20:35:56] WARNING: not removing hydrogen atom without neighbors\n"
     ]
    },
    {
     "data": {
      "application/vnd.jupyter.widget-view+json": {
       "model_id": "dc4fd7620d604f92b99afc09fac46d61",
       "version_major": 2,
       "version_minor": 0
      },
      "text/plain": [
       "  0%|          | 0/10000 [00:00<?, ?it/s]"
      ]
     },
     "metadata": {},
     "output_type": "display_data"
    },
    {
     "data": {
      "application/vnd.jupyter.widget-view+json": {
       "model_id": "954e9dbff44742afa8cdfe5090bc93cb",
       "version_major": 2,
       "version_minor": 0
      },
      "text/plain": [
       "  0%|          | 0/10000 [00:00<?, ?it/s]"
      ]
     },
     "metadata": {},
     "output_type": "display_data"
    },
    {
     "name": "stderr",
     "output_type": "stream",
     "text": [
      "[20:40:57] WARNING: not removing hydrogen atom without neighbors\n"
     ]
    },
    {
     "data": {
      "application/vnd.jupyter.widget-view+json": {
       "model_id": "29356105a6c74c8eb5af6e9136c5d2d9",
       "version_major": 2,
       "version_minor": 0
      },
      "text/plain": [
       "  0%|          | 0/10000 [00:00<?, ?it/s]"
      ]
     },
     "metadata": {},
     "output_type": "display_data"
    },
    {
     "data": {
      "application/vnd.jupyter.widget-view+json": {
       "model_id": "76f8b68833f94c88bb52535805089976",
       "version_major": 2,
       "version_minor": 0
      },
      "text/plain": [
       "  0%|          | 0/10000 [00:00<?, ?it/s]"
      ]
     },
     "metadata": {},
     "output_type": "display_data"
    },
    {
     "name": "stderr",
     "output_type": "stream",
     "text": [
      "[20:41:08] WARNING: not removing hydrogen atom without neighbors\n",
      "[20:41:08] WARNING: not removing hydrogen atom without neighbors\n",
      "[20:41:13] WARNING: not removing hydrogen atom without neighbors\n",
      "[20:41:13] WARNING: not removing hydrogen atom without neighbors\n",
      "[20:41:13] WARNING: not removing hydrogen atom without neighbors\n",
      "[20:41:16] WARNING: not removing hydrogen atom without neighbors\n"
     ]
    },
    {
     "data": {
      "application/vnd.jupyter.widget-view+json": {
       "model_id": "8ce0fd4094dc4daab76042aaa1ce2248",
       "version_major": 2,
       "version_minor": 0
      },
      "text/plain": [
       "  0%|          | 0/10000 [00:00<?, ?it/s]"
      ]
     },
     "metadata": {},
     "output_type": "display_data"
    },
    {
     "name": "stderr",
     "output_type": "stream",
     "text": [
      "[20:41:19] WARNING: not removing hydrogen atom without neighbors\n",
      "[20:41:19] WARNING: not removing hydrogen atom without neighbors\n",
      "[20:41:20] WARNING: not removing hydrogen atom without neighbors\n",
      "[20:41:20] WARNING: not removing hydrogen atom without neighbors\n",
      "[20:41:20] WARNING: not removing hydrogen atom without neighbors\n",
      "[20:41:20] WARNING: not removing hydrogen atom without neighbors\n",
      "[20:41:20] WARNING: not removing hydrogen atom without neighbors\n",
      "[20:41:20] WARNING: not removing hydrogen atom without neighbors\n",
      "[20:41:20] WARNING: not removing hydrogen atom without neighbors\n",
      "[20:41:20] WARNING: not removing hydrogen atom without neighbors\n",
      "[20:41:21] WARNING: not removing hydrogen atom without neighbors\n",
      "[20:41:21] WARNING: not removing hydrogen atom without neighbors\n"
     ]
    },
    {
     "data": {
      "application/vnd.jupyter.widget-view+json": {
       "model_id": "1a2a3622a6bb4a6f897866772fd9ec60",
       "version_major": 2,
       "version_minor": 0
      },
      "text/plain": [
       "  0%|          | 0/10000 [00:00<?, ?it/s]"
      ]
     },
     "metadata": {},
     "output_type": "display_data"
    },
    {
     "name": "stderr",
     "output_type": "stream",
     "text": [
      "[20:41:25] WARNING: not removing hydrogen atom without neighbors\n",
      "[20:41:25] WARNING: not removing hydrogen atom without neighbors\n",
      "[20:41:29] WARNING: not removing hydrogen atom without neighbors\n",
      "[20:41:29] WARNING: not removing hydrogen atom without neighbors\n",
      "[20:41:29] WARNING: not removing hydrogen atom without neighbors\n",
      "[20:41:32] WARNING: not removing hydrogen atom without neighbors\n"
     ]
    },
    {
     "data": {
      "application/vnd.jupyter.widget-view+json": {
       "model_id": "33ae39a13dc343fc8bfbb93d7ffaa7bb",
       "version_major": 2,
       "version_minor": 0
      },
      "text/plain": [
       "  0%|          | 0/10000 [00:00<?, ?it/s]"
      ]
     },
     "metadata": {},
     "output_type": "display_data"
    },
    {
     "data": {
      "application/vnd.jupyter.widget-view+json": {
       "model_id": "e5825736474c4496b4ecce8c6bc1a52c",
       "version_major": 2,
       "version_minor": 0
      },
      "text/plain": [
       "  0%|          | 0/10000 [00:00<?, ?it/s]"
      ]
     },
     "metadata": {},
     "output_type": "display_data"
    },
    {
     "name": "stderr",
     "output_type": "stream",
     "text": [
      "[20:46:25] WARNING: not removing hydrogen atom without neighbors\n",
      "[20:46:25] WARNING: not removing hydrogen atom without neighbors\n",
      "[20:46:29] WARNING: not removing hydrogen atom without neighbors\n",
      "[20:46:29] WARNING: not removing hydrogen atom without neighbors\n",
      "[20:46:29] WARNING: not removing hydrogen atom without neighbors\n",
      "[20:46:32] WARNING: not removing hydrogen atom without neighbors\n"
     ]
    },
    {
     "data": {
      "application/vnd.jupyter.widget-view+json": {
       "model_id": "0fe5588e5986431c929e48af2b8b02cd",
       "version_major": 2,
       "version_minor": 0
      },
      "text/plain": [
       "  0%|          | 0/10000 [00:00<?, ?it/s]"
      ]
     },
     "metadata": {},
     "output_type": "display_data"
    },
    {
     "data": {
      "application/vnd.jupyter.widget-view+json": {
       "model_id": "fd7490bd7d2745f1a9ef2bb1228e4bf7",
       "version_major": 2,
       "version_minor": 0
      },
      "text/plain": [
       "  0%|          | 0/10000 [00:00<?, ?it/s]"
      ]
     },
     "metadata": {},
     "output_type": "display_data"
    },
    {
     "name": "stderr",
     "output_type": "stream",
     "text": [
      "[20:46:42] WARNING: not removing hydrogen atom without neighbors\n"
     ]
    },
    {
     "data": {
      "application/vnd.jupyter.widget-view+json": {
       "model_id": "b31770989b8f4c3688f7d5bfad1b6851",
       "version_major": 2,
       "version_minor": 0
      },
      "text/plain": [
       "  0%|          | 0/10000 [00:00<?, ?it/s]"
      ]
     },
     "metadata": {},
     "output_type": "display_data"
    },
    {
     "name": "stderr",
     "output_type": "stream",
     "text": [
      "[20:46:49] WARNING: not removing hydrogen atom without neighbors\n",
      "[20:46:49] WARNING: not removing hydrogen atom without neighbors\n"
     ]
    },
    {
     "data": {
      "application/vnd.jupyter.widget-view+json": {
       "model_id": "64a8b68235214222ad829d372ba020d8",
       "version_major": 2,
       "version_minor": 0
      },
      "text/plain": [
       "  0%|          | 0/10000 [00:00<?, ?it/s]"
      ]
     },
     "metadata": {},
     "output_type": "display_data"
    },
    {
     "name": "stderr",
     "output_type": "stream",
     "text": [
      "[20:46:57] WARNING: not removing hydrogen atom without neighbors\n"
     ]
    },
    {
     "data": {
      "application/vnd.jupyter.widget-view+json": {
       "model_id": "85d7b014f7f243379d1489eaa0bb6e89",
       "version_major": 2,
       "version_minor": 0
      },
      "text/plain": [
       "  0%|          | 0/10000 [00:00<?, ?it/s]"
      ]
     },
     "metadata": {},
     "output_type": "display_data"
    },
    {
     "data": {
      "application/vnd.jupyter.widget-view+json": {
       "model_id": "a61491e4c2f64b6a854c974bac7125f0",
       "version_major": 2,
       "version_minor": 0
      },
      "text/plain": [
       "  0%|          | 0/10000 [00:00<?, ?it/s]"
      ]
     },
     "metadata": {},
     "output_type": "display_data"
    },
    {
     "name": "stderr",
     "output_type": "stream",
     "text": [
      "[20:51:56] WARNING: not removing hydrogen atom without neighbors\n"
     ]
    },
    {
     "data": {
      "application/vnd.jupyter.widget-view+json": {
       "model_id": "f283a5f6d41341cab08535d23fd5fc6f",
       "version_major": 2,
       "version_minor": 0
      },
      "text/plain": [
       "  0%|          | 0/10000 [00:00<?, ?it/s]"
      ]
     },
     "metadata": {},
     "output_type": "display_data"
    },
    {
     "data": {
      "application/vnd.jupyter.widget-view+json": {
       "model_id": "914c970865e74544b452729b57a13e1f",
       "version_major": 2,
       "version_minor": 0
      },
      "text/plain": [
       "  0%|          | 0/10000 [00:00<?, ?it/s]"
      ]
     },
     "metadata": {},
     "output_type": "display_data"
    },
    {
     "name": "stderr",
     "output_type": "stream",
     "text": [
      "[20:52:11] WARNING: not removing hydrogen atom without neighbors\n"
     ]
    },
    {
     "data": {
      "application/vnd.jupyter.widget-view+json": {
       "model_id": "518df7c349ce42db85aae05186a63af7",
       "version_major": 2,
       "version_minor": 0
      },
      "text/plain": [
       "  0%|          | 0/10000 [00:00<?, ?it/s]"
      ]
     },
     "metadata": {},
     "output_type": "display_data"
    },
    {
     "name": "stderr",
     "output_type": "stream",
     "text": [
      "[20:52:17] WARNING: not removing hydrogen atom without neighbors\n",
      "[20:52:17] WARNING: not removing hydrogen atom without neighbors\n"
     ]
    },
    {
     "data": {
      "application/vnd.jupyter.widget-view+json": {
       "model_id": "7795f09fcbb3443f9471f000946a186b",
       "version_major": 2,
       "version_minor": 0
      },
      "text/plain": [
       "  0%|          | 0/10000 [00:00<?, ?it/s]"
      ]
     },
     "metadata": {},
     "output_type": "display_data"
    },
    {
     "name": "stderr",
     "output_type": "stream",
     "text": [
      "[20:52:26] WARNING: not removing hydrogen atom without neighbors\n"
     ]
    },
    {
     "data": {
      "application/vnd.jupyter.widget-view+json": {
       "model_id": "31e4aeb9f024403a93bd9d3db32f0bf9",
       "version_major": 2,
       "version_minor": 0
      },
      "text/plain": [
       "  0%|          | 0/10000 [00:00<?, ?it/s]"
      ]
     },
     "metadata": {},
     "output_type": "display_data"
    },
    {
     "data": {
      "application/vnd.jupyter.widget-view+json": {
       "model_id": "8f73b74deaa142fbadd5963b026b00c0",
       "version_major": 2,
       "version_minor": 0
      },
      "text/plain": [
       "  0%|          | 0/10000 [00:00<?, ?it/s]"
      ]
     },
     "metadata": {},
     "output_type": "display_data"
    },
    {
     "name": "stderr",
     "output_type": "stream",
     "text": [
      "[20:58:38] WARNING: not removing hydrogen atom without neighbors\n"
     ]
    },
    {
     "data": {
      "application/vnd.jupyter.widget-view+json": {
       "model_id": "88521317676f421ea608878726df6694",
       "version_major": 2,
       "version_minor": 0
      },
      "text/plain": [
       "  0%|          | 0/10000 [00:00<?, ?it/s]"
      ]
     },
     "metadata": {},
     "output_type": "display_data"
    },
    {
     "data": {
      "application/vnd.jupyter.widget-view+json": {
       "model_id": "f00c7305985e4dc484ad9baa3344ed8a",
       "version_major": 2,
       "version_minor": 0
      },
      "text/plain": [
       "  0%|          | 0/10000 [00:00<?, ?it/s]"
      ]
     },
     "metadata": {},
     "output_type": "display_data"
    },
    {
     "name": "stderr",
     "output_type": "stream",
     "text": [
      "[20:58:51] WARNING: not removing hydrogen atom without neighbors\n"
     ]
    },
    {
     "data": {
      "application/vnd.jupyter.widget-view+json": {
       "model_id": "79dc3e848dbe46598212672e25536588",
       "version_major": 2,
       "version_minor": 0
      },
      "text/plain": [
       "  0%|          | 0/10000 [00:00<?, ?it/s]"
      ]
     },
     "metadata": {},
     "output_type": "display_data"
    },
    {
     "name": "stderr",
     "output_type": "stream",
     "text": [
      "[20:58:58] WARNING: not removing hydrogen atom without neighbors\n",
      "[20:58:58] WARNING: not removing hydrogen atom without neighbors\n"
     ]
    },
    {
     "data": {
      "application/vnd.jupyter.widget-view+json": {
       "model_id": "9a66ef1ca7e949388ad25fd0380882cb",
       "version_major": 2,
       "version_minor": 0
      },
      "text/plain": [
       "  0%|          | 0/10000 [00:00<?, ?it/s]"
      ]
     },
     "metadata": {},
     "output_type": "display_data"
    },
    {
     "name": "stderr",
     "output_type": "stream",
     "text": [
      "[20:59:06] WARNING: not removing hydrogen atom without neighbors\n"
     ]
    },
    {
     "data": {
      "application/vnd.jupyter.widget-view+json": {
       "model_id": "fe03e489bbc34db496dfa1d9bd83a7ec",
       "version_major": 2,
       "version_minor": 0
      },
      "text/plain": [
       "  0%|          | 0/10000 [00:00<?, ?it/s]"
      ]
     },
     "metadata": {},
     "output_type": "display_data"
    },
    {
     "data": {
      "application/vnd.jupyter.widget-view+json": {
       "model_id": "4b2e4e01b223435d93589e9b6d58988a",
       "version_major": 2,
       "version_minor": 0
      },
      "text/plain": [
       "  0%|          | 0/10000 [00:00<?, ?it/s]"
      ]
     },
     "metadata": {},
     "output_type": "display_data"
    },
    {
     "name": "stderr",
     "output_type": "stream",
     "text": [
      "[21:04:00] WARNING: not removing hydrogen atom without neighbors\n"
     ]
    },
    {
     "data": {
      "application/vnd.jupyter.widget-view+json": {
       "model_id": "161a10749e754f7fbb03470a9e1705c6",
       "version_major": 2,
       "version_minor": 0
      },
      "text/plain": [
       "  0%|          | 0/10000 [00:00<?, ?it/s]"
      ]
     },
     "metadata": {},
     "output_type": "display_data"
    },
    {
     "data": {
      "application/vnd.jupyter.widget-view+json": {
       "model_id": "1d7cd9e329d14647af54c4f12361fcef",
       "version_major": 2,
       "version_minor": 0
      },
      "text/plain": [
       "  0%|          | 0/10000 [00:00<?, ?it/s]"
      ]
     },
     "metadata": {},
     "output_type": "display_data"
    },
    {
     "name": "stderr",
     "output_type": "stream",
     "text": [
      "[21:04:12] WARNING: not removing hydrogen atom without neighbors\n",
      "[21:04:14] WARNING: not removing hydrogen atom without neighbors\n"
     ]
    },
    {
     "data": {
      "application/vnd.jupyter.widget-view+json": {
       "model_id": "fa3ce448929e45a7a834414e8dad7dac",
       "version_major": 2,
       "version_minor": 0
      },
      "text/plain": [
       "  0%|          | 0/10000 [00:00<?, ?it/s]"
      ]
     },
     "metadata": {},
     "output_type": "display_data"
    },
    {
     "name": "stderr",
     "output_type": "stream",
     "text": [
      "[21:04:19] WARNING: not removing hydrogen atom without neighbors\n",
      "[21:04:19] WARNING: not removing hydrogen atom without neighbors\n",
      "[21:04:19] WARNING: not removing hydrogen atom without neighbors\n",
      "[21:04:19] WARNING: not removing hydrogen atom without neighbors\n"
     ]
    },
    {
     "data": {
      "application/vnd.jupyter.widget-view+json": {
       "model_id": "f259ec47a7bc446d97bc5ebb8da75974",
       "version_major": 2,
       "version_minor": 0
      },
      "text/plain": [
       "  0%|          | 0/10000 [00:00<?, ?it/s]"
      ]
     },
     "metadata": {},
     "output_type": "display_data"
    },
    {
     "name": "stderr",
     "output_type": "stream",
     "text": [
      "[21:04:27] WARNING: not removing hydrogen atom without neighbors\n",
      "[21:04:28] WARNING: not removing hydrogen atom without neighbors\n"
     ]
    },
    {
     "data": {
      "application/vnd.jupyter.widget-view+json": {
       "model_id": "859b6ae4aa884e4bb4d786d636b16716",
       "version_major": 2,
       "version_minor": 0
      },
      "text/plain": [
       "  0%|          | 0/10000 [00:00<?, ?it/s]"
      ]
     },
     "metadata": {},
     "output_type": "display_data"
    },
    {
     "data": {
      "application/vnd.jupyter.widget-view+json": {
       "model_id": "03876f2159994cb9961ac2fee99d03b2",
       "version_major": 2,
       "version_minor": 0
      },
      "text/plain": [
       "  0%|          | 0/10000 [00:00<?, ?it/s]"
      ]
     },
     "metadata": {},
     "output_type": "display_data"
    },
    {
     "name": "stderr",
     "output_type": "stream",
     "text": [
      "[21:09:24] WARNING: not removing hydrogen atom without neighbors\n",
      "[21:09:25] WARNING: not removing hydrogen atom without neighbors\n"
     ]
    },
    {
     "data": {
      "application/vnd.jupyter.widget-view+json": {
       "model_id": "b85a1131c4744372aba2520dc5ca8ac9",
       "version_major": 2,
       "version_minor": 0
      },
      "text/plain": [
       "  0%|          | 0/10000 [00:00<?, ?it/s]"
      ]
     },
     "metadata": {},
     "output_type": "display_data"
    },
    {
     "data": {
      "application/vnd.jupyter.widget-view+json": {
       "model_id": "8ee443a3eb004360bbcf26ae28928f28",
       "version_major": 2,
       "version_minor": 0
      },
      "text/plain": [
       "  0%|          | 0/10000 [00:00<?, ?it/s]"
      ]
     },
     "metadata": {},
     "output_type": "display_data"
    },
    {
     "name": "stderr",
     "output_type": "stream",
     "text": [
      "[21:09:38] WARNING: not removing hydrogen atom without neighbors\n"
     ]
    },
    {
     "data": {
      "application/vnd.jupyter.widget-view+json": {
       "model_id": "c30afa2a77c04dbf87ea823f67da77ec",
       "version_major": 2,
       "version_minor": 0
      },
      "text/plain": [
       "  0%|          | 0/10000 [00:00<?, ?it/s]"
      ]
     },
     "metadata": {},
     "output_type": "display_data"
    },
    {
     "name": "stderr",
     "output_type": "stream",
     "text": [
      "[21:09:45] WARNING: not removing hydrogen atom without neighbors\n",
      "[21:09:45] WARNING: not removing hydrogen atom without neighbors\n"
     ]
    },
    {
     "data": {
      "application/vnd.jupyter.widget-view+json": {
       "model_id": "c120cf6451574519a110c92f75644c06",
       "version_major": 2,
       "version_minor": 0
      },
      "text/plain": [
       "  0%|          | 0/10000 [00:00<?, ?it/s]"
      ]
     },
     "metadata": {},
     "output_type": "display_data"
    },
    {
     "name": "stderr",
     "output_type": "stream",
     "text": [
      "[21:09:54] WARNING: not removing hydrogen atom without neighbors\n"
     ]
    },
    {
     "data": {
      "application/vnd.jupyter.widget-view+json": {
       "model_id": "b7d04b0e59204d28a783fe969f5a787c",
       "version_major": 2,
       "version_minor": 0
      },
      "text/plain": [
       "  0%|          | 0/10000 [00:00<?, ?it/s]"
      ]
     },
     "metadata": {},
     "output_type": "display_data"
    },
    {
     "data": {
      "application/vnd.jupyter.widget-view+json": {
       "model_id": "9baedd5643e14508b0dff89ea875ca11",
       "version_major": 2,
       "version_minor": 0
      },
      "text/plain": [
       "  0%|          | 0/10000 [00:00<?, ?it/s]"
      ]
     },
     "metadata": {},
     "output_type": "display_data"
    },
    {
     "name": "stderr",
     "output_type": "stream",
     "text": [
      "[21:14:45] WARNING: not removing hydrogen atom without neighbors\n"
     ]
    },
    {
     "data": {
      "application/vnd.jupyter.widget-view+json": {
       "model_id": "de53f7aa9dad4932a4bd1d81b01e1120",
       "version_major": 2,
       "version_minor": 0
      },
      "text/plain": [
       "  0%|          | 0/10000 [00:00<?, ?it/s]"
      ]
     },
     "metadata": {},
     "output_type": "display_data"
    },
    {
     "data": {
      "application/vnd.jupyter.widget-view+json": {
       "model_id": "e59f5ff378b04523a7f169a6caa75d3f",
       "version_major": 2,
       "version_minor": 0
      },
      "text/plain": [
       "  0%|          | 0/10000 [00:00<?, ?it/s]"
      ]
     },
     "metadata": {},
     "output_type": "display_data"
    },
    {
     "name": "stderr",
     "output_type": "stream",
     "text": [
      "[21:15:00] WARNING: not removing hydrogen atom without neighbors\n"
     ]
    },
    {
     "data": {
      "application/vnd.jupyter.widget-view+json": {
       "model_id": "3b58d75bbd93413ba49b605a0141167a",
       "version_major": 2,
       "version_minor": 0
      },
      "text/plain": [
       "  0%|          | 0/10000 [00:00<?, ?it/s]"
      ]
     },
     "metadata": {},
     "output_type": "display_data"
    },
    {
     "name": "stderr",
     "output_type": "stream",
     "text": [
      "[21:15:05] WARNING: not removing hydrogen atom without neighbors\n",
      "[21:15:05] WARNING: not removing hydrogen atom without neighbors\n"
     ]
    },
    {
     "data": {
      "application/vnd.jupyter.widget-view+json": {
       "model_id": "e2bc4cd0e1c141b8b3fc08171d528b7c",
       "version_major": 2,
       "version_minor": 0
      },
      "text/plain": [
       "  0%|          | 0/10000 [00:00<?, ?it/s]"
      ]
     },
     "metadata": {},
     "output_type": "display_data"
    },
    {
     "name": "stderr",
     "output_type": "stream",
     "text": [
      "[21:15:15] WARNING: not removing hydrogen atom without neighbors\n"
     ]
    },
    {
     "data": {
      "application/vnd.jupyter.widget-view+json": {
       "model_id": "cdf932f2d96244949e568d9fb97f8c63",
       "version_major": 2,
       "version_minor": 0
      },
      "text/plain": [
       "  0%|          | 0/10000 [00:00<?, ?it/s]"
      ]
     },
     "metadata": {},
     "output_type": "display_data"
    },
    {
     "data": {
      "application/vnd.jupyter.widget-view+json": {
       "model_id": "b62010d58ff84bcd83487cfe8dfe7ab9",
       "version_major": 2,
       "version_minor": 0
      },
      "text/plain": [
       "  0%|          | 0/10000 [00:00<?, ?it/s]"
      ]
     },
     "metadata": {},
     "output_type": "display_data"
    },
    {
     "name": "stderr",
     "output_type": "stream",
     "text": [
      "[21:20:16] WARNING: not removing hydrogen atom without neighbors\n"
     ]
    },
    {
     "data": {
      "application/vnd.jupyter.widget-view+json": {
       "model_id": "49f688b3392541c0b789babc00ba5d12",
       "version_major": 2,
       "version_minor": 0
      },
      "text/plain": [
       "  0%|          | 0/10000 [00:00<?, ?it/s]"
      ]
     },
     "metadata": {},
     "output_type": "display_data"
    },
    {
     "data": {
      "application/vnd.jupyter.widget-view+json": {
       "model_id": "41d934ab5288473ca02163feb0a08956",
       "version_major": 2,
       "version_minor": 0
      },
      "text/plain": [
       "  0%|          | 0/10000 [00:00<?, ?it/s]"
      ]
     },
     "metadata": {},
     "output_type": "display_data"
    },
    {
     "name": "stderr",
     "output_type": "stream",
     "text": [
      "[21:20:32] WARNING: not removing hydrogen atom without neighbors\n"
     ]
    },
    {
     "data": {
      "application/vnd.jupyter.widget-view+json": {
       "model_id": "00ef48a5cb3447a09993c3ff6afc6a0a",
       "version_major": 2,
       "version_minor": 0
      },
      "text/plain": [
       "  0%|          | 0/10000 [00:00<?, ?it/s]"
      ]
     },
     "metadata": {},
     "output_type": "display_data"
    },
    {
     "name": "stderr",
     "output_type": "stream",
     "text": [
      "[21:20:35] WARNING: not removing hydrogen atom without neighbors\n",
      "[21:20:35] WARNING: not removing hydrogen atom without neighbors\n"
     ]
    },
    {
     "data": {
      "application/vnd.jupyter.widget-view+json": {
       "model_id": "0a2b4f8ad5c04c2ba75463dbcf0bb0ce",
       "version_major": 2,
       "version_minor": 0
      },
      "text/plain": [
       "  0%|          | 0/10000 [00:00<?, ?it/s]"
      ]
     },
     "metadata": {},
     "output_type": "display_data"
    },
    {
     "name": "stderr",
     "output_type": "stream",
     "text": [
      "[21:20:47] WARNING: not removing hydrogen atom without neighbors\n"
     ]
    },
    {
     "data": {
      "application/vnd.jupyter.widget-view+json": {
       "model_id": "373fe6a3948040eb98940067360b88e0",
       "version_major": 2,
       "version_minor": 0
      },
      "text/plain": [
       "  0%|          | 0/10000 [00:00<?, ?it/s]"
      ]
     },
     "metadata": {},
     "output_type": "display_data"
    },
    {
     "data": {
      "application/vnd.jupyter.widget-view+json": {
       "model_id": "cc7b07ad66eb4edf95a444ffa9bcbf35",
       "version_major": 2,
       "version_minor": 0
      },
      "text/plain": [
       "  0%|          | 0/10000 [00:00<?, ?it/s]"
      ]
     },
     "metadata": {},
     "output_type": "display_data"
    },
    {
     "name": "stderr",
     "output_type": "stream",
     "text": [
      "[21:25:44] WARNING: not removing hydrogen atom without neighbors\n"
     ]
    },
    {
     "data": {
      "application/vnd.jupyter.widget-view+json": {
       "model_id": "65eb6c51b8f14454af7e40b9c4f9d088",
       "version_major": 2,
       "version_minor": 0
      },
      "text/plain": [
       "  0%|          | 0/10000 [00:00<?, ?it/s]"
      ]
     },
     "metadata": {},
     "output_type": "display_data"
    },
    {
     "data": {
      "application/vnd.jupyter.widget-view+json": {
       "model_id": "8c153a6ab5054b8c8e409a449d1b8a54",
       "version_major": 2,
       "version_minor": 0
      },
      "text/plain": [
       "  0%|          | 0/10000 [00:00<?, ?it/s]"
      ]
     },
     "metadata": {},
     "output_type": "display_data"
    },
    {
     "data": {
      "application/vnd.jupyter.widget-view+json": {
       "model_id": "69257bcff8d942f6b3135f9590b755f0",
       "version_major": 2,
       "version_minor": 0
      },
      "text/plain": [
       "  0%|          | 0/10000 [00:00<?, ?it/s]"
      ]
     },
     "metadata": {},
     "output_type": "display_data"
    },
    {
     "data": {
      "application/vnd.jupyter.widget-view+json": {
       "model_id": "1c9090631dc44c6190b8856e076514d7",
       "version_major": 2,
       "version_minor": 0
      },
      "text/plain": [
       "  0%|          | 0/10000 [00:00<?, ?it/s]"
      ]
     },
     "metadata": {},
     "output_type": "display_data"
    },
    {
     "data": {
      "application/vnd.jupyter.widget-view+json": {
       "model_id": "ac303d4fc6e8448cb3d4373512ba2936",
       "version_major": 2,
       "version_minor": 0
      },
      "text/plain": [
       "  0%|          | 0/10000 [00:00<?, ?it/s]"
      ]
     },
     "metadata": {},
     "output_type": "display_data"
    },
    {
     "data": {
      "application/vnd.jupyter.widget-view+json": {
       "model_id": "cbbab874481d4ab4b8f5f57ba19e80c3",
       "version_major": 2,
       "version_minor": 0
      },
      "text/plain": [
       "  0%|          | 0/10000 [00:00<?, ?it/s]"
      ]
     },
     "metadata": {},
     "output_type": "display_data"
    },
    {
     "data": {
      "application/vnd.jupyter.widget-view+json": {
       "model_id": "8a4a4246061542d7bc53fe7e41ae079a",
       "version_major": 2,
       "version_minor": 0
      },
      "text/plain": [
       "  0%|          | 0/10000 [00:00<?, ?it/s]"
      ]
     },
     "metadata": {},
     "output_type": "display_data"
    },
    {
     "data": {
      "application/vnd.jupyter.widget-view+json": {
       "model_id": "e3a76cb91a0f4422a8d0e26cf466912c",
       "version_major": 2,
       "version_minor": 0
      },
      "text/plain": [
       "  0%|          | 0/10000 [00:00<?, ?it/s]"
      ]
     },
     "metadata": {},
     "output_type": "display_data"
    },
    {
     "name": "stderr",
     "output_type": "stream",
     "text": [
      "[21:31:23] WARNING: not removing hydrogen atom without neighbors\n"
     ]
    },
    {
     "data": {
      "application/vnd.jupyter.widget-view+json": {
       "model_id": "0120179e941644e4bd3fc6e33f587b3c",
       "version_major": 2,
       "version_minor": 0
      },
      "text/plain": [
       "  0%|          | 0/10000 [00:00<?, ?it/s]"
      ]
     },
     "metadata": {},
     "output_type": "display_data"
    },
    {
     "name": "stderr",
     "output_type": "stream",
     "text": [
      "[21:31:26] WARNING: not removing hydrogen atom without neighbors\n",
      "[21:31:26] WARNING: not removing hydrogen atom without neighbors\n"
     ]
    },
    {
     "data": {
      "application/vnd.jupyter.widget-view+json": {
       "model_id": "484d7497cdc444788669936939764d85",
       "version_major": 2,
       "version_minor": 0
      },
      "text/plain": [
       "  0%|          | 0/10000 [00:00<?, ?it/s]"
      ]
     },
     "metadata": {},
     "output_type": "display_data"
    },
    {
     "name": "stderr",
     "output_type": "stream",
     "text": [
      "[21:31:38] WARNING: not removing hydrogen atom without neighbors\n"
     ]
    },
    {
     "data": {
      "application/vnd.jupyter.widget-view+json": {
       "model_id": "216b8ea16ff3484590b0d471642ea200",
       "version_major": 2,
       "version_minor": 0
      },
      "text/plain": [
       "  0%|          | 0/10000 [00:00<?, ?it/s]"
      ]
     },
     "metadata": {},
     "output_type": "display_data"
    },
    {
     "data": {
      "application/vnd.jupyter.widget-view+json": {
       "model_id": "45ecc6e171a846d7b6ebd4f2c378d17e",
       "version_major": 2,
       "version_minor": 0
      },
      "text/plain": [
       "  0%|          | 0/10000 [00:00<?, ?it/s]"
      ]
     },
     "metadata": {},
     "output_type": "display_data"
    },
    {
     "name": "stderr",
     "output_type": "stream",
     "text": [
      "[21:36:33] WARNING: not removing hydrogen atom without neighbors\n"
     ]
    },
    {
     "data": {
      "application/vnd.jupyter.widget-view+json": {
       "model_id": "e435c061b59a4aaea37290dea6454bf8",
       "version_major": 2,
       "version_minor": 0
      },
      "text/plain": [
       "  0%|          | 0/10000 [00:00<?, ?it/s]"
      ]
     },
     "metadata": {},
     "output_type": "display_data"
    },
    {
     "data": {
      "application/vnd.jupyter.widget-view+json": {
       "model_id": "b4f8618a2bce40c48c66b683dced9416",
       "version_major": 2,
       "version_minor": 0
      },
      "text/plain": [
       "  0%|          | 0/10000 [00:00<?, ?it/s]"
      ]
     },
     "metadata": {},
     "output_type": "display_data"
    },
    {
     "data": {
      "application/vnd.jupyter.widget-view+json": {
       "model_id": "0a077f86b75c42cba7cf7389449a40b2",
       "version_major": 2,
       "version_minor": 0
      },
      "text/plain": [
       "  0%|          | 0/10000 [00:00<?, ?it/s]"
      ]
     },
     "metadata": {},
     "output_type": "display_data"
    },
    {
     "data": {
      "application/vnd.jupyter.widget-view+json": {
       "model_id": "a497fcf23085483abe4cd56d6a1c189e",
       "version_major": 2,
       "version_minor": 0
      },
      "text/plain": [
       "  0%|          | 0/10000 [00:00<?, ?it/s]"
      ]
     },
     "metadata": {},
     "output_type": "display_data"
    },
    {
     "data": {
      "application/vnd.jupyter.widget-view+json": {
       "model_id": "643642713d5349a7977b2b6aaa47dfa7",
       "version_major": 2,
       "version_minor": 0
      },
      "text/plain": [
       "  0%|          | 0/10000 [00:00<?, ?it/s]"
      ]
     },
     "metadata": {},
     "output_type": "display_data"
    },
    {
     "data": {
      "application/vnd.jupyter.widget-view+json": {
       "model_id": "1e339b6d9e8d4b49a2405028cc17b80c",
       "version_major": 2,
       "version_minor": 0
      },
      "text/plain": [
       "  0%|          | 0/10000 [00:00<?, ?it/s]"
      ]
     },
     "metadata": {},
     "output_type": "display_data"
    },
    {
     "data": {
      "application/vnd.jupyter.widget-view+json": {
       "model_id": "08b9ec06461b4768b3b6c7d1c3d92b96",
       "version_major": 2,
       "version_minor": 0
      },
      "text/plain": [
       "  0%|          | 0/10000 [00:00<?, ?it/s]"
      ]
     },
     "metadata": {},
     "output_type": "display_data"
    },
    {
     "data": {
      "application/vnd.jupyter.widget-view+json": {
       "model_id": "e3edc181a88e45098600dfef36256041",
       "version_major": 2,
       "version_minor": 0
      },
      "text/plain": [
       "  0%|          | 0/10000 [00:00<?, ?it/s]"
      ]
     },
     "metadata": {},
     "output_type": "display_data"
    },
    {
     "data": {
      "application/vnd.jupyter.widget-view+json": {
       "model_id": "cab525d24557470da4001d0ce46b6543",
       "version_major": 2,
       "version_minor": 0
      },
      "text/plain": [
       "  0%|          | 0/10000 [00:00<?, ?it/s]"
      ]
     },
     "metadata": {},
     "output_type": "display_data"
    },
    {
     "data": {
      "application/vnd.jupyter.widget-view+json": {
       "model_id": "392128efcb9c4cb9a5e57e508c396eff",
       "version_major": 2,
       "version_minor": 0
      },
      "text/plain": [
       "  0%|          | 0/10000 [00:00<?, ?it/s]"
      ]
     },
     "metadata": {},
     "output_type": "display_data"
    },
    {
     "data": {
      "application/vnd.jupyter.widget-view+json": {
       "model_id": "3f2d9a1ff9b14b9abbf56c579d2b6239",
       "version_major": 2,
       "version_minor": 0
      },
      "text/plain": [
       "  0%|          | 0/10000 [00:00<?, ?it/s]"
      ]
     },
     "metadata": {},
     "output_type": "display_data"
    },
    {
     "data": {
      "application/vnd.jupyter.widget-view+json": {
       "model_id": "92268fed3a044301bc624b298cf6a430",
       "version_major": 2,
       "version_minor": 0
      },
      "text/plain": [
       "  0%|          | 0/10000 [00:00<?, ?it/s]"
      ]
     },
     "metadata": {},
     "output_type": "display_data"
    },
    {
     "data": {
      "application/vnd.jupyter.widget-view+json": {
       "model_id": "51339db0c0c148d1b278f74d7e3f4928",
       "version_major": 2,
       "version_minor": 0
      },
      "text/plain": [
       "  0%|          | 0/10000 [00:00<?, ?it/s]"
      ]
     },
     "metadata": {},
     "output_type": "display_data"
    },
    {
     "data": {
      "application/vnd.jupyter.widget-view+json": {
       "model_id": "839db0e230d64e629edd7decb236f7b1",
       "version_major": 2,
       "version_minor": 0
      },
      "text/plain": [
       "  0%|          | 0/10000 [00:00<?, ?it/s]"
      ]
     },
     "metadata": {},
     "output_type": "display_data"
    },
    {
     "name": "stderr",
     "output_type": "stream",
     "text": [
      "[21:47:43] WARNING: not removing hydrogen atom without neighbors\n",
      "[21:47:43] WARNING: not removing hydrogen atom without neighbors\n",
      "[21:47:45] WARNING: not removing hydrogen atom without neighbors\n"
     ]
    },
    {
     "data": {
      "application/vnd.jupyter.widget-view+json": {
       "model_id": "7aa7b76dc1d64177a84b28cde58440e6",
       "version_major": 2,
       "version_minor": 0
      },
      "text/plain": [
       "  0%|          | 0/10000 [00:00<?, ?it/s]"
      ]
     },
     "metadata": {},
     "output_type": "display_data"
    },
    {
     "name": "stderr",
     "output_type": "stream",
     "text": [
      "[21:47:51] WARNING: not removing hydrogen atom without neighbors\n",
      "[21:47:51] WARNING: not removing hydrogen atom without neighbors\n",
      "[21:47:51] WARNING: not removing hydrogen atom without neighbors\n",
      "[21:47:51] WARNING: not removing hydrogen atom without neighbors\n",
      "[21:47:51] WARNING: not removing hydrogen atom without neighbors\n",
      "[21:47:51] WARNING: not removing hydrogen atom without neighbors\n"
     ]
    },
    {
     "data": {
      "application/vnd.jupyter.widget-view+json": {
       "model_id": "c0dcba0b129e40f0a32055f0332d6299",
       "version_major": 2,
       "version_minor": 0
      },
      "text/plain": [
       "  0%|          | 0/10000 [00:00<?, ?it/s]"
      ]
     },
     "metadata": {},
     "output_type": "display_data"
    },
    {
     "name": "stderr",
     "output_type": "stream",
     "text": [
      "[21:47:58] WARNING: not removing hydrogen atom without neighbors\n",
      "[21:47:58] WARNING: not removing hydrogen atom without neighbors\n",
      "[21:48:00] WARNING: not removing hydrogen atom without neighbors\n"
     ]
    },
    {
     "data": {
      "application/vnd.jupyter.widget-view+json": {
       "model_id": "da520292809046c7a67b063f6482d290",
       "version_major": 2,
       "version_minor": 0
      },
      "text/plain": [
       "  0%|          | 0/10000 [00:00<?, ?it/s]"
      ]
     },
     "metadata": {},
     "output_type": "display_data"
    },
    {
     "data": {
      "application/vnd.jupyter.widget-view+json": {
       "model_id": "10f876ecb67e41a7bad723c4885946b1",
       "version_major": 2,
       "version_minor": 0
      },
      "text/plain": [
       "  0%|          | 0/10000 [00:00<?, ?it/s]"
      ]
     },
     "metadata": {},
     "output_type": "display_data"
    },
    {
     "name": "stderr",
     "output_type": "stream",
     "text": [
      "[21:52:56] WARNING: not removing hydrogen atom without neighbors\n",
      "[21:52:56] WARNING: not removing hydrogen atom without neighbors\n",
      "[21:52:59] WARNING: not removing hydrogen atom without neighbors\n"
     ]
    },
    {
     "data": {
      "application/vnd.jupyter.widget-view+json": {
       "model_id": "95dd6ef9765d437795b4c1a685f5a9bc",
       "version_major": 2,
       "version_minor": 0
      },
      "text/plain": [
       "  0%|          | 0/10000 [00:00<?, ?it/s]"
      ]
     },
     "metadata": {},
     "output_type": "display_data"
    },
    {
     "data": {
      "application/vnd.jupyter.widget-view+json": {
       "model_id": "bc182a9b2eac48a5a4aa040853c9b26a",
       "version_major": 2,
       "version_minor": 0
      },
      "text/plain": [
       "  0%|          | 0/10000 [00:00<?, ?it/s]"
      ]
     },
     "metadata": {},
     "output_type": "display_data"
    },
    {
     "data": {
      "application/vnd.jupyter.widget-view+json": {
       "model_id": "ec2490153c5a4e2fa1ad62a8c048be0f",
       "version_major": 2,
       "version_minor": 0
      },
      "text/plain": [
       "  0%|          | 0/10000 [00:00<?, ?it/s]"
      ]
     },
     "metadata": {},
     "output_type": "display_data"
    },
    {
     "data": {
      "application/vnd.jupyter.widget-view+json": {
       "model_id": "589fa494c2624ea7993bafb081b494b6",
       "version_major": 2,
       "version_minor": 0
      },
      "text/plain": [
       "  0%|          | 0/10000 [00:00<?, ?it/s]"
      ]
     },
     "metadata": {},
     "output_type": "display_data"
    },
    {
     "data": {
      "application/vnd.jupyter.widget-view+json": {
       "model_id": "2a5f166bf017492ebc2eb4f847a294e2",
       "version_major": 2,
       "version_minor": 0
      },
      "text/plain": [
       "  0%|          | 0/10000 [00:00<?, ?it/s]"
      ]
     },
     "metadata": {},
     "output_type": "display_data"
    },
    {
     "data": {
      "application/vnd.jupyter.widget-view+json": {
       "model_id": "80b9e5e7eb3e4b93b117f6b3c2856e3f",
       "version_major": 2,
       "version_minor": 0
      },
      "text/plain": [
       "  0%|          | 0/10000 [00:00<?, ?it/s]"
      ]
     },
     "metadata": {},
     "output_type": "display_data"
    },
    {
     "data": {
      "application/vnd.jupyter.widget-view+json": {
       "model_id": "669e2f5fe9b943a5bd5ff551e22845f2",
       "version_major": 2,
       "version_minor": 0
      },
      "text/plain": [
       "  0%|          | 0/10000 [00:00<?, ?it/s]"
      ]
     },
     "metadata": {},
     "output_type": "display_data"
    },
    {
     "data": {
      "application/vnd.jupyter.widget-view+json": {
       "model_id": "6438cca621514a5e9d76c6fee7c047c7",
       "version_major": 2,
       "version_minor": 0
      },
      "text/plain": [
       "  0%|          | 0/10000 [00:00<?, ?it/s]"
      ]
     },
     "metadata": {},
     "output_type": "display_data"
    },
    {
     "name": "stderr",
     "output_type": "stream",
     "text": [
      "[21:58:51] WARNING: not removing hydrogen atom without neighbors\n"
     ]
    },
    {
     "data": {
      "application/vnd.jupyter.widget-view+json": {
       "model_id": "fd545c31e9484e5cbf482ac8d9036692",
       "version_major": 2,
       "version_minor": 0
      },
      "text/plain": [
       "  0%|          | 0/10000 [00:00<?, ?it/s]"
      ]
     },
     "metadata": {},
     "output_type": "display_data"
    },
    {
     "name": "stderr",
     "output_type": "stream",
     "text": [
      "[21:59:00] WARNING: not removing hydrogen atom without neighbors\n",
      "[21:59:00] WARNING: not removing hydrogen atom without neighbors\n"
     ]
    },
    {
     "data": {
      "application/vnd.jupyter.widget-view+json": {
       "model_id": "b77e187654274dc0947d97bfb98e5c9a",
       "version_major": 2,
       "version_minor": 0
      },
      "text/plain": [
       "  0%|          | 0/10000 [00:00<?, ?it/s]"
      ]
     },
     "metadata": {},
     "output_type": "display_data"
    },
    {
     "name": "stderr",
     "output_type": "stream",
     "text": [
      "[21:59:07] WARNING: not removing hydrogen atom without neighbors\n"
     ]
    },
    {
     "data": {
      "application/vnd.jupyter.widget-view+json": {
       "model_id": "19b03e321b4840e3ada8001f7ea73f9d",
       "version_major": 2,
       "version_minor": 0
      },
      "text/plain": [
       "  0%|          | 0/10000 [00:00<?, ?it/s]"
      ]
     },
     "metadata": {},
     "output_type": "display_data"
    },
    {
     "data": {
      "application/vnd.jupyter.widget-view+json": {
       "model_id": "9fabac9ac3e24ca0a29e8915032d47e6",
       "version_major": 2,
       "version_minor": 0
      },
      "text/plain": [
       "  0%|          | 0/10000 [00:00<?, ?it/s]"
      ]
     },
     "metadata": {},
     "output_type": "display_data"
    },
    {
     "name": "stderr",
     "output_type": "stream",
     "text": [
      "[22:04:11] WARNING: not removing hydrogen atom without neighbors\n"
     ]
    },
    {
     "data": {
      "application/vnd.jupyter.widget-view+json": {
       "model_id": "5dcdd172793741c8a552cc86b0c3b708",
       "version_major": 2,
       "version_minor": 0
      },
      "text/plain": [
       "  0%|          | 0/10000 [00:00<?, ?it/s]"
      ]
     },
     "metadata": {},
     "output_type": "display_data"
    },
    {
     "data": {
      "application/vnd.jupyter.widget-view+json": {
       "model_id": "ce6563912a774aba932a154b38e2e4e6",
       "version_major": 2,
       "version_minor": 0
      },
      "text/plain": [
       "  0%|          | 0/10000 [00:00<?, ?it/s]"
      ]
     },
     "metadata": {},
     "output_type": "display_data"
    },
    {
     "name": "stderr",
     "output_type": "stream",
     "text": [
      "[22:04:25] WARNING: not removing hydrogen atom without neighbors\n"
     ]
    },
    {
     "data": {
      "application/vnd.jupyter.widget-view+json": {
       "model_id": "b82f2a2b57f349a78da69f74ac65466c",
       "version_major": 2,
       "version_minor": 0
      },
      "text/plain": [
       "  0%|          | 0/10000 [00:00<?, ?it/s]"
      ]
     },
     "metadata": {},
     "output_type": "display_data"
    },
    {
     "name": "stderr",
     "output_type": "stream",
     "text": [
      "[22:04:40] WARNING: not removing hydrogen atom without neighbors\n",
      "[22:04:40] WARNING: not removing hydrogen atom without neighbors\n"
     ]
    },
    {
     "data": {
      "application/vnd.jupyter.widget-view+json": {
       "model_id": "d918482ba7ad44a181cc82d7c85fd5ec",
       "version_major": 2,
       "version_minor": 0
      },
      "text/plain": [
       "  0%|          | 0/10000 [00:00<?, ?it/s]"
      ]
     },
     "metadata": {},
     "output_type": "display_data"
    },
    {
     "name": "stderr",
     "output_type": "stream",
     "text": [
      "[22:04:46] WARNING: not removing hydrogen atom without neighbors\n"
     ]
    },
    {
     "data": {
      "application/vnd.jupyter.widget-view+json": {
       "model_id": "64a2b7ef1f0d42a196e9f0161dd22e15",
       "version_major": 2,
       "version_minor": 0
      },
      "text/plain": [
       "  0%|          | 0/10000 [00:00<?, ?it/s]"
      ]
     },
     "metadata": {},
     "output_type": "display_data"
    },
    {
     "data": {
      "application/vnd.jupyter.widget-view+json": {
       "model_id": "bc07ff673efc4202bff6f6a1f26a5b34",
       "version_major": 2,
       "version_minor": 0
      },
      "text/plain": [
       "  0%|          | 0/10000 [00:00<?, ?it/s]"
      ]
     },
     "metadata": {},
     "output_type": "display_data"
    },
    {
     "name": "stderr",
     "output_type": "stream",
     "text": [
      "[22:10:21] WARNING: not removing hydrogen atom without neighbors\n"
     ]
    },
    {
     "data": {
      "application/vnd.jupyter.widget-view+json": {
       "model_id": "b9db6e0bbb944a9bb09d2307ef14991f",
       "version_major": 2,
       "version_minor": 0
      },
      "text/plain": [
       "  0%|          | 0/10000 [00:00<?, ?it/s]"
      ]
     },
     "metadata": {},
     "output_type": "display_data"
    },
    {
     "data": {
      "application/vnd.jupyter.widget-view+json": {
       "model_id": "7ec122630b054732a08aa70c6a658770",
       "version_major": 2,
       "version_minor": 0
      },
      "text/plain": [
       "  0%|          | 0/9103 [00:00<?, ?it/s]"
      ]
     },
     "metadata": {},
     "output_type": "display_data"
    },
    {
     "data": {
      "application/vnd.jupyter.widget-view+json": {
       "model_id": "0a13a333467f4f9880cfb68e5475794f",
       "version_major": 2,
       "version_minor": 0
      },
      "text/plain": [
       "  0%|          | 0/9103 [00:00<?, ?it/s]"
      ]
     },
     "metadata": {},
     "output_type": "display_data"
    },
    {
     "data": {
      "application/vnd.jupyter.widget-view+json": {
       "model_id": "4c18e8a399f74d5caf957b3e294a26df",
       "version_major": 2,
       "version_minor": 0
      },
      "text/plain": [
       "  0%|          | 0/9103 [00:00<?, ?it/s]"
      ]
     },
     "metadata": {},
     "output_type": "display_data"
    },
    {
     "data": {
      "application/vnd.jupyter.widget-view+json": {
       "model_id": "2ebb77fac46f406ba77d6dda06a34f01",
       "version_major": 2,
       "version_minor": 0
      },
      "text/plain": [
       "  0%|          | 0/9103 [00:00<?, ?it/s]"
      ]
     },
     "metadata": {},
     "output_type": "display_data"
    },
    {
     "data": {
      "application/vnd.jupyter.widget-view+json": {
       "model_id": "a00030343b094849a28161f408ae8b42",
       "version_major": 2,
       "version_minor": 0
      },
      "text/plain": [
       "  0%|          | 0/9103 [00:00<?, ?it/s]"
      ]
     },
     "metadata": {},
     "output_type": "display_data"
    },
    {
     "data": {
      "application/vnd.jupyter.widget-view+json": {
       "model_id": "b1f1206b1f3e45b194f9a082f06b65dd",
       "version_major": 2,
       "version_minor": 0
      },
      "text/plain": [
       "  0%|          | 0/9103 [00:00<?, ?it/s]"
      ]
     },
     "metadata": {},
     "output_type": "display_data"
    },
    {
     "data": {
      "application/vnd.jupyter.widget-view+json": {
       "model_id": "1e510895e6e44b31b78c345880bc464d",
       "version_major": 2,
       "version_minor": 0
      },
      "text/plain": [
       "0it [00:00, ?it/s]"
      ]
     },
     "metadata": {},
     "output_type": "display_data"
    },
    {
     "data": {
      "application/vnd.jupyter.widget-view+json": {
       "model_id": "89c522c23fe840df85c2d3be4224f518",
       "version_major": 2,
       "version_minor": 0
      },
      "text/plain": [
       "0it [00:00, ?it/s]"
      ]
     },
     "metadata": {},
     "output_type": "display_data"
    },
    {
     "data": {
      "application/vnd.jupyter.widget-view+json": {
       "model_id": "e0b33d27ca114a33987c325f65393a75",
       "version_major": 2,
       "version_minor": 0
      },
      "text/plain": [
       "0it [00:00, ?it/s]"
      ]
     },
     "metadata": {},
     "output_type": "display_data"
    },
    {
     "data": {
      "application/vnd.jupyter.widget-view+json": {
       "model_id": "33cecdf5c042409ab371b483d2d0360d",
       "version_major": 2,
       "version_minor": 0
      },
      "text/plain": [
       "0it [00:00, ?it/s]"
      ]
     },
     "metadata": {},
     "output_type": "display_data"
    },
    {
     "data": {
      "application/vnd.jupyter.widget-view+json": {
       "model_id": "93b40d6bbfcc48aa81ad4e465a9b3512",
       "version_major": 2,
       "version_minor": 0
      },
      "text/plain": [
       "0it [00:00, ?it/s]"
      ]
     },
     "metadata": {},
     "output_type": "display_data"
    },
    {
     "data": {
      "application/vnd.jupyter.widget-view+json": {
       "model_id": "c1c2568a83b042f284389a2bdfaee28b",
       "version_major": 2,
       "version_minor": 0
      },
      "text/plain": [
       "0it [00:00, ?it/s]"
      ]
     },
     "metadata": {},
     "output_type": "display_data"
    }
   ],
   "source": [
    "for i in tqdm(data.columns[10:11]):\n",
    "    for j in range(0,780001, 10000):\n",
    "        rd = RDKit_2D(data[i].loc[j:j+10000-1])\n",
    "        rd.compute_2Drdkit(f\"{i}_{j}={j+10000}\")\n",
    "\n",
    "        rd = ECFP6(data[i].loc[j:j+10000-1])\n",
    "        rd.compute_ECFP6(f\"{i}_{j}={j+10000}\")\n",
    "\n",
    "        rd = MACCS(data[i].loc[j:j+10000-1])\n",
    "        rd.compute_MACCS(f\"{i}_{j}={j+10000}\")\n",
    "\n",
    "    "
   ]
  },
  {
   "cell_type": "code",
   "execution_count": null,
   "metadata": {},
   "outputs": [],
   "source": []
  }
 ],
 "metadata": {
  "kernelspec": {
   "display_name": "Python 3",
   "language": "python",
   "name": "python3"
  },
  "language_info": {
   "codemirror_mode": {
    "name": "ipython",
    "version": 3
   },
   "file_extension": ".py",
   "mimetype": "text/x-python",
   "name": "python",
   "nbconvert_exporter": "python",
   "pygments_lexer": "ipython3",
   "version": "3.7.3"
  }
 },
 "nbformat": 4,
 "nbformat_minor": 5
}
