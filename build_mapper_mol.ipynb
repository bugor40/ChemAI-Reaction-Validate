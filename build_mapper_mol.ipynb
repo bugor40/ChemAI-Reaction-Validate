{
 "cells": [
  {
   "cell_type": "code",
   "execution_count": 1,
   "id": "0c6eaa10-8a5c-4606-8c5b-030d15f07dd3",
   "metadata": {
    "execution": {
     "iopub.execute_input": "2024-04-30T13:17:18.064258Z",
     "iopub.status.busy": "2024-04-30T13:17:18.063178Z",
     "iopub.status.idle": "2024-04-30T13:17:18.973364Z",
     "shell.execute_reply": "2024-04-30T13:17:18.972605Z",
     "shell.execute_reply.started": "2024-04-30T13:17:18.064183Z"
    },
    "tags": []
   },
   "outputs": [],
   "source": [
    "import pandas as pd\n",
    "from rdkit import Chem, DataStructs\n",
    "from rdkit.Chem import Descriptors, AllChem, MACCSkeys\n",
    "from rdkit.ML.Descriptors import MoleculeDescriptors\n",
    "import numpy as np\n",
    "from tqdm import tqdm\n",
    "\n",
    "import warnings\n",
    "warnings.filterwarnings(\"ignore\")"
   ]
  },
  {
   "cell_type": "markdown",
   "id": "30e70c9d-a911-48d4-9a97-238192f2d959",
   "metadata": {},
   "source": [
    "## Загружаем данные"
   ]
  },
  {
   "cell_type": "markdown",
   "id": "0d8a50b1-3794-45d1-8bf9-a8e11e587fb2",
   "metadata": {
    "tags": []
   },
   "source": [
    "Выбираем только интермедиаты и агенты"
   ]
  },
  {
   "cell_type": "code",
   "execution_count": 2,
   "id": "5c6d15d2-4afb-47da-9766-7c27bff5bbee",
   "metadata": {
    "execution": {
     "iopub.execute_input": "2024-04-30T13:17:24.572746Z",
     "iopub.status.busy": "2024-04-30T13:17:24.571819Z",
     "iopub.status.idle": "2024-04-30T13:17:29.833659Z",
     "shell.execute_reply": "2024-04-30T13:17:29.832926Z",
     "shell.execute_reply.started": "2024-04-30T13:17:24.572696Z"
    },
    "tags": []
   },
   "outputs": [
    {
     "data": {
      "text/html": [
       "<div>\n",
       "<style scoped>\n",
       "    .dataframe tbody tr th:only-of-type {\n",
       "        vertical-align: middle;\n",
       "    }\n",
       "\n",
       "    .dataframe tbody tr th {\n",
       "        vertical-align: top;\n",
       "    }\n",
       "\n",
       "    .dataframe thead th {\n",
       "        text-align: right;\n",
       "    }\n",
       "</style>\n",
       "<table border=\"1\" class=\"dataframe\">\n",
       "  <thead>\n",
       "    <tr style=\"text-align: right;\">\n",
       "      <th></th>\n",
       "      <th>interm_0</th>\n",
       "      <th>interm_1</th>\n",
       "      <th>interm_2</th>\n",
       "      <th>interm_3</th>\n",
       "      <th>interm_4</th>\n",
       "      <th>interm_5</th>\n",
       "      <th>interm_6</th>\n",
       "      <th>interm_7</th>\n",
       "      <th>interm_8</th>\n",
       "      <th>interm_9</th>\n",
       "      <th>agents_0</th>\n",
       "      <th>agents_1</th>\n",
       "      <th>agents_2</th>\n",
       "    </tr>\n",
       "  </thead>\n",
       "  <tbody>\n",
       "    <tr>\n",
       "      <th>0</th>\n",
       "      <td>O[C:12]1([CH2:13][C:14](=[O:15])[O:16][CH2:17]...</td>\n",
       "      <td>Cl</td>\n",
       "      <td>NaN</td>\n",
       "      <td>NaN</td>\n",
       "      <td>NaN</td>\n",
       "      <td>NaN</td>\n",
       "      <td>NaN</td>\n",
       "      <td>NaN</td>\n",
       "      <td>NaN</td>\n",
       "      <td>NaN</td>\n",
       "      <td>CCO</td>\n",
       "      <td>NaN</td>\n",
       "      <td>NaN</td>\n",
       "    </tr>\n",
       "    <tr>\n",
       "      <th>1</th>\n",
       "      <td>CC[O:16][C:14]([CH:13]=[C:12]1[C:6]2=[C:7]([N:...</td>\n",
       "      <td>[OH-]</td>\n",
       "      <td>[K+]</td>\n",
       "      <td>Cl</td>\n",
       "      <td>NaN</td>\n",
       "      <td>NaN</td>\n",
       "      <td>NaN</td>\n",
       "      <td>NaN</td>\n",
       "      <td>NaN</td>\n",
       "      <td>NaN</td>\n",
       "      <td>CCO</td>\n",
       "      <td>NaN</td>\n",
       "      <td>NaN</td>\n",
       "    </tr>\n",
       "    <tr>\n",
       "      <th>2</th>\n",
       "      <td>[H-]</td>\n",
       "      <td>[Al+3]</td>\n",
       "      <td>[Li+]</td>\n",
       "      <td>[H-]</td>\n",
       "      <td>[H-]</td>\n",
       "      <td>[H-]</td>\n",
       "      <td>O=[C:20]([CH2:19][C:18]1=[CH:17][C:16]2=[C:15]...</td>\n",
       "      <td>CCOC(C)=O</td>\n",
       "      <td>[OH-]</td>\n",
       "      <td>[Na+]</td>\n",
       "      <td>C1CCOC1</td>\n",
       "      <td>NaN</td>\n",
       "      <td>NaN</td>\n",
       "    </tr>\n",
       "    <tr>\n",
       "      <th>3</th>\n",
       "      <td>[NH2:1][C:2]1=[CH:13][C:6]2=[C:5]([CH:4]=[CH:3...</td>\n",
       "      <td>CC(=O)O[C:14]([CH3:15])=[O:16]</td>\n",
       "      <td>NaN</td>\n",
       "      <td>NaN</td>\n",
       "      <td>NaN</td>\n",
       "      <td>NaN</td>\n",
       "      <td>NaN</td>\n",
       "      <td>NaN</td>\n",
       "      <td>NaN</td>\n",
       "      <td>NaN</td>\n",
       "      <td>C1=CC=CC=C1</td>\n",
       "      <td>NaN</td>\n",
       "      <td>NaN</td>\n",
       "    </tr>\n",
       "    <tr>\n",
       "      <th>4</th>\n",
       "      <td>[C:1]([CH3:2])([CH3:3])([CH3:4])[NH:5][NH:6][C...</td>\n",
       "      <td>ClCCl</td>\n",
       "      <td>BrBr</td>\n",
       "      <td>NaN</td>\n",
       "      <td>NaN</td>\n",
       "      <td>NaN</td>\n",
       "      <td>NaN</td>\n",
       "      <td>NaN</td>\n",
       "      <td>NaN</td>\n",
       "      <td>NaN</td>\n",
       "      <td>O</td>\n",
       "      <td>NaN</td>\n",
       "      <td>NaN</td>\n",
       "    </tr>\n",
       "  </tbody>\n",
       "</table>\n",
       "</div>"
      ],
      "text/plain": [
       "                                            interm_0  ... agents_2\n",
       "0  O[C:12]1([CH2:13][C:14](=[O:15])[O:16][CH2:17]...  ...      NaN\n",
       "1  CC[O:16][C:14]([CH:13]=[C:12]1[C:6]2=[C:7]([N:...  ...      NaN\n",
       "2                                               [H-]  ...      NaN\n",
       "3  [NH2:1][C:2]1=[CH:13][C:6]2=[C:5]([CH:4]=[CH:3...  ...      NaN\n",
       "4  [C:1]([CH3:2])([CH3:3])([CH3:4])[NH:5][NH:6][C...  ...      NaN\n",
       "\n",
       "[5 rows x 13 columns]"
      ]
     },
     "execution_count": 2,
     "metadata": {},
     "output_type": "execute_result"
    }
   ],
   "source": [
    "df = pd.read_table('/home/jupyter/datasphere/project/reaction_preparation.tsv')\n",
    "df = df.iloc[:, :-1]\n",
    "df.head()"
   ]
  },
  {
   "cell_type": "markdown",
   "id": "6471a739-a77b-42c2-91b7-9a8daa6fddd0",
   "metadata": {},
   "source": [
    "## Для того чтобы не считать одно и тоже для одинаковых соединений, просто выделим все уникальные молекулы"
   ]
  },
  {
   "cell_type": "code",
   "execution_count": 3,
   "id": "f3088c15-41b8-46b3-b639-cfb18979836a",
   "metadata": {
    "execution": {
     "iopub.execute_input": "2024-04-30T13:17:29.835412Z",
     "iopub.status.busy": "2024-04-30T13:17:29.834907Z",
     "iopub.status.idle": "2024-04-30T13:17:31.423224Z",
     "shell.execute_reply": "2024-04-30T13:17:31.422507Z",
     "shell.execute_reply.started": "2024-04-30T13:17:29.835374Z"
    },
    "tags": []
   },
   "outputs": [
    {
     "data": {
      "text/plain": [
       "870901"
      ]
     },
     "execution_count": 3,
     "metadata": {},
     "output_type": "execute_result"
    }
   ],
   "source": [
    "uniq_mol = set()\n",
    "\n",
    "for col in df.columns:\n",
    "    uniq_mol = uniq_mol.union(set(df[col]))\n",
    "\n",
    "uniq_mol = list(uniq_mol)\n",
    "    \n",
    "len(uniq_mol)"
   ]
  },
  {
   "cell_type": "markdown",
   "id": "a8a8244f-6d3f-4199-b1a2-1408b0d88ae9",
   "metadata": {},
   "source": [
    "Уберём разницу в порядке нумирации атомов"
   ]
  },
  {
   "cell_type": "code",
   "execution_count": 4,
   "id": "7f1199e6-430e-4c39-a545-a4bc16481804",
   "metadata": {
    "execution": {
     "iopub.execute_input": "2024-04-30T13:17:31.425374Z",
     "iopub.status.busy": "2024-04-30T13:17:31.424896Z",
     "iopub.status.idle": "2024-04-30T13:17:31.486643Z",
     "shell.execute_reply": "2024-04-30T13:17:31.485752Z",
     "shell.execute_reply.started": "2024-04-30T13:17:31.425338Z"
    },
    "jupyter": {
     "source_hidden": true
    },
    "tags": []
   },
   "outputs": [
    {
     "data": {
      "image/png": "[encoded data removed]",
      "text/plain": [
       "<rdkit.Chem.rdchem.Mol at 0x7f8a53937990>"
      ]
     },
     "execution_count": 4,
     "metadata": {},
     "output_type": "execute_result"
    }
   ],
   "source": [
    "import re\n",
    "\n",
    "def remove_numbers_after_colon(text):\n",
    "    return re.sub(r':[0-9]+', '', text)\n",
    "\n",
    "text = 'O=[C:15]([CH3:16])[NH:18][NH2:19]'\n",
    "result = remove_numbers_after_colon(text)\n",
    "Chem.MolFromSmiles(result)"
   ]
  },
  {
   "cell_type": "code",
   "execution_count": 5,
   "id": "251738b7-c6dc-4dc6-8bea-a86a270ca38a",
   "metadata": {
    "execution": {
     "iopub.execute_input": "2024-04-30T13:17:31.490356Z",
     "iopub.status.busy": "2024-04-30T13:17:31.487875Z",
     "iopub.status.idle": "2024-04-30T13:17:36.063162Z",
     "shell.execute_reply": "2024-04-30T13:17:36.062444Z",
     "shell.execute_reply.started": "2024-04-30T13:17:31.490301Z"
    },
    "tags": []
   },
   "outputs": [
    {
     "name": "stderr",
     "output_type": "stream",
     "text": [
      "100%|██████████| 870901/870901 [00:04<00:00, 210784.55it/s]\n"
     ]
    },
    {
     "data": {
      "text/html": [
       "<div>\n",
       "<style scoped>\n",
       "    .dataframe tbody tr th:only-of-type {\n",
       "        vertical-align: middle;\n",
       "    }\n",
       "\n",
       "    .dataframe tbody tr th {\n",
       "        vertical-align: top;\n",
       "    }\n",
       "\n",
       "    .dataframe thead th {\n",
       "        text-align: right;\n",
       "    }\n",
       "</style>\n",
       "<table border=\"1\" class=\"dataframe\">\n",
       "  <thead>\n",
       "    <tr style=\"text-align: right;\">\n",
       "      <th></th>\n",
       "      <th>mol</th>\n",
       "      <th>prepare_mol</th>\n",
       "    </tr>\n",
       "  </thead>\n",
       "  <tbody>\n",
       "    <tr>\n",
       "      <th>0</th>\n",
       "      <td>O=[N+:22]([O-])[C:25]1=[C:26]([Cl:34])[C:27]([...</td>\n",
       "      <td>O=[N+]([O-])[C]1=[C]([Cl])[C]([Cl])=N[C]([Cl])...</td>\n",
       "    </tr>\n",
       "    <tr>\n",
       "      <th>1</th>\n",
       "      <td>C[Si-](C)(C)(F)F</td>\n",
       "      <td>C[Si-](C)(C)(F)F</td>\n",
       "    </tr>\n",
       "    <tr>\n",
       "      <th>2</th>\n",
       "      <td>OC(=O)C1=CN2C=C(C(F)(F)F)[CH:19]=[C:14](Cl)[C:...</td>\n",
       "      <td>OC(=O)C1=CN2C=C(C(F)(F)F)[CH]=[C](Cl)[C]2=N1</td>\n",
       "    </tr>\n",
       "    <tr>\n",
       "      <th>3</th>\n",
       "      <td>CC1(C)[N:19]([C:24]([CH:25]([F:26])[F:27])=[O:...</td>\n",
       "      <td>CC1(C)[N]([C]([CH]([F])[F])=[O])[C@H]([CH2][F]...</td>\n",
       "    </tr>\n",
       "    <tr>\n",
       "      <th>4</th>\n",
       "      <td>[CH2:1]([CH2:2][CH2:3][CH2:4][CH2:5][CH3:6])[C...</td>\n",
       "      <td>[CH2]([CH2][CH2][CH2][CH2][CH3])[C]1=[C]([CH]=...</td>\n",
       "    </tr>\n",
       "  </tbody>\n",
       "</table>\n",
       "</div>"
      ],
      "text/plain": [
       "                                                 mol                                        prepare_mol\n",
       "0  O=[N+:22]([O-])[C:25]1=[C:26]([Cl:34])[C:27]([...  O=[N+]([O-])[C]1=[C]([Cl])[C]([Cl])=N[C]([Cl])...\n",
       "1                                   C[Si-](C)(C)(F)F                                   C[Si-](C)(C)(F)F\n",
       "2  OC(=O)C1=CN2C=C(C(F)(F)F)[CH:19]=[C:14](Cl)[C:...       OC(=O)C1=CN2C=C(C(F)(F)F)[CH]=[C](Cl)[C]2=N1\n",
       "3  CC1(C)[N:19]([C:24]([CH:25]([F:26])[F:27])=[O:...  CC1(C)[N]([C]([CH]([F])[F])=[O])[C@H]([CH2][F]...\n",
       "4  [CH2:1]([CH2:2][CH2:3][CH2:4][CH2:5][CH3:6])[C...  [CH2]([CH2][CH2][CH2][CH2][CH3])[C]1=[C]([CH]=..."
      ]
     },
     "execution_count": 5,
     "metadata": {},
     "output_type": "execute_result"
    }
   ],
   "source": [
    "mol_prepare_smiles = []\n",
    "\n",
    "for mol in tqdm(uniq_mol):\n",
    "    try:\n",
    "        mol_prepare_smiles.append(remove_numbers_after_colon(mol))\n",
    "    except:\n",
    "        mol_prepare_smiles.append(None)\n",
    "\n",
    "map_mol = pd.DataFrame(zip(uniq_mol, mol_prepare_smiles), columns = ['mol', 'prepare_mol'])\n",
    "map_mol.head()"
   ]
  },
  {
   "cell_type": "markdown",
   "id": "62a7c384-e0a8-4b99-87cc-55e42c48b24a",
   "metadata": {},
   "source": [
    "Количество уникальных значений в маппере"
   ]
  },
  {
   "cell_type": "code",
   "execution_count": 6,
   "id": "288ff159-0b70-412b-bf13-15fe3c755cce",
   "metadata": {
    "execution": {
     "iopub.execute_input": "2024-04-30T13:17:38.457691Z",
     "iopub.status.busy": "2024-04-30T13:17:38.457203Z",
     "iopub.status.idle": "2024-04-30T13:17:39.033894Z",
     "shell.execute_reply": "2024-04-30T13:17:39.033106Z",
     "shell.execute_reply.started": "2024-04-30T13:17:38.457649Z"
    },
    "tags": []
   },
   "outputs": [
    {
     "data": {
      "text/plain": [
       "(870900, 621549)"
      ]
     },
     "execution_count": 6,
     "metadata": {},
     "output_type": "execute_result"
    }
   ],
   "source": [
    "map_mol.mol.nunique(), map_mol.prepare_mol.nunique()"
   ]
  },
  {
   "cell_type": "markdown",
   "id": "b9e2a4db-cfed-42bb-9eb9-50811d96340b",
   "metadata": {},
   "source": [
    "## Удалим молекулы, которые не переводятся в Smiles"
   ]
  },
  {
   "cell_type": "code",
   "execution_count": 21,
   "id": "79ad98cc-2b98-460b-8a5e-98859a386278",
   "metadata": {
    "execution": {
     "iopub.execute_input": "2024-04-30T13:25:30.737310Z",
     "iopub.status.busy": "2024-04-30T13:25:30.736501Z",
     "iopub.status.idle": "2024-04-30T13:28:06.669588Z",
     "shell.execute_reply": "2024-04-30T13:28:06.668768Z",
     "shell.execute_reply.started": "2024-04-30T13:25:30.737265Z"
    },
    "tags": []
   },
   "outputs": [
    {
     "name": "stderr",
     "output_type": "stream",
     "text": [
      "[13:25:30] Explicit valence for atom # 3 Cl, 3, is greater than permitted\n",
      "[13:25:32] Explicit valence for atom # 3 Cl, 2, is greater than permitted\n",
      "[13:25:32] Explicit valence for atom # 7 Cl, 3, is greater than permitted\n",
      "[13:25:33] Explicit valence for atom # 1 Cl, 7, is greater than permitted\n",
      "[13:25:34] Explicit valence for atom # 7 Cl, 3, is greater than permitted\n",
      "[13:25:37] Explicit valence for atom # 7 Cl, 3, is greater than permitted\n",
      "[13:25:39] Explicit valence for atom # 3 Cl, 3, is greater than permitted\n",
      "[13:25:39] Explicit valence for atom # 0 Cl, 7, is greater than permitted\n",
      "[13:25:41] Explicit valence for atom # 1 Br, 3, is greater than permitted\n",
      "[13:25:43] Explicit valence for atom # 1 Br, 3, is greater than permitted\n",
      "[13:25:45] Explicit valence for atom # 0 N, 5, is greater than permitted\n",
      "[13:25:45] Explicit valence for atom # 1 Br, 3, is greater than permitted\n",
      "[13:25:46] Explicit valence for atom # 0 H, 2, is greater than permitted\n",
      "[13:25:46] WARNING: not removing hydrogen atom without neighbors\n",
      "[13:25:47] Explicit valence for atom # 7 Cl, 3, is greater than permitted\n",
      "[13:25:47] Explicit valence for atom # 1 Cl, 2, is greater than permitted\n",
      "[13:25:49] Explicit valence for atom # 1 Br, 3, is greater than permitted\n",
      "[13:25:49] Explicit valence for atom # 0 N, 5, is greater than permitted\n",
      "[13:25:50] Explicit valence for atom # 10 Cl, 3, is greater than permitted\n",
      "[13:25:50] Explicit valence for atom # 1 Br, 3, is greater than permitted\n",
      "[13:25:51] Explicit valence for atom # 7 Cl, 3, is greater than permitted\n",
      "[13:25:51] Explicit valence for atom # 0 H, 2, is greater than permitted\n",
      "[13:25:52] Explicit valence for atom # 2 Cl, 2, is greater than permitted\n",
      "[13:25:53] Explicit valence for atom # 3 Cl, 3, is greater than permitted\n",
      "[13:25:55] Explicit valence for atom # 1 Br, 3, is greater than permitted\n",
      "[13:25:56] Explicit valence for atom # 1 Cl, 3, is greater than permitted\n",
      "[13:25:58] Explicit valence for atom # 7 Cl, 3, is greater than permitted\n",
      "[13:26:00] Explicit valence for atom # 1 Br, 3, is greater than permitted\n",
      "[13:26:01] Explicit valence for atom # 3 Cl, 3, is greater than permitted\n",
      "[13:26:03] Explicit valence for atom # 0 H, 2, is greater than permitted\n",
      "[13:26:04] WARNING: not removing hydrogen atom without neighbors\n",
      "[13:26:04] Explicit valence for atom # 7 Cl, 3, is greater than permitted\n",
      "[13:26:05] Explicit valence for atom # 1 O, 4, is greater than permitted\n",
      "[13:26:06] Explicit valence for atom # 0 N, 5, is greater than permitted\n",
      "[13:26:07] Explicit valence for atom # 1 Br, 3, is greater than permitted\n",
      "[13:26:09] Explicit valence for atom # 1 Br, 3, is greater than permitted\n",
      "[13:26:11] Explicit valence for atom # 1 Br, 3, is greater than permitted\n",
      "[13:26:12] Explicit valence for atom # 0 Cs, 2, is greater than permitted\n",
      "[13:26:13] Explicit valence for atom # 0 N, 5, is greater than permitted\n",
      "[13:26:14] Explicit valence for atom # 2 Cl, 2, is greater than permitted\n",
      "[13:26:15] Explicit valence for atom # 4 Sn, 7, is greater than permitted\n",
      "[13:26:17] Explicit valence for atom # 1 Cl, 2, is greater than permitted\n",
      "[13:26:18] Explicit valence for atom # 1 Cl, 5, is greater than permitted\n",
      "[13:26:20] Explicit valence for atom # 0 N, 5, is greater than permitted\n",
      "[13:26:21] Explicit valence for atom # 1 C, 5, is greater than permitted\n",
      "[13:26:23] Explicit valence for atom # 1 B, 4, is greater than permitted\n",
      "[13:26:25] Explicit valence for atom # 1 B, 4, is greater than permitted\n",
      "[13:26:28] Explicit valence for atom # 1 Sn, 6, is greater than permitted\n",
      "[13:26:28] Explicit valence for atom # 7 Cl, 3, is greater than permitted\n",
      "[13:26:29] Explicit valence for atom # 6 Cl, 2, is greater than permitted\n",
      "[13:26:32] Explicit valence for atom # 0 N, 5, is greater than permitted\n",
      "[13:26:33] Explicit valence for atom # 1 B, 4, is greater than permitted\n",
      "[13:26:37] Explicit valence for atom # 7 Cl, 3, is greater than permitted\n",
      "[13:26:37] Explicit valence for atom # 0 N, 5, is greater than permitted\n",
      "[13:26:38] Explicit valence for atom # 1 Cl, 7, is greater than permitted\n",
      "[13:26:38] Explicit valence for atom # 7 Cl, 3, is greater than permitted\n",
      "[13:26:41] Explicit valence for atom # 1 Br, 3, is greater than permitted\n",
      "[13:26:41] Explicit valence for atom # 1 Cl, 5, is greater than permitted\n",
      "[13:26:42] Explicit valence for atom # 1 Br, 3, is greater than permitted\n",
      "[13:26:45] Explicit valence for atom # 13 Cl, 5, is greater than permitted\n",
      "[13:26:45] Explicit valence for atom # 6 Cl, 2, is greater than permitted\n",
      "[13:26:48] Explicit valence for atom # 0 N, 5, is greater than permitted\n",
      "[13:26:51] Explicit valence for atom # 1 Br, 3, is greater than permitted\n",
      "[13:26:52] Explicit valence for atom # 7 Cl, 3, is greater than permitted\n",
      "[13:26:53] Explicit valence for atom # 3 Cl, 3, is greater than permitted\n",
      "[13:26:54] Explicit valence for atom # 1 Cl, 5, is greater than permitted\n",
      "[13:26:55] Explicit valence for atom # 1 Br, 3, is greater than permitted\n",
      "[13:26:57] Explicit valence for atom # 1 Br, 3, is greater than permitted\n",
      "[13:26:57] Explicit valence for atom # 1 Br, 3, is greater than permitted\n",
      "[13:26:58] Explicit valence for atom # 0 N, 5, is greater than permitted\n",
      "[13:26:58] Explicit valence for atom # 1 Br, 3, is greater than permitted\n",
      "[13:27:00] Explicit valence for atom # 7 Cl, 3, is greater than permitted\n",
      "[13:27:00] Explicit valence for atom # 1 Br, 3, is greater than permitted\n",
      "[13:27:01] Explicit valence for atom # 1 Cl, 5, is greater than permitted\n",
      "[13:27:02] Explicit valence for atom # 7 Cl, 3, is greater than permitted\n",
      "[13:27:03] Explicit valence for atom # 2 Cl, 3, is greater than permitted\n",
      "[13:27:07] Explicit valence for atom # 7 Cl, 3, is greater than permitted\n",
      "[13:27:07] Explicit valence for atom # 1 Br, 3, is greater than permitted\n",
      "[13:27:08] Explicit valence for atom # 0 H, 2, is greater than permitted\n",
      "[13:27:08] Explicit valence for atom # 3 Cl, 3, is greater than permitted\n",
      "[13:27:09] Explicit valence for atom # 13 Cl, 5, is greater than permitted\n",
      "[13:27:11] Explicit valence for atom # 4 B, 5, is greater than permitted\n",
      "[13:27:12] Explicit valence for atom # 1 Cl, 7, is greater than permitted\n",
      "[13:27:13] Explicit valence for atom # 1 B, 4, is greater than permitted\n",
      "[13:27:16] Explicit valence for atom # 0 Cl, 7, is greater than permitted\n",
      "[13:27:19] Explicit valence for atom # 4 O, 3, is greater than permitted\n",
      "[13:27:23] Explicit valence for atom # 3 Cl, 2, is greater than permitted\n",
      "[13:27:24] Explicit valence for atom # 1 Br, 7, is greater than permitted\n",
      "[13:27:24] Explicit valence for atom # 1 Br, 3, is greater than permitted\n",
      "[13:27:25] Explicit valence for atom # 7 Cl, 3, is greater than permitted\n",
      "[13:27:26] Explicit valence for atom # 3 Cl, 3, is greater than permitted\n",
      "[13:27:27] Explicit valence for atom # 7 Cl, 3, is greater than permitted\n",
      "[13:27:28] Explicit valence for atom # 5 Cl, 2, is greater than permitted\n",
      "[13:27:29] Explicit valence for atom # 4 O, 3, is greater than permitted\n",
      "[13:27:30] Explicit valence for atom # 1 Br, 3, is greater than permitted\n",
      "[13:27:30] Explicit valence for atom # 6 Cl, 7, is greater than permitted\n",
      "[13:27:30] Explicit valence for atom # 1 Br, 3, is greater than permitted\n",
      "[13:27:30] Explicit valence for atom # 1 Br, 3, is greater than permitted\n",
      "[13:27:31] Explicit valence for atom # 1 Si, 8, is greater than permitted\n",
      "[13:27:32] Explicit valence for atom # 0 N, 5, is greater than permitted\n",
      "[13:27:34] Explicit valence for atom # 3 Cl, 3, is greater than permitted\n",
      "[13:27:35] Explicit valence for atom # 1 Cl, 2, is greater than permitted\n",
      "[13:27:37] Explicit valence for atom # 1 Cl, 7, is greater than permitted\n",
      "[13:27:37] Explicit valence for atom # 0 H, 2, is greater than permitted\n",
      "[13:27:37] Explicit valence for atom # 1 Cl, 7, is greater than permitted\n",
      "[13:27:37] Explicit valence for atom # 1 Br, 3, is greater than permitted\n",
      "[13:27:38] Explicit valence for atom # 1 B, 4, is greater than permitted\n",
      "[13:27:38] Explicit valence for atom # 0 N, 5, is greater than permitted\n",
      "[13:27:39] Explicit valence for atom # 2 Br, 3, is greater than permitted\n",
      "[13:27:39] Explicit valence for atom # 0 H, 2, is greater than permitted\n",
      "[13:27:42] Explicit valence for atom # 0 N, 5, is greater than permitted\n",
      "[13:27:42] Explicit valence for atom # 3 Cl, 3, is greater than permitted\n",
      "[13:27:45] Explicit valence for atom # 1 B, 4, is greater than permitted\n",
      "[13:27:47] WARNING: not removing hydrogen atom without neighbors\n",
      "[13:27:48] Explicit valence for atom # 1 Br, 3, is greater than permitted\n",
      "[13:27:50] Explicit valence for atom # 2 Cl, 2, is greater than permitted\n",
      "[13:27:50] Explicit valence for atom # 6 Cl, 2, is greater than permitted\n",
      "[13:27:51] Explicit valence for atom # 7 Cl, 3, is greater than permitted\n",
      "[13:27:52] Explicit valence for atom # 3 Cl, 2, is greater than permitted\n",
      "[13:27:53] Explicit valence for atom # 3 Cl, 3, is greater than permitted\n",
      "[13:27:54] Explicit valence for atom # 0 N, 5, is greater than permitted\n",
      "[13:27:54] Explicit valence for atom # 0 H, 2, is greater than permitted\n",
      "[13:27:56] Explicit valence for atom # 0 H, 2, is greater than permitted\n",
      "[13:27:59] Explicit valence for atom # 1 Cl, 7, is greater than permitted\n",
      "[13:28:00] Explicit valence for atom # 4 Cl, 3, is greater than permitted\n",
      "[13:28:01] Explicit valence for atom # 1 Br, 3, is greater than permitted\n",
      "[13:28:01] Explicit valence for atom # 3 Cl, 3, is greater than permitted\n",
      "[13:28:01] Explicit valence for atom # 0 N, 5, is greater than permitted\n",
      "[13:28:01] Explicit valence for atom # 3 Cl, 3, is greater than permitted\n",
      "[13:28:02] Explicit valence for atom # 7 Cl, 3, is greater than permitted\n",
      "[13:28:02] Explicit valence for atom # 7 Cl, 3, is greater than permitted\n",
      "[13:28:04] Explicit valence for atom # 8 O, 4, is greater than permitted\n",
      "[13:28:05] Explicit valence for atom # 6 Cl, 2, is greater than permitted\n",
      "[13:28:05] Explicit valence for atom # 7 Cl, 3, is greater than permitted\n",
      "[13:28:05] Explicit valence for atom # 4 O, 3, is greater than permitted\n",
      "[13:28:05] Explicit valence for atom # 7 Cl, 3, is greater than permitted\n",
      "[13:28:05] Explicit valence for atom # 9 H, 2, is greater than permitted\n",
      "[13:28:06] Explicit valence for atom # 1 Cl, 5, is greater than permitted\n"
     ]
    }
   ],
   "source": [
    "drop_index = []\n",
    "\n",
    "for ind, mol in enumerate(map_mol.prepare_mol):\n",
    "    try:\n",
    "        Chem.MolToSmiles(Chem.MolFromSmiles(mol))\n",
    "    except:\n",
    "        drop_index.append(ind)\n",
    "\n",
    "map_mol = map_mol.drop(drop_index, axis = 0).reset_index(drop = True)"
   ]
  },
  {
   "cell_type": "code",
   "execution_count": 22,
   "id": "b1c669c5-9f73-42b5-b060-62d141ffb762",
   "metadata": {
    "execution": {
     "iopub.execute_input": "2024-04-30T13:28:27.952338Z",
     "iopub.status.busy": "2024-04-30T13:28:27.951531Z",
     "iopub.status.idle": "2024-04-30T13:28:27.968937Z",
     "shell.execute_reply": "2024-04-30T13:28:27.968098Z",
     "shell.execute_reply.started": "2024-04-30T13:28:27.952292Z"
    },
    "tags": []
   },
   "outputs": [
    {
     "data": {
      "text/html": [
       "<div>\n",
       "<style scoped>\n",
       "    .dataframe tbody tr th:only-of-type {\n",
       "        vertical-align: middle;\n",
       "    }\n",
       "\n",
       "    .dataframe tbody tr th {\n",
       "        vertical-align: top;\n",
       "    }\n",
       "\n",
       "    .dataframe thead th {\n",
       "        text-align: right;\n",
       "    }\n",
       "</style>\n",
       "<table border=\"1\" class=\"dataframe\">\n",
       "  <thead>\n",
       "    <tr style=\"text-align: right;\">\n",
       "      <th></th>\n",
       "      <th>mol</th>\n",
       "      <th>prepare_mol</th>\n",
       "    </tr>\n",
       "  </thead>\n",
       "  <tbody>\n",
       "    <tr>\n",
       "      <th>0</th>\n",
       "      <td>O=[N+:22]([O-])[C:25]1=[C:26]([Cl:34])[C:27]([...</td>\n",
       "      <td>O=[N+]([O-])[C]1=[C]([Cl])[C]([Cl])=N[C]([Cl])...</td>\n",
       "    </tr>\n",
       "    <tr>\n",
       "      <th>1</th>\n",
       "      <td>C[Si-](C)(C)(F)F</td>\n",
       "      <td>C[Si-](C)(C)(F)F</td>\n",
       "    </tr>\n",
       "    <tr>\n",
       "      <th>2</th>\n",
       "      <td>OC(=O)C1=CN2C=C(C(F)(F)F)[CH:19]=[C:14](Cl)[C:...</td>\n",
       "      <td>OC(=O)C1=CN2C=C(C(F)(F)F)[CH]=[C](Cl)[C]2=N1</td>\n",
       "    </tr>\n",
       "    <tr>\n",
       "      <th>3</th>\n",
       "      <td>CC1(C)[N:19]([C:24]([CH:25]([F:26])[F:27])=[O:...</td>\n",
       "      <td>CC1(C)[N]([C]([CH]([F])[F])=[O])[C@H]([CH2][F]...</td>\n",
       "    </tr>\n",
       "    <tr>\n",
       "      <th>4</th>\n",
       "      <td>[CH2:1]([CH2:2][CH2:3][CH2:4][CH2:5][CH3:6])[C...</td>\n",
       "      <td>[CH2]([CH2][CH2][CH2][CH2][CH3])[C]1=[C]([CH]=...</td>\n",
       "    </tr>\n",
       "  </tbody>\n",
       "</table>\n",
       "</div>"
      ],
      "text/plain": [
       "                                                 mol                                        prepare_mol\n",
       "0  O=[N+:22]([O-])[C:25]1=[C:26]([Cl:34])[C:27]([...  O=[N+]([O-])[C]1=[C]([Cl])[C]([Cl])=N[C]([Cl])...\n",
       "1                                   C[Si-](C)(C)(F)F                                   C[Si-](C)(C)(F)F\n",
       "2  OC(=O)C1=CN2C=C(C(F)(F)F)[CH:19]=[C:14](Cl)[C:...       OC(=O)C1=CN2C=C(C(F)(F)F)[CH]=[C](Cl)[C]2=N1\n",
       "3  CC1(C)[N:19]([C:24]([CH:25]([F:26])[F:27])=[O:...  CC1(C)[N]([C]([CH]([F])[F])=[O])[C@H]([CH2][F]...\n",
       "4  [CH2:1]([CH2:2][CH2:3][CH2:4][CH2:5][CH3:6])[C...  [CH2]([CH2][CH2][CH2][CH2][CH3])[C]1=[C]([CH]=..."
      ]
     },
     "execution_count": 22,
     "metadata": {},
     "output_type": "execute_result"
    }
   ],
   "source": [
    "map_mol.head()"
   ]
  },
  {
   "cell_type": "code",
   "execution_count": 23,
   "id": "d57040e8-3438-46ea-8cca-a56555006fad",
   "metadata": {
    "execution": {
     "iopub.execute_input": "2024-04-30T13:28:30.666550Z",
     "iopub.status.busy": "2024-04-30T13:28:30.666007Z",
     "iopub.status.idle": "2024-04-30T13:28:30.729647Z",
     "shell.execute_reply": "2024-04-30T13:28:30.728887Z",
     "shell.execute_reply.started": "2024-04-30T13:28:30.666511Z"
    },
    "tags": []
   },
   "outputs": [
    {
     "data": {
      "text/plain": [
       "(870765, 2)"
      ]
     },
     "execution_count": 23,
     "metadata": {},
     "output_type": "execute_result"
    }
   ],
   "source": [
    "map_mol.shape"
   ]
  },
  {
   "cell_type": "markdown",
   "id": "cb805bb9-403c-4d46-ac9c-27508cb12676",
   "metadata": {},
   "source": [
    "## Сохраняем маппер для будущих расчётов"
   ]
  },
  {
   "cell_type": "code",
   "execution_count": 24,
   "id": "a0dc21d0-0196-4b88-8e72-2cd4a68e00fa",
   "metadata": {
    "execution": {
     "iopub.execute_input": "2024-04-30T13:28:38.298306Z",
     "iopub.status.busy": "2024-04-30T13:28:38.297403Z",
     "iopub.status.idle": "2024-04-30T13:28:42.960322Z",
     "shell.execute_reply": "2024-04-30T13:28:42.959573Z",
     "shell.execute_reply.started": "2024-04-30T13:28:38.298260Z"
    }
   },
   "outputs": [],
   "source": [
    "map_mol.to_csv('./mapper_moleculares.tsv', index = 0, sep = '\\t')"
   ]
  },
  {
   "cell_type": "code",
   "execution_count": null,
   "id": "28f64f58-38f7-4b49-a2f6-96fe8316d2f8",
   "metadata": {},
   "outputs": [],
   "source": []
  }
 ],
 "metadata": {
  "kernelspec": {
   "display_name": "DataSphere Kernel",
   "language": "python",
   "name": "python3"
  },
  "language_info": {
   "codemirror_mode": {
    "name": "ipython",
    "version": 3
   },
   "file_extension": ".py",
   "mimetype": "text/x-python",
   "name": "python",
   "nbconvert_exporter": "python",
   "pygments_lexer": "ipython3",
   "version": "3.10.12"
  },
  "notebookId": "b2a0bc15-8841-4d49-8f5f-9a167167dcac",
  "notebookPath": "modeltraining_dedicated_ru.ipynb"
 },
 "nbformat": 4,
 "nbformat_minor": 5
}
