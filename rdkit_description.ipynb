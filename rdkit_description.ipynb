{
 "cells": [
  {
   "cell_type": "code",
   "execution_count": 2,
   "id": "0c6eaa10-8a5c-4606-8c5b-030d15f07dd3",
   "metadata": {
    "execution": {
     "iopub.execute_input": "2024-04-30T16:56:58.671996Z",
     "iopub.status.busy": "2024-04-30T16:56:58.671294Z",
     "iopub.status.idle": "2024-04-30T16:56:58.959869Z",
     "shell.execute_reply": "2024-04-30T16:56:58.959158Z",
     "shell.execute_reply.started": "2024-04-30T16:56:58.671964Z"
    },
    "tags": []
   },
   "outputs": [],
   "source": [
    "from rdkit import Chem, DataStructs\n",
    "from rdkit.Chem import Descriptors, AllChem, MACCSkeys\n",
    "from rdkit.ML.Descriptors import MoleculeDescriptors\n",
    "\n",
    "import pandas as pd\n",
    "import numpy as np\n",
    "from scipy.sparse import lil_matrix\n",
    "from tqdm import tqdm\n",
    "\n",
    "import warnings\n",
    "warnings.filterwarnings(\"ignore\")"
   ]
  },
  {
   "cell_type": "markdown",
   "id": "4eeabb53-f4ce-495a-a072-06837a89e08d",
   "metadata": {},
   "source": [
    "## Классы для расчёта 2D дискрипторов"
   ]
  },
  {
   "cell_type": "code",
   "execution_count": 3,
   "id": "056d65b1-7564-4a48-ba01-2ce0d45b179e",
   "metadata": {
    "execution": {
     "iopub.execute_input": "2024-04-30T16:57:02.757199Z",
     "iopub.status.busy": "2024-04-30T16:57:02.756293Z",
     "iopub.status.idle": "2024-04-30T16:57:02.970451Z",
     "shell.execute_reply": "2024-04-30T16:57:02.969553Z",
     "shell.execute_reply.started": "2024-04-30T16:57:02.757163Z"
    },
    "tags": []
   },
   "outputs": [
    {
     "name": "stderr",
     "output_type": "stream",
     "text": [
      "100%|██████████| 2/2 [00:00<00:00, 7449.92it/s]\n",
      "100%|██████████| 2/2 [00:00<00:00, 4688.99it/s]\n"
     ]
    },
    {
     "name": "stdout",
     "output_type": "stream",
     "text": [
      "   exsample  bit0  bit1  bit2  ...  bit2044  bit2045  bit2046  bit2047\n",
      "0  C1CCCCC1     0     0     1  ...        0        0        0        0\n",
      "1  c1ccccc1     0     0     0  ...        0        0        0        0\n",
      "\n",
      "[2 rows x 2049 columns]\n"
     ]
    },
    {
     "name": "stderr",
     "output_type": "stream",
     "text": [
      "100%|██████████| 2/2 [00:00<00:00, 8200.01it/s]\n",
      "100%|██████████| 2/2 [00:00<00:00, 252.87it/s]\n"
     ]
    },
    {
     "name": "stdout",
     "output_type": "stream",
     "text": [
      "   exsample  MaxAbsEStateIndex  ...  fr_unbrch_alkane  fr_urea\n",
      "0  C1CCCCC1                1.5  ...                 0        0\n",
      "1  c1ccccc1                2.0  ...                 0        0\n",
      "\n",
      "[2 rows x 211 columns]\n"
     ]
    },
    {
     "name": "stderr",
     "output_type": "stream",
     "text": [
      "100%|██████████| 2/2 [00:00<00:00, 7738.57it/s]\n",
      "100%|██████████| 2/2 [00:00<00:00, 1225.15it/s]"
     ]
    },
    {
     "name": "stdout",
     "output_type": "stream",
     "text": [
      "   exsample bit0 bit1 bit2 bit3 bit4  ... bit161 bit162 bit163 bit164 bit165 bit166\n",
      "0  C1CCCCC1    0    0    0    0    0  ...      0      0      1      0      1      0\n",
      "1  c1ccccc1    0    0    0    0    0  ...      0      1      1      0      1      0\n",
      "\n",
      "[2 rows x 168 columns]\n"
     ]
    },
    {
     "name": "stderr",
     "output_type": "stream",
     "text": [
      "\n"
     ]
    }
   ],
   "source": [
    "class DescriptionCalc:\n",
    "    def __init__(self, smiles):\n",
    "        '''\n",
    "        Класс расчитывает физико-хмические признаки молекулы, которые описывают молекулу\n",
    "\n",
    "        smiles - список веществ \n",
    "        '''\n",
    "        self.mols = []\n",
    "        for i in tqdm(smiles):\n",
    "            try:\n",
    "                self.mols.append(Chem.MolFromSmiles(i))\n",
    "            except:\n",
    "                self.mols.append(None)\n",
    "                \n",
    "        self.smiles = smiles\n",
    "\n",
    "class RDKit_2D(DescriptionCalc):\n",
    "    def __init__(self, smiles):\n",
    "        super().__init__(smiles)\n",
    "\n",
    "    def compute_2Drdkit(self, name):\n",
    "        rdkit_2d_desc = []\n",
    "        calc = MoleculeDescriptors.MolecularDescriptorCalculator([x[0] for x in Descriptors._descList])\n",
    "        header = calc.GetDescriptorNames()\n",
    "        \n",
    "        def calculate_descriptors(mol):\n",
    "            if mol is not None:\n",
    "                return calc.CalcDescriptors(mol)\n",
    "            else:\n",
    "                return [None] * len(header)\n",
    "            \n",
    "        rdkit_2d_desc = [calculate_descriptors(mol) for mol in tqdm(self.mols)]\n",
    "        \n",
    "        df = pd.DataFrame(rdkit_2d_desc, columns=header)\n",
    "        df.insert(loc=0, column= name, value=self.smiles)\n",
    "        return df\n",
    "    \n",
    "class MACCS(DescriptionCalc):\n",
    "    def __init__(self, smiles):\n",
    "        super().__init__(smiles)\n",
    "\n",
    "    def compute_MACCS(self, name):\n",
    "        MACCS_list = []\n",
    "        header = ['bit' + str(i) for i in range(167)]\n",
    "        \n",
    "        def calculate_descriptors(mol):\n",
    "            if mol != None:\n",
    "                return list(MACCSkeys.GenMACCSKeys(mol).ToBitString())\n",
    "            else:\n",
    "                return [0 for i in range(167)]\n",
    "\n",
    "        MACCS_list = [calculate_descriptors(mol) for mol in tqdm(self.mols)]\n",
    "        \n",
    "        df = pd.DataFrame(MACCS_list,columns=header)\n",
    "        df.insert(loc=0, column= name, value=self.smiles)\n",
    "        return df\n",
    "\n",
    "class ECFP6(DescriptionCalc):\n",
    "    def __init__(self, smiles):\n",
    "        super().__init__(smiles)\n",
    "\n",
    "    def mol2fp(self, mol, radius = 3):\n",
    "        fp = AllChem.GetMorganFingerprintAsBitVect(mol, radius = radius)\n",
    "        return fp\n",
    "\n",
    "    def compute_ECFP6(self, name):\n",
    "        bit_headers = ['bit' + str(i) for i in range(2048)]\n",
    "        arr = lil_matrix((len(self.mols), 2048), dtype=np.int8)\n",
    "        \n",
    "        for idx, mol in enumerate(tqdm(self.mols)):\n",
    "            if mol != None:\n",
    "                fp = self.mol2fp(mol)\n",
    "                on_bits = fp.GetOnBits()\n",
    "\n",
    "                for bit in on_bits:\n",
    "                    arr[idx, bit] = 1\n",
    "                    \n",
    "        df_ecfp6 = pd.DataFrame.sparse.from_spmatrix(arr, columns=bit_headers)\n",
    "        df_ecfp6.insert(loc=0, column= name, value=self.smiles)\n",
    "        return df_ecfp6\n",
    "    \n",
    "def main():\n",
    "    exsample_smiles = ['C1CCCCC1', 'c1ccccc1']\n",
    "\n",
    "    ecfp6 = ECFP6(exsample_smiles)\n",
    "    res = ecfp6.compute_ECFP6('exsample')\n",
    "    print(res)\n",
    "\n",
    "    rdkit_2d = RDKit_2D(exsample_smiles)\n",
    "    res = rdkit_2d.compute_2Drdkit('exsample')\n",
    "    print(res)\n",
    "\n",
    "    maccs = MACCS(exsample_smiles)\n",
    "    res = maccs.compute_MACCS('exsample')\n",
    "    print(res)\n",
    "    \n",
    "    \n",
    "if __name__ == '__main__':\n",
    "    main()"
   ]
  },
  {
   "cell_type": "markdown",
   "id": "30e70c9d-a911-48d4-9a97-238192f2d959",
   "metadata": {},
   "source": [
    "## Загружаем молекулы для расчёта"
   ]
  },
  {
   "cell_type": "code",
   "execution_count": 4,
   "id": "5c6d15d2-4afb-47da-9766-7c27bff5bbee",
   "metadata": {
    "execution": {
     "iopub.execute_input": "2024-04-30T16:57:06.023594Z",
     "iopub.status.busy": "2024-04-30T16:57:06.022933Z",
     "iopub.status.idle": "2024-04-30T16:57:08.272666Z",
     "shell.execute_reply": "2024-04-30T16:57:08.271943Z",
     "shell.execute_reply.started": "2024-04-30T16:57:06.023556Z"
    },
    "tags": []
   },
   "outputs": [
    {
     "data": {
      "text/html": [
       "<div>\n",
       "<style scoped>\n",
       "    .dataframe tbody tr th:only-of-type {\n",
       "        vertical-align: middle;\n",
       "    }\n",
       "\n",
       "    .dataframe tbody tr th {\n",
       "        vertical-align: top;\n",
       "    }\n",
       "\n",
       "    .dataframe thead th {\n",
       "        text-align: right;\n",
       "    }\n",
       "</style>\n",
       "<table border=\"1\" class=\"dataframe\">\n",
       "  <thead>\n",
       "    <tr style=\"text-align: right;\">\n",
       "      <th></th>\n",
       "      <th>mol</th>\n",
       "      <th>prepare_mol</th>\n",
       "    </tr>\n",
       "  </thead>\n",
       "  <tbody>\n",
       "    <tr>\n",
       "      <th>0</th>\n",
       "      <td>O=[N+:22]([O-])[C:25]1=[C:26]([Cl:34])[C:27]([...</td>\n",
       "      <td>O=[N+]([O-])[C]1=[C]([Cl])[C]([Cl])=N[C]([Cl])...</td>\n",
       "    </tr>\n",
       "    <tr>\n",
       "      <th>1</th>\n",
       "      <td>C[Si-](C)(C)(F)F</td>\n",
       "      <td>C[Si-](C)(C)(F)F</td>\n",
       "    </tr>\n",
       "    <tr>\n",
       "      <th>2</th>\n",
       "      <td>OC(=O)C1=CN2C=C(C(F)(F)F)[CH:19]=[C:14](Cl)[C:...</td>\n",
       "      <td>OC(=O)C1=CN2C=C(C(F)(F)F)[CH]=[C](Cl)[C]2=N1</td>\n",
       "    </tr>\n",
       "    <tr>\n",
       "      <th>3</th>\n",
       "      <td>CC1(C)[N:19]([C:24]([CH:25]([F:26])[F:27])=[O:...</td>\n",
       "      <td>CC1(C)[N]([C]([CH]([F])[F])=[O])[C@H]([CH2][F]...</td>\n",
       "    </tr>\n",
       "    <tr>\n",
       "      <th>4</th>\n",
       "      <td>[CH2:1]([CH2:2][CH2:3][CH2:4][CH2:5][CH3:6])[C...</td>\n",
       "      <td>[CH2]([CH2][CH2][CH2][CH2][CH3])[C]1=[C]([CH]=...</td>\n",
       "    </tr>\n",
       "  </tbody>\n",
       "</table>\n",
       "</div>"
      ],
      "text/plain": [
       "                                                 mol                                        prepare_mol\n",
       "0  O=[N+:22]([O-])[C:25]1=[C:26]([Cl:34])[C:27]([...  O=[N+]([O-])[C]1=[C]([Cl])[C]([Cl])=N[C]([Cl])...\n",
       "1                                   C[Si-](C)(C)(F)F                                   C[Si-](C)(C)(F)F\n",
       "2  OC(=O)C1=CN2C=C(C(F)(F)F)[CH:19]=[C:14](Cl)[C:...       OC(=O)C1=CN2C=C(C(F)(F)F)[CH]=[C](Cl)[C]2=N1\n",
       "3  CC1(C)[N:19]([C:24]([CH:25]([F:26])[F:27])=[O:...  CC1(C)[N]([C]([CH]([F])[F])=[O])[C@H]([CH2][F]...\n",
       "4  [CH2:1]([CH2:2][CH2:3][CH2:4][CH2:5][CH3:6])[C...  [CH2]([CH2][CH2][CH2][CH2][CH3])[C]1=[C]([CH]=..."
      ]
     },
     "execution_count": 4,
     "metadata": {},
     "output_type": "execute_result"
    }
   ],
   "source": [
    "df = pd.read_table('/home/jupyter/datasphere/project/Расчёт дискрипторов/mapper_moleculares.tsv')\n",
    "df.head()"
   ]
  },
  {
   "cell_type": "markdown",
   "id": "ab17bfb7-bd05-40db-a14f-dbefed4d6fee",
   "metadata": {},
   "source": [
    "Считаем дискрипторы для каждой канонизированной молекулы"
   ]
  },
  {
   "cell_type": "code",
   "execution_count": 5,
   "id": "4259a122-b5d5-4b4f-b7a7-308f0710710d",
   "metadata": {
    "execution": {
     "iopub.execute_input": "2024-04-30T16:57:08.274317Z",
     "iopub.status.busy": "2024-04-30T16:57:08.273810Z",
     "iopub.status.idle": "2024-04-30T16:57:08.367859Z",
     "shell.execute_reply": "2024-04-30T16:57:08.367172Z",
     "shell.execute_reply.started": "2024-04-30T16:57:08.274294Z"
    },
    "tags": []
   },
   "outputs": [],
   "source": [
    "smiles = list(df.prepare_mol.unique())"
   ]
  },
  {
   "cell_type": "code",
   "execution_count": 6,
   "id": "255b5899-a553-4f42-b593-16f6843fba62",
   "metadata": {
    "execution": {
     "iopub.execute_input": "2024-04-30T16:57:08.369811Z",
     "iopub.status.busy": "2024-04-30T16:57:08.369168Z",
     "iopub.status.idle": "2024-04-30T16:57:20.853720Z",
     "shell.execute_reply": "2024-04-30T16:57:20.852802Z",
     "shell.execute_reply.started": "2024-04-30T16:57:08.369773Z"
    },
    "tags": []
   },
   "outputs": [
    {
     "name": "stderr",
     "output_type": "stream",
     "text": [
      " 10%|█         | 89564/870765 [00:08<01:12, 10783.28it/s][16:57:16] WARNING: not removing hydrogen atom without neighbors\n",
      " 15%|█▌        | 131225/870765 [00:12<01:10, 10552.65it/s]\n"
     ]
    },
    {
     "ename": "KeyboardInterrupt",
     "evalue": "",
     "output_type": "error",
     "traceback": [
      "\u001b[0;31m---------------------------------------------------------------------------\u001b[0m",
      "\u001b[0;31mKeyboardInterrupt\u001b[0m                         Traceback (most recent call last)",
      "\u001b[0;32m<ipython-input-6-111a71a232f4>\u001b[0m in \u001b[0;36m<module>\u001b[0;34m\u001b[0m\n\u001b[0;32m----> 1\u001b[0;31m \u001b[0mecfp6\u001b[0m \u001b[0;34m=\u001b[0m \u001b[0mECFP6\u001b[0m\u001b[0;34m(\u001b[0m\u001b[0msmiles\u001b[0m\u001b[0;34m)\u001b[0m\u001b[0;34m\u001b[0m\u001b[0;34m\u001b[0m\u001b[0m\n\u001b[0m\u001b[1;32m      2\u001b[0m \u001b[0mres_ecfp6\u001b[0m \u001b[0;34m=\u001b[0m \u001b[0mecfp6\u001b[0m\u001b[0;34m.\u001b[0m\u001b[0mcompute_ECFP6\u001b[0m\u001b[0;34m(\u001b[0m\u001b[0;34m'smiles'\u001b[0m\u001b[0;34m)\u001b[0m\u001b[0;34m\u001b[0m\u001b[0;34m\u001b[0m\u001b[0m\n",
      "\u001b[0;32m<ipython-input-3-d86536e48d3a>\u001b[0m in \u001b[0;36m__init__\u001b[0;34m(self, smiles)\u001b[0m\n\u001b[1;32m     58\u001b[0m \u001b[0;32mclass\u001b[0m \u001b[0mECFP6\u001b[0m\u001b[0;34m(\u001b[0m\u001b[0mDescriptionCalc\u001b[0m\u001b[0;34m)\u001b[0m\u001b[0;34m:\u001b[0m\u001b[0;34m\u001b[0m\u001b[0;34m\u001b[0m\u001b[0m\n\u001b[1;32m     59\u001b[0m     \u001b[0;32mdef\u001b[0m \u001b[0m__init__\u001b[0m\u001b[0;34m(\u001b[0m\u001b[0mself\u001b[0m\u001b[0;34m,\u001b[0m \u001b[0msmiles\u001b[0m\u001b[0;34m)\u001b[0m\u001b[0;34m:\u001b[0m\u001b[0;34m\u001b[0m\u001b[0;34m\u001b[0m\u001b[0m\n\u001b[0;32m---> 60\u001b[0;31m         \u001b[0msuper\u001b[0m\u001b[0;34m(\u001b[0m\u001b[0;34m)\u001b[0m\u001b[0;34m.\u001b[0m\u001b[0m__init__\u001b[0m\u001b[0;34m(\u001b[0m\u001b[0msmiles\u001b[0m\u001b[0;34m)\u001b[0m\u001b[0;34m\u001b[0m\u001b[0;34m\u001b[0m\u001b[0m\n\u001b[0m\u001b[1;32m     61\u001b[0m \u001b[0;34m\u001b[0m\u001b[0m\n\u001b[1;32m     62\u001b[0m     \u001b[0;32mdef\u001b[0m \u001b[0mmol2fp\u001b[0m\u001b[0;34m(\u001b[0m\u001b[0mself\u001b[0m\u001b[0;34m,\u001b[0m \u001b[0mmol\u001b[0m\u001b[0;34m,\u001b[0m \u001b[0mradius\u001b[0m \u001b[0;34m=\u001b[0m \u001b[0;36m3\u001b[0m\u001b[0;34m)\u001b[0m\u001b[0;34m:\u001b[0m\u001b[0;34m\u001b[0m\u001b[0;34m\u001b[0m\u001b[0m\n",
      "\u001b[0;32m<ipython-input-3-d86536e48d3a>\u001b[0m in \u001b[0;36m__init__\u001b[0;34m(self, smiles)\u001b[0m\n\u001b[1;32m      7\u001b[0m         '''\n\u001b[1;32m      8\u001b[0m         \u001b[0mself\u001b[0m\u001b[0;34m.\u001b[0m\u001b[0mmols\u001b[0m \u001b[0;34m=\u001b[0m \u001b[0;34m[\u001b[0m\u001b[0;34m]\u001b[0m\u001b[0;34m\u001b[0m\u001b[0;34m\u001b[0m\u001b[0m\n\u001b[0;32m----> 9\u001b[0;31m         \u001b[0;32mfor\u001b[0m \u001b[0mi\u001b[0m \u001b[0;32min\u001b[0m \u001b[0mtqdm\u001b[0m\u001b[0;34m(\u001b[0m\u001b[0msmiles\u001b[0m\u001b[0;34m)\u001b[0m\u001b[0;34m:\u001b[0m\u001b[0;34m\u001b[0m\u001b[0;34m\u001b[0m\u001b[0m\n\u001b[0m\u001b[1;32m     10\u001b[0m             \u001b[0;32mtry\u001b[0m\u001b[0;34m:\u001b[0m\u001b[0;34m\u001b[0m\u001b[0;34m\u001b[0m\u001b[0m\n\u001b[1;32m     11\u001b[0m                 \u001b[0mself\u001b[0m\u001b[0;34m.\u001b[0m\u001b[0mmols\u001b[0m\u001b[0;34m.\u001b[0m\u001b[0mappend\u001b[0m\u001b[0;34m(\u001b[0m\u001b[0mChem\u001b[0m\u001b[0;34m.\u001b[0m\u001b[0mMolFromSmiles\u001b[0m\u001b[0;34m(\u001b[0m\u001b[0mi\u001b[0m\u001b[0;34m)\u001b[0m\u001b[0;34m)\u001b[0m\u001b[0;34m\u001b[0m\u001b[0;34m\u001b[0m\u001b[0m\n",
      "\u001b[0;32m/usr/local/lib/python3.10/dist-packages/tqdm/std.py\u001b[0m in \u001b[0;36m__iter__\u001b[0;34m(self)\u001b[0m\n\u001b[1;32m   1182\u001b[0m                 \u001b[0mn\u001b[0m \u001b[0;34m+=\u001b[0m \u001b[0;36m1\u001b[0m\u001b[0;34m\u001b[0m\u001b[0;34m\u001b[0m\u001b[0m\n\u001b[1;32m   1183\u001b[0m \u001b[0;34m\u001b[0m\u001b[0m\n\u001b[0;32m-> 1184\u001b[0;31m                 \u001b[0;32mif\u001b[0m \u001b[0mn\u001b[0m \u001b[0;34m-\u001b[0m \u001b[0mlast_print_n\u001b[0m \u001b[0;34m>=\u001b[0m \u001b[0mself\u001b[0m\u001b[0;34m.\u001b[0m\u001b[0mminiters\u001b[0m\u001b[0;34m:\u001b[0m\u001b[0;34m\u001b[0m\u001b[0;34m\u001b[0m\u001b[0m\n\u001b[0m\u001b[1;32m   1185\u001b[0m                     \u001b[0mcur_t\u001b[0m \u001b[0;34m=\u001b[0m \u001b[0mtime\u001b[0m\u001b[0;34m(\u001b[0m\u001b[0;34m)\u001b[0m\u001b[0;34m\u001b[0m\u001b[0;34m\u001b[0m\u001b[0m\n\u001b[1;32m   1186\u001b[0m                     \u001b[0mdt\u001b[0m \u001b[0;34m=\u001b[0m \u001b[0mcur_t\u001b[0m \u001b[0;34m-\u001b[0m \u001b[0mlast_print_t\u001b[0m\u001b[0;34m\u001b[0m\u001b[0;34m\u001b[0m\u001b[0m\n",
      "\u001b[0;31mKeyboardInterrupt\u001b[0m: "
     ]
    }
   ],
   "source": [
    "ecfp6 = ECFP6(smiles)\n",
    "res_ecfp6 = ecfp6.compute_ECFP6('smiles')"
   ]
  },
  {
   "cell_type": "code",
   "execution_count": 6,
   "id": "f6eb26c4-7e99-430b-b028-905159930d8e",
   "metadata": {
    "execution": {
     "iopub.execute_input": "2024-04-30T14:40:19.987520Z",
     "iopub.status.busy": "2024-04-30T14:40:19.987076Z",
     "iopub.status.idle": "2024-04-30T14:40:22.021522Z",
     "shell.execute_reply": "2024-04-30T14:40:22.020828Z",
     "shell.execute_reply.started": "2024-04-30T14:40:19.987494Z"
    },
    "tags": []
   },
   "outputs": [],
   "source": [
    "res_ecfp6.to_pickle('ecfp6_feature.pickle')"
   ]
  },
  {
   "cell_type": "code",
   "execution_count": 7,
   "id": "4f8295dd-8b44-4848-a03f-429a034bb14d",
   "metadata": {
    "tags": []
   },
   "outputs": [
    {
     "name": "stderr",
     "output_type": "stream",
     "text": [
      " 36%|███▋      | 316181/870765 [42:44<1:13:54, 125.06it/s]Traceback (most recent call last):\n",
      "  File \"/home/jupyter/.local/lib/python3.10/site-packages/rdkit/ML/Descriptors/MoleculeDescriptors.py\", line 88, in CalcDescriptors\n",
      "    res[i] = fn(mol)\n",
      "  File \"/home/jupyter/.local/lib/python3.10/site-packages/rdkit/Chem/SpacialScore.py\", line 72, in SPS\n",
      "    return _SpacialScore(mol, normalize=normalize).score\n",
      "  File \"/home/jupyter/.local/lib/python3.10/site-packages/rdkit/Chem/SpacialScore.py\", line 95, in __init__\n",
      "    self.score /= self.mol.GetNumHeavyAtoms()\n",
      "ZeroDivisionError: division by zero\n",
      " 85%|████████▌ | 742075/870765 [1:40:53<17:00, 126.14it/s]  Traceback (most recent call last):\n",
      "  File \"/home/jupyter/.local/lib/python3.10/site-packages/rdkit/ML/Descriptors/MoleculeDescriptors.py\", line 88, in CalcDescriptors\n",
      "    res[i] = fn(mol)\n",
      "  File \"/home/jupyter/.local/lib/python3.10/site-packages/rdkit/Chem/SpacialScore.py\", line 72, in SPS\n",
      "    return _SpacialScore(mol, normalize=normalize).score\n",
      "  File \"/home/jupyter/.local/lib/python3.10/site-packages/rdkit/Chem/SpacialScore.py\", line 95, in __init__\n",
      "    self.score /= self.mol.GetNumHeavyAtoms()\n",
      "ZeroDivisionError: division by zero\n",
      " 88%|████████▊ | 766369/870765 [1:44:11<13:17, 130.97it/s][16:25:54] WARNING: not removing hydrogen atom without neighbors\n",
      "Traceback (most recent call last):\n",
      "  File \"/home/jupyter/.local/lib/python3.10/site-packages/rdkit/ML/Descriptors/MoleculeDescriptors.py\", line 88, in CalcDescriptors\n",
      "    res[i] = fn(mol)\n",
      "  File \"/home/jupyter/.local/lib/python3.10/site-packages/rdkit/Chem/SpacialScore.py\", line 72, in SPS\n",
      "    return _SpacialScore(mol, normalize=normalize).score\n",
      "  File \"/home/jupyter/.local/lib/python3.10/site-packages/rdkit/Chem/SpacialScore.py\", line 95, in __init__\n",
      "    self.score /= self.mol.GetNumHeavyAtoms()\n",
      "ZeroDivisionError: division by zero\n",
      "[16:25:54] WARNING: not removing hydrogen atom without neighbors\n",
      "100%|██████████| 870765/870765 [1:58:33<00:00, 122.41it/s]\n"
     ]
    }
   ],
   "source": [
    "rdkit_2d = RDKit_2D(smiles)\n",
    "res_rdkit_2d = rdkit_2d.compute_2Drdkit('smiles')"
   ]
  },
  {
   "cell_type": "code",
   "execution_count": 8,
   "id": "5472e82a-3352-41b4-a47e-2c491386b9b7",
   "metadata": {},
   "outputs": [],
   "source": [
    "res_rdkit_2d.to_pickle('rdkit_2d_feature.pickle')"
   ]
  },
  {
   "cell_type": "code",
   "execution_count": 7,
   "id": "53676abe-52e8-4691-85b7-c62c30fe6097",
   "metadata": {
    "execution": {
     "iopub.execute_input": "2024-04-30T16:57:29.899067Z",
     "iopub.status.busy": "2024-04-30T16:57:29.898266Z",
     "iopub.status.idle": "2024-04-30T17:06:09.579811Z",
     "shell.execute_reply": "2024-04-30T17:06:09.579111Z",
     "shell.execute_reply.started": "2024-04-30T16:57:29.899024Z"
    },
    "tags": []
   },
   "outputs": [
    {
     "name": "stderr",
     "output_type": "stream",
     "text": [
      " 10%|█         | 89554/870765 [00:08<01:15, 10363.02it/s][16:57:38] WARNING: not removing hydrogen atom without neighbors\n",
      " 22%|██▏       | 189891/870765 [00:18<01:02, 10832.68it/s][16:57:48] WARNING: not removing hydrogen atom without neighbors\n",
      " 88%|████████▊ | 766073/870765 [01:12<00:09, 10976.49it/s][16:58:42] WARNING: not removing hydrogen atom without neighbors\n",
      "100%|██████████| 870765/870765 [01:22<00:00, 10561.53it/s]\n",
      "100%|██████████| 870765/870765 [07:12<00:00, 2013.19it/s]\n"
     ]
    }
   ],
   "source": [
    "maccs = MACCS(smiles)\n",
    "res_maccs = maccs.compute_MACCS('smiles')"
   ]
  },
  {
   "cell_type": "code",
   "execution_count": 8,
   "id": "33e4e5e9-c9ae-48a3-985b-7cc87a4ff331",
   "metadata": {
    "execution": {
     "iopub.execute_input": "2024-04-30T17:06:09.581462Z",
     "iopub.status.busy": "2024-04-30T17:06:09.580824Z",
     "iopub.status.idle": "2024-04-30T17:06:15.659998Z",
     "shell.execute_reply": "2024-04-30T17:06:15.659217Z",
     "shell.execute_reply.started": "2024-04-30T17:06:09.581424Z"
    }
   },
   "outputs": [],
   "source": [
    "res_maccs.to_pickle('maccs_feature.pickle')"
   ]
  },
  {
   "cell_type": "code",
   "execution_count": null,
   "id": "a05944a4-1fd6-4e93-9266-f6c32d3bd2f1",
   "metadata": {},
   "outputs": [],
   "source": []
  }
 ],
 "metadata": {
  "kernelspec": {
   "display_name": "DataSphere Kernel",
   "language": "python",
   "name": "python3"
  },
  "language_info": {
   "codemirror_mode": {
    "name": "ipython",
    "version": 3
   },
   "file_extension": ".py",
   "mimetype": "text/x-python",
   "name": "python",
   "nbconvert_exporter": "python",
   "pygments_lexer": "ipython3",
   "version": "3.10.12"
  },
  "notebookId": "b2a0bc15-8841-4d49-8f5f-9a167167dcac",
  "notebookPath": "modeltraining_dedicated_ru.ipynb"
 },
 "nbformat": 4,
 "nbformat_minor": 5
}
